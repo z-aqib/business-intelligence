{
 "cells": [
  {
   "cell_type": "markdown",
   "metadata": {},
   "source": [
    "Name: Zuha Aqib   \n",
    "ERP ID: 26106    \n",
    "Section: M/W 10am - Miss Abeera Tariq    \n",
    "Date: 28th March 2025 "
   ]
  },
  {
   "cell_type": "code",
   "execution_count": 589,
   "metadata": {},
   "outputs": [
    {
     "name": "stdout",
     "output_type": "stream",
     "text": [
      "Last time code executed: 2025-04-07 23:53:22\n"
     ]
    }
   ],
   "source": [
    "from datetime import datetime\n",
    "print(\"Last time code executed:\", datetime.now().strftime(\"%Y-%m-%d %H:%M:%S\"))"
   ]
  },
  {
   "cell_type": "markdown",
   "metadata": {},
   "source": [
    "# Imports\n",
    "here we import all necessary documents at once"
   ]
  },
  {
   "cell_type": "code",
   "execution_count": 590,
   "metadata": {},
   "outputs": [],
   "source": [
    "from datetime import datetime\n",
    "\n",
    "# step1: import the data and to access it\n",
    "import pandas as pd\n",
    "\n",
    "# step2: numerically manipulate the data\n",
    "import numpy as np\n",
    "\n",
    "# step3: visualize the data\n",
    "import matplotlib.pyplot as plt\n",
    "import seaborn as sns\n",
    "\n",
    "# step4: fix missing values in the data\n",
    "from sklearn.impute import SimpleImputer\n",
    "import missingno as msno\n",
    "from sklearn.preprocessing import MinMaxScaler, StandardScaler, LabelEncoder\n",
    "\n",
    "# step5: perform statistical processing on the data\n",
    "from scipy import stats\n",
    "from scipy.stats import ttest_ind, f_oneway, chi2_contingency, pearsonr\n",
    "from statsmodels.stats.multicomp import pairwise_tukeyhsd"
   ]
  },
  {
   "cell_type": "code",
   "execution_count": 591,
   "metadata": {},
   "outputs": [],
   "source": [
    "# Function to get current date and time as a string\n",
    "def get_current_datetime():\n",
    "    return datetime.now().strftime(\"%Y-%m-%d %H:%M:%S\")"
   ]
  },
  {
   "cell_type": "code",
   "execution_count": 592,
   "metadata": {},
   "outputs": [
    {
     "name": "stdout",
     "output_type": "stream",
     "text": [
      "2.2.2\n"
     ]
    }
   ],
   "source": [
    "print(pd.__version__)\n",
    "\n",
    "# so because the version is >= 1.0, dataframe column types can be kept as \"string\" and not specifically \"object\""
   ]
  },
  {
   "cell_type": "markdown",
   "metadata": {},
   "source": [
    "# Load the dataset\n",
    "here we load the dataset - using a pandas dataframe"
   ]
  },
  {
   "cell_type": "markdown",
   "metadata": {},
   "source": [
    "### <span style=\"background-color: yellow\"> Task 1 </span>\n",
    "Select a dataset of your choice from here https://tinyurl.com/BI-Assignment02-Datasets"
   ]
  },
  {
   "cell_type": "code",
   "execution_count": 593,
   "metadata": {},
   "outputs": [
    {
     "data": {
      "text/plain": [
       "'data/Healthcare.csv'"
      ]
     },
     "execution_count": 593,
     "metadata": {},
     "output_type": "execute_result"
    }
   ],
   "source": [
    "file_path = \"data/Healthcare.csv\"\n",
    "file_path"
   ]
  },
  {
   "cell_type": "code",
   "execution_count": 594,
   "metadata": {},
   "outputs": [
    {
     "name": "stdout",
     "output_type": "stream",
     "text": [
      "<class 'pandas.core.frame.DataFrame'>\n",
      "RangeIndex: 10042 entries, 0 to 10041\n",
      "Data columns (total 16 columns):\n",
      " #   Column              Non-Null Count  Dtype  \n",
      "---  ------              --------------  -----  \n",
      " 0   ï»¿Name             10042 non-null  object \n",
      " 1   Age                 10042 non-null  int64  \n",
      " 2   Gender              10040 non-null  object \n",
      " 3   Blood Type          10042 non-null  object \n",
      " 4   Medical Condition   10042 non-null  object \n",
      " 5   Date of Admission   10042 non-null  object \n",
      " 6   Doctor              10042 non-null  object \n",
      " 7   Hospital            10042 non-null  object \n",
      " 8   Insurance Provider  10042 non-null  object \n",
      " 9   Billing Amount      10041 non-null  float64\n",
      " 10  TaxAmount           7873 non-null   float64\n",
      " 11  Room Number         10038 non-null  float64\n",
      " 12  Admission Type      10042 non-null  object \n",
      " 13  Discharge Date      10042 non-null  object \n",
      " 14  Medication          10041 non-null  object \n",
      " 15  Test Results        10042 non-null  object \n",
      "dtypes: float64(3), int64(1), object(12)\n",
      "memory usage: 1.2+ MB\n"
     ]
    }
   ],
   "source": [
    "df = pd.read_csv(file_path, encoding=\"ISO-8859-1\")\n",
    "\n",
    "# Display basic info\n",
    "df.info()"
   ]
  },
  {
   "cell_type": "code",
   "execution_count": 595,
   "metadata": {},
   "outputs": [],
   "source": [
    "# so gender, billing amount, tax amount, room number and medication have missing values - rest are full. \n",
    "missing_columns = ['Gender', 'Billing Amount', 'TaxAmount', 'Room Number', 'Medication']\n",
    "# this array will be used later in the code in TASK 4"
   ]
  },
  {
   "cell_type": "code",
   "execution_count": 596,
   "metadata": {},
   "outputs": [
    {
     "data": {
      "text/html": [
       "<div>\n",
       "<style scoped>\n",
       "    .dataframe tbody tr th:only-of-type {\n",
       "        vertical-align: middle;\n",
       "    }\n",
       "\n",
       "    .dataframe tbody tr th {\n",
       "        vertical-align: top;\n",
       "    }\n",
       "\n",
       "    .dataframe thead th {\n",
       "        text-align: right;\n",
       "    }\n",
       "</style>\n",
       "<table border=\"1\" class=\"dataframe\">\n",
       "  <thead>\n",
       "    <tr style=\"text-align: right;\">\n",
       "      <th></th>\n",
       "      <th>ï»¿Name</th>\n",
       "      <th>Age</th>\n",
       "      <th>Gender</th>\n",
       "      <th>Blood Type</th>\n",
       "      <th>Medical Condition</th>\n",
       "      <th>Date of Admission</th>\n",
       "      <th>Doctor</th>\n",
       "      <th>Hospital</th>\n",
       "      <th>Insurance Provider</th>\n",
       "      <th>Billing Amount</th>\n",
       "      <th>TaxAmount</th>\n",
       "      <th>Room Number</th>\n",
       "      <th>Admission Type</th>\n",
       "      <th>Discharge Date</th>\n",
       "      <th>Medication</th>\n",
       "      <th>Test Results</th>\n",
       "    </tr>\n",
       "  </thead>\n",
       "  <tbody>\n",
       "    <tr>\n",
       "      <th>count</th>\n",
       "      <td>10042</td>\n",
       "      <td>10042.000000</td>\n",
       "      <td>10040</td>\n",
       "      <td>10042</td>\n",
       "      <td>10042</td>\n",
       "      <td>10042</td>\n",
       "      <td>10042</td>\n",
       "      <td>10042</td>\n",
       "      <td>10042</td>\n",
       "      <td>10041.000000</td>\n",
       "      <td>7873.000000</td>\n",
       "      <td>10038.000000</td>\n",
       "      <td>10042</td>\n",
       "      <td>10042</td>\n",
       "      <td>10041</td>\n",
       "      <td>10042</td>\n",
       "    </tr>\n",
       "    <tr>\n",
       "      <th>unique</th>\n",
       "      <td>9378</td>\n",
       "      <td>NaN</td>\n",
       "      <td>2</td>\n",
       "      <td>8</td>\n",
       "      <td>7</td>\n",
       "      <td>1815</td>\n",
       "      <td>9416</td>\n",
       "      <td>8639</td>\n",
       "      <td>7</td>\n",
       "      <td>NaN</td>\n",
       "      <td>NaN</td>\n",
       "      <td>NaN</td>\n",
       "      <td>6</td>\n",
       "      <td>1834</td>\n",
       "      <td>5</td>\n",
       "      <td>6</td>\n",
       "    </tr>\n",
       "    <tr>\n",
       "      <th>top</th>\n",
       "      <td>Michael Johnson</td>\n",
       "      <td>NaN</td>\n",
       "      <td>Female</td>\n",
       "      <td>AB-</td>\n",
       "      <td>Asthma</td>\n",
       "      <td>12/04/2019</td>\n",
       "      <td>Michael Johnson</td>\n",
       "      <td>Smith PLC</td>\n",
       "      <td>Cigna</td>\n",
       "      <td>NaN</td>\n",
       "      <td>NaN</td>\n",
       "      <td>NaN</td>\n",
       "      <td>Urgent</td>\n",
       "      <td>03/03/2021</td>\n",
       "      <td>Penicillin</td>\n",
       "      <td>Abnormal</td>\n",
       "    </tr>\n",
       "    <tr>\n",
       "      <th>freq</th>\n",
       "      <td>7</td>\n",
       "      <td>NaN</td>\n",
       "      <td>5089</td>\n",
       "      <td>1279</td>\n",
       "      <td>1717</td>\n",
       "      <td>15</td>\n",
       "      <td>7</td>\n",
       "      <td>19</td>\n",
       "      <td>2048</td>\n",
       "      <td>NaN</td>\n",
       "      <td>NaN</td>\n",
       "      <td>NaN</td>\n",
       "      <td>3408</td>\n",
       "      <td>14</td>\n",
       "      <td>2090</td>\n",
       "      <td>3468</td>\n",
       "    </tr>\n",
       "    <tr>\n",
       "      <th>mean</th>\n",
       "      <td>NaN</td>\n",
       "      <td>51.458076</td>\n",
       "      <td>NaN</td>\n",
       "      <td>NaN</td>\n",
       "      <td>NaN</td>\n",
       "      <td>NaN</td>\n",
       "      <td>NaN</td>\n",
       "      <td>NaN</td>\n",
       "      <td>NaN</td>\n",
       "      <td>25498.528953</td>\n",
       "      <td>3825.979158</td>\n",
       "      <td>300.039350</td>\n",
       "      <td>NaN</td>\n",
       "      <td>NaN</td>\n",
       "      <td>NaN</td>\n",
       "      <td>NaN</td>\n",
       "    </tr>\n",
       "    <tr>\n",
       "      <th>std</th>\n",
       "      <td>NaN</td>\n",
       "      <td>19.586434</td>\n",
       "      <td>NaN</td>\n",
       "      <td>NaN</td>\n",
       "      <td>NaN</td>\n",
       "      <td>NaN</td>\n",
       "      <td>NaN</td>\n",
       "      <td>NaN</td>\n",
       "      <td>NaN</td>\n",
       "      <td>14066.329923</td>\n",
       "      <td>2111.511256</td>\n",
       "      <td>115.802392</td>\n",
       "      <td>NaN</td>\n",
       "      <td>NaN</td>\n",
       "      <td>NaN</td>\n",
       "      <td>NaN</td>\n",
       "    </tr>\n",
       "    <tr>\n",
       "      <th>min</th>\n",
       "      <td>NaN</td>\n",
       "      <td>18.000000</td>\n",
       "      <td>NaN</td>\n",
       "      <td>NaN</td>\n",
       "      <td>NaN</td>\n",
       "      <td>NaN</td>\n",
       "      <td>NaN</td>\n",
       "      <td>NaN</td>\n",
       "      <td>NaN</td>\n",
       "      <td>3.000000</td>\n",
       "      <td>0.450000</td>\n",
       "      <td>101.000000</td>\n",
       "      <td>NaN</td>\n",
       "      <td>NaN</td>\n",
       "      <td>NaN</td>\n",
       "      <td>NaN</td>\n",
       "    </tr>\n",
       "    <tr>\n",
       "      <th>25%</th>\n",
       "      <td>NaN</td>\n",
       "      <td>35.000000</td>\n",
       "      <td>NaN</td>\n",
       "      <td>NaN</td>\n",
       "      <td>NaN</td>\n",
       "      <td>NaN</td>\n",
       "      <td>NaN</td>\n",
       "      <td>NaN</td>\n",
       "      <td>NaN</td>\n",
       "      <td>13481.843600</td>\n",
       "      <td>2012.235405</td>\n",
       "      <td>199.000000</td>\n",
       "      <td>NaN</td>\n",
       "      <td>NaN</td>\n",
       "      <td>NaN</td>\n",
       "      <td>NaN</td>\n",
       "    </tr>\n",
       "    <tr>\n",
       "      <th>50%</th>\n",
       "      <td>NaN</td>\n",
       "      <td>52.000000</td>\n",
       "      <td>NaN</td>\n",
       "      <td>NaN</td>\n",
       "      <td>NaN</td>\n",
       "      <td>NaN</td>\n",
       "      <td>NaN</td>\n",
       "      <td>NaN</td>\n",
       "      <td>NaN</td>\n",
       "      <td>25236.344760</td>\n",
       "      <td>3807.212264</td>\n",
       "      <td>299.000000</td>\n",
       "      <td>NaN</td>\n",
       "      <td>NaN</td>\n",
       "      <td>NaN</td>\n",
       "      <td>NaN</td>\n",
       "    </tr>\n",
       "    <tr>\n",
       "      <th>75%</th>\n",
       "      <td>NaN</td>\n",
       "      <td>68.000000</td>\n",
       "      <td>NaN</td>\n",
       "      <td>NaN</td>\n",
       "      <td>NaN</td>\n",
       "      <td>NaN</td>\n",
       "      <td>NaN</td>\n",
       "      <td>NaN</td>\n",
       "      <td>NaN</td>\n",
       "      <td>37720.039040</td>\n",
       "      <td>5648.364848</td>\n",
       "      <td>400.000000</td>\n",
       "      <td>NaN</td>\n",
       "      <td>NaN</td>\n",
       "      <td>NaN</td>\n",
       "      <td>NaN</td>\n",
       "    </tr>\n",
       "    <tr>\n",
       "      <th>max</th>\n",
       "      <td>NaN</td>\n",
       "      <td>85.000000</td>\n",
       "      <td>NaN</td>\n",
       "      <td>NaN</td>\n",
       "      <td>NaN</td>\n",
       "      <td>NaN</td>\n",
       "      <td>NaN</td>\n",
       "      <td>NaN</td>\n",
       "      <td>NaN</td>\n",
       "      <td>49995.902280</td>\n",
       "      <td>7499.385342</td>\n",
       "      <td>500.000000</td>\n",
       "      <td>NaN</td>\n",
       "      <td>NaN</td>\n",
       "      <td>NaN</td>\n",
       "      <td>NaN</td>\n",
       "    </tr>\n",
       "  </tbody>\n",
       "</table>\n",
       "</div>"
      ],
      "text/plain": [
       "                ï»¿Name           Age  Gender Blood Type Medical Condition  \\\n",
       "count             10042  10042.000000   10040      10042             10042   \n",
       "unique             9378           NaN       2          8                 7   \n",
       "top     Michael Johnson           NaN  Female        AB-            Asthma   \n",
       "freq                  7           NaN    5089       1279              1717   \n",
       "mean                NaN     51.458076     NaN        NaN               NaN   \n",
       "std                 NaN     19.586434     NaN        NaN               NaN   \n",
       "min                 NaN     18.000000     NaN        NaN               NaN   \n",
       "25%                 NaN     35.000000     NaN        NaN               NaN   \n",
       "50%                 NaN     52.000000     NaN        NaN               NaN   \n",
       "75%                 NaN     68.000000     NaN        NaN               NaN   \n",
       "max                 NaN     85.000000     NaN        NaN               NaN   \n",
       "\n",
       "       Date of Admission           Doctor   Hospital Insurance Provider  \\\n",
       "count              10042            10042      10042              10042   \n",
       "unique              1815             9416       8639                  7   \n",
       "top           12/04/2019  Michael Johnson  Smith PLC              Cigna   \n",
       "freq                  15                7         19               2048   \n",
       "mean                 NaN              NaN        NaN                NaN   \n",
       "std                  NaN              NaN        NaN                NaN   \n",
       "min                  NaN              NaN        NaN                NaN   \n",
       "25%                  NaN              NaN        NaN                NaN   \n",
       "50%                  NaN              NaN        NaN                NaN   \n",
       "75%                  NaN              NaN        NaN                NaN   \n",
       "max                  NaN              NaN        NaN                NaN   \n",
       "\n",
       "        Billing Amount    TaxAmount   Room Number Admission Type  \\\n",
       "count     10041.000000  7873.000000  10038.000000          10042   \n",
       "unique             NaN          NaN           NaN              6   \n",
       "top                NaN          NaN           NaN         Urgent   \n",
       "freq               NaN          NaN           NaN           3408   \n",
       "mean      25498.528953  3825.979158    300.039350            NaN   \n",
       "std       14066.329923  2111.511256    115.802392            NaN   \n",
       "min           3.000000     0.450000    101.000000            NaN   \n",
       "25%       13481.843600  2012.235405    199.000000            NaN   \n",
       "50%       25236.344760  3807.212264    299.000000            NaN   \n",
       "75%       37720.039040  5648.364848    400.000000            NaN   \n",
       "max       49995.902280  7499.385342    500.000000            NaN   \n",
       "\n",
       "       Discharge Date  Medication Test Results  \n",
       "count           10042       10041        10042  \n",
       "unique           1834           5            6  \n",
       "top        03/03/2021  Penicillin     Abnormal  \n",
       "freq               14        2090         3468  \n",
       "mean              NaN         NaN          NaN  \n",
       "std               NaN         NaN          NaN  \n",
       "min               NaN         NaN          NaN  \n",
       "25%               NaN         NaN          NaN  \n",
       "50%               NaN         NaN          NaN  \n",
       "75%               NaN         NaN          NaN  \n",
       "max               NaN         NaN          NaN  "
      ]
     },
     "execution_count": 596,
     "metadata": {},
     "output_type": "execute_result"
    }
   ],
   "source": [
    "df.describe(include='all')"
   ]
  },
  {
   "cell_type": "code",
   "execution_count": 597,
   "metadata": {},
   "outputs": [
    {
     "data": {
      "text/html": [
       "<div>\n",
       "<style scoped>\n",
       "    .dataframe tbody tr th:only-of-type {\n",
       "        vertical-align: middle;\n",
       "    }\n",
       "\n",
       "    .dataframe tbody tr th {\n",
       "        vertical-align: top;\n",
       "    }\n",
       "\n",
       "    .dataframe thead th {\n",
       "        text-align: right;\n",
       "    }\n",
       "</style>\n",
       "<table border=\"1\" class=\"dataframe\">\n",
       "  <thead>\n",
       "    <tr style=\"text-align: right;\">\n",
       "      <th></th>\n",
       "      <th>ï»¿Name</th>\n",
       "      <th>Age</th>\n",
       "      <th>Gender</th>\n",
       "      <th>Blood Type</th>\n",
       "      <th>Medical Condition</th>\n",
       "      <th>Date of Admission</th>\n",
       "      <th>Doctor</th>\n",
       "      <th>Hospital</th>\n",
       "      <th>Insurance Provider</th>\n",
       "      <th>Billing Amount</th>\n",
       "      <th>TaxAmount</th>\n",
       "      <th>Room Number</th>\n",
       "      <th>Admission Type</th>\n",
       "      <th>Discharge Date</th>\n",
       "      <th>Medication</th>\n",
       "      <th>Test Results</th>\n",
       "    </tr>\n",
       "  </thead>\n",
       "  <tbody>\n",
       "    <tr>\n",
       "      <th>0</th>\n",
       "      <td>Tiffany Ramirez</td>\n",
       "      <td>81</td>\n",
       "      <td>NaN</td>\n",
       "      <td>O-</td>\n",
       "      <td>Diabetes</td>\n",
       "      <td>17/11/2022</td>\n",
       "      <td>Patrick Parker</td>\n",
       "      <td>Wallace-Hamilton</td>\n",
       "      <td>Medicare</td>\n",
       "      <td>37490.983360</td>\n",
       "      <td>5623.647505</td>\n",
       "      <td>146.0</td>\n",
       "      <td>Elective</td>\n",
       "      <td>01/12/2022</td>\n",
       "      <td>Aspirin</td>\n",
       "      <td>Inconclusive</td>\n",
       "    </tr>\n",
       "    <tr>\n",
       "      <th>1</th>\n",
       "      <td>Ruben Burns</td>\n",
       "      <td>35</td>\n",
       "      <td>Male</td>\n",
       "      <td>O+</td>\n",
       "      <td>Asthma</td>\n",
       "      <td>01/06/2023</td>\n",
       "      <td>Diane Jackson</td>\n",
       "      <td>Burke, Griffin and Cooper</td>\n",
       "      <td>UnitedHealthcare</td>\n",
       "      <td>47304.064850</td>\n",
       "      <td>7095.609727</td>\n",
       "      <td>404.0</td>\n",
       "      <td>Emergency</td>\n",
       "      <td>15/06/2023</td>\n",
       "      <td>NaN</td>\n",
       "      <td>Normal</td>\n",
       "    </tr>\n",
       "    <tr>\n",
       "      <th>2</th>\n",
       "      <td>Chad Byrd</td>\n",
       "      <td>61</td>\n",
       "      <td>Male</td>\n",
       "      <td>B-</td>\n",
       "      <td>Obesity</td>\n",
       "      <td>09/01/2019</td>\n",
       "      <td>Paul Baker</td>\n",
       "      <td>Walton LLC</td>\n",
       "      <td>Medicare</td>\n",
       "      <td>36874.897000</td>\n",
       "      <td>5531.234549</td>\n",
       "      <td>292.0</td>\n",
       "      <td>Emergency</td>\n",
       "      <td>08/02/2019</td>\n",
       "      <td>Lipitor</td>\n",
       "      <td>Normal</td>\n",
       "    </tr>\n",
       "    <tr>\n",
       "      <th>3</th>\n",
       "      <td>Antonio Frederick</td>\n",
       "      <td>49</td>\n",
       "      <td>Male</td>\n",
       "      <td>B-</td>\n",
       "      <td>Asthma</td>\n",
       "      <td>02/05/2020</td>\n",
       "      <td>Brian Chandler</td>\n",
       "      <td>Garcia Ltd</td>\n",
       "      <td>Medicare</td>\n",
       "      <td>23303.322090</td>\n",
       "      <td>3495.498314</td>\n",
       "      <td>480.0</td>\n",
       "      <td>Urgent</td>\n",
       "      <td>03/05/2020</td>\n",
       "      <td>Penicillin</td>\n",
       "      <td>Abnormal</td>\n",
       "    </tr>\n",
       "    <tr>\n",
       "      <th>4</th>\n",
       "      <td>Mrs. Brandy Flowers</td>\n",
       "      <td>51</td>\n",
       "      <td>Male</td>\n",
       "      <td>O-</td>\n",
       "      <td>Arthritis</td>\n",
       "      <td>09/07/2021</td>\n",
       "      <td>Dustin Griffin</td>\n",
       "      <td>Jones, Brown and Murray</td>\n",
       "      <td>UnitedHealthcare</td>\n",
       "      <td>18086.344180</td>\n",
       "      <td>2712.951628</td>\n",
       "      <td>477.0</td>\n",
       "      <td>Urgent</td>\n",
       "      <td>02/08/2021</td>\n",
       "      <td>Paracetamol</td>\n",
       "      <td>Normal</td>\n",
       "    </tr>\n",
       "    <tr>\n",
       "      <th>...</th>\n",
       "      <td>...</td>\n",
       "      <td>...</td>\n",
       "      <td>...</td>\n",
       "      <td>...</td>\n",
       "      <td>...</td>\n",
       "      <td>...</td>\n",
       "      <td>...</td>\n",
       "      <td>...</td>\n",
       "      <td>...</td>\n",
       "      <td>...</td>\n",
       "      <td>...</td>\n",
       "      <td>...</td>\n",
       "      <td>...</td>\n",
       "      <td>...</td>\n",
       "      <td>...</td>\n",
       "      <td>...</td>\n",
       "    </tr>\n",
       "    <tr>\n",
       "      <th>10037</th>\n",
       "      <td>Christopher Delgado</td>\n",
       "      <td>69</td>\n",
       "      <td>Female</td>\n",
       "      <td>A-</td>\n",
       "      <td>Obesity</td>\n",
       "      <td>08/06/2021</td>\n",
       "      <td>Susan Franklin</td>\n",
       "      <td>Harris LLC</td>\n",
       "      <td>UnitedHealthcare</td>\n",
       "      <td>41867.422770</td>\n",
       "      <td>6280.113415</td>\n",
       "      <td>292.0</td>\n",
       "      <td>Elective</td>\n",
       "      <td>13/06/2021</td>\n",
       "      <td>Aspirin</td>\n",
       "      <td>Normal</td>\n",
       "    </tr>\n",
       "    <tr>\n",
       "      <th>10038</th>\n",
       "      <td>Laura Banks</td>\n",
       "      <td>53</td>\n",
       "      <td>Male</td>\n",
       "      <td>A-</td>\n",
       "      <td>Hypertension</td>\n",
       "      <td>07/09/2020</td>\n",
       "      <td>James Fleming</td>\n",
       "      <td>Rice-Hunter</td>\n",
       "      <td>Medicare</td>\n",
       "      <td>30326.548120</td>\n",
       "      <td>4548.982219</td>\n",
       "      <td>464.0</td>\n",
       "      <td>Urgent</td>\n",
       "      <td>02/10/2020</td>\n",
       "      <td>Ibuprofen</td>\n",
       "      <td>Abnormal</td>\n",
       "    </tr>\n",
       "    <tr>\n",
       "      <th>10039</th>\n",
       "      <td>John Johnson</td>\n",
       "      <td>58</td>\n",
       "      <td>Female</td>\n",
       "      <td>B-</td>\n",
       "      <td>Obesity</td>\n",
       "      <td>15/02/2019</td>\n",
       "      <td>Blake Young</td>\n",
       "      <td>Pruitt, Butler and Gonzales</td>\n",
       "      <td>Medicare</td>\n",
       "      <td>15650.891360</td>\n",
       "      <td>2347.633705</td>\n",
       "      <td>323.0</td>\n",
       "      <td>Emergency</td>\n",
       "      <td>13/03/2019</td>\n",
       "      <td>Aspirin</td>\n",
       "      <td>Abnormal</td>\n",
       "    </tr>\n",
       "    <tr>\n",
       "      <th>10040</th>\n",
       "      <td>Craig Garcia</td>\n",
       "      <td>32</td>\n",
       "      <td>Male</td>\n",
       "      <td>B-</td>\n",
       "      <td>Asthma</td>\n",
       "      <td>07/07/2023</td>\n",
       "      <td>Bradley Jones</td>\n",
       "      <td>Morris Inc</td>\n",
       "      <td>Blue Cross</td>\n",
       "      <td>23674.450000</td>\n",
       "      <td>3551.167500</td>\n",
       "      <td>457.0</td>\n",
       "      <td>Emergency</td>\n",
       "      <td>08/07/2023</td>\n",
       "      <td>Ibuprofen</td>\n",
       "      <td>Normal</td>\n",
       "    </tr>\n",
       "    <tr>\n",
       "      <th>10041</th>\n",
       "      <td>Stephen Wheeler</td>\n",
       "      <td>39</td>\n",
       "      <td>Male</td>\n",
       "      <td>A-</td>\n",
       "      <td>Asthma</td>\n",
       "      <td>26/02/2020</td>\n",
       "      <td>Toni Hoover</td>\n",
       "      <td>Diaz-Ray</td>\n",
       "      <td>UnitedHealthcare</td>\n",
       "      <td>4327.007176</td>\n",
       "      <td>649.051077</td>\n",
       "      <td>443.0</td>\n",
       "      <td>Urgent</td>\n",
       "      <td>07/03/2020</td>\n",
       "      <td>Aspirin</td>\n",
       "      <td>Abnormal</td>\n",
       "    </tr>\n",
       "  </tbody>\n",
       "</table>\n",
       "<p>10042 rows × 16 columns</p>\n",
       "</div>"
      ],
      "text/plain": [
       "                   ï»¿Name  Age  Gender Blood Type Medical Condition  \\\n",
       "0          Tiffany Ramirez   81     NaN         O-          Diabetes   \n",
       "1              Ruben Burns   35    Male         O+            Asthma   \n",
       "2                Chad Byrd   61    Male         B-           Obesity   \n",
       "3        Antonio Frederick   49    Male         B-            Asthma   \n",
       "4      Mrs. Brandy Flowers   51    Male         O-         Arthritis   \n",
       "...                    ...  ...     ...        ...               ...   \n",
       "10037  Christopher Delgado   69  Female         A-           Obesity   \n",
       "10038          Laura Banks   53    Male         A-      Hypertension   \n",
       "10039         John Johnson   58  Female         B-           Obesity   \n",
       "10040         Craig Garcia   32    Male         B-            Asthma   \n",
       "10041      Stephen Wheeler   39    Male         A-            Asthma   \n",
       "\n",
       "      Date of Admission          Doctor                     Hospital  \\\n",
       "0            17/11/2022  Patrick Parker             Wallace-Hamilton   \n",
       "1            01/06/2023   Diane Jackson    Burke, Griffin and Cooper   \n",
       "2            09/01/2019      Paul Baker                   Walton LLC   \n",
       "3            02/05/2020  Brian Chandler                   Garcia Ltd   \n",
       "4            09/07/2021  Dustin Griffin      Jones, Brown and Murray   \n",
       "...                 ...             ...                          ...   \n",
       "10037        08/06/2021  Susan Franklin                   Harris LLC   \n",
       "10038        07/09/2020   James Fleming                  Rice-Hunter   \n",
       "10039        15/02/2019     Blake Young  Pruitt, Butler and Gonzales   \n",
       "10040        07/07/2023   Bradley Jones                   Morris Inc   \n",
       "10041        26/02/2020     Toni Hoover                     Diaz-Ray   \n",
       "\n",
       "      Insurance Provider  Billing Amount    TaxAmount  Room Number  \\\n",
       "0               Medicare    37490.983360  5623.647505        146.0   \n",
       "1       UnitedHealthcare    47304.064850  7095.609727        404.0   \n",
       "2               Medicare    36874.897000  5531.234549        292.0   \n",
       "3               Medicare    23303.322090  3495.498314        480.0   \n",
       "4       UnitedHealthcare    18086.344180  2712.951628        477.0   \n",
       "...                  ...             ...          ...          ...   \n",
       "10037   UnitedHealthcare    41867.422770  6280.113415        292.0   \n",
       "10038           Medicare    30326.548120  4548.982219        464.0   \n",
       "10039           Medicare    15650.891360  2347.633705        323.0   \n",
       "10040         Blue Cross    23674.450000  3551.167500        457.0   \n",
       "10041   UnitedHealthcare     4327.007176   649.051077        443.0   \n",
       "\n",
       "      Admission Type Discharge Date   Medication  Test Results  \n",
       "0           Elective     01/12/2022      Aspirin  Inconclusive  \n",
       "1          Emergency     15/06/2023          NaN        Normal  \n",
       "2          Emergency     08/02/2019      Lipitor        Normal  \n",
       "3             Urgent     03/05/2020   Penicillin      Abnormal  \n",
       "4             Urgent     02/08/2021  Paracetamol        Normal  \n",
       "...              ...            ...          ...           ...  \n",
       "10037       Elective     13/06/2021      Aspirin        Normal  \n",
       "10038         Urgent     02/10/2020    Ibuprofen      Abnormal  \n",
       "10039      Emergency     13/03/2019      Aspirin      Abnormal  \n",
       "10040      Emergency     08/07/2023    Ibuprofen        Normal  \n",
       "10041         Urgent     07/03/2020      Aspirin      Abnormal  \n",
       "\n",
       "[10042 rows x 16 columns]"
      ]
     },
     "execution_count": 597,
     "metadata": {},
     "output_type": "execute_result"
    }
   ],
   "source": [
    "df  # Show first few rows"
   ]
  },
  {
   "cell_type": "markdown",
   "metadata": {},
   "source": [
    "### <span style=\"background-color: yellow\"> Task 2 </span>\n",
    "Acquire some basic background knowledge about dataset to understand its context\n",
    "and relevance (if needed)."
   ]
  },
  {
   "cell_type": "markdown",
   "metadata": {},
   "source": [
    "# Data Preprocessing\n",
    "here we perform preprocessing steps on the data like cleaning, handling missing values, normalizing etc"
   ]
  },
  {
   "cell_type": "markdown",
   "metadata": {},
   "source": [
    "### <span style=\"background-color: yellow\"> Task 3 </span>\n",
    "- a. Develop a strategy to identify and correct data inconsistencies and data entry errors.\n",
    "- b. Write your strategy in the notebook as markdowns.\n",
    "- c. Provide brief interpretations of the corrections made.\n",
    "- d. Majority marks are for this interpretation and for the strategy (not for Python code)"
   ]
  },
  {
   "cell_type": "code",
   "execution_count": 598,
   "metadata": {},
   "outputs": [
    {
     "name": "stdout",
     "output_type": "stream",
     "text": [
      "Index(['Name', 'Age', 'Gender', 'Blood Type', 'Medical Condition',\n",
      "       'Date of Admission', 'Doctor', 'Hospital', 'Insurance Provider',\n",
      "       'Billing Amount', 'TaxAmount', 'Room Number', 'Admission Type',\n",
      "       'Discharge Date', 'Medication', 'Test Results'],\n",
      "      dtype='object')\n"
     ]
    }
   ],
   "source": [
    "# i can see that the first column is \"?Name\" so i will rename it to \"Name\"\n",
    "df.rename(columns={df.columns[0]: \"Name\"}, inplace=True)\n",
    "print(df.columns)"
   ]
  },
  {
   "cell_type": "code",
   "execution_count": 599,
   "metadata": {},
   "outputs": [
    {
     "name": "stdout",
     "output_type": "stream",
     "text": [
      "Index(['Name', 'Age', 'Gender', 'Blood Type', 'Medical Condition',\n",
      "       'Date of Admission', 'Doctor', 'Hospital', 'Insurance Provider',\n",
      "       'Billing Amount', 'TaxAmount', 'Room Number', 'Admission Type',\n",
      "       'Discharge Date', 'Medication', 'Test Results'],\n",
      "      dtype='object')\n"
     ]
    }
   ],
   "source": [
    "# Clean column names (strip special characters, extra spaces)\n",
    "df.columns = df.columns.str.strip().str.replace(r\"[^\\w\\s]\", \"\").str.replace(\"  \", \" \")\n",
    "print(df.columns)"
   ]
  },
  {
   "cell_type": "code",
   "execution_count": 600,
   "metadata": {},
   "outputs": [],
   "source": [
    "# remove whitespaces\n",
    "df = df.map(lambda x: x.strip() if isinstance(x, str) else x)"
   ]
  },
  {
   "cell_type": "markdown",
   "metadata": {},
   "source": [
    "### Analyzing Name Column\n",
    "- first convert column to string\n",
    "- here i noticed an inconsistency that if its \"Mrs.\" so the gender type should also match and be \"Female\", but for row 4, its \"Male\" which is wrong. So i will correct it.\n",
    "- then drop all names that have less than 1 length"
   ]
  },
  {
   "cell_type": "code",
   "execution_count": 601,
   "metadata": {},
   "outputs": [
    {
     "name": "stdout",
     "output_type": "stream",
     "text": [
      "string\n"
     ]
    }
   ],
   "source": [
    "# Convert to 'string' dtype (pandas 1.0+)\n",
    "df['Name'] = df['Name'].astype('string')\n",
    "print(df['Name'].dtype)  "
   ]
  },
  {
   "cell_type": "code",
   "execution_count": 602,
   "metadata": {},
   "outputs": [
    {
     "name": "stdout",
     "output_type": "stream",
     "text": [
      "Correcting 'Mrs. Brandy Flowers': Gender 'Male' → 'Female'\n",
      "Correcting 'Mrs. Caroline Farrell': Gender 'Female'\n",
      "Correcting 'Mrs. Ashley Simpson MD': Gender 'Male' → 'Female'\n",
      "Correcting 'Mr. John Martin DVM': Gender 'Female' → 'Male'\n",
      "Correcting 'Mr. Christopher Burns DDS': Gender 'Female' → 'Male'\n",
      "Correcting 'Miss Courtney Navarro': Gender 'Male' → 'Female'\n",
      "Correcting 'Mrs. Natasha Williams': Gender 'Male' → 'Female'\n",
      "Correcting 'Miss Lisa Hale': Gender 'Male' → 'Female'\n",
      "Correcting 'Mrs. Jessica Larsen MD': Gender 'Male' → 'Female'\n",
      "Correcting 'Mr. Shawn Davis Jr.': Gender 'Female' → 'Male'\n",
      "Correcting 'Mr. Joshua Salazar': Gender 'Female' → 'Male'\n",
      "Correcting 'Mrs. Anne Reid MD': Gender 'Male' → 'Female'\n",
      "Correcting 'Mr. Taylor Williams DDS': Gender 'Female' → 'Male'\n",
      "Correcting 'Mr. John Wright': Gender 'Female' → 'Male'\n",
      "Correcting 'Mr. Brian Chavez': Gender 'Female' → 'Male'\n",
      "Correcting 'Mrs. Zoe Bartlett': Gender 'Male' → 'Female'\n",
      "Correcting 'Miss Denise Webster DVM': Gender 'Male' → 'Female'\n",
      "Correcting 'Mrs. Kimberly Hogan DDS': Gender 'Male' → 'Female'\n",
      "Correcting 'Ms. Debra Ramirez': Gender 'Male' → 'Female'\n",
      "Correcting 'Miss Danielle Boyd DVM': Gender 'Male' → 'Female'\n",
      "Correcting 'Mr. Jared Bell': Gender 'Female' → 'Male'\n",
      "Correcting 'Mrs. Donna Bishop': Gender 'Male' → 'Female'\n",
      "Correcting 'Mr. Charles Myers DVM': Gender 'Female' → 'Male'\n",
      "Correcting 'Mr. Tyler Parks MD': Gender 'Female' → 'Male'\n",
      "Correcting 'Mrs. Stephanie Mcbride': Gender 'Male' → 'Female'\n",
      "Correcting 'Mr. James Coleman DDS': Gender 'Female' → 'Male'\n",
      "Correcting 'Ms. Megan Hale': Gender 'Male' → 'Female'\n",
      "Correcting 'Ms. Gina Ross': Gender 'Male' → 'Female'\n",
      "Correcting 'Mrs. Michelle Berry': Gender 'Male' → 'Female'\n",
      "Correcting 'Ms. Raven Smith': Gender 'Male' → 'Female'\n",
      "Correcting 'Mr. Ryan Bradley': Gender 'Female' → 'Male'\n",
      "Correcting 'Mr. Tyler Baxter': Gender 'Female' → 'Male'\n",
      "Correcting 'Miss Cynthia Massey': Gender 'Male' → 'Female'\n",
      "Correcting 'Mrs. Tricia Porter': Gender 'Male' → 'Female'\n",
      "Correcting 'Mrs. Gabrielle Willis': Gender 'Male' → 'Female'\n",
      "Correcting 'Mr. Andrew Dunn': Gender 'Female' → 'Male'\n",
      "Correcting 'Mrs. Jill Jones': Gender 'Male' → 'Female'\n",
      "Correcting 'Mr. Eric Simpson MD': Gender 'Female' → 'Male'\n",
      "Correcting 'Mr. Gary Miller': Gender 'Female' → 'Male'\n",
      "Correcting 'Mrs. Erin Lee': Gender 'Male' → 'Female'\n",
      "Correcting 'Mr. Joshua Owen': Gender 'Female' → 'Male'\n",
      "Correcting 'Miss Melissa Ward': Gender 'Male' → 'Female'\n",
      "Correcting 'Mr. Gregory Pitts': Gender 'Female' → 'Male'\n",
      "Correcting 'Ms. Ashley Kennedy DVM': Gender 'Male' → 'Female'\n",
      "Correcting 'Mr. Matthew Rivas IV': Gender 'Female' → 'Male'\n",
      "Correcting 'Mr. Dustin Thomas': Gender 'Female' → 'Male'\n",
      "Correcting 'Mr. Jordan Miller': Gender 'Female' → 'Male'\n",
      "Correcting 'Mr. Jeff Jenkins': Gender 'Female' → 'Male'\n",
      "Correcting 'Mr. Ryan Smith': Gender 'Female' → 'Male'\n",
      "Correcting 'Mr. Glenn Hampton': Gender 'Female' → 'Male'\n",
      "Correcting 'Ms. Melissa Bowman': Gender 'Male' → 'Female'\n",
      "Correcting 'Miss Holly Freeman': Gender 'Male' → 'Female'\n",
      "Correcting 'Mr. David Gibbs Jr.': Gender 'Female' → 'Male'\n",
      "Correcting 'Miss Morgan Collier PhD': Gender 'Male' → 'Female'\n",
      "Correcting 'Mrs. Michelle Hill': Gender 'Male' → 'Female'\n",
      "Correcting 'Mr. Michael Hernandez': Gender 'Female' → 'Male'\n",
      "Correcting 'Mrs. Sandra Wood': Gender 'Male' → 'Female'\n",
      "Correcting 'Mrs. Sophia Wilson': Gender 'Male' → 'Female'\n",
      "Correcting 'Mr. Matthew Moore': Gender 'Female' → 'Male'\n",
      "Correcting 'Mr. Thomas Sanchez': Gender 'Female' → 'Male'\n",
      "60\n"
     ]
    }
   ],
   "source": [
    "count_changed = 0\n",
    "\n",
    "# Define title-gender rules (case-insensitive)\n",
    "title_rules = {\n",
    "    'mr.': 'Male',       # Mr. → Male\n",
    "    'mrs.': 'Female',      # Mrs. → Female\n",
    "    'miss': 'Female',      # Miss → Female\n",
    "    'ms.': 'Female'        # Ms. → Female\n",
    "}\n",
    "\n",
    "# Check and correct genders\n",
    "for index, row in df.iterrows():\n",
    "    name = str(row['Name']).lower()  # Convert to lowercase for case-insensitive check\n",
    "    current_gender = row['Gender']\n",
    "    \n",
    "    for title, expected_gender in title_rules.items():\n",
    "        if title in name:\n",
    "            if pd.isna(row['Gender']):\n",
    "                print(f\"Correcting '{row['Name']}': Gender '{expected_gender}'\")\n",
    "                df.at[index, 'Gender'] = expected_gender\n",
    "                count_changed += 1\n",
    "            elif current_gender != expected_gender:\n",
    "                print(f\"Correcting '{row['Name']}': Gender '{current_gender}' → '{expected_gender}'\")\n",
    "                df.at[index, 'Gender'] = expected_gender\n",
    "                count_changed += 1\n",
    "            break  # Stop after first title match\n",
    "print(count_changed)"
   ]
  },
  {
   "cell_type": "code",
   "execution_count": 603,
   "metadata": {},
   "outputs": [
    {
     "name": "stdout",
     "output_type": "stream",
     "text": [
      "Total rows before dropping: 10042\n",
      "Rows dropped (Name ≤1 char): 0\n",
      "Remaining rows: 10042\n"
     ]
    }
   ],
   "source": [
    "# wow thats alot of mismatch. i had added some code for doctors and professors, but then it was becoming a hassle so i removed it.\n",
    "\n",
    "# lets also remove names with less than <=1 length\n",
    "total_rows_before = len(df)  # Count total rows before dropping\n",
    "\n",
    "# Drop rows where 'hospital' has <=1 character \n",
    "df= df[df['Name'].str.len() > 1 | df['Name'].isna()].copy()  # Using .copy() to avoid SettingWithCopyWarning\n",
    "\n",
    "# Calculate rows dropped\n",
    "rows_dropped = total_rows_before - len(df)\n",
    "\n",
    "# Display results\n",
    "print(f\"Total rows before dropping: {total_rows_before}\")\n",
    "print(f\"Rows dropped (Name ≤1 char): {rows_dropped}\")\n",
    "print(f\"Remaining rows: {len(df)}\")"
   ]
  },
  {
   "cell_type": "markdown",
   "metadata": {},
   "source": [
    "### <span style=\"background-color: orange\"> API WORK </span>\n",
    "- here we make a function `to_string()` which basically converts a given column name to a string type\n",
    "- next we will make a function `to_int()` which converts a given column name to an integer type\n",
    "- next we will make a function `to_float()` which converts a given column name to a float type\n",
    "- next we will make a function `remove_small_size_names()` which removes all small sized names"
   ]
  },
  {
   "cell_type": "code",
   "execution_count": 604,
   "metadata": {},
   "outputs": [],
   "source": [
    "def api_to_string(df, column_name):\n",
    "    \"\"\"\n",
    "    Convert a pandas DataFrame column to a string.\n",
    "    \"\"\"\n",
    "    df[column_name] = df[column_name].astype('string')\n",
    "    print(f\"Column Name: '{column_name}', Type: {df[column_name].dtype}\")\n",
    "    return df  "
   ]
  },
  {
   "cell_type": "code",
   "execution_count": 605,
   "metadata": {},
   "outputs": [],
   "source": [
    "def api_to_int(df, column_name):\n",
    "    \"\"\"\n",
    "    Convert a pandas DataFrame column to a int.\n",
    "    \"\"\"\n",
    "    df[column_name] = df[column_name].astype('int64')\n",
    "    print(f\"Column Name: '{column_name}', Type: {df[column_name].dtype}\")\n",
    "    return df  "
   ]
  },
  {
   "cell_type": "code",
   "execution_count": 606,
   "metadata": {},
   "outputs": [],
   "source": [
    "def api_to_float(df, column_name):\n",
    "    \"\"\"\n",
    "    Convert a pandas DataFrame column to a float.\n",
    "    \"\"\"\n",
    "    df[column_name] = df[column_name].astype('float64')\n",
    "    print(f\"Column Name: '{column_name}', Type: {df[column_name].dtype}\")\n",
    "    return df  "
   ]
  },
  {
   "cell_type": "code",
   "execution_count": 607,
   "metadata": {},
   "outputs": [],
   "source": [
    "def api_remove_small_size_names(df, column_name, lower_limit=1):\n",
    "    # lets also remove names with less than <=lowerlimit length\n",
    "    total_rows_before = len(df)  # Count total rows before dropping\n",
    "\n",
    "    # Drop rows where column has <=1 character \n",
    "    df= df[df[column_name].str.len() > lower_limit | df[column_name].isna()].copy()  # Using .copy() to avoid SettingWithCopyWarning\n",
    "\n",
    "    # Calculate rows dropped\n",
    "    rows_dropped = total_rows_before - len(df)\n",
    "\n",
    "    # Display results\n",
    "    print(f\"Total rows before dropping: {total_rows_before}\")\n",
    "    print(f\"Rows dropped ('{column_name}' ≤{lower_limit} char): {rows_dropped}\")\n",
    "    print(f\"Remaining rows: {len(df)}\")\n",
    "    \n",
    "    return df"
   ]
  },
  {
   "cell_type": "markdown",
   "metadata": {},
   "source": [
    "### Analyzing Age Column\n",
    "- here we can check that all ages should be >0 and <100, and we can also find the counts of each age group to see which ones we mostly deal with. \n",
    "- we will also additionally convert the age column to a numerical type to be able to perform numerical operations on it."
   ]
  },
  {
   "cell_type": "code",
   "execution_count": 608,
   "metadata": {},
   "outputs": [
    {
     "name": "stdout",
     "output_type": "stream",
     "text": [
      "Number of invalid ages (<0 or >100): 0\n"
     ]
    }
   ],
   "source": [
    "# Count ages less than 0 or greater than 100\n",
    "invalid_age_count = ((df['Age'] < 0) | (df['Age'] > 100)).sum()\n",
    "print(\"Number of invalid ages (<0 or >100):\", invalid_age_count)"
   ]
  },
  {
   "cell_type": "code",
   "execution_count": 609,
   "metadata": {},
   "outputs": [
    {
     "name": "stdout",
     "output_type": "stream",
     "text": [
      "( 0 , 10 ) =  0\n",
      "( 10 , 20 ) =  466\n",
      "( 20 , 30 ) =  1611\n",
      "( 30 , 40 ) =  1642\n",
      "( 40 , 50 ) =  1532\n",
      "( 50 , 60 ) =  1683\n",
      "( 60 , 70 ) =  1604\n",
      "( 70 , 80 ) =  1662\n",
      "( 80 , 90 ) =  827\n",
      "( 90 , 100 ) =  0\n"
     ]
    }
   ],
   "source": [
    "# okay great! none invalid. lets apply a loop to see how many ages are in which range\n",
    "for category in range(10, 101, 10):\n",
    "    age_range_count = ((df['Age'] >= (category-10)) & (df['Age'] <= category)).sum()\n",
    "    print(\"(\",(category-10),\",\",category,\") = \", age_range_count)"
   ]
  },
  {
   "cell_type": "code",
   "execution_count": 610,
   "metadata": {},
   "outputs": [
    {
     "name": "stdout",
     "output_type": "stream",
     "text": [
      "Column Name: 'Age', Type: int64\n",
      "0\n"
     ]
    }
   ],
   "source": [
    "# so from these range counts we see that we don't have too young or too old people, and majority are adults between 20 and 80. there is no data inconsistency. \n",
    "\n",
    "# lets lastly convert all the data to numeric and see how many are null\n",
    "df = api_to_int(df, 'Age')\n",
    "\n",
    "print(df['Age'].isnull().sum())"
   ]
  },
  {
   "cell_type": "markdown",
   "metadata": {},
   "source": [
    "### <span style=\"background-color: orange\"> API WORK </span>\n",
    "- create a function `limit_checker()` that drops all rows of a numeric column that are less than a certain threshold"
   ]
  },
  {
   "cell_type": "code",
   "execution_count": 611,
   "metadata": {},
   "outputs": [],
   "source": [
    "def api_limit_checker(df, lower_limit, upper_limit, column_name):\n",
    "    if upper_limit is None:\n",
    "        invalid_mask = (df[column_name] < lower_limit)\n",
    "    else:\n",
    "        invalid_mask = (df[column_name] < lower_limit) | (df[column_name] > upper_limit)\n",
    "    invalid = invalid_mask.sum()\n",
    "    print(f\"Number of invalid (<{lower_limit} or >{upper_limit}):{invalid}\")\n",
    "    \n",
    "    if invalid > 0:\n",
    "        # Drop invalid rows and keep the rest\n",
    "        df_filtered = df[~invalid_mask].copy()  # ~ means logical NOT\n",
    "        dropped_count = len(df) - len(df_filtered)\n",
    "        \n",
    "        print(f\"Dropped {dropped_count} rows.\")\n",
    "        return df_filtered\n",
    "    else:\n",
    "        print(\"No rows to drop.\")\n",
    "        return df.copy()"
   ]
  },
  {
   "cell_type": "markdown",
   "metadata": {},
   "source": [
    "### Analyzing Gender Column\n",
    "- here we first need to make everyone lowercase and remove trailing spaces because 'male', 'Male', 'Male ', ' Male' all are same\n",
    "- then we can convert to M F to make it more readable and less data storage\n",
    "- then we can find the empty spaces that don't have a gender. these will be dealt later in task 4\n",
    "- then we convert the column to string"
   ]
  },
  {
   "cell_type": "code",
   "execution_count": 612,
   "metadata": {},
   "outputs": [
    {
     "name": "stdout",
     "output_type": "stream",
     "text": [
      "Gender Counts:\n",
      " Gender\n",
      "Female    5093\n",
      "Male      4948\n",
      "Name: count, dtype: int64\n"
     ]
    }
   ],
   "source": [
    "# now lets all see the count of all of the males and females\n",
    "gender_counts = df['Gender'].value_counts()\n",
    "print(\"Gender Counts:\\n\", gender_counts)"
   ]
  },
  {
   "cell_type": "code",
   "execution_count": 613,
   "metadata": {},
   "outputs": [
    {
     "name": "stdout",
     "output_type": "stream",
     "text": [
      "Gender Counts:\n",
      " Gender\n",
      "F    5093\n",
      "M    4948\n",
      "Name: count, dtype: int64\n"
     ]
    }
   ],
   "source": [
    "# convert genders to lowercase\n",
    "df['Gender'] = df['Gender'].str.lower()\n",
    "\n",
    "# now lets convert all 'Male' to M and 'Female' to F\n",
    "df['Gender'] = df['Gender'].replace({'male': 'M', 'female': 'F'})\n",
    "\n",
    "# now lets all see the count of all of the males and females\n",
    "gender_counts = df['Gender'].value_counts()\n",
    "print(\"Gender Counts:\\n\", gender_counts)"
   ]
  },
  {
   "cell_type": "code",
   "execution_count": 614,
   "metadata": {},
   "outputs": [
    {
     "name": "stdout",
     "output_type": "stream",
     "text": [
      "Column Name: 'Gender', Type: string\n"
     ]
    }
   ],
   "source": [
    "# so theres not much of a difference between males and females.\n",
    "\n",
    "# lets convert the column to gender\n",
    "df = api_to_string(df, 'Gender')"
   ]
  },
  {
   "cell_type": "markdown",
   "metadata": {},
   "source": [
    "### Analyzing Blood Type Column\n",
    "- so according to the internet there are 8 blood types, there are many more but they are very unquie and rare.\n",
    "- we can first extract the unique blood types and their count. if there are some blood types which EXIST and only occur RARELY then we can keep them but if there are blood types which DONT EXIST then we can remove all those rows.\n",
    "- we can also capitalize all of them first to make it more easier\n",
    "- also convert column to string"
   ]
  },
  {
   "cell_type": "code",
   "execution_count": 615,
   "metadata": {},
   "outputs": [
    {
     "name": "stdout",
     "output_type": "stream",
     "text": [
      "Column Name: 'Blood Type', Type: string\n"
     ]
    }
   ],
   "source": [
    "# Convert to 'string' dtype (pandas 1.0+)\n",
    "df = api_to_string(df, 'Blood Type')"
   ]
  },
  {
   "cell_type": "code",
   "execution_count": 616,
   "metadata": {},
   "outputs": [
    {
     "name": "stdout",
     "output_type": "stream",
     "text": [
      "Unique Blood Types: <StringArray>\n",
      "['O-', 'O+', 'B-', 'AB+', 'A+', 'AB-', 'A-', 'B+']\n",
      "Length: 8, dtype: string\n"
     ]
    }
   ],
   "source": [
    "# before beginning the unique extraction, lets make them all capital\n",
    "df['Blood Type'] = df['Blood Type'].str.upper()\n",
    "\n",
    "# lets extract all unique values\n",
    "unique_blood_types = df['Blood Type'].unique()\n",
    "print(\"Unique Blood Types:\", unique_blood_types)"
   ]
  },
  {
   "cell_type": "code",
   "execution_count": 617,
   "metadata": {},
   "outputs": [
    {
     "name": "stdout",
     "output_type": "stream",
     "text": [
      "\n",
      "Blood Type Counts:\n",
      " Blood Type\n",
      "AB-    1279\n",
      "AB+    1261\n",
      "B-     1257\n",
      "O-     1251\n",
      "A-     1251\n",
      "B+     1250\n",
      "O+     1249\n",
      "A+     1244\n",
      "Name: count, dtype: Int64\n"
     ]
    }
   ],
   "source": [
    "# so these are the 8 blood types in the world. but lets just find their counts to see if any of them are rare?\n",
    "blood_type_counts = df['Blood Type'].value_counts()\n",
    "print(\"\\nBlood Type Counts:\\n\", blood_type_counts)"
   ]
  },
  {
   "cell_type": "code",
   "execution_count": 618,
   "metadata": {},
   "outputs": [],
   "source": [
    "# so all the blood types are fine. we dont have to remove any."
   ]
  },
  {
   "cell_type": "markdown",
   "metadata": {},
   "source": [
    "### Analyzing Medical Condition Column\n",
    "- same as blood type, lets first extract the unique columns and analyse their counts. \n",
    "- here we wont convert the entire thing to lower/upper, we will convert while counting but not fix it\n",
    "- also convert to string"
   ]
  },
  {
   "cell_type": "code",
   "execution_count": 619,
   "metadata": {},
   "outputs": [
    {
     "name": "stdout",
     "output_type": "stream",
     "text": [
      "Column Name: 'Medical Condition', Type: string\n"
     ]
    }
   ],
   "source": [
    "# Convert to 'string' dtype (pandas 1.0+)\n",
    "df = api_to_string(df, 'Medical Condition')"
   ]
  },
  {
   "cell_type": "code",
   "execution_count": 620,
   "metadata": {},
   "outputs": [
    {
     "name": "stdout",
     "output_type": "stream",
     "text": [
      "Unique Medical Conditions: <StringArray>\n",
      "[     'diabetes',        'asthma',       'obesity',     'arthritis',\n",
      "  'hypertension',        'cancer', 'hypertensions']\n",
      "Length: 7, dtype: string\n"
     ]
    }
   ],
   "source": [
    "# lets see how many medical conditions we have\n",
    "unique_medical_conditions = df['Medical Condition'].str.lower().unique()\n",
    "print(\"Unique Medical Conditions:\", unique_medical_conditions)"
   ]
  },
  {
   "cell_type": "code",
   "execution_count": 621,
   "metadata": {},
   "outputs": [
    {
     "name": "stdout",
     "output_type": "stream",
     "text": [
      "\n",
      "Medical Condition Counts:\n",
      " Medical Condition\n",
      "Asthma           1717\n",
      "Cancer           1710\n",
      "Hypertension     1697\n",
      "Arthritis        1655\n",
      "Obesity          1634\n",
      "Diabetes         1628\n",
      "Hypertensions       1\n",
      "Name: count, dtype: Int64\n"
     ]
    }
   ],
   "source": [
    "# oh so we see that hypertension is repeated with one difference. lets first find the counts to see how many are repeated differently\n",
    "medical_conditions_counts = df['Medical Condition'].value_counts()\n",
    "print(\"\\nMedical Condition Counts:\\n\", medical_conditions_counts)"
   ]
  },
  {
   "cell_type": "code",
   "execution_count": 622,
   "metadata": {},
   "outputs": [
    {
     "name": "stdout",
     "output_type": "stream",
     "text": [
      "\n",
      "Medical Condition Counts:\n",
      " Medical Condition\n",
      "Asthma          1717\n",
      "Cancer          1710\n",
      "Hypertension    1698\n",
      "Arthritis       1655\n",
      "Obesity         1634\n",
      "Diabetes        1628\n",
      "Name: count, dtype: Int64\n"
     ]
    }
   ],
   "source": [
    "# so we can clearly see that 'Hypertensions' is a simple mistake made in data entry. lets convert that single one to 'Hypertension'\n",
    "df['Medical Condition'] = df['Medical Condition'].replace('Hypertensions', 'Hypertension')\n",
    "# now instead of printing the df again, lets re-calculate the count of conditions and analyze that\n",
    "medical_conditions_counts = df['Medical Condition'].value_counts()\n",
    "print(\"\\nMedical Condition Counts:\\n\", medical_conditions_counts)"
   ]
  },
  {
   "cell_type": "markdown",
   "metadata": {},
   "source": [
    "### Analyzing Date of Admission Column\n",
    "- lets first try a unique() and see it, it will give us the count of unique values in the column.\n",
    "- then lets convert all to date_time format"
   ]
  },
  {
   "cell_type": "code",
   "execution_count": 623,
   "metadata": {},
   "outputs": [
    {
     "name": "stdout",
     "output_type": "stream",
     "text": [
      "\n",
      "unique_admission_date Counts:\n",
      " Date of Admission\n",
      "12/04/2019    15\n",
      "27/04/2022    15\n",
      "27/03/2023    14\n",
      "04/06/2022    14\n",
      "21/08/2022    14\n",
      "              ..\n",
      "03/10/2021     1\n",
      "18/12/2021     1\n",
      "14/11/2019     1\n",
      "05/03/2021     1\n",
      "13/11/2020     1\n",
      "Name: count, Length: 1815, dtype: int64\n"
     ]
    }
   ],
   "source": [
    "unique_admission_date = df['Date of Admission'].value_counts()\n",
    "print(\"\\nunique_admission_date Counts:\\n\", unique_admission_date)"
   ]
  },
  {
   "cell_type": "code",
   "execution_count": 624,
   "metadata": {},
   "outputs": [
    {
     "data": {
      "text/plain": [
       "0       2022-11-17\n",
       "1       2023-06-01\n",
       "2       2019-01-09\n",
       "3       2020-05-02\n",
       "4       2021-07-09\n",
       "           ...    \n",
       "10037   2021-06-08\n",
       "10038   2020-09-07\n",
       "10039   2019-02-15\n",
       "10040   2023-07-07\n",
       "10041   2020-02-26\n",
       "Name: Date of Admission, Length: 10042, dtype: datetime64[ns]"
      ]
     },
     "execution_count": 624,
     "metadata": {},
     "output_type": "execute_result"
    }
   ],
   "source": [
    "# okay so reading all 1800 values is a hassle, lets just convert to date and time format\n",
    "df['Date of Admission'] = pd.to_datetime(df['Date of Admission'], errors='coerce', dayfirst=True)\n",
    "df['Date of Admission']"
   ]
  },
  {
   "cell_type": "code",
   "execution_count": 625,
   "metadata": {},
   "outputs": [
    {
     "name": "stdout",
     "output_type": "stream",
     "text": [
      "0\n"
     ]
    }
   ],
   "source": [
    "# after printing we can see its converted. lets also see how many are null.\n",
    "print(df['Date of Admission'].isna().sum())"
   ]
  },
  {
   "cell_type": "markdown",
   "metadata": {},
   "source": [
    "### <span style=\"background-color: orange\"> API WORK </span>\n",
    "- create a function `to_date_time()` which converts a columns datatype to date_time"
   ]
  },
  {
   "cell_type": "code",
   "execution_count": 626,
   "metadata": {},
   "outputs": [],
   "source": [
    "def api_to_date_time(df, column_name):\n",
    "    df[column_name] = pd.to_datetime(df[column_name], errors='coerce', dayfirst=True)\n",
    "    df[column_name]\n",
    "    print(f\"Column Name: '{column_name}', Type: {df[column_name].dtype}\")\n",
    "    return df  "
   ]
  },
  {
   "cell_type": "markdown",
   "metadata": {},
   "source": [
    "### Analyzing Doctor Column\n",
    "- convert to string\n",
    "- extract unique doctor names, and count of each name\n",
    "- drop all rows with names less than length 1 (i.e., empty strings, or single letter names)"
   ]
  },
  {
   "cell_type": "code",
   "execution_count": 627,
   "metadata": {},
   "outputs": [
    {
     "name": "stdout",
     "output_type": "stream",
     "text": [
      "Column Name: 'Doctor', Type: string\n"
     ]
    }
   ],
   "source": [
    "# Convert to 'string' dtype (pandas 1.0+)\n",
    "df = api_to_string(df, 'Doctor')"
   ]
  },
  {
   "cell_type": "code",
   "execution_count": 628,
   "metadata": {},
   "outputs": [
    {
     "name": "stdout",
     "output_type": "stream",
     "text": [
      "\n",
      " unique_doctor Counts:\n",
      " Doctor\n",
      "Michael Johnson      7\n",
      "Michelle Anderson    5\n",
      "James Williams       5\n",
      "Jennifer Smith       5\n",
      "James Perez          5\n",
      "                    ..\n",
      "Tyler Ellis          1\n",
      "Martin Wu            1\n",
      "Jennifer Campbell    1\n",
      "Jennifer Huff        1\n",
      "Tasha Avila          1\n",
      "Name: count, Length: 9416, dtype: Int64\n"
     ]
    }
   ],
   "source": [
    "unique_doctor = df['Doctor'].value_counts()\n",
    "print(\"\\n unique_doctor Counts:\\n\", unique_doctor)"
   ]
  },
  {
   "cell_type": "code",
   "execution_count": 629,
   "metadata": {},
   "outputs": [
    {
     "name": "stdout",
     "output_type": "stream",
     "text": [
      "Total rows before dropping: 10042\n",
      "Rows dropped ('Doctor' ≤1 char): 0\n",
      "Remaining rows: 10042\n"
     ]
    }
   ],
   "source": [
    "df = api_remove_small_size_names(df, 'Doctor')"
   ]
  },
  {
   "cell_type": "markdown",
   "metadata": {},
   "source": [
    "### Analyzing Hospital Column\n",
    "- convert to string\n",
    "- extract unique hospital names and count of each name\n",
    "- drop all hospital names that have less than one length and are not empty"
   ]
  },
  {
   "cell_type": "code",
   "execution_count": 630,
   "metadata": {},
   "outputs": [
    {
     "name": "stdout",
     "output_type": "stream",
     "text": [
      "string\n"
     ]
    }
   ],
   "source": [
    "# Convert to 'string' dtype (pandas 1.0+)\n",
    "df['Hospital'] = df['Hospital'].astype('string')\n",
    "print(df['Hospital'].dtype)  "
   ]
  },
  {
   "cell_type": "code",
   "execution_count": 631,
   "metadata": {},
   "outputs": [
    {
     "name": "stdout",
     "output_type": "stream",
     "text": [
      "\n",
      " unique_hospital Counts:\n",
      " Hospital\n",
      "Smith PLC                    19\n",
      "Smith and Sons               17\n",
      "Smith Ltd                    14\n",
      "Smith Inc                    14\n",
      "Johnson PLC                  13\n",
      "                             ..\n",
      "Trevino-Johnson               1\n",
      "Graham-Mcguire                1\n",
      "Miller, Chavez and Dalton     1\n",
      "Nelson-Jones                  1\n",
      "Torres, Young and Stewart     1\n",
      "Name: count, Length: 8639, dtype: Int64\n"
     ]
    }
   ],
   "source": [
    "unique_hospital = df['Hospital'].value_counts()\n",
    "print(\"\\n unique_hospital Counts:\\n\", unique_hospital)"
   ]
  },
  {
   "cell_type": "code",
   "execution_count": 632,
   "metadata": {},
   "outputs": [
    {
     "name": "stdout",
     "output_type": "stream",
     "text": [
      "Total rows before dropping: 10042\n",
      "Rows dropped ('Hospital' ≤1 char): 0\n",
      "Remaining rows: 10042\n"
     ]
    }
   ],
   "source": [
    "# im not really sure what to clean here, i can run the reject all length lesser than 1 names, but i dont think there shall be such a case\n",
    "df = api_remove_small_size_names(df, 'Hospital')"
   ]
  },
  {
   "cell_type": "markdown",
   "metadata": {},
   "source": [
    "### Analyzing Insurance Provider Column\n",
    "- convert to string\n",
    "- fix any miss spellings"
   ]
  },
  {
   "cell_type": "code",
   "execution_count": 633,
   "metadata": {},
   "outputs": [
    {
     "name": "stdout",
     "output_type": "stream",
     "text": [
      "Column Name: 'Insurance Provider', Type: string\n"
     ]
    }
   ],
   "source": [
    "df = api_to_string(df, 'Insurance Provider')"
   ]
  },
  {
   "cell_type": "code",
   "execution_count": 634,
   "metadata": {},
   "outputs": [
    {
     "name": "stdout",
     "output_type": "stream",
     "text": [
      "\n",
      " unique Counts:\n",
      " Insurance Provider\n",
      "Cigna               2048\n",
      "Blue Cross          2036\n",
      "Aetna               2035\n",
      "UnitedHealthcare    1984\n",
      "Medicare            1937\n",
      "Blue Crosser           1\n",
      "Blue Crossss           1\n",
      "Name: count, dtype: Int64\n"
     ]
    }
   ],
   "source": [
    "unique = df['Insurance Provider'].value_counts()\n",
    "print(\"\\n unique Counts:\\n\", unique)"
   ]
  },
  {
   "cell_type": "code",
   "execution_count": 635,
   "metadata": {},
   "outputs": [
    {
     "name": "stdout",
     "output_type": "stream",
     "text": [
      "\n",
      " unique Counts:\n",
      " Insurance Provider\n",
      "Cigna               2048\n",
      "Blue Cross          2038\n",
      "Aetna               2035\n",
      "UnitedHealthcare    1984\n",
      "Medicare            1937\n",
      "Name: count, dtype: Int64\n"
     ]
    }
   ],
   "source": [
    "df['Insurance Provider'] = df['Insurance Provider'].replace('Blue Crosser', 'Blue Cross')\n",
    "df['Insurance Provider'] = df['Insurance Provider'].replace('Blue Crossss', 'Blue Cross')\n",
    "\n",
    "unique = df['Insurance Provider'].value_counts()\n",
    "print(\"\\n unique Counts:\\n\", unique)"
   ]
  },
  {
   "cell_type": "markdown",
   "metadata": {},
   "source": [
    "### Analyzing Billing Amount Column\n",
    "- already in correct type\n",
    "- check if any of the values are out of bound"
   ]
  },
  {
   "cell_type": "code",
   "execution_count": 636,
   "metadata": {},
   "outputs": [
    {
     "name": "stdout",
     "output_type": "stream",
     "text": [
      "Number of invalid (<0 or >None):0\n",
      "No rows to drop.\n"
     ]
    }
   ],
   "source": [
    "df = api_limit_checker(df, 0, None, 'Billing Amount')"
   ]
  },
  {
   "cell_type": "markdown",
   "metadata": {},
   "source": [
    "### Analyzing Tax Amount Column\n",
    "- compute the average tax percentage\n",
    "- remove all rows that are not having the average tax percentage"
   ]
  },
  {
   "cell_type": "code",
   "execution_count": 637,
   "metadata": {},
   "outputs": [
    {
     "name": "stdout",
     "output_type": "stream",
     "text": [
      "Rows dropped: 0\n",
      "Average Tax Percentage: 15.00%\n"
     ]
    }
   ],
   "source": [
    "# Calculate tax percentages (only where tax is not empty)\n",
    "tax_percentages = []\n",
    "rows_to_drop = [] # these rows we will drop if they are too different from the tax %\n",
    "\n",
    "for index, row in df.iterrows():\n",
    "    # Skip if TaxAmount is NaN or Billing Amount is zero/NaN\n",
    "    if not pd.isna(row['TaxAmount']) and not pd.isna(row['Billing Amount']) and row['Billing Amount'] != 0:\n",
    "        tax_percent = (row['TaxAmount'] / row['Billing Amount']) * 100\n",
    "        if not (14 <= tax_percent <= 16):\n",
    "            rows_to_drop.append(index)\n",
    "        tax_percentages.append(tax_percent)\n",
    "\n",
    "# Compute average tax percentage\n",
    "average_tax_percent = np.mean(tax_percentages) if tax_percentages else 0\n",
    "\n",
    "df = df.drop(rows_to_drop)\n",
    "print(f\"Rows dropped: {len(rows_to_drop)}\")\n",
    "\n",
    "print(f\"Average Tax Percentage: {average_tax_percent:.2f}%\")"
   ]
  },
  {
   "cell_type": "code",
   "execution_count": 638,
   "metadata": {},
   "outputs": [],
   "source": [
    "# so here in the previous code we first iterated over the values, computed the average tax % and dropped all the incorrect values."
   ]
  },
  {
   "cell_type": "markdown",
   "metadata": {},
   "source": [
    "### Analyzing Room Number Column\n",
    "- check if the column can be converted to integer, else keep at float\n",
    "- get all unique values and check"
   ]
  },
  {
   "cell_type": "code",
   "execution_count": 639,
   "metadata": {},
   "outputs": [
    {
     "name": "stdout",
     "output_type": "stream",
     "text": [
      "Column Name: 'Room Number', Type: float64\n"
     ]
    }
   ],
   "source": [
    "df = api_to_float(df, 'Room Number')"
   ]
  },
  {
   "cell_type": "code",
   "execution_count": 640,
   "metadata": {},
   "outputs": [
    {
     "name": "stdout",
     "output_type": "stream",
     "text": [
      "\n",
      " unique Counts:\n",
      " Room Number\n",
      "358.0    44\n",
      "230.0    40\n",
      "257.0    38\n",
      "469.0    37\n",
      "195.0    36\n",
      "         ..\n",
      "160.0    14\n",
      "306.0    14\n",
      "321.0    14\n",
      "373.0    14\n",
      "352.0    10\n",
      "Name: count, Length: 400, dtype: int64\n"
     ]
    }
   ],
   "source": [
    "unique = df['Room Number'].value_counts()\n",
    "print(\"\\n unique Counts:\\n\", unique)"
   ]
  },
  {
   "cell_type": "markdown",
   "metadata": {},
   "source": [
    "### Analyzing Admission Type Column\n",
    "- convert to string\n",
    "- extract all unique values and fix incorrect ones"
   ]
  },
  {
   "cell_type": "code",
   "execution_count": 641,
   "metadata": {},
   "outputs": [
    {
     "name": "stdout",
     "output_type": "stream",
     "text": [
      "Column Name: 'Admission Type', Type: string\n"
     ]
    }
   ],
   "source": [
    "df = api_to_string(df, 'Admission Type')"
   ]
  },
  {
   "cell_type": "code",
   "execution_count": 642,
   "metadata": {},
   "outputs": [
    {
     "name": "stdout",
     "output_type": "stream",
     "text": [
      "\n",
      " unique Counts:\n",
      " Admission Type\n",
      "Urgent        3408\n",
      "Emergency     3377\n",
      "Elective      3253\n",
      "ELECTIvess       2\n",
      "Electivess       1\n",
      "Emergecn.        1\n",
      "Name: count, dtype: Int64\n"
     ]
    }
   ],
   "source": [
    "unique = df['Admission Type'].value_counts()\n",
    "print(\"\\n unique Counts:\\n\", unique)"
   ]
  },
  {
   "cell_type": "code",
   "execution_count": 643,
   "metadata": {},
   "outputs": [
    {
     "name": "stdout",
     "output_type": "stream",
     "text": [
      "\n",
      " unique Counts:\n",
      " Admission Type\n",
      "Urgent       3408\n",
      "Emergency    3378\n",
      "Elective     3256\n",
      "Name: count, dtype: Int64\n"
     ]
    }
   ],
   "source": [
    "df['Admission Type'] = df['Admission Type'].replace('ELECTIvess', 'Elective')\n",
    "df['Admission Type'] = df['Admission Type'].replace('Electivess', 'Elective')\n",
    "df['Admission Type'] = df['Admission Type'].replace('Emergecn.', 'Emergency')\n",
    "\n",
    "unique = df['Admission Type'].value_counts()\n",
    "print(\"\\n unique Counts:\\n\", unique)"
   ]
  },
  {
   "cell_type": "markdown",
   "metadata": {},
   "source": [
    "### Analyzing Discharge Date Column\n",
    "- convert to date, time format"
   ]
  },
  {
   "cell_type": "code",
   "execution_count": 644,
   "metadata": {},
   "outputs": [
    {
     "name": "stdout",
     "output_type": "stream",
     "text": [
      "Column Name: 'Discharge Date', Type: datetime64[ns]\n"
     ]
    }
   ],
   "source": [
    "# lets just convert to date and time format\n",
    "df = api_to_date_time(df, 'Discharge Date')"
   ]
  },
  {
   "cell_type": "markdown",
   "metadata": {},
   "source": [
    "### Analyzing Medication Column\n",
    "- cpnvert to string\n",
    "- analyse strings to find any misspelled"
   ]
  },
  {
   "cell_type": "code",
   "execution_count": 645,
   "metadata": {},
   "outputs": [
    {
     "name": "stdout",
     "output_type": "stream",
     "text": [
      "Column Name: 'Medication', Type: string\n"
     ]
    }
   ],
   "source": [
    "df = api_to_string(df, 'Medication')"
   ]
  },
  {
   "cell_type": "code",
   "execution_count": 646,
   "metadata": {},
   "outputs": [
    {
     "name": "stdout",
     "output_type": "stream",
     "text": [
      "\n",
      " unique Counts:\n",
      " Medication\n",
      "Penicillin     2090\n",
      "Lipitor        2025\n",
      "Ibuprofen      1980\n",
      "Aspirin        1978\n",
      "Paracetamol    1968\n",
      "Name: count, dtype: Int64\n"
     ]
    }
   ],
   "source": [
    "unique = df['Medication'].value_counts()\n",
    "print(\"\\n unique Counts:\\n\", unique)"
   ]
  },
  {
   "cell_type": "markdown",
   "metadata": {},
   "source": [
    "### Analyzing Test Results Column\n",
    "- convert to string\n",
    "- fix any misspells"
   ]
  },
  {
   "cell_type": "code",
   "execution_count": 647,
   "metadata": {},
   "outputs": [
    {
     "name": "stdout",
     "output_type": "stream",
     "text": [
      "Column Name: 'Test Results', Type: string\n"
     ]
    }
   ],
   "source": [
    "df = api_to_string(df, 'Test Results')"
   ]
  },
  {
   "cell_type": "code",
   "execution_count": 648,
   "metadata": {},
   "outputs": [
    {
     "name": "stdout",
     "output_type": "stream",
     "text": [
      "\n",
      " unique Counts:\n",
      " Test Results\n",
      "Abnormal           3468\n",
      "Inconclusive       3289\n",
      "Normal             3280\n",
      "Normalll              3\n",
      "Abnormall             1\n",
      "Inconclusiveity       1\n",
      "Name: count, dtype: Int64\n"
     ]
    }
   ],
   "source": [
    "unique = df['Test Results'].value_counts()\n",
    "print(\"\\n unique Counts:\\n\", unique)"
   ]
  },
  {
   "cell_type": "code",
   "execution_count": 649,
   "metadata": {},
   "outputs": [
    {
     "name": "stdout",
     "output_type": "stream",
     "text": [
      "\n",
      " unique Counts:\n",
      " Test Results\n",
      "Abnormal        3469\n",
      "Inconclusive    3290\n",
      "Normal          3283\n",
      "Name: count, dtype: Int64\n"
     ]
    }
   ],
   "source": [
    "df['Test Results'] = df['Test Results'].replace('Normalll', 'Normal')\n",
    "df['Test Results'] = df['Test Results'].replace('Abnormall', 'Abnormal')\n",
    "df['Test Results'] = df['Test Results'].replace('Inconclusiveity', 'Inconclusive')\n",
    "\n",
    "unique = df['Test Results'].value_counts()\n",
    "print(\"\\n unique Counts:\\n\", unique)"
   ]
  },
  {
   "cell_type": "markdown",
   "metadata": {},
   "source": [
    "### Recheck\n",
    "now lets see the dataset after all columns have been cleaned"
   ]
  },
  {
   "cell_type": "code",
   "execution_count": 650,
   "metadata": {},
   "outputs": [
    {
     "name": "stdout",
     "output_type": "stream",
     "text": [
      "<class 'pandas.core.frame.DataFrame'>\n",
      "RangeIndex: 10042 entries, 0 to 10041\n",
      "Data columns (total 16 columns):\n",
      " #   Column              Non-Null Count  Dtype         \n",
      "---  ------              --------------  -----         \n",
      " 0   Name                10042 non-null  string        \n",
      " 1   Age                 10042 non-null  int64         \n",
      " 2   Gender              10041 non-null  string        \n",
      " 3   Blood Type          10042 non-null  string        \n",
      " 4   Medical Condition   10042 non-null  string        \n",
      " 5   Date of Admission   10042 non-null  datetime64[ns]\n",
      " 6   Doctor              10042 non-null  string        \n",
      " 7   Hospital            10042 non-null  string        \n",
      " 8   Insurance Provider  10042 non-null  string        \n",
      " 9   Billing Amount      10041 non-null  float64       \n",
      " 10  TaxAmount           7873 non-null   float64       \n",
      " 11  Room Number         10038 non-null  float64       \n",
      " 12  Admission Type      10042 non-null  string        \n",
      " 13  Discharge Date      10042 non-null  datetime64[ns]\n",
      " 14  Medication          10041 non-null  string        \n",
      " 15  Test Results        10042 non-null  string        \n",
      "dtypes: datetime64[ns](2), float64(3), int64(1), string(10)\n",
      "memory usage: 1.2 MB\n"
     ]
    }
   ],
   "source": [
    "df.info()"
   ]
  },
  {
   "cell_type": "markdown",
   "metadata": {},
   "source": [
    "### <span style=\"background-color: yellow\"> Task 4 </span>\n",
    "- a. Develop a strategy to handle missing values for each column separately.\n",
    "- b. Write down your strategy in the notebook before you execute it.\n",
    "- c. Ensure to make use of missingno library for missing value type identification and strategy building.\n",
    "- d. Write down the interpretation of your results in your notebook as much as is possible. This should be brief, e.g., one sentence to describe a visual output, or 2-3 sentences summarizing a sequence of results etc.\n",
    "- e. Majority marks are for this interpretation and for the strategy (not for Python code)"
   ]
  },
  {
   "cell_type": "code",
   "execution_count": 651,
   "metadata": {},
   "outputs": [
    {
     "data": {
      "text/plain": [
       "Name                     0\n",
       "Age                      0\n",
       "Gender                   1\n",
       "Blood Type               0\n",
       "Medical Condition        0\n",
       "Date of Admission        0\n",
       "Doctor                   0\n",
       "Hospital                 0\n",
       "Insurance Provider       0\n",
       "Billing Amount           1\n",
       "TaxAmount             2169\n",
       "Room Number              4\n",
       "Admission Type           0\n",
       "Discharge Date           0\n",
       "Medication               1\n",
       "Test Results             0\n",
       "dtype: int64"
      ]
     },
     "execution_count": 651,
     "metadata": {},
     "output_type": "execute_result"
    }
   ],
   "source": [
    "df.isnull().sum()"
   ]
  },
  {
   "cell_type": "markdown",
   "metadata": {},
   "source": [
    "### Graphing\n",
    "here lets do some statistical testing to see the attributes"
   ]
  },
  {
   "cell_type": "code",
   "execution_count": 652,
   "metadata": {},
   "outputs": [
    {
     "data": {
      "image/png": "[encoded data removed]",
      "text/plain": [
       "<Figure size 2500x1000 with 2 Axes>"
      ]
     },
     "metadata": {},
     "output_type": "display_data"
    },
    {
     "data": {
      "image/png": "[encoded data removed]",
      "text/plain": [
       "<Figure size 2500x1000 with 3 Axes>"
      ]
     },
     "metadata": {},
     "output_type": "display_data"
    }
   ],
   "source": [
    "# Visualize missing data with missingno\n",
    "msno.matrix(df)\n",
    "plt.show()\n",
    "\n",
    "msno.bar(df)\n",
    "plt.show()"
   ]
  },
  {
   "cell_type": "code",
   "execution_count": 653,
   "metadata": {},
   "outputs": [
    {
     "data": {
      "text/plain": [
       "(10042, 16)"
      ]
     },
     "execution_count": 653,
     "metadata": {},
     "output_type": "execute_result"
    }
   ],
   "source": [
    "df.shape"
   ]
  },
  {
   "cell_type": "code",
   "execution_count": 654,
   "metadata": {},
   "outputs": [
    {
     "data": {
      "text/plain": [
       "<Axes: >"
      ]
     },
     "execution_count": 654,
     "metadata": {},
     "output_type": "execute_result"
    },
    {
     "data": {
      "image/png": "[encoded data removed]",
      "text/plain": [
       "<Figure size 1000x600 with 2 Axes>"
      ]
     },
     "metadata": {},
     "output_type": "display_data"
    }
   ],
   "source": [
    "msno.heatmap(df, figsize=(10,6))"
   ]
  },
  {
   "cell_type": "code",
   "execution_count": 655,
   "metadata": {},
   "outputs": [
    {
     "data": {
      "text/plain": [
       "<Axes: >"
      ]
     },
     "execution_count": 655,
     "metadata": {},
     "output_type": "execute_result"
    },
    {
     "data": {
      "image/png": "[encoded data removed]",
      "text/plain": [
       "<Figure size 2500x1000 with 1 Axes>"
      ]
     },
     "metadata": {},
     "output_type": "display_data"
    }
   ],
   "source": [
    "msno.dendrogram(df)"
   ]
  },
  {
   "cell_type": "markdown",
   "metadata": {},
   "source": [
    "### Gender\n",
    "- because its a single case, just display the name of the missing gender row and manually update the gender"
   ]
  },
  {
   "cell_type": "code",
   "execution_count": 656,
   "metadata": {},
   "outputs": [
    {
     "data": {
      "text/html": [
       "<div>\n",
       "<style scoped>\n",
       "    .dataframe tbody tr th:only-of-type {\n",
       "        vertical-align: middle;\n",
       "    }\n",
       "\n",
       "    .dataframe tbody tr th {\n",
       "        vertical-align: top;\n",
       "    }\n",
       "\n",
       "    .dataframe thead th {\n",
       "        text-align: right;\n",
       "    }\n",
       "</style>\n",
       "<table border=\"1\" class=\"dataframe\">\n",
       "  <thead>\n",
       "    <tr style=\"text-align: right;\">\n",
       "      <th></th>\n",
       "      <th>Name</th>\n",
       "      <th>Age</th>\n",
       "      <th>Gender</th>\n",
       "      <th>Blood Type</th>\n",
       "      <th>Medical Condition</th>\n",
       "      <th>Date of Admission</th>\n",
       "      <th>Doctor</th>\n",
       "      <th>Hospital</th>\n",
       "      <th>Insurance Provider</th>\n",
       "      <th>Billing Amount</th>\n",
       "      <th>TaxAmount</th>\n",
       "      <th>Room Number</th>\n",
       "      <th>Admission Type</th>\n",
       "      <th>Discharge Date</th>\n",
       "      <th>Medication</th>\n",
       "      <th>Test Results</th>\n",
       "    </tr>\n",
       "  </thead>\n",
       "  <tbody>\n",
       "    <tr>\n",
       "      <th>0</th>\n",
       "      <td>Tiffany Ramirez</td>\n",
       "      <td>81</td>\n",
       "      <td>&lt;NA&gt;</td>\n",
       "      <td>O-</td>\n",
       "      <td>Diabetes</td>\n",
       "      <td>2022-11-17</td>\n",
       "      <td>Patrick Parker</td>\n",
       "      <td>Wallace-Hamilton</td>\n",
       "      <td>Medicare</td>\n",
       "      <td>37490.98336</td>\n",
       "      <td>5623.647505</td>\n",
       "      <td>146.0</td>\n",
       "      <td>Elective</td>\n",
       "      <td>2022-12-01</td>\n",
       "      <td>Aspirin</td>\n",
       "      <td>Inconclusive</td>\n",
       "    </tr>\n",
       "  </tbody>\n",
       "</table>\n",
       "</div>"
      ],
      "text/plain": [
       "              Name  Age Gender Blood Type Medical Condition Date of Admission  \\\n",
       "0  Tiffany Ramirez   81   <NA>         O-          Diabetes        2022-11-17   \n",
       "\n",
       "           Doctor          Hospital Insurance Provider  Billing Amount  \\\n",
       "0  Patrick Parker  Wallace-Hamilton           Medicare     37490.98336   \n",
       "\n",
       "     TaxAmount  Room Number Admission Type Discharge Date Medication  \\\n",
       "0  5623.647505        146.0       Elective     2022-12-01    Aspirin   \n",
       "\n",
       "   Test Results  \n",
       "0  Inconclusive  "
      ]
     },
     "execution_count": 656,
     "metadata": {},
     "output_type": "execute_result"
    }
   ],
   "source": [
    "null_gender_rows = df[df['Gender'].isnull()]\n",
    "null_gender_rows"
   ]
  },
  {
   "cell_type": "code",
   "execution_count": 657,
   "metadata": {},
   "outputs": [
    {
     "data": {
      "text/plain": [
       "0"
      ]
     },
     "execution_count": 657,
     "metadata": {},
     "output_type": "execute_result"
    }
   ],
   "source": [
    "gender_missing_index = null_gender_rows.index[0]\n",
    "gender_missing_index"
   ]
  },
  {
   "cell_type": "code",
   "execution_count": 658,
   "metadata": {},
   "outputs": [
    {
     "data": {
      "text/html": [
       "<div>\n",
       "<style scoped>\n",
       "    .dataframe tbody tr th:only-of-type {\n",
       "        vertical-align: middle;\n",
       "    }\n",
       "\n",
       "    .dataframe tbody tr th {\n",
       "        vertical-align: top;\n",
       "    }\n",
       "\n",
       "    .dataframe thead th {\n",
       "        text-align: right;\n",
       "    }\n",
       "</style>\n",
       "<table border=\"1\" class=\"dataframe\">\n",
       "  <thead>\n",
       "    <tr style=\"text-align: right;\">\n",
       "      <th></th>\n",
       "      <th>Name</th>\n",
       "      <th>Age</th>\n",
       "      <th>Gender</th>\n",
       "      <th>Blood Type</th>\n",
       "      <th>Medical Condition</th>\n",
       "      <th>Date of Admission</th>\n",
       "      <th>Doctor</th>\n",
       "      <th>Hospital</th>\n",
       "      <th>Insurance Provider</th>\n",
       "      <th>Billing Amount</th>\n",
       "      <th>TaxAmount</th>\n",
       "      <th>Room Number</th>\n",
       "      <th>Admission Type</th>\n",
       "      <th>Discharge Date</th>\n",
       "      <th>Medication</th>\n",
       "      <th>Test Results</th>\n",
       "    </tr>\n",
       "  </thead>\n",
       "  <tbody>\n",
       "    <tr>\n",
       "      <th>0</th>\n",
       "      <td>Tiffany Ramirez</td>\n",
       "      <td>81</td>\n",
       "      <td>F</td>\n",
       "      <td>O-</td>\n",
       "      <td>Diabetes</td>\n",
       "      <td>2022-11-17</td>\n",
       "      <td>Patrick Parker</td>\n",
       "      <td>Wallace-Hamilton</td>\n",
       "      <td>Medicare</td>\n",
       "      <td>37490.98336</td>\n",
       "      <td>5623.647505</td>\n",
       "      <td>146.0</td>\n",
       "      <td>Elective</td>\n",
       "      <td>2022-12-01</td>\n",
       "      <td>Aspirin</td>\n",
       "      <td>Inconclusive</td>\n",
       "    </tr>\n",
       "  </tbody>\n",
       "</table>\n",
       "</div>"
      ],
      "text/plain": [
       "              Name  Age Gender Blood Type Medical Condition Date of Admission  \\\n",
       "0  Tiffany Ramirez   81      F         O-          Diabetes        2022-11-17   \n",
       "\n",
       "           Doctor          Hospital Insurance Provider  Billing Amount  \\\n",
       "0  Patrick Parker  Wallace-Hamilton           Medicare     37490.98336   \n",
       "\n",
       "     TaxAmount  Room Number Admission Type Discharge Date Medication  \\\n",
       "0  5623.647505        146.0       Elective     2022-12-01    Aspirin   \n",
       "\n",
       "   Test Results  \n",
       "0  Inconclusive  "
      ]
     },
     "execution_count": 658,
     "metadata": {},
     "output_type": "execute_result"
    }
   ],
   "source": [
    "# her name is TIFFANY so a female. lets update it as female\n",
    "df.at[gender_missing_index, 'Gender'] = 'F'\n",
    "df.head(gender_missing_index+1) # display that row"
   ]
  },
  {
   "cell_type": "code",
   "execution_count": 659,
   "metadata": {},
   "outputs": [
    {
     "data": {
      "text/plain": [
       "Name                     0\n",
       "Age                      0\n",
       "Gender                   0\n",
       "Blood Type               0\n",
       "Medical Condition        0\n",
       "Date of Admission        0\n",
       "Doctor                   0\n",
       "Hospital                 0\n",
       "Insurance Provider       0\n",
       "Billing Amount           1\n",
       "TaxAmount             2169\n",
       "Room Number              4\n",
       "Admission Type           0\n",
       "Discharge Date           0\n",
       "Medication               1\n",
       "Test Results             0\n",
       "dtype: int64"
      ]
     },
     "execution_count": 659,
     "metadata": {},
     "output_type": "execute_result"
    }
   ],
   "source": [
    "df.isnull().sum()"
   ]
  },
  {
   "cell_type": "markdown",
   "metadata": {},
   "source": [
    "### Billing Amount\n",
    "- because we dont know the potenial bill for the null case, we drop that row. "
   ]
  },
  {
   "cell_type": "code",
   "execution_count": 660,
   "metadata": {},
   "outputs": [
    {
     "name": "stdout",
     "output_type": "stream",
     "text": [
      "Before: 10042, After: 10041, Dropped: 1\n"
     ]
    }
   ],
   "source": [
    "rows_before = len(df)\n",
    "df = df.dropna(subset=['Billing Amount'])\n",
    "rows_after = len(df)\n",
    "print(f\"Before: {rows_before}, After: {rows_after}, Dropped: {rows_before-rows_after}\")"
   ]
  },
  {
   "cell_type": "code",
   "execution_count": 661,
   "metadata": {},
   "outputs": [
    {
     "data": {
      "text/plain": [
       "Name                     0\n",
       "Age                      0\n",
       "Gender                   0\n",
       "Blood Type               0\n",
       "Medical Condition        0\n",
       "Date of Admission        0\n",
       "Doctor                   0\n",
       "Hospital                 0\n",
       "Insurance Provider       0\n",
       "Billing Amount           0\n",
       "TaxAmount             2169\n",
       "Room Number              4\n",
       "Admission Type           0\n",
       "Discharge Date           0\n",
       "Medication               1\n",
       "Test Results             0\n",
       "dtype: int64"
      ]
     },
     "execution_count": 661,
     "metadata": {},
     "output_type": "execute_result"
    }
   ],
   "source": [
    "df.isnull().sum()"
   ]
  },
  {
   "cell_type": "markdown",
   "metadata": {},
   "source": [
    "### Tax Amount\n",
    "- now use the `average_tax_percentage` we computed above while cleaning and use it to fill all the empty values"
   ]
  },
  {
   "cell_type": "code",
   "execution_count": 662,
   "metadata": {},
   "outputs": [
    {
     "data": {
      "text/plain": [
       "2169"
      ]
     },
     "execution_count": 662,
     "metadata": {},
     "output_type": "execute_result"
    }
   ],
   "source": [
    "count_filled = 0\n",
    "for index, row in df.iterrows():\n",
    "    # Check if TaxAmount is null AND Billing Amount is valid (not null and not zero)\n",
    "    if (pd.isna(row['TaxAmount']) and \n",
    "        not pd.isna(row['Billing Amount']) and \n",
    "        row['Billing Amount'] != 0):\n",
    "        \n",
    "        # Calculate tax using average percentage\n",
    "        calculated_tax = (row['Billing Amount'] * average_tax_percent) / 100\n",
    "        df.at[index, 'TaxAmount'] = calculated_tax\n",
    "        count_filled += 1\n",
    "        \n",
    "count_filled"
   ]
  },
  {
   "cell_type": "code",
   "execution_count": 663,
   "metadata": {},
   "outputs": [
    {
     "data": {
      "text/plain": [
       "Name                  0\n",
       "Age                   0\n",
       "Gender                0\n",
       "Blood Type            0\n",
       "Medical Condition     0\n",
       "Date of Admission     0\n",
       "Doctor                0\n",
       "Hospital              0\n",
       "Insurance Provider    0\n",
       "Billing Amount        0\n",
       "TaxAmount             0\n",
       "Room Number           4\n",
       "Admission Type        0\n",
       "Discharge Date        0\n",
       "Medication            1\n",
       "Test Results          0\n",
       "dtype: int64"
      ]
     },
     "execution_count": 663,
     "metadata": {},
     "output_type": "execute_result"
    }
   ],
   "source": [
    "df.isnull().sum()"
   ]
  },
  {
   "cell_type": "markdown",
   "metadata": {},
   "source": [
    "### Room Number"
   ]
  },
  {
   "cell_type": "code",
   "execution_count": null,
   "metadata": {},
   "outputs": [],
   "source": []
  },
  {
   "cell_type": "markdown",
   "metadata": {},
   "source": [
    "### Medication"
   ]
  },
  {
   "cell_type": "code",
   "execution_count": null,
   "metadata": {},
   "outputs": [],
   "source": []
  }
 ],
 "metadata": {
  "kernelspec": {
   "display_name": "Python 3",
   "language": "python",
   "name": "python3"
  },
  "language_info": {
   "codemirror_mode": {
    "name": "ipython",
    "version": 3
   },
   "file_extension": ".py",
   "mimetype": "text/x-python",
   "name": "python",
   "nbconvert_exporter": "python",
   "pygments_lexer": "ipython3",
   "version": "3.12.9"
  }
 },
 "nbformat": 4,
 "nbformat_minor": 2
}
