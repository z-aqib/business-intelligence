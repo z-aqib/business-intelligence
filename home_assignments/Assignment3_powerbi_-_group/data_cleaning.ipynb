{
 "cells": [
  {
   "cell_type": "markdown",
   "id": "61112791",
   "metadata": {},
   "source": [
    "Name: Zuha Aqib, Kisa Fatima    \n",
    "Class: 10am batch    \n",
    "Date: 4th May 2025    "
   ]
  },
  {
   "cell_type": "markdown",
   "id": "ed899f3b",
   "metadata": {},
   "source": [
    "# Imports"
   ]
  },
  {
   "cell_type": "code",
   "execution_count": 235,
   "id": "6eeb13f0",
   "metadata": {},
   "outputs": [],
   "source": [
    "import pandas as pd\n",
    "import numpy as np\n",
    "import matplotlib.pyplot as plt\n",
    "import seaborn as sns\n",
    "\n",
    "from datetime import datetime, timedelta"
   ]
  },
  {
   "cell_type": "code",
   "execution_count": 236,
   "id": "89100df5",
   "metadata": {},
   "outputs": [],
   "source": [
    "# Function to get current date and time as a string\n",
    "def get_current_datetime():\n",
    "    return datetime.now().strftime(\"%Y-%m-%d %H:%M:%S\")"
   ]
  },
  {
   "cell_type": "markdown",
   "id": "a0eb2801",
   "metadata": {},
   "source": [
    "# Data Loading"
   ]
  },
  {
   "cell_type": "code",
   "execution_count": 237,
   "id": "18a7bd6f",
   "metadata": {},
   "outputs": [
    {
     "data": {
      "text/html": [
       "<div>\n",
       "<style scoped>\n",
       "    .dataframe tbody tr th:only-of-type {\n",
       "        vertical-align: middle;\n",
       "    }\n",
       "\n",
       "    .dataframe tbody tr th {\n",
       "        vertical-align: top;\n",
       "    }\n",
       "\n",
       "    .dataframe thead th {\n",
       "        text-align: right;\n",
       "    }\n",
       "</style>\n",
       "<table border=\"1\" class=\"dataframe\">\n",
       "  <thead>\n",
       "    <tr style=\"text-align: right;\">\n",
       "      <th></th>\n",
       "      <th>StudentID</th>\n",
       "      <th>Age</th>\n",
       "      <th>Gender</th>\n",
       "      <th>Ethnicity</th>\n",
       "      <th>ParentalEducation</th>\n",
       "      <th>StudyTimeWeekly</th>\n",
       "      <th>Absences</th>\n",
       "      <th>Tutoring</th>\n",
       "      <th>ParentalSupport</th>\n",
       "      <th>Extracurricular</th>\n",
       "      <th>Sports</th>\n",
       "      <th>Music</th>\n",
       "      <th>Volunteering</th>\n",
       "      <th>GPA</th>\n",
       "      <th>GradeClass</th>\n",
       "    </tr>\n",
       "  </thead>\n",
       "  <tbody>\n",
       "    <tr>\n",
       "      <th>0</th>\n",
       "      <td>1001</td>\n",
       "      <td>17</td>\n",
       "      <td>1</td>\n",
       "      <td>0</td>\n",
       "      <td>2</td>\n",
       "      <td>19.833723</td>\n",
       "      <td>7</td>\n",
       "      <td>1</td>\n",
       "      <td>2</td>\n",
       "      <td>0</td>\n",
       "      <td>0</td>\n",
       "      <td>1</td>\n",
       "      <td>0</td>\n",
       "      <td>2.929196</td>\n",
       "      <td>2.0</td>\n",
       "    </tr>\n",
       "    <tr>\n",
       "      <th>1</th>\n",
       "      <td>1002</td>\n",
       "      <td>18</td>\n",
       "      <td>0</td>\n",
       "      <td>0</td>\n",
       "      <td>1</td>\n",
       "      <td>15.408756</td>\n",
       "      <td>0</td>\n",
       "      <td>0</td>\n",
       "      <td>1</td>\n",
       "      <td>0</td>\n",
       "      <td>0</td>\n",
       "      <td>0</td>\n",
       "      <td>0</td>\n",
       "      <td>3.042915</td>\n",
       "      <td>1.0</td>\n",
       "    </tr>\n",
       "    <tr>\n",
       "      <th>2</th>\n",
       "      <td>1003</td>\n",
       "      <td>15</td>\n",
       "      <td>0</td>\n",
       "      <td>2</td>\n",
       "      <td>3</td>\n",
       "      <td>4.210570</td>\n",
       "      <td>26</td>\n",
       "      <td>0</td>\n",
       "      <td>2</td>\n",
       "      <td>0</td>\n",
       "      <td>0</td>\n",
       "      <td>0</td>\n",
       "      <td>0</td>\n",
       "      <td>0.112602</td>\n",
       "      <td>4.0</td>\n",
       "    </tr>\n",
       "    <tr>\n",
       "      <th>3</th>\n",
       "      <td>1004</td>\n",
       "      <td>17</td>\n",
       "      <td>1</td>\n",
       "      <td>0</td>\n",
       "      <td>3</td>\n",
       "      <td>10.028829</td>\n",
       "      <td>14</td>\n",
       "      <td>0</td>\n",
       "      <td>3</td>\n",
       "      <td>1</td>\n",
       "      <td>0</td>\n",
       "      <td>0</td>\n",
       "      <td>0</td>\n",
       "      <td>2.054218</td>\n",
       "      <td>3.0</td>\n",
       "    </tr>\n",
       "    <tr>\n",
       "      <th>4</th>\n",
       "      <td>1005</td>\n",
       "      <td>17</td>\n",
       "      <td>1</td>\n",
       "      <td>0</td>\n",
       "      <td>2</td>\n",
       "      <td>4.672495</td>\n",
       "      <td>17</td>\n",
       "      <td>1</td>\n",
       "      <td>3</td>\n",
       "      <td>0</td>\n",
       "      <td>0</td>\n",
       "      <td>0</td>\n",
       "      <td>0</td>\n",
       "      <td>1.288061</td>\n",
       "      <td>4.0</td>\n",
       "    </tr>\n",
       "  </tbody>\n",
       "</table>\n",
       "</div>"
      ],
      "text/plain": [
       "   StudentID  Age  Gender  Ethnicity  ParentalEducation  StudyTimeWeekly  \\\n",
       "0       1001   17       1          0                  2        19.833723   \n",
       "1       1002   18       0          0                  1        15.408756   \n",
       "2       1003   15       0          2                  3         4.210570   \n",
       "3       1004   17       1          0                  3        10.028829   \n",
       "4       1005   17       1          0                  2         4.672495   \n",
       "\n",
       "   Absences  Tutoring  ParentalSupport  Extracurricular  Sports  Music  \\\n",
       "0         7         1                2                0       0      1   \n",
       "1         0         0                1                0       0      0   \n",
       "2        26         0                2                0       0      0   \n",
       "3        14         0                3                1       0      0   \n",
       "4        17         1                3                0       0      0   \n",
       "\n",
       "   Volunteering       GPA  GradeClass  \n",
       "0             0  2.929196         2.0  \n",
       "1             0  3.042915         1.0  \n",
       "2             0  0.112602         4.0  \n",
       "3             0  2.054218         3.0  \n",
       "4             0  1.288061         4.0  "
      ]
     },
     "execution_count": 237,
     "metadata": {},
     "output_type": "execute_result"
    }
   ],
   "source": [
    "# Load the dataset\n",
    "df = pd.read_csv('data/Student_performance_data.csv')\n",
    "\n",
    "# Display the first few rows\n",
    "df.head()"
   ]
  },
  {
   "cell_type": "markdown",
   "id": "67733fc2",
   "metadata": {},
   "source": [
    "# Preparing the data"
   ]
  },
  {
   "cell_type": "markdown",
   "id": "7d7dfc87",
   "metadata": {},
   "source": [
    "## Data Information"
   ]
  },
  {
   "cell_type": "code",
   "execution_count": 238,
   "id": "6063b7bf",
   "metadata": {},
   "outputs": [
    {
     "name": "stdout",
     "output_type": "stream",
     "text": [
      "Missing values per column:\n"
     ]
    },
    {
     "data": {
      "text/plain": [
       "StudentID            0\n",
       "Age                  0\n",
       "Gender               0\n",
       "Ethnicity            0\n",
       "ParentalEducation    0\n",
       "StudyTimeWeekly      0\n",
       "Absences             0\n",
       "Tutoring             0\n",
       "ParentalSupport      0\n",
       "Extracurricular      0\n",
       "Sports               0\n",
       "Music                0\n",
       "Volunteering         0\n",
       "GPA                  0\n",
       "GradeClass           0\n",
       "dtype: int64"
      ]
     },
     "execution_count": 238,
     "metadata": {},
     "output_type": "execute_result"
    }
   ],
   "source": [
    "# Check for missing values\n",
    "print(\"Missing values per column:\")\n",
    "df.isnull().sum()"
   ]
  },
  {
   "cell_type": "code",
   "execution_count": 239,
   "id": "c70d8631",
   "metadata": {},
   "outputs": [
    {
     "name": "stdout",
     "output_type": "stream",
     "text": [
      "\n",
      "Data types:\n"
     ]
    },
    {
     "data": {
      "text/plain": [
       "StudentID              int64\n",
       "Age                    int64\n",
       "Gender                 int64\n",
       "Ethnicity              int64\n",
       "ParentalEducation      int64\n",
       "StudyTimeWeekly      float64\n",
       "Absences               int64\n",
       "Tutoring               int64\n",
       "ParentalSupport        int64\n",
       "Extracurricular        int64\n",
       "Sports                 int64\n",
       "Music                  int64\n",
       "Volunteering           int64\n",
       "GPA                  float64\n",
       "GradeClass           float64\n",
       "dtype: object"
      ]
     },
     "execution_count": 239,
     "metadata": {},
     "output_type": "execute_result"
    }
   ],
   "source": [
    "# Display data types\n",
    "print(\"\\nData types:\")\n",
    "df.dtypes"
   ]
  },
  {
   "cell_type": "code",
   "execution_count": 240,
   "id": "69d50b8e",
   "metadata": {},
   "outputs": [
    {
     "name": "stdout",
     "output_type": "stream",
     "text": [
      "\n",
      "Summary statistics:\n"
     ]
    },
    {
     "data": {
      "text/html": [
       "<div>\n",
       "<style scoped>\n",
       "    .dataframe tbody tr th:only-of-type {\n",
       "        vertical-align: middle;\n",
       "    }\n",
       "\n",
       "    .dataframe tbody tr th {\n",
       "        vertical-align: top;\n",
       "    }\n",
       "\n",
       "    .dataframe thead th {\n",
       "        text-align: right;\n",
       "    }\n",
       "</style>\n",
       "<table border=\"1\" class=\"dataframe\">\n",
       "  <thead>\n",
       "    <tr style=\"text-align: right;\">\n",
       "      <th></th>\n",
       "      <th>StudentID</th>\n",
       "      <th>Age</th>\n",
       "      <th>Gender</th>\n",
       "      <th>Ethnicity</th>\n",
       "      <th>ParentalEducation</th>\n",
       "      <th>StudyTimeWeekly</th>\n",
       "      <th>Absences</th>\n",
       "      <th>Tutoring</th>\n",
       "      <th>ParentalSupport</th>\n",
       "      <th>Extracurricular</th>\n",
       "      <th>Sports</th>\n",
       "      <th>Music</th>\n",
       "      <th>Volunteering</th>\n",
       "      <th>GPA</th>\n",
       "      <th>GradeClass</th>\n",
       "    </tr>\n",
       "  </thead>\n",
       "  <tbody>\n",
       "    <tr>\n",
       "      <th>count</th>\n",
       "      <td>2392.000000</td>\n",
       "      <td>2392.000000</td>\n",
       "      <td>2392.000000</td>\n",
       "      <td>2392.000000</td>\n",
       "      <td>2392.000000</td>\n",
       "      <td>2392.000000</td>\n",
       "      <td>2392.000000</td>\n",
       "      <td>2392.000000</td>\n",
       "      <td>2392.000000</td>\n",
       "      <td>2392.000000</td>\n",
       "      <td>2392.000000</td>\n",
       "      <td>2392.000000</td>\n",
       "      <td>2392.000000</td>\n",
       "      <td>2392.000000</td>\n",
       "      <td>2392.000000</td>\n",
       "    </tr>\n",
       "    <tr>\n",
       "      <th>mean</th>\n",
       "      <td>2196.500000</td>\n",
       "      <td>16.468645</td>\n",
       "      <td>0.510870</td>\n",
       "      <td>0.877508</td>\n",
       "      <td>1.746237</td>\n",
       "      <td>9.771992</td>\n",
       "      <td>14.541388</td>\n",
       "      <td>0.301421</td>\n",
       "      <td>2.122074</td>\n",
       "      <td>0.383361</td>\n",
       "      <td>0.303512</td>\n",
       "      <td>0.196906</td>\n",
       "      <td>0.157191</td>\n",
       "      <td>1.906186</td>\n",
       "      <td>2.983696</td>\n",
       "    </tr>\n",
       "    <tr>\n",
       "      <th>std</th>\n",
       "      <td>690.655244</td>\n",
       "      <td>1.123798</td>\n",
       "      <td>0.499986</td>\n",
       "      <td>1.028476</td>\n",
       "      <td>1.000411</td>\n",
       "      <td>5.652774</td>\n",
       "      <td>8.467417</td>\n",
       "      <td>0.458971</td>\n",
       "      <td>1.122813</td>\n",
       "      <td>0.486307</td>\n",
       "      <td>0.459870</td>\n",
       "      <td>0.397744</td>\n",
       "      <td>0.364057</td>\n",
       "      <td>0.915156</td>\n",
       "      <td>1.233908</td>\n",
       "    </tr>\n",
       "    <tr>\n",
       "      <th>min</th>\n",
       "      <td>1001.000000</td>\n",
       "      <td>15.000000</td>\n",
       "      <td>0.000000</td>\n",
       "      <td>0.000000</td>\n",
       "      <td>0.000000</td>\n",
       "      <td>0.001057</td>\n",
       "      <td>0.000000</td>\n",
       "      <td>0.000000</td>\n",
       "      <td>0.000000</td>\n",
       "      <td>0.000000</td>\n",
       "      <td>0.000000</td>\n",
       "      <td>0.000000</td>\n",
       "      <td>0.000000</td>\n",
       "      <td>0.000000</td>\n",
       "      <td>0.000000</td>\n",
       "    </tr>\n",
       "    <tr>\n",
       "      <th>25%</th>\n",
       "      <td>1598.750000</td>\n",
       "      <td>15.000000</td>\n",
       "      <td>0.000000</td>\n",
       "      <td>0.000000</td>\n",
       "      <td>1.000000</td>\n",
       "      <td>5.043079</td>\n",
       "      <td>7.000000</td>\n",
       "      <td>0.000000</td>\n",
       "      <td>1.000000</td>\n",
       "      <td>0.000000</td>\n",
       "      <td>0.000000</td>\n",
       "      <td>0.000000</td>\n",
       "      <td>0.000000</td>\n",
       "      <td>1.174803</td>\n",
       "      <td>2.000000</td>\n",
       "    </tr>\n",
       "    <tr>\n",
       "      <th>50%</th>\n",
       "      <td>2196.500000</td>\n",
       "      <td>16.000000</td>\n",
       "      <td>1.000000</td>\n",
       "      <td>0.000000</td>\n",
       "      <td>2.000000</td>\n",
       "      <td>9.705363</td>\n",
       "      <td>15.000000</td>\n",
       "      <td>0.000000</td>\n",
       "      <td>2.000000</td>\n",
       "      <td>0.000000</td>\n",
       "      <td>0.000000</td>\n",
       "      <td>0.000000</td>\n",
       "      <td>0.000000</td>\n",
       "      <td>1.893393</td>\n",
       "      <td>4.000000</td>\n",
       "    </tr>\n",
       "    <tr>\n",
       "      <th>75%</th>\n",
       "      <td>2794.250000</td>\n",
       "      <td>17.000000</td>\n",
       "      <td>1.000000</td>\n",
       "      <td>2.000000</td>\n",
       "      <td>2.000000</td>\n",
       "      <td>14.408410</td>\n",
       "      <td>22.000000</td>\n",
       "      <td>1.000000</td>\n",
       "      <td>3.000000</td>\n",
       "      <td>1.000000</td>\n",
       "      <td>1.000000</td>\n",
       "      <td>0.000000</td>\n",
       "      <td>0.000000</td>\n",
       "      <td>2.622216</td>\n",
       "      <td>4.000000</td>\n",
       "    </tr>\n",
       "    <tr>\n",
       "      <th>max</th>\n",
       "      <td>3392.000000</td>\n",
       "      <td>18.000000</td>\n",
       "      <td>1.000000</td>\n",
       "      <td>3.000000</td>\n",
       "      <td>4.000000</td>\n",
       "      <td>19.978094</td>\n",
       "      <td>29.000000</td>\n",
       "      <td>1.000000</td>\n",
       "      <td>4.000000</td>\n",
       "      <td>1.000000</td>\n",
       "      <td>1.000000</td>\n",
       "      <td>1.000000</td>\n",
       "      <td>1.000000</td>\n",
       "      <td>4.000000</td>\n",
       "      <td>4.000000</td>\n",
       "    </tr>\n",
       "  </tbody>\n",
       "</table>\n",
       "</div>"
      ],
      "text/plain": [
       "         StudentID          Age       Gender    Ethnicity  ParentalEducation  \\\n",
       "count  2392.000000  2392.000000  2392.000000  2392.000000        2392.000000   \n",
       "mean   2196.500000    16.468645     0.510870     0.877508           1.746237   \n",
       "std     690.655244     1.123798     0.499986     1.028476           1.000411   \n",
       "min    1001.000000    15.000000     0.000000     0.000000           0.000000   \n",
       "25%    1598.750000    15.000000     0.000000     0.000000           1.000000   \n",
       "50%    2196.500000    16.000000     1.000000     0.000000           2.000000   \n",
       "75%    2794.250000    17.000000     1.000000     2.000000           2.000000   \n",
       "max    3392.000000    18.000000     1.000000     3.000000           4.000000   \n",
       "\n",
       "       StudyTimeWeekly     Absences     Tutoring  ParentalSupport  \\\n",
       "count      2392.000000  2392.000000  2392.000000      2392.000000   \n",
       "mean          9.771992    14.541388     0.301421         2.122074   \n",
       "std           5.652774     8.467417     0.458971         1.122813   \n",
       "min           0.001057     0.000000     0.000000         0.000000   \n",
       "25%           5.043079     7.000000     0.000000         1.000000   \n",
       "50%           9.705363    15.000000     0.000000         2.000000   \n",
       "75%          14.408410    22.000000     1.000000         3.000000   \n",
       "max          19.978094    29.000000     1.000000         4.000000   \n",
       "\n",
       "       Extracurricular       Sports        Music  Volunteering          GPA  \\\n",
       "count      2392.000000  2392.000000  2392.000000   2392.000000  2392.000000   \n",
       "mean          0.383361     0.303512     0.196906      0.157191     1.906186   \n",
       "std           0.486307     0.459870     0.397744      0.364057     0.915156   \n",
       "min           0.000000     0.000000     0.000000      0.000000     0.000000   \n",
       "25%           0.000000     0.000000     0.000000      0.000000     1.174803   \n",
       "50%           0.000000     0.000000     0.000000      0.000000     1.893393   \n",
       "75%           1.000000     1.000000     0.000000      0.000000     2.622216   \n",
       "max           1.000000     1.000000     1.000000      1.000000     4.000000   \n",
       "\n",
       "        GradeClass  \n",
       "count  2392.000000  \n",
       "mean      2.983696  \n",
       "std       1.233908  \n",
       "min       0.000000  \n",
       "25%       2.000000  \n",
       "50%       4.000000  \n",
       "75%       4.000000  \n",
       "max       4.000000  "
      ]
     },
     "execution_count": 240,
     "metadata": {},
     "output_type": "execute_result"
    }
   ],
   "source": [
    "# Get summary statistics\n",
    "print(\"\\nSummary statistics:\")\n",
    "df.describe(include='all')"
   ]
  },
  {
   "cell_type": "markdown",
   "id": "f52f2bc5",
   "metadata": {},
   "source": [
    "## Changing Data Types"
   ]
  },
  {
   "cell_type": "code",
   "execution_count": 241,
   "id": "a3e4acb6",
   "metadata": {},
   "outputs": [],
   "source": [
    "def to_string(df, column_name):\n",
    "    \"\"\"\n",
    "    Convert a pandas DataFrame column to a string.\n",
    "    \"\"\"\n",
    "    df[column_name] = df[column_name].astype('string')\n",
    "    print(f\"Column Name: '{column_name}', Type: {df[column_name].dtype}\")\n",
    "    return df  "
   ]
  },
  {
   "cell_type": "markdown",
   "id": "ae2c915e",
   "metadata": {},
   "source": [
    "## Adding new column"
   ]
  },
  {
   "cell_type": "code",
   "execution_count": 242,
   "id": "61589bf1",
   "metadata": {},
   "outputs": [
    {
     "name": "stdout",
     "output_type": "stream",
     "text": [
      "Column Name: 'GradeLabel', Type: string\n"
     ]
    },
    {
     "data": {
      "text/plain": [
       "GradeLabel\n",
       "F    1211\n",
       "D     414\n",
       "C     391\n",
       "B     269\n",
       "A     107\n",
       "Name: count, dtype: Int64"
      ]
     },
     "execution_count": 242,
     "metadata": {},
     "output_type": "execute_result"
    }
   ],
   "source": [
    "# Mapping for GradeClass\n",
    "grade_mapping = {\n",
    "    0: 'A',  # GPA >= 3.5\n",
    "    1: 'B',  # 3.0 <= GPA < 3.5\n",
    "    2: 'C',  # 2.5 <= GPA < 3.0\n",
    "    3: 'D',  # 2.0 <= GPA < 2.5\n",
    "    4: 'F'   # GPA < 2.0\n",
    "}\n",
    "\n",
    "# Create a new column 'GradeLabel' based on 'GradeClass'\n",
    "df['GradeLabel'] = df['GradeClass'].map(grade_mapping)\n",
    "df = to_string(df, 'GradeLabel')\n",
    "\n",
    "# Optional: check the result\n",
    "df['GradeLabel'].value_counts()"
   ]
  },
  {
   "cell_type": "code",
   "execution_count": 243,
   "id": "b422fc6e",
   "metadata": {},
   "outputs": [
    {
     "name": "stdout",
     "output_type": "stream",
     "text": [
      "Column Name: 'Gender_C', Type: string\n"
     ]
    },
    {
     "data": {
      "text/plain": [
       "Gender_C\n",
       "Female    1222\n",
       "Male      1170\n",
       "Name: count, dtype: Int64"
      ]
     },
     "execution_count": 243,
     "metadata": {},
     "output_type": "execute_result"
    }
   ],
   "source": [
    "# Mapping for a new column\n",
    "mapping = {\n",
    "    0: 'Male', \n",
    "    1: 'Female'\n",
    "}\n",
    "\n",
    "# Create a new column \n",
    "df['Gender_C'] = df['Gender'].map(mapping)\n",
    "df = to_string(df, 'Gender_C')\n",
    "\n",
    "# Optional: check the result\n",
    "df['Gender_C'].value_counts()"
   ]
  },
  {
   "cell_type": "code",
   "execution_count": 244,
   "id": "491299fd",
   "metadata": {},
   "outputs": [
    {
     "name": "stdout",
     "output_type": "stream",
     "text": [
      "Column Name: 'Ethnicity_C', Type: string\n"
     ]
    },
    {
     "data": {
      "text/plain": [
       "Ethnicity_C\n",
       "Caucasian           1207\n",
       "African American     493\n",
       "Asian                470\n",
       "Other                222\n",
       "Name: count, dtype: Int64"
      ]
     },
     "execution_count": 244,
     "metadata": {},
     "output_type": "execute_result"
    }
   ],
   "source": [
    "# Mapping for a new column\n",
    "mapping = {\n",
    "    0: 'Caucasian',\n",
    "    1: 'African American',\n",
    "    2: 'Asian',\n",
    "    3: 'Other'\n",
    "}\n",
    "\n",
    "# Create a new column \n",
    "df['Ethnicity_C'] = df['Ethnicity'].map(mapping)\n",
    "df = to_string(df, 'Ethnicity_C')\n",
    "\n",
    "# Optional: check the result\n",
    "df['Ethnicity_C'].value_counts()"
   ]
  },
  {
   "cell_type": "code",
   "execution_count": 245,
   "id": "65c0611c",
   "metadata": {},
   "outputs": [
    {
     "name": "stdout",
     "output_type": "stream",
     "text": [
      "Column Name: 'ParentalEducation_C', Type: string\n"
     ]
    },
    {
     "data": {
      "text/plain": [
       "ParentalEducation_C\n",
       "Some College    934\n",
       "High School     728\n",
       "Bachelors       367\n",
       "None            243\n",
       "Higher          120\n",
       "Name: count, dtype: Int64"
      ]
     },
     "execution_count": 245,
     "metadata": {},
     "output_type": "execute_result"
    }
   ],
   "source": [
    "# Mapping for a new column\n",
    "mapping = {\n",
    "    0: 'None',\n",
    "    1: 'High School',\n",
    "    2: 'Some College',\n",
    "    3: 'Bachelors',\n",
    "    4: 'Higher'\n",
    "}\n",
    "\n",
    "# Create a new column \n",
    "df['ParentalEducation_C'] = df['ParentalEducation'].map(mapping)\n",
    "df = to_string(df, 'ParentalEducation_C')\n",
    "\n",
    "# Optional: check the result\n",
    "df['ParentalEducation_C'].value_counts()"
   ]
  },
  {
   "cell_type": "code",
   "execution_count": 246,
   "id": "b791c6d1",
   "metadata": {},
   "outputs": [
    {
     "name": "stdout",
     "output_type": "stream",
     "text": [
      "Column Name: 'Tutoring_C', Type: string\n"
     ]
    },
    {
     "data": {
      "text/plain": [
       "Tutoring_C\n",
       "No     1671\n",
       "Yes     721\n",
       "Name: count, dtype: Int64"
      ]
     },
     "execution_count": 246,
     "metadata": {},
     "output_type": "execute_result"
    }
   ],
   "source": [
    "# Mapping for a new column\n",
    "mapping = {\n",
    "    0: 'No', \n",
    "    1: 'Yes'\n",
    "}\n",
    "\n",
    "# Create a new column \n",
    "df['Tutoring_C'] = df['Tutoring'].map(mapping)\n",
    "df = to_string(df, 'Tutoring_C')\n",
    "\n",
    "# Optional: check the result\n",
    "df['Tutoring_C'].value_counts()"
   ]
  },
  {
   "cell_type": "code",
   "execution_count": 247,
   "id": "f788f7d3",
   "metadata": {},
   "outputs": [
    {
     "name": "stdout",
     "output_type": "stream",
     "text": [
      "Column Name: 'ParentalSupport_C', Type: string\n"
     ]
    },
    {
     "data": {
      "text/plain": [
       "ParentalSupport_C\n",
       "Moderate     740\n",
       "High         697\n",
       "Low          489\n",
       "Very High    254\n",
       "None         212\n",
       "Name: count, dtype: Int64"
      ]
     },
     "execution_count": 247,
     "metadata": {},
     "output_type": "execute_result"
    }
   ],
   "source": [
    "# Mapping for a new column\n",
    "mapping = {\n",
    "    0: 'None',\n",
    "    1: 'Low',\n",
    "    2: 'Moderate',\n",
    "    3: 'High',\n",
    "    4: 'Very High'\n",
    "}\n",
    "\n",
    "# Create a new column \n",
    "df['ParentalSupport_C'] = df['ParentalSupport'].map(mapping)\n",
    "df = to_string(df, 'ParentalSupport_C')\n",
    "\n",
    "# Optional: check the result\n",
    "df['ParentalSupport_C'].value_counts()"
   ]
  },
  {
   "cell_type": "code",
   "execution_count": 248,
   "id": "4d297871",
   "metadata": {},
   "outputs": [
    {
     "name": "stdout",
     "output_type": "stream",
     "text": [
      "Column Name: 'Extracurricular_C', Type: string\n"
     ]
    },
    {
     "data": {
      "text/plain": [
       "Extracurricular_C\n",
       "No     1475\n",
       "Yes     917\n",
       "Name: count, dtype: Int64"
      ]
     },
     "execution_count": 248,
     "metadata": {},
     "output_type": "execute_result"
    }
   ],
   "source": [
    "# Mapping for a new column\n",
    "mapping = {\n",
    "    0: 'No', \n",
    "    1: 'Yes'\n",
    "}\n",
    "\n",
    "# Create a new column \n",
    "df['Extracurricular_C'] = df['Extracurricular'].map(mapping)\n",
    "df = to_string(df, 'Extracurricular_C')\n",
    "\n",
    "# Optional: check the result\n",
    "df['Extracurricular_C'].value_counts()"
   ]
  },
  {
   "cell_type": "code",
   "execution_count": 249,
   "id": "321f06fc",
   "metadata": {},
   "outputs": [
    {
     "name": "stdout",
     "output_type": "stream",
     "text": [
      "Column Name: 'Sports_C', Type: string\n"
     ]
    },
    {
     "data": {
      "text/plain": [
       "Sports_C\n",
       "No     1666\n",
       "Yes     726\n",
       "Name: count, dtype: Int64"
      ]
     },
     "execution_count": 249,
     "metadata": {},
     "output_type": "execute_result"
    }
   ],
   "source": [
    "# Mapping for a new column\n",
    "mapping = {\n",
    "    0: 'No', \n",
    "    1: 'Yes'\n",
    "}\n",
    "\n",
    "# Create a new column \n",
    "df['Sports_C'] = df['Sports'].map(mapping)\n",
    "df = to_string(df, 'Sports_C')\n",
    "\n",
    "# Optional: check the result\n",
    "df['Sports_C'].value_counts()"
   ]
  },
  {
   "cell_type": "code",
   "execution_count": 250,
   "id": "60570fb4",
   "metadata": {},
   "outputs": [
    {
     "name": "stdout",
     "output_type": "stream",
     "text": [
      "Column Name: 'Music_C', Type: string\n"
     ]
    },
    {
     "data": {
      "text/plain": [
       "Music_C\n",
       "No     1921\n",
       "Yes     471\n",
       "Name: count, dtype: Int64"
      ]
     },
     "execution_count": 250,
     "metadata": {},
     "output_type": "execute_result"
    }
   ],
   "source": [
    "# Mapping for a new column\n",
    "mapping = {\n",
    "    0: 'No', \n",
    "    1: 'Yes'\n",
    "}\n",
    "\n",
    "# Create a new column \n",
    "df['Music_C'] = df['Music'].map(mapping)\n",
    "df = to_string(df, 'Music_C')\n",
    "\n",
    "# Optional: check the result\n",
    "df['Music_C'].value_counts()"
   ]
  },
  {
   "cell_type": "code",
   "execution_count": 251,
   "id": "04ee42d2",
   "metadata": {},
   "outputs": [
    {
     "name": "stdout",
     "output_type": "stream",
     "text": [
      "Column Name: 'Volunteering_C', Type: string\n"
     ]
    },
    {
     "data": {
      "text/plain": [
       "Volunteering_C\n",
       "No     2016\n",
       "Yes     376\n",
       "Name: count, dtype: Int64"
      ]
     },
     "execution_count": 251,
     "metadata": {},
     "output_type": "execute_result"
    }
   ],
   "source": [
    "# Mapping for a new column\n",
    "mapping = {\n",
    "    0: 'No', \n",
    "    1: 'Yes'\n",
    "}\n",
    "\n",
    "# Create a new column \n",
    "df['Volunteering_C'] = df['Volunteering'].map(mapping)\n",
    "df = to_string(df, 'Volunteering_C')\n",
    "\n",
    "# Optional: check the result\n",
    "df['Volunteering_C'].value_counts()"
   ]
  },
  {
   "cell_type": "code",
   "execution_count": 252,
   "id": "71a27462",
   "metadata": {},
   "outputs": [
    {
     "name": "stdout",
     "output_type": "stream",
     "text": [
      "        Date\n",
      "0 2024-04-20\n",
      "1 2024-10-07\n",
      "2 2024-04-09\n",
      "3 2024-01-22\n",
      "4 2024-04-24\n"
     ]
    }
   ],
   "source": [
    "######### INSERT DATE COLUMN\n",
    "\n",
    "# Sample size equal to number of rows in your DataFrame\n",
    "n = len(df)\n",
    "\n",
    "# Step 1: Define valid date ranges (excluding June–August, late Dec–early Jan)\n",
    "valid_ranges = [\n",
    "    pd.date_range(start='2024-01-08', end='2024-05-31'),\n",
    "    pd.date_range(start='2024-09-01', end='2024-12-15')\n",
    "]\n",
    "\n",
    "# Step 2: Combine into a single list of valid dates\n",
    "valid_dates = pd.DatetimeIndex([])  # empty index to start\n",
    "for r in valid_ranges:\n",
    "    valid_dates = valid_dates.append(r)\n",
    "\n",
    "# Optional: Remove global holidays (some common ones)\n",
    "# You can also use a holiday package like `holidays`, but here are some hardcoded major ones\n",
    "excluded_dates = pd.to_datetime([\n",
    "    '2024-01-01',  # New Year's Day\n",
    "    '2024-04-10',  # Eid al-Fitr (approx)\n",
    "    '2024-12-25',  # Christmas\n",
    "    '2024-11-28',  # Thanksgiving (USA)\n",
    "    '2024-10-03',  # German Unity Day\n",
    "    '2024-07-04',  # US Independence Day\n",
    "])\n",
    "\n",
    "# Filter out excluded holidays\n",
    "valid_dates = valid_dates.difference(excluded_dates)\n",
    "\n",
    "# Step 3: Randomly assign dates to DataFrame\n",
    "np.random.seed(42)  # for reproducibility\n",
    "random_dates = np.random.choice(valid_dates, size=n, replace=True)\n",
    "\n",
    "# Step 4: Add to DataFrame\n",
    "df['Date'] = random_dates\n",
    "\n",
    "# Optional: Check the new column\n",
    "print(df[['Date']].head())"
   ]
  },
  {
   "cell_type": "code",
   "execution_count": 253,
   "id": "783ae64f",
   "metadata": {},
   "outputs": [
    {
     "data": {
      "text/html": [
       "<div>\n",
       "<style scoped>\n",
       "    .dataframe tbody tr th:only-of-type {\n",
       "        vertical-align: middle;\n",
       "    }\n",
       "\n",
       "    .dataframe tbody tr th {\n",
       "        vertical-align: top;\n",
       "    }\n",
       "\n",
       "    .dataframe thead th {\n",
       "        text-align: right;\n",
       "    }\n",
       "</style>\n",
       "<table border=\"1\" class=\"dataframe\">\n",
       "  <thead>\n",
       "    <tr style=\"text-align: right;\">\n",
       "      <th></th>\n",
       "      <th>StudentID</th>\n",
       "      <th>Date</th>\n",
       "      <th>Age</th>\n",
       "      <th>Gender</th>\n",
       "      <th>Ethnicity</th>\n",
       "      <th>ParentalEducation</th>\n",
       "      <th>StudyTimeWeekly</th>\n",
       "      <th>Absences</th>\n",
       "      <th>Tutoring</th>\n",
       "      <th>ParentalSupport</th>\n",
       "      <th>...</th>\n",
       "      <th>GradeLabel</th>\n",
       "      <th>Gender_C</th>\n",
       "      <th>Ethnicity_C</th>\n",
       "      <th>ParentalEducation_C</th>\n",
       "      <th>Tutoring_C</th>\n",
       "      <th>ParentalSupport_C</th>\n",
       "      <th>Extracurricular_C</th>\n",
       "      <th>Sports_C</th>\n",
       "      <th>Music_C</th>\n",
       "      <th>Volunteering_C</th>\n",
       "    </tr>\n",
       "  </thead>\n",
       "  <tbody>\n",
       "    <tr>\n",
       "      <th>0</th>\n",
       "      <td>1001</td>\n",
       "      <td>2024-04-20</td>\n",
       "      <td>17</td>\n",
       "      <td>1</td>\n",
       "      <td>0</td>\n",
       "      <td>2</td>\n",
       "      <td>19.833723</td>\n",
       "      <td>7</td>\n",
       "      <td>1</td>\n",
       "      <td>2</td>\n",
       "      <td>...</td>\n",
       "      <td>C</td>\n",
       "      <td>Female</td>\n",
       "      <td>Caucasian</td>\n",
       "      <td>Some College</td>\n",
       "      <td>Yes</td>\n",
       "      <td>Moderate</td>\n",
       "      <td>No</td>\n",
       "      <td>No</td>\n",
       "      <td>Yes</td>\n",
       "      <td>No</td>\n",
       "    </tr>\n",
       "    <tr>\n",
       "      <th>1</th>\n",
       "      <td>1002</td>\n",
       "      <td>2024-10-07</td>\n",
       "      <td>18</td>\n",
       "      <td>0</td>\n",
       "      <td>0</td>\n",
       "      <td>1</td>\n",
       "      <td>15.408756</td>\n",
       "      <td>0</td>\n",
       "      <td>0</td>\n",
       "      <td>1</td>\n",
       "      <td>...</td>\n",
       "      <td>B</td>\n",
       "      <td>Male</td>\n",
       "      <td>Caucasian</td>\n",
       "      <td>High School</td>\n",
       "      <td>No</td>\n",
       "      <td>Low</td>\n",
       "      <td>No</td>\n",
       "      <td>No</td>\n",
       "      <td>No</td>\n",
       "      <td>No</td>\n",
       "    </tr>\n",
       "    <tr>\n",
       "      <th>2</th>\n",
       "      <td>1003</td>\n",
       "      <td>2024-04-09</td>\n",
       "      <td>15</td>\n",
       "      <td>0</td>\n",
       "      <td>2</td>\n",
       "      <td>3</td>\n",
       "      <td>4.210570</td>\n",
       "      <td>26</td>\n",
       "      <td>0</td>\n",
       "      <td>2</td>\n",
       "      <td>...</td>\n",
       "      <td>F</td>\n",
       "      <td>Male</td>\n",
       "      <td>Asian</td>\n",
       "      <td>Bachelors</td>\n",
       "      <td>No</td>\n",
       "      <td>Moderate</td>\n",
       "      <td>No</td>\n",
       "      <td>No</td>\n",
       "      <td>No</td>\n",
       "      <td>No</td>\n",
       "    </tr>\n",
       "    <tr>\n",
       "      <th>3</th>\n",
       "      <td>1004</td>\n",
       "      <td>2024-01-22</td>\n",
       "      <td>17</td>\n",
       "      <td>1</td>\n",
       "      <td>0</td>\n",
       "      <td>3</td>\n",
       "      <td>10.028829</td>\n",
       "      <td>14</td>\n",
       "      <td>0</td>\n",
       "      <td>3</td>\n",
       "      <td>...</td>\n",
       "      <td>D</td>\n",
       "      <td>Female</td>\n",
       "      <td>Caucasian</td>\n",
       "      <td>Bachelors</td>\n",
       "      <td>No</td>\n",
       "      <td>High</td>\n",
       "      <td>Yes</td>\n",
       "      <td>No</td>\n",
       "      <td>No</td>\n",
       "      <td>No</td>\n",
       "    </tr>\n",
       "    <tr>\n",
       "      <th>4</th>\n",
       "      <td>1005</td>\n",
       "      <td>2024-04-24</td>\n",
       "      <td>17</td>\n",
       "      <td>1</td>\n",
       "      <td>0</td>\n",
       "      <td>2</td>\n",
       "      <td>4.672495</td>\n",
       "      <td>17</td>\n",
       "      <td>1</td>\n",
       "      <td>3</td>\n",
       "      <td>...</td>\n",
       "      <td>F</td>\n",
       "      <td>Female</td>\n",
       "      <td>Caucasian</td>\n",
       "      <td>Some College</td>\n",
       "      <td>Yes</td>\n",
       "      <td>High</td>\n",
       "      <td>No</td>\n",
       "      <td>No</td>\n",
       "      <td>No</td>\n",
       "      <td>No</td>\n",
       "    </tr>\n",
       "  </tbody>\n",
       "</table>\n",
       "<p>5 rows × 26 columns</p>\n",
       "</div>"
      ],
      "text/plain": [
       "   StudentID       Date  Age  Gender  Ethnicity  ParentalEducation  \\\n",
       "0       1001 2024-04-20   17       1          0                  2   \n",
       "1       1002 2024-10-07   18       0          0                  1   \n",
       "2       1003 2024-04-09   15       0          2                  3   \n",
       "3       1004 2024-01-22   17       1          0                  3   \n",
       "4       1005 2024-04-24   17       1          0                  2   \n",
       "\n",
       "   StudyTimeWeekly  Absences  Tutoring  ParentalSupport  ...  GradeLabel  \\\n",
       "0        19.833723         7         1                2  ...           C   \n",
       "1        15.408756         0         0                1  ...           B   \n",
       "2         4.210570        26         0                2  ...           F   \n",
       "3        10.028829        14         0                3  ...           D   \n",
       "4         4.672495        17         1                3  ...           F   \n",
       "\n",
       "   Gender_C  Ethnicity_C  ParentalEducation_C  Tutoring_C  ParentalSupport_C  \\\n",
       "0    Female    Caucasian         Some College         Yes           Moderate   \n",
       "1      Male    Caucasian          High School          No                Low   \n",
       "2      Male        Asian            Bachelors          No           Moderate   \n",
       "3    Female    Caucasian            Bachelors          No               High   \n",
       "4    Female    Caucasian         Some College         Yes               High   \n",
       "\n",
       "  Extracurricular_C Sports_C Music_C Volunteering_C  \n",
       "0                No       No     Yes             No  \n",
       "1                No       No      No             No  \n",
       "2                No       No      No             No  \n",
       "3               Yes       No      No             No  \n",
       "4                No       No      No             No  \n",
       "\n",
       "[5 rows x 26 columns]"
      ]
     },
     "execution_count": 253,
     "metadata": {},
     "output_type": "execute_result"
    }
   ],
   "source": [
    "# Step 2: Move 'Date' column right after 'studentID'\n",
    "cols = df.columns.tolist()  # get column list\n",
    "if 'StudentID' in cols:\n",
    "    # Find index of 'studentID' and insert 'Date' after it\n",
    "    idx = cols.index('StudentID') + 1\n",
    "    cols.remove('Date')  # remove 'Date' from current position\n",
    "    cols.insert(idx, 'Date')  # insert it at the desired position\n",
    "    df = df[cols]  # reassign column order\n",
    "else:\n",
    "    print(\"Warning: 'studentID' column not found. 'Date' will remain at the end.\")\n",
    "\n",
    "# Optional: preview new column order\n",
    "df.head()"
   ]
  },
  {
   "cell_type": "code",
   "execution_count": 254,
   "id": "0a3d053a",
   "metadata": {},
   "outputs": [
    {
     "data": {
      "text/plain": [
       "Date\n",
       "2024-11-11    20\n",
       "2024-10-17    19\n",
       "2024-02-15    18\n",
       "2024-11-16    17\n",
       "2024-02-05    17\n",
       "              ..\n",
       "2024-11-29     3\n",
       "2024-09-12     3\n",
       "2024-04-19     3\n",
       "2024-04-03     3\n",
       "2024-03-24     3\n",
       "Name: count, Length: 248, dtype: int64"
      ]
     },
     "execution_count": 254,
     "metadata": {},
     "output_type": "execute_result"
    }
   ],
   "source": [
    "df['Date'].value_counts()"
   ]
  },
  {
   "cell_type": "markdown",
   "id": "f955565f",
   "metadata": {},
   "source": [
    "# Checking\n",
    "1. Select a dataset of your choice from Kaggle which meets the following criteria.\n",
    "- a. Must contain a date column that can enable a time series analysis.\n",
    "- b. Must contain at least 2 facts i.e. KPIs/numerical measures.\n",
    "- c. Must contain at least 4 categorical variables.\n",
    "- d. Must have at least 300 records.\n",
    "- e. Must not be from the list of datasets provided for the project."
   ]
  },
  {
   "cell_type": "code",
   "execution_count": 255,
   "id": "c80f9a1e",
   "metadata": {},
   "outputs": [
    {
     "data": {
      "text/plain": [
       "StudentID                       int64\n",
       "Date                   datetime64[ns]\n",
       "Age                             int64\n",
       "Gender                          int64\n",
       "Ethnicity                       int64\n",
       "ParentalEducation               int64\n",
       "StudyTimeWeekly               float64\n",
       "Absences                        int64\n",
       "Tutoring                        int64\n",
       "ParentalSupport                 int64\n",
       "Extracurricular                 int64\n",
       "Sports                          int64\n",
       "Music                           int64\n",
       "Volunteering                    int64\n",
       "GPA                           float64\n",
       "GradeClass                    float64\n",
       "GradeLabel             string[python]\n",
       "Gender_C               string[python]\n",
       "Ethnicity_C            string[python]\n",
       "ParentalEducation_C    string[python]\n",
       "Tutoring_C             string[python]\n",
       "ParentalSupport_C      string[python]\n",
       "Extracurricular_C      string[python]\n",
       "Sports_C               string[python]\n",
       "Music_C                string[python]\n",
       "Volunteering_C         string[python]\n",
       "dtype: object"
      ]
     },
     "execution_count": 255,
     "metadata": {},
     "output_type": "execute_result"
    }
   ],
   "source": [
    "df.dtypes"
   ]
  },
  {
   "cell_type": "markdown",
   "id": "daa472a2",
   "metadata": {},
   "source": [
    "so we can see there are atleast 4 categorical columns (gender, ethnicity, parental support, parental eductaion etc).   \n",
    "we can see atleast 2 numerical (absenses, study time weekly, gpa, age etc)    \n",
    "we can see a date column   "
   ]
  },
  {
   "cell_type": "code",
   "execution_count": 256,
   "id": "ebea1726",
   "metadata": {},
   "outputs": [
    {
     "data": {
      "text/plain": [
       "2392"
      ]
     },
     "execution_count": 256,
     "metadata": {},
     "output_type": "execute_result"
    }
   ],
   "source": [
    "no_of_rows = df.shape[0]\n",
    "no_of_rows"
   ]
  },
  {
   "cell_type": "markdown",
   "id": "5aed32a6",
   "metadata": {},
   "source": [
    "and we can see the dataset if of >=300 rows (its nearly 2400)\n",
    "\n",
    "DATASET IS APPROVED"
   ]
  },
  {
   "cell_type": "markdown",
   "id": "1517624e",
   "metadata": {},
   "source": [
    "# Saving back to csv"
   ]
  },
  {
   "cell_type": "code",
   "execution_count": 257,
   "id": "ed4e1790",
   "metadata": {},
   "outputs": [],
   "source": [
    "# Save the cleaned DataFrame to a CSV file\n",
    "df.to_csv('data/student_performance_cleaned.csv', index=False)"
   ]
  }
 ],
 "metadata": {
  "kernelspec": {
   "display_name": "Python 3",
   "language": "python",
   "name": "python3"
  },
  "language_info": {
   "codemirror_mode": {
    "name": "ipython",
    "version": 3
   },
   "file_extension": ".py",
   "mimetype": "text/x-python",
   "name": "python",
   "nbconvert_exporter": "python",
   "pygments_lexer": "ipython3",
   "version": "3.12.10"
  }
 },
 "nbformat": 4,
 "nbformat_minor": 5
}
