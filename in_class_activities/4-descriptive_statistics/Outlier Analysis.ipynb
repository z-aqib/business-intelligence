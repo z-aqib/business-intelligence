{
 "cells": [
  {
   "cell_type": "markdown",
   "metadata": {},
   "source": [
    "## Outlier Analysis"
   ]
  },
  {
   "cell_type": "code",
   "execution_count": null,
   "metadata": {},
   "outputs": [],
   "source": [
    "#importing the basic libraries\n",
    "import pandas as pd\n",
    "import numpy as np\n",
    "%matplotlib inline\n",
    "import matplotlib.pyplot as plt"
   ]
  },
  {
   "cell_type": "code",
   "execution_count": null,
   "metadata": {},
   "outputs": [],
   "source": [
    "rich_df = pd.read_excel(\"richpeople.xlsx\")\n",
    "rich_df.columns"
   ]
  },
  {
   "cell_type": "code",
   "execution_count": null,
   "metadata": {},
   "outputs": [],
   "source": [
    "rich_df.shape"
   ]
  },
  {
   "cell_type": "code",
   "execution_count": null,
   "metadata": {},
   "outputs": [],
   "source": [
    "rich_df = rich_df[rich_df['year'] == 2014]\n",
    "rich_df.head(2)"
   ]
  },
  {
   "cell_type": "code",
   "execution_count": null,
   "metadata": {},
   "outputs": [],
   "source": [
    "rich_df.isna().sum()"
   ]
  },
  {
   "cell_type": "code",
   "execution_count": null,
   "metadata": {},
   "outputs": [],
   "source": [
    "#remove missing values and then describe\n",
    "rich_df = rich_df.dropna(subset=['age', 'networthusbillion', 'foundingdate'])\n",
    "rich_df.describe()"
   ]
  },
  {
   "cell_type": "code",
   "execution_count": null,
   "metadata": {},
   "outputs": [],
   "source": [
    "rich_df.boxplot(column='networthusbillion', return_type='axes')"
   ]
  },
  {
   "cell_type": "code",
   "execution_count": null,
   "metadata": {},
   "outputs": [],
   "source": [
    "rich_df.boxplot(column='age', return_type='axes')"
   ]
  },
  {
   "cell_type": "code",
   "execution_count": null,
   "metadata": {},
   "outputs": [],
   "source": [
    "rich_df['citizenship'].value_counts()"
   ]
  },
  {
   "cell_type": "code",
   "execution_count": null,
   "metadata": {},
   "outputs": [],
   "source": [
    "rich_df.sort_values(by='networthusbillion', ascending=False).head(5)"
   ]
  },
  {
   "cell_type": "code",
   "execution_count": null,
   "metadata": {},
   "outputs": [],
   "source": [
    "rich_df['age'].describe()"
   ]
  },
  {
   "cell_type": "code",
   "execution_count": null,
   "metadata": {},
   "outputs": [],
   "source": [
    "rich_df.sort_values(by='age', ascending=False).head(3)"
   ]
  },
  {
   "cell_type": "code",
   "execution_count": null,
   "metadata": {},
   "outputs": [],
   "source": [
    "#some of the old people are rich.. let's check their standard deviation of ages\n",
    "rich_df['agestd'] = ((rich_df['age'] - rich_df['age'].mean()).apply(abs) / rich_df['age'].std())\n",
    "rich_df.sort_values(by='age', ascending=False).head(15)"
   ]
  },
  {
   "cell_type": "code",
   "execution_count": null,
   "metadata": {},
   "outputs": [],
   "source": [
    "#wealth standard dev\n",
    "rich_df['wealth_stdev'] = ((rich_df['networthusbillion'] - rich_df['networthusbillion'].mean()).apply(abs) / rich_df['networthusbillion'].std())\n",
    "rich_df.sort_values(by='networthusbillion', ascending=False).head(10)"
   ]
  },
  {
   "cell_type": "code",
   "execution_count": null,
   "metadata": {},
   "outputs": [],
   "source": [
    "#plot the histogram to find out\n",
    "rich_df['networthusbillion'].hist()"
   ]
  },
  {
   "cell_type": "code",
   "execution_count": null,
   "metadata": {},
   "outputs": [],
   "source": [
    "rich_df.boxplot(column='networthusbillion', return_type='axes')"
   ]
  },
  {
   "cell_type": "code",
   "execution_count": null,
   "metadata": {},
   "outputs": [],
   "source": [
    "# Create a figure and two subplots in one axis\n",
    "fig, axs = plt.subplots(1, 2, figsize=(12, 6))\n",
    "\n",
    "# Plot histogram for 'networthusbillion' column (All) with some more bins\n",
    "rich_df['networthusbillion'].hist(ax=axs[0],bins=25)\n",
    "axs[0].set_title('Net Worth Histogram (All)')\n",
    "\n",
    "rich2 = rich_df[rich_df['networthusbillion'] > 50] # filter out people with greater worth - outlying cases\n",
    "print(rich2['networthusbillion'])\n",
    "\n",
    "# Plot histogram for net worth greater than $50 billion\n",
    "rich_df[rich_df['networthusbillion'] > 50]['networthusbillion'].hist(ax=axs[1])\n",
    "axs[1].set_title('Net Worth Histogram (>$50 Billion)')\n",
    "\n",
    "plt.tight_layout()\n",
    "plt.show()\n"
   ]
  },
  {
   "cell_type": "code",
   "execution_count": null,
   "metadata": {},
   "outputs": [],
   "source": [
    "rich_df['networthusbillion'].describe()"
   ]
  },
  {
   "cell_type": "code",
   "execution_count": null,
   "metadata": {},
   "outputs": [],
   "source": [
    "rich_df['age'].hist(bins=30)"
   ]
  },
  {
   "cell_type": "code",
   "execution_count": null,
   "metadata": {},
   "outputs": [],
   "source": [
    "rich_df.plot(x='age',y='networthusbillion',kind='scatter',alpha=0.5,cmap='rainbow')"
   ]
  },
  {
   "cell_type": "code",
   "execution_count": null,
   "metadata": {},
   "outputs": [],
   "source": [
    "# Improved scatter plot for better readability\n",
    "plt.scatter(rich_df['age'], rich_df['networthusbillion'], alpha=0.5, c=rich_df['networthusbillion'], cmap='coolwarm')\n",
    "plt.xlabel(\"Age\")\n",
    "plt.ylabel(\"Net Worth (Billion USD)\")\n",
    "plt.title(\"Age vs Net Worth\")\n",
    "plt.colorbar(label=\"Net Worth\")\n",
    "plt.show()"
   ]
  },
  {
   "cell_type": "markdown",
   "metadata": {},
   "source": [
    "# Detection of Outliers using Visuals"
   ]
  },
  {
   "cell_type": "code",
   "execution_count": null,
   "metadata": {},
   "outputs": [],
   "source": [
    "rich_df.boxplot(column='networthusbillion', return_type='axes')"
   ]
  },
  {
   "cell_type": "markdown",
   "metadata": {},
   "source": [
    "# Detection of Outliers using Z-score Method"
   ]
  },
  {
   "cell_type": "code",
   "execution_count": null,
   "metadata": {},
   "outputs": [],
   "source": [
    "from scipy.stats import zscore\n",
    "\n",
    "# Compute Z-scores\n",
    "rich_df['wealth_zscore'] = zscore(rich_df['networthusbillion'])\n",
    "\n",
    "# Identify outliers (Z-score > 3 or < -3)\n",
    "z_outliers = rich_df[(rich_df['wealth_zscore'] > 3) | (rich_df['wealth_zscore'] < -3)]\n",
    "print(\"Z-score Outliers:\")\n",
    "print(z_outliers[['name', 'networthusbillion', 'wealth_zscore']])"
   ]
  },
  {
   "cell_type": "markdown",
   "metadata": {},
   "source": [
    "# Detection of Outliers using IQR Method"
   ]
  },
  {
   "cell_type": "code",
   "execution_count": null,
   "metadata": {},
   "outputs": [],
   "source": [
    "# Compute IQR\n",
    "Q1 = rich_df['networthusbillion'].quantile(0.25)\n",
    "Q3 = rich_df['networthusbillion'].quantile(0.75)\n",
    "IQR = Q3 - Q1\n",
    "\n",
    "# Define outlier bounds\n",
    "lower_bound = Q1 - (1.5 * IQR)\n",
    "upper_bound = Q3 + (1.5 * IQR)\n",
    "\n",
    "# Identify outliers using IQR\n",
    "iqr_outliers = rich_df[(rich_df['networthusbillion'] < lower_bound) | (rich_df['networthusbillion'] > upper_bound)]\n",
    "print(\"IQR Outliers:\")\n",
    "print(iqr_outliers[['name', 'networthusbillion']])"
   ]
  },
  {
   "cell_type": "markdown",
   "metadata": {},
   "source": [
    "# Detection of Outliers using Tietjen-Moore Test"
   ]
  },
  {
   "cell_type": "code",
   "execution_count": null,
   "metadata": {},
   "outputs": [],
   "source": [
    "# The Tietjen-Moore Test is not widely available as a built-in function in most common Python libraries like Statsmodels or Scipy for general statistical analysis. \n",
    "# While it is a well-known method for detecting outliers, it isn't as commonly implemented as other tests (like Grubbs' test or ESD test) for outlier detection.\n",
    "# However, you can implement the Tietjen-Moore Test yourself using custom code.ence for outlier detection.\n",
    "\n",
    "# Look up Grubbs and ESD (Extreme Studentized Deviate) Tests and test them out."
   ]
  },
  {
   "cell_type": "code",
   "execution_count": null,
   "metadata": {},
   "outputs": [],
   "source": []
  }
 ],
 "metadata": {
  "kernelspec": {
   "display_name": "Python 3 (ipykernel)",
   "language": "python",
   "name": "python3"
  },
  "language_info": {
   "codemirror_mode": {
    "name": "ipython",
    "version": 3
   },
   "file_extension": ".py",
   "mimetype": "text/x-python",
   "name": "python",
   "nbconvert_exporter": "python",
   "pygments_lexer": "ipython3",
   "version": "3.9.13"
  }
 },
 "nbformat": 4,
 "nbformat_minor": 4
}
