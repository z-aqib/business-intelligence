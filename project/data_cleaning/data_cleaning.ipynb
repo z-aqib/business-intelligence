{
 "cells": [
  {
   "cell_type": "markdown",
   "id": "6018971c",
   "metadata": {},
   "source": [
    "Business Intelligence Project    \n",
    "Name: Zehra Ahmed, Farah Inayat, Kisa Fatima, Zuha Aqib    \n",
    "Date: 18-May-2025"
   ]
  },
  {
   "cell_type": "code",
   "execution_count": 257,
   "id": "709b858f",
   "metadata": {},
   "outputs": [
    {
     "data": {
      "text/plain": [
       "'2025-05-30 13:40:31'"
      ]
     },
     "execution_count": 257,
     "metadata": {},
     "output_type": "execute_result"
    }
   ],
   "source": [
    "# print when the last code was run\n",
    "from datetime import datetime\n",
    "datetime.now().strftime(\"%Y-%m-%d %H:%M:%S\")"
   ]
  },
  {
   "cell_type": "code",
   "execution_count": 258,
   "id": "71f32b75",
   "metadata": {},
   "outputs": [],
   "source": [
    "# Capture start time\n",
    "start_time = datetime.now()"
   ]
  },
  {
   "cell_type": "markdown",
   "id": "cd29e08c",
   "metadata": {},
   "source": [
    "# Imports"
   ]
  },
  {
   "cell_type": "code",
   "execution_count": 259,
   "id": "6353fea4",
   "metadata": {},
   "outputs": [],
   "source": [
    "import pandas as pd\n",
    "import numpy as np\n",
    "import matplotlib.pyplot as plt\n",
    "import seaborn as sns\n",
    "\n",
    "from datetime import datetime, timedelta"
   ]
  },
  {
   "cell_type": "markdown",
   "id": "400ec6d2",
   "metadata": {},
   "source": [
    "### Some Functions\n",
    "some preliminary functions we can use in the code"
   ]
  },
  {
   "cell_type": "markdown",
   "id": "dd677360",
   "metadata": {},
   "source": [
    "# Data Loading"
   ]
  },
  {
   "cell_type": "code",
   "execution_count": 260,
   "id": "fe9136c0",
   "metadata": {},
   "outputs": [
    {
     "name": "stderr",
     "output_type": "stream",
     "text": [
      "C:\\Users\\DELL\\AppData\\Local\\Temp\\ipykernel_6024\\696202387.py:2: DtypeWarning: Columns (36) have mixed types. Specify dtype option on import or set low_memory=False.\n",
      "  df = pd.read_csv('../data/flights_jantojun2020_3M.csv')\n"
     ]
    }
   ],
   "source": [
    "# Load the dataset\n",
    "df = pd.read_csv('../data/flights_jantojun2020_3M.csv')\n",
    "\n",
    "pd.set_option('display.max_columns', None)"
   ]
  },
  {
   "cell_type": "code",
   "execution_count": 261,
   "id": "0ee3beb0",
   "metadata": {},
   "outputs": [
    {
     "data": {
      "text/html": [
       "<div>\n",
       "<style scoped>\n",
       "    .dataframe tbody tr th:only-of-type {\n",
       "        vertical-align: middle;\n",
       "    }\n",
       "\n",
       "    .dataframe tbody tr th {\n",
       "        vertical-align: top;\n",
       "    }\n",
       "\n",
       "    .dataframe thead th {\n",
       "        text-align: right;\n",
       "    }\n",
       "</style>\n",
       "<table border=\"1\" class=\"dataframe\">\n",
       "  <thead>\n",
       "    <tr style=\"text-align: right;\">\n",
       "      <th></th>\n",
       "      <th>YEAR</th>\n",
       "      <th>QUARTER</th>\n",
       "      <th>MONTH</th>\n",
       "      <th>DAY_OF_MONTH</th>\n",
       "      <th>DAY_OF_WEEK</th>\n",
       "      <th>FL_DATE</th>\n",
       "      <th>MKT_UNIQUE_CARRIER</th>\n",
       "      <th>MKT_CARRIER_FL_NUM</th>\n",
       "      <th>TAIL_NUM</th>\n",
       "      <th>ORIGIN</th>\n",
       "      <th>ORIGIN_CITY_NAME</th>\n",
       "      <th>ORIGIN_STATE_ABR</th>\n",
       "      <th>ORIGIN_STATE_NM</th>\n",
       "      <th>DEST</th>\n",
       "      <th>DEST_CITY_NAME</th>\n",
       "      <th>DEST_STATE_ABR</th>\n",
       "      <th>DEST_STATE_NM</th>\n",
       "      <th>CRS_DEP_TIME</th>\n",
       "      <th>DEP_TIME</th>\n",
       "      <th>DEP_DELAY</th>\n",
       "      <th>DEP_DELAY_NEW</th>\n",
       "      <th>DEP_DEL15</th>\n",
       "      <th>DEP_DELAY_GROUP</th>\n",
       "      <th>DEP_TIME_BLK</th>\n",
       "      <th>TAXI_OUT</th>\n",
       "      <th>WHEELS_OFF</th>\n",
       "      <th>WHEELS_ON</th>\n",
       "      <th>TAXI_IN</th>\n",
       "      <th>CRS_ARR_TIME</th>\n",
       "      <th>ARR_TIME</th>\n",
       "      <th>ARR_DELAY</th>\n",
       "      <th>ARR_DELAY_NEW</th>\n",
       "      <th>ARR_DEL15</th>\n",
       "      <th>ARR_DELAY_GROUP</th>\n",
       "      <th>ARR_TIME_BLK</th>\n",
       "      <th>CANCELLED</th>\n",
       "      <th>CANCELLATION_CODE</th>\n",
       "      <th>CRS_ELAPSED_TIME</th>\n",
       "      <th>ACTUAL_ELAPSED_TIME</th>\n",
       "      <th>AIR_TIME</th>\n",
       "      <th>DISTANCE</th>\n",
       "      <th>DISTANCE_GROUP</th>\n",
       "      <th>CARRIER_DELAY</th>\n",
       "      <th>WEATHER_DELAY</th>\n",
       "      <th>NAS_DELAY</th>\n",
       "      <th>SECURITY_DELAY</th>\n",
       "      <th>LATE_AIRCRAFT_DELAY</th>\n",
       "    </tr>\n",
       "  </thead>\n",
       "  <tbody>\n",
       "    <tr>\n",
       "      <th>0</th>\n",
       "      <td>2020</td>\n",
       "      <td>1</td>\n",
       "      <td>1</td>\n",
       "      <td>1</td>\n",
       "      <td>3</td>\n",
       "      <td>1/1/2020</td>\n",
       "      <td>WN</td>\n",
       "      <td>5888</td>\n",
       "      <td>N951WN</td>\n",
       "      <td>ONT</td>\n",
       "      <td>Ontario, CA</td>\n",
       "      <td>CA</td>\n",
       "      <td>California</td>\n",
       "      <td>SFO</td>\n",
       "      <td>San Francisco, CA</td>\n",
       "      <td>CA</td>\n",
       "      <td>California</td>\n",
       "      <td>1810</td>\n",
       "      <td>1851.0</td>\n",
       "      <td>41.0</td>\n",
       "      <td>41.0</td>\n",
       "      <td>1.0</td>\n",
       "      <td>2.0</td>\n",
       "      <td>1800-1859</td>\n",
       "      <td>44.0</td>\n",
       "      <td>1935.0</td>\n",
       "      <td>2049.0</td>\n",
       "      <td>4.0</td>\n",
       "      <td>1945</td>\n",
       "      <td>2053.0</td>\n",
       "      <td>68.0</td>\n",
       "      <td>68.0</td>\n",
       "      <td>1.0</td>\n",
       "      <td>4.0</td>\n",
       "      <td>1900-1959</td>\n",
       "      <td>0</td>\n",
       "      <td>NaN</td>\n",
       "      <td>95.0</td>\n",
       "      <td>122.0</td>\n",
       "      <td>74.0</td>\n",
       "      <td>363</td>\n",
       "      <td>2</td>\n",
       "      <td>8.0</td>\n",
       "      <td>0.0</td>\n",
       "      <td>27.0</td>\n",
       "      <td>0.0</td>\n",
       "      <td>33.0</td>\n",
       "    </tr>\n",
       "    <tr>\n",
       "      <th>1</th>\n",
       "      <td>2020</td>\n",
       "      <td>1</td>\n",
       "      <td>1</td>\n",
       "      <td>1</td>\n",
       "      <td>3</td>\n",
       "      <td>1/1/2020</td>\n",
       "      <td>WN</td>\n",
       "      <td>6276</td>\n",
       "      <td>N467WN</td>\n",
       "      <td>ONT</td>\n",
       "      <td>Ontario, CA</td>\n",
       "      <td>CA</td>\n",
       "      <td>California</td>\n",
       "      <td>SFO</td>\n",
       "      <td>San Francisco, CA</td>\n",
       "      <td>CA</td>\n",
       "      <td>California</td>\n",
       "      <td>1150</td>\n",
       "      <td>1146.0</td>\n",
       "      <td>-4.0</td>\n",
       "      <td>0.0</td>\n",
       "      <td>0.0</td>\n",
       "      <td>-1.0</td>\n",
       "      <td>1100-1159</td>\n",
       "      <td>13.0</td>\n",
       "      <td>1159.0</td>\n",
       "      <td>1310.0</td>\n",
       "      <td>8.0</td>\n",
       "      <td>1320</td>\n",
       "      <td>1318.0</td>\n",
       "      <td>-2.0</td>\n",
       "      <td>0.0</td>\n",
       "      <td>0.0</td>\n",
       "      <td>-1.0</td>\n",
       "      <td>1300-1359</td>\n",
       "      <td>0</td>\n",
       "      <td>NaN</td>\n",
       "      <td>90.0</td>\n",
       "      <td>92.0</td>\n",
       "      <td>71.0</td>\n",
       "      <td>363</td>\n",
       "      <td>2</td>\n",
       "      <td>NaN</td>\n",
       "      <td>NaN</td>\n",
       "      <td>NaN</td>\n",
       "      <td>NaN</td>\n",
       "      <td>NaN</td>\n",
       "    </tr>\n",
       "    <tr>\n",
       "      <th>2</th>\n",
       "      <td>2020</td>\n",
       "      <td>1</td>\n",
       "      <td>1</td>\n",
       "      <td>1</td>\n",
       "      <td>3</td>\n",
       "      <td>1/1/2020</td>\n",
       "      <td>WN</td>\n",
       "      <td>4598</td>\n",
       "      <td>N7885A</td>\n",
       "      <td>ONT</td>\n",
       "      <td>Ontario, CA</td>\n",
       "      <td>CA</td>\n",
       "      <td>California</td>\n",
       "      <td>SJC</td>\n",
       "      <td>San Jose, CA</td>\n",
       "      <td>CA</td>\n",
       "      <td>California</td>\n",
       "      <td>2020</td>\n",
       "      <td>2016.0</td>\n",
       "      <td>-4.0</td>\n",
       "      <td>0.0</td>\n",
       "      <td>0.0</td>\n",
       "      <td>-1.0</td>\n",
       "      <td>2000-2059</td>\n",
       "      <td>8.0</td>\n",
       "      <td>2024.0</td>\n",
       "      <td>2121.0</td>\n",
       "      <td>3.0</td>\n",
       "      <td>2130</td>\n",
       "      <td>2124.0</td>\n",
       "      <td>-6.0</td>\n",
       "      <td>0.0</td>\n",
       "      <td>0.0</td>\n",
       "      <td>-1.0</td>\n",
       "      <td>2100-2159</td>\n",
       "      <td>0</td>\n",
       "      <td>NaN</td>\n",
       "      <td>70.0</td>\n",
       "      <td>68.0</td>\n",
       "      <td>57.0</td>\n",
       "      <td>333</td>\n",
       "      <td>2</td>\n",
       "      <td>NaN</td>\n",
       "      <td>NaN</td>\n",
       "      <td>NaN</td>\n",
       "      <td>NaN</td>\n",
       "      <td>NaN</td>\n",
       "    </tr>\n",
       "    <tr>\n",
       "      <th>3</th>\n",
       "      <td>2020</td>\n",
       "      <td>1</td>\n",
       "      <td>1</td>\n",
       "      <td>1</td>\n",
       "      <td>3</td>\n",
       "      <td>1/1/2020</td>\n",
       "      <td>WN</td>\n",
       "      <td>4761</td>\n",
       "      <td>N551WN</td>\n",
       "      <td>ONT</td>\n",
       "      <td>Ontario, CA</td>\n",
       "      <td>CA</td>\n",
       "      <td>California</td>\n",
       "      <td>SJC</td>\n",
       "      <td>San Jose, CA</td>\n",
       "      <td>CA</td>\n",
       "      <td>California</td>\n",
       "      <td>1340</td>\n",
       "      <td>1350.0</td>\n",
       "      <td>10.0</td>\n",
       "      <td>10.0</td>\n",
       "      <td>0.0</td>\n",
       "      <td>0.0</td>\n",
       "      <td>1300-1359</td>\n",
       "      <td>10.0</td>\n",
       "      <td>1400.0</td>\n",
       "      <td>1503.0</td>\n",
       "      <td>2.0</td>\n",
       "      <td>1455</td>\n",
       "      <td>1505.0</td>\n",
       "      <td>10.0</td>\n",
       "      <td>10.0</td>\n",
       "      <td>0.0</td>\n",
       "      <td>0.0</td>\n",
       "      <td>1400-1459</td>\n",
       "      <td>0</td>\n",
       "      <td>NaN</td>\n",
       "      <td>75.0</td>\n",
       "      <td>75.0</td>\n",
       "      <td>63.0</td>\n",
       "      <td>333</td>\n",
       "      <td>2</td>\n",
       "      <td>NaN</td>\n",
       "      <td>NaN</td>\n",
       "      <td>NaN</td>\n",
       "      <td>NaN</td>\n",
       "      <td>NaN</td>\n",
       "    </tr>\n",
       "    <tr>\n",
       "      <th>4</th>\n",
       "      <td>2020</td>\n",
       "      <td>1</td>\n",
       "      <td>1</td>\n",
       "      <td>1</td>\n",
       "      <td>3</td>\n",
       "      <td>1/1/2020</td>\n",
       "      <td>WN</td>\n",
       "      <td>5162</td>\n",
       "      <td>N968WN</td>\n",
       "      <td>ONT</td>\n",
       "      <td>Ontario, CA</td>\n",
       "      <td>CA</td>\n",
       "      <td>California</td>\n",
       "      <td>SJC</td>\n",
       "      <td>San Jose, CA</td>\n",
       "      <td>CA</td>\n",
       "      <td>California</td>\n",
       "      <td>915</td>\n",
       "      <td>916.0</td>\n",
       "      <td>1.0</td>\n",
       "      <td>1.0</td>\n",
       "      <td>0.0</td>\n",
       "      <td>0.0</td>\n",
       "      <td>0900-0959</td>\n",
       "      <td>6.0</td>\n",
       "      <td>922.0</td>\n",
       "      <td>1019.0</td>\n",
       "      <td>4.0</td>\n",
       "      <td>1035</td>\n",
       "      <td>1023.0</td>\n",
       "      <td>-12.0</td>\n",
       "      <td>0.0</td>\n",
       "      <td>0.0</td>\n",
       "      <td>-1.0</td>\n",
       "      <td>1000-1059</td>\n",
       "      <td>0</td>\n",
       "      <td>NaN</td>\n",
       "      <td>80.0</td>\n",
       "      <td>67.0</td>\n",
       "      <td>57.0</td>\n",
       "      <td>333</td>\n",
       "      <td>2</td>\n",
       "      <td>NaN</td>\n",
       "      <td>NaN</td>\n",
       "      <td>NaN</td>\n",
       "      <td>NaN</td>\n",
       "      <td>NaN</td>\n",
       "    </tr>\n",
       "    <tr>\n",
       "      <th>...</th>\n",
       "      <td>...</td>\n",
       "      <td>...</td>\n",
       "      <td>...</td>\n",
       "      <td>...</td>\n",
       "      <td>...</td>\n",
       "      <td>...</td>\n",
       "      <td>...</td>\n",
       "      <td>...</td>\n",
       "      <td>...</td>\n",
       "      <td>...</td>\n",
       "      <td>...</td>\n",
       "      <td>...</td>\n",
       "      <td>...</td>\n",
       "      <td>...</td>\n",
       "      <td>...</td>\n",
       "      <td>...</td>\n",
       "      <td>...</td>\n",
       "      <td>...</td>\n",
       "      <td>...</td>\n",
       "      <td>...</td>\n",
       "      <td>...</td>\n",
       "      <td>...</td>\n",
       "      <td>...</td>\n",
       "      <td>...</td>\n",
       "      <td>...</td>\n",
       "      <td>...</td>\n",
       "      <td>...</td>\n",
       "      <td>...</td>\n",
       "      <td>...</td>\n",
       "      <td>...</td>\n",
       "      <td>...</td>\n",
       "      <td>...</td>\n",
       "      <td>...</td>\n",
       "      <td>...</td>\n",
       "      <td>...</td>\n",
       "      <td>...</td>\n",
       "      <td>...</td>\n",
       "      <td>...</td>\n",
       "      <td>...</td>\n",
       "      <td>...</td>\n",
       "      <td>...</td>\n",
       "      <td>...</td>\n",
       "      <td>...</td>\n",
       "      <td>...</td>\n",
       "      <td>...</td>\n",
       "      <td>...</td>\n",
       "      <td>...</td>\n",
       "    </tr>\n",
       "    <tr>\n",
       "      <th>2745842</th>\n",
       "      <td>2020</td>\n",
       "      <td>2</td>\n",
       "      <td>6</td>\n",
       "      <td>13</td>\n",
       "      <td>6</td>\n",
       "      <td>6/13/2020</td>\n",
       "      <td>AS</td>\n",
       "      <td>1209</td>\n",
       "      <td>N413AS</td>\n",
       "      <td>SEA</td>\n",
       "      <td>Seattle, WA</td>\n",
       "      <td>WA</td>\n",
       "      <td>Washington</td>\n",
       "      <td>HNL</td>\n",
       "      <td>Honolulu, HI</td>\n",
       "      <td>HI</td>\n",
       "      <td>Hawaii</td>\n",
       "      <td>1050</td>\n",
       "      <td>1048.0</td>\n",
       "      <td>-2.0</td>\n",
       "      <td>0.0</td>\n",
       "      <td>0.0</td>\n",
       "      <td>-1.0</td>\n",
       "      <td>1000-1059</td>\n",
       "      <td>10.0</td>\n",
       "      <td>1058.0</td>\n",
       "      <td>1327.0</td>\n",
       "      <td>3.0</td>\n",
       "      <td>1405</td>\n",
       "      <td>1330.0</td>\n",
       "      <td>-35.0</td>\n",
       "      <td>0.0</td>\n",
       "      <td>0.0</td>\n",
       "      <td>-2.0</td>\n",
       "      <td>1400-1459</td>\n",
       "      <td>0</td>\n",
       "      <td>NaN</td>\n",
       "      <td>375.0</td>\n",
       "      <td>342.0</td>\n",
       "      <td>329.0</td>\n",
       "      <td>2677</td>\n",
       "      <td>11</td>\n",
       "      <td>NaN</td>\n",
       "      <td>NaN</td>\n",
       "      <td>NaN</td>\n",
       "      <td>NaN</td>\n",
       "      <td>NaN</td>\n",
       "    </tr>\n",
       "    <tr>\n",
       "      <th>2745843</th>\n",
       "      <td>2020</td>\n",
       "      <td>2</td>\n",
       "      <td>6</td>\n",
       "      <td>13</td>\n",
       "      <td>6</td>\n",
       "      <td>6/13/2020</td>\n",
       "      <td>AS</td>\n",
       "      <td>1216</td>\n",
       "      <td>N929VA</td>\n",
       "      <td>PHX</td>\n",
       "      <td>Phoenix, AZ</td>\n",
       "      <td>AZ</td>\n",
       "      <td>Arizona</td>\n",
       "      <td>SEA</td>\n",
       "      <td>Seattle, WA</td>\n",
       "      <td>WA</td>\n",
       "      <td>Washington</td>\n",
       "      <td>1530</td>\n",
       "      <td>1517.0</td>\n",
       "      <td>-13.0</td>\n",
       "      <td>0.0</td>\n",
       "      <td>0.0</td>\n",
       "      <td>-1.0</td>\n",
       "      <td>1500-1559</td>\n",
       "      <td>20.0</td>\n",
       "      <td>1537.0</td>\n",
       "      <td>1802.0</td>\n",
       "      <td>5.0</td>\n",
       "      <td>1826</td>\n",
       "      <td>1807.0</td>\n",
       "      <td>-19.0</td>\n",
       "      <td>0.0</td>\n",
       "      <td>0.0</td>\n",
       "      <td>-2.0</td>\n",
       "      <td>1800-1859</td>\n",
       "      <td>0</td>\n",
       "      <td>NaN</td>\n",
       "      <td>176.0</td>\n",
       "      <td>170.0</td>\n",
       "      <td>145.0</td>\n",
       "      <td>1107</td>\n",
       "      <td>5</td>\n",
       "      <td>NaN</td>\n",
       "      <td>NaN</td>\n",
       "      <td>NaN</td>\n",
       "      <td>NaN</td>\n",
       "      <td>NaN</td>\n",
       "    </tr>\n",
       "    <tr>\n",
       "      <th>2745844</th>\n",
       "      <td>2020</td>\n",
       "      <td>2</td>\n",
       "      <td>6</td>\n",
       "      <td>13</td>\n",
       "      <td>6</td>\n",
       "      <td>6/13/2020</td>\n",
       "      <td>AS</td>\n",
       "      <td>1217</td>\n",
       "      <td>N929VA</td>\n",
       "      <td>SEA</td>\n",
       "      <td>Seattle, WA</td>\n",
       "      <td>WA</td>\n",
       "      <td>Washington</td>\n",
       "      <td>PHX</td>\n",
       "      <td>Phoenix, AZ</td>\n",
       "      <td>AZ</td>\n",
       "      <td>Arizona</td>\n",
       "      <td>1100</td>\n",
       "      <td>1058.0</td>\n",
       "      <td>-2.0</td>\n",
       "      <td>0.0</td>\n",
       "      <td>0.0</td>\n",
       "      <td>-1.0</td>\n",
       "      <td>1100-1159</td>\n",
       "      <td>18.0</td>\n",
       "      <td>1116.0</td>\n",
       "      <td>1350.0</td>\n",
       "      <td>3.0</td>\n",
       "      <td>1405</td>\n",
       "      <td>1353.0</td>\n",
       "      <td>-12.0</td>\n",
       "      <td>0.0</td>\n",
       "      <td>0.0</td>\n",
       "      <td>-1.0</td>\n",
       "      <td>1400-1459</td>\n",
       "      <td>0</td>\n",
       "      <td>NaN</td>\n",
       "      <td>185.0</td>\n",
       "      <td>175.0</td>\n",
       "      <td>154.0</td>\n",
       "      <td>1107</td>\n",
       "      <td>5</td>\n",
       "      <td>NaN</td>\n",
       "      <td>NaN</td>\n",
       "      <td>NaN</td>\n",
       "      <td>NaN</td>\n",
       "      <td>NaN</td>\n",
       "    </tr>\n",
       "    <tr>\n",
       "      <th>2745845</th>\n",
       "      <td>2020</td>\n",
       "      <td>2</td>\n",
       "      <td>6</td>\n",
       "      <td>13</td>\n",
       "      <td>6</td>\n",
       "      <td>6/13/2020</td>\n",
       "      <td>AS</td>\n",
       "      <td>1223</td>\n",
       "      <td>N841VA</td>\n",
       "      <td>SNA</td>\n",
       "      <td>Santa Ana, CA</td>\n",
       "      <td>CA</td>\n",
       "      <td>California</td>\n",
       "      <td>SEA</td>\n",
       "      <td>Seattle, WA</td>\n",
       "      <td>WA</td>\n",
       "      <td>Washington</td>\n",
       "      <td>1510</td>\n",
       "      <td>1459.0</td>\n",
       "      <td>-11.0</td>\n",
       "      <td>0.0</td>\n",
       "      <td>0.0</td>\n",
       "      <td>-1.0</td>\n",
       "      <td>1500-1559</td>\n",
       "      <td>14.0</td>\n",
       "      <td>1513.0</td>\n",
       "      <td>1738.0</td>\n",
       "      <td>5.0</td>\n",
       "      <td>1755</td>\n",
       "      <td>1743.0</td>\n",
       "      <td>-12.0</td>\n",
       "      <td>0.0</td>\n",
       "      <td>0.0</td>\n",
       "      <td>-1.0</td>\n",
       "      <td>1700-1759</td>\n",
       "      <td>0</td>\n",
       "      <td>NaN</td>\n",
       "      <td>165.0</td>\n",
       "      <td>164.0</td>\n",
       "      <td>145.0</td>\n",
       "      <td>978</td>\n",
       "      <td>4</td>\n",
       "      <td>NaN</td>\n",
       "      <td>NaN</td>\n",
       "      <td>NaN</td>\n",
       "      <td>NaN</td>\n",
       "      <td>NaN</td>\n",
       "    </tr>\n",
       "    <tr>\n",
       "      <th>2745846</th>\n",
       "      <td>2020</td>\n",
       "      <td>2</td>\n",
       "      <td>6</td>\n",
       "      <td>13</td>\n",
       "      <td>6</td>\n",
       "      <td>6/13/2020</td>\n",
       "      <td>AS</td>\n",
       "      <td>1229</td>\n",
       "      <td>N413AS</td>\n",
       "      <td>HNL</td>\n",
       "      <td>Honolulu, HI</td>\n",
       "      <td>HI</td>\n",
       "      <td>Hawaii</td>\n",
       "      <td>SEA</td>\n",
       "      <td>Seattle, WA</td>\n",
       "      <td>WA</td>\n",
       "      <td>Washington</td>\n",
       "      <td>1520</td>\n",
       "      <td>1515.0</td>\n",
       "      <td>-5.0</td>\n",
       "      <td>0.0</td>\n",
       "      <td>0.0</td>\n",
       "      <td>-1.0</td>\n",
       "      <td>1500-1559</td>\n",
       "      <td>17.0</td>\n",
       "      <td>1532.0</td>\n",
       "      <td>2348.0</td>\n",
       "      <td>5.0</td>\n",
       "      <td>2358</td>\n",
       "      <td>2353.0</td>\n",
       "      <td>-5.0</td>\n",
       "      <td>0.0</td>\n",
       "      <td>0.0</td>\n",
       "      <td>-1.0</td>\n",
       "      <td>2300-2359</td>\n",
       "      <td>0</td>\n",
       "      <td>NaN</td>\n",
       "      <td>338.0</td>\n",
       "      <td>338.0</td>\n",
       "      <td>316.0</td>\n",
       "      <td>2677</td>\n",
       "      <td>11</td>\n",
       "      <td>NaN</td>\n",
       "      <td>NaN</td>\n",
       "      <td>NaN</td>\n",
       "      <td>NaN</td>\n",
       "      <td>NaN</td>\n",
       "    </tr>\n",
       "  </tbody>\n",
       "</table>\n",
       "<p>2745847 rows × 47 columns</p>\n",
       "</div>"
      ],
      "text/plain": [
       "         YEAR  QUARTER  MONTH  DAY_OF_MONTH  DAY_OF_WEEK    FL_DATE  \\\n",
       "0        2020        1      1             1            3   1/1/2020   \n",
       "1        2020        1      1             1            3   1/1/2020   \n",
       "2        2020        1      1             1            3   1/1/2020   \n",
       "3        2020        1      1             1            3   1/1/2020   \n",
       "4        2020        1      1             1            3   1/1/2020   \n",
       "...       ...      ...    ...           ...          ...        ...   \n",
       "2745842  2020        2      6            13            6  6/13/2020   \n",
       "2745843  2020        2      6            13            6  6/13/2020   \n",
       "2745844  2020        2      6            13            6  6/13/2020   \n",
       "2745845  2020        2      6            13            6  6/13/2020   \n",
       "2745846  2020        2      6            13            6  6/13/2020   \n",
       "\n",
       "        MKT_UNIQUE_CARRIER  MKT_CARRIER_FL_NUM TAIL_NUM ORIGIN  \\\n",
       "0                       WN                5888   N951WN    ONT   \n",
       "1                       WN                6276   N467WN    ONT   \n",
       "2                       WN                4598   N7885A    ONT   \n",
       "3                       WN                4761   N551WN    ONT   \n",
       "4                       WN                5162   N968WN    ONT   \n",
       "...                    ...                 ...      ...    ...   \n",
       "2745842                 AS                1209   N413AS    SEA   \n",
       "2745843                 AS                1216   N929VA    PHX   \n",
       "2745844                 AS                1217   N929VA    SEA   \n",
       "2745845                 AS                1223   N841VA    SNA   \n",
       "2745846                 AS                1229   N413AS    HNL   \n",
       "\n",
       "        ORIGIN_CITY_NAME ORIGIN_STATE_ABR ORIGIN_STATE_NM DEST  \\\n",
       "0            Ontario, CA               CA      California  SFO   \n",
       "1            Ontario, CA               CA      California  SFO   \n",
       "2            Ontario, CA               CA      California  SJC   \n",
       "3            Ontario, CA               CA      California  SJC   \n",
       "4            Ontario, CA               CA      California  SJC   \n",
       "...                  ...              ...             ...  ...   \n",
       "2745842      Seattle, WA               WA      Washington  HNL   \n",
       "2745843      Phoenix, AZ               AZ         Arizona  SEA   \n",
       "2745844      Seattle, WA               WA      Washington  PHX   \n",
       "2745845    Santa Ana, CA               CA      California  SEA   \n",
       "2745846     Honolulu, HI               HI          Hawaii  SEA   \n",
       "\n",
       "            DEST_CITY_NAME DEST_STATE_ABR DEST_STATE_NM  CRS_DEP_TIME  \\\n",
       "0        San Francisco, CA             CA    California          1810   \n",
       "1        San Francisco, CA             CA    California          1150   \n",
       "2             San Jose, CA             CA    California          2020   \n",
       "3             San Jose, CA             CA    California          1340   \n",
       "4             San Jose, CA             CA    California           915   \n",
       "...                    ...            ...           ...           ...   \n",
       "2745842       Honolulu, HI             HI        Hawaii          1050   \n",
       "2745843        Seattle, WA             WA    Washington          1530   \n",
       "2745844        Phoenix, AZ             AZ       Arizona          1100   \n",
       "2745845        Seattle, WA             WA    Washington          1510   \n",
       "2745846        Seattle, WA             WA    Washington          1520   \n",
       "\n",
       "         DEP_TIME  DEP_DELAY  DEP_DELAY_NEW  DEP_DEL15  DEP_DELAY_GROUP  \\\n",
       "0          1851.0       41.0           41.0        1.0              2.0   \n",
       "1          1146.0       -4.0            0.0        0.0             -1.0   \n",
       "2          2016.0       -4.0            0.0        0.0             -1.0   \n",
       "3          1350.0       10.0           10.0        0.0              0.0   \n",
       "4           916.0        1.0            1.0        0.0              0.0   \n",
       "...           ...        ...            ...        ...              ...   \n",
       "2745842    1048.0       -2.0            0.0        0.0             -1.0   \n",
       "2745843    1517.0      -13.0            0.0        0.0             -1.0   \n",
       "2745844    1058.0       -2.0            0.0        0.0             -1.0   \n",
       "2745845    1459.0      -11.0            0.0        0.0             -1.0   \n",
       "2745846    1515.0       -5.0            0.0        0.0             -1.0   \n",
       "\n",
       "        DEP_TIME_BLK  TAXI_OUT  WHEELS_OFF  WHEELS_ON  TAXI_IN  CRS_ARR_TIME  \\\n",
       "0          1800-1859      44.0      1935.0     2049.0      4.0          1945   \n",
       "1          1100-1159      13.0      1159.0     1310.0      8.0          1320   \n",
       "2          2000-2059       8.0      2024.0     2121.0      3.0          2130   \n",
       "3          1300-1359      10.0      1400.0     1503.0      2.0          1455   \n",
       "4          0900-0959       6.0       922.0     1019.0      4.0          1035   \n",
       "...              ...       ...         ...        ...      ...           ...   \n",
       "2745842    1000-1059      10.0      1058.0     1327.0      3.0          1405   \n",
       "2745843    1500-1559      20.0      1537.0     1802.0      5.0          1826   \n",
       "2745844    1100-1159      18.0      1116.0     1350.0      3.0          1405   \n",
       "2745845    1500-1559      14.0      1513.0     1738.0      5.0          1755   \n",
       "2745846    1500-1559      17.0      1532.0     2348.0      5.0          2358   \n",
       "\n",
       "         ARR_TIME  ARR_DELAY  ARR_DELAY_NEW  ARR_DEL15  ARR_DELAY_GROUP  \\\n",
       "0          2053.0       68.0           68.0        1.0              4.0   \n",
       "1          1318.0       -2.0            0.0        0.0             -1.0   \n",
       "2          2124.0       -6.0            0.0        0.0             -1.0   \n",
       "3          1505.0       10.0           10.0        0.0              0.0   \n",
       "4          1023.0      -12.0            0.0        0.0             -1.0   \n",
       "...           ...        ...            ...        ...              ...   \n",
       "2745842    1330.0      -35.0            0.0        0.0             -2.0   \n",
       "2745843    1807.0      -19.0            0.0        0.0             -2.0   \n",
       "2745844    1353.0      -12.0            0.0        0.0             -1.0   \n",
       "2745845    1743.0      -12.0            0.0        0.0             -1.0   \n",
       "2745846    2353.0       -5.0            0.0        0.0             -1.0   \n",
       "\n",
       "        ARR_TIME_BLK  CANCELLED CANCELLATION_CODE  CRS_ELAPSED_TIME  \\\n",
       "0          1900-1959          0               NaN              95.0   \n",
       "1          1300-1359          0               NaN              90.0   \n",
       "2          2100-2159          0               NaN              70.0   \n",
       "3          1400-1459          0               NaN              75.0   \n",
       "4          1000-1059          0               NaN              80.0   \n",
       "...              ...        ...               ...               ...   \n",
       "2745842    1400-1459          0               NaN             375.0   \n",
       "2745843    1800-1859          0               NaN             176.0   \n",
       "2745844    1400-1459          0               NaN             185.0   \n",
       "2745845    1700-1759          0               NaN             165.0   \n",
       "2745846    2300-2359          0               NaN             338.0   \n",
       "\n",
       "         ACTUAL_ELAPSED_TIME  AIR_TIME  DISTANCE  DISTANCE_GROUP  \\\n",
       "0                      122.0      74.0       363               2   \n",
       "1                       92.0      71.0       363               2   \n",
       "2                       68.0      57.0       333               2   \n",
       "3                       75.0      63.0       333               2   \n",
       "4                       67.0      57.0       333               2   \n",
       "...                      ...       ...       ...             ...   \n",
       "2745842                342.0     329.0      2677              11   \n",
       "2745843                170.0     145.0      1107               5   \n",
       "2745844                175.0     154.0      1107               5   \n",
       "2745845                164.0     145.0       978               4   \n",
       "2745846                338.0     316.0      2677              11   \n",
       "\n",
       "         CARRIER_DELAY  WEATHER_DELAY  NAS_DELAY  SECURITY_DELAY  \\\n",
       "0                  8.0            0.0       27.0             0.0   \n",
       "1                  NaN            NaN        NaN             NaN   \n",
       "2                  NaN            NaN        NaN             NaN   \n",
       "3                  NaN            NaN        NaN             NaN   \n",
       "4                  NaN            NaN        NaN             NaN   \n",
       "...                ...            ...        ...             ...   \n",
       "2745842            NaN            NaN        NaN             NaN   \n",
       "2745843            NaN            NaN        NaN             NaN   \n",
       "2745844            NaN            NaN        NaN             NaN   \n",
       "2745845            NaN            NaN        NaN             NaN   \n",
       "2745846            NaN            NaN        NaN             NaN   \n",
       "\n",
       "         LATE_AIRCRAFT_DELAY  \n",
       "0                       33.0  \n",
       "1                        NaN  \n",
       "2                        NaN  \n",
       "3                        NaN  \n",
       "4                        NaN  \n",
       "...                      ...  \n",
       "2745842                  NaN  \n",
       "2745843                  NaN  \n",
       "2745844                  NaN  \n",
       "2745845                  NaN  \n",
       "2745846                  NaN  \n",
       "\n",
       "[2745847 rows x 47 columns]"
      ]
     },
     "execution_count": 261,
     "metadata": {},
     "output_type": "execute_result"
    }
   ],
   "source": [
    "df"
   ]
  },
  {
   "cell_type": "code",
   "execution_count": 262,
   "id": "cdfc81a4",
   "metadata": {},
   "outputs": [
    {
     "data": {
      "text/plain": [
       "(2745847, 47)"
      ]
     },
     "execution_count": 262,
     "metadata": {},
     "output_type": "execute_result"
    }
   ],
   "source": [
    "df.shape"
   ]
  },
  {
   "cell_type": "code",
   "execution_count": 263,
   "id": "2c30c5bf",
   "metadata": {},
   "outputs": [],
   "source": [
    "# Function to get current date and time as a string\n",
    "def get_current_datetime():\n",
    "    return datetime.now().strftime(\"%Y-%m-%d %H:%M:%S\")"
   ]
  },
  {
   "cell_type": "markdown",
   "id": "cb03c9cf",
   "metadata": {},
   "source": [
    "# Data Preparation"
   ]
  },
  {
   "cell_type": "markdown",
   "id": "4ae5f512",
   "metadata": {},
   "source": [
    "## Data Statistics"
   ]
  },
  {
   "cell_type": "code",
   "execution_count": 264,
   "id": "789826d8",
   "metadata": {},
   "outputs": [
    {
     "name": "stdout",
     "output_type": "stream",
     "text": [
      "Missing values per column:\n"
     ]
    },
    {
     "data": {
      "text/plain": [
       "YEAR                         0\n",
       "QUARTER                      0\n",
       "MONTH                        0\n",
       "DAY_OF_MONTH                 0\n",
       "DAY_OF_WEEK                  0\n",
       "FL_DATE                      0\n",
       "MKT_UNIQUE_CARRIER           0\n",
       "MKT_CARRIER_FL_NUM           0\n",
       "TAIL_NUM                162927\n",
       "ORIGIN                       0\n",
       "ORIGIN_CITY_NAME             0\n",
       "ORIGIN_STATE_ABR             0\n",
       "ORIGIN_STATE_NM              0\n",
       "DEST                         0\n",
       "DEST_CITY_NAME               0\n",
       "DEST_STATE_ABR               0\n",
       "DEST_STATE_NM                0\n",
       "CRS_DEP_TIME                 0\n",
       "DEP_TIME                281937\n",
       "DEP_DELAY               281992\n",
       "DEP_DELAY_NEW           281992\n",
       "DEP_DEL15               281992\n",
       "DEP_DELAY_GROUP         281992\n",
       "DEP_TIME_BLK                 0\n",
       "TAXI_OUT                282493\n",
       "WHEELS_OFF              282493\n",
       "WHEELS_ON               283554\n",
       "TAXI_IN                 283554\n",
       "CRS_ARR_TIME                 0\n",
       "ARR_TIME                283554\n",
       "ARR_DELAY               287334\n",
       "ARR_DELAY_NEW           287334\n",
       "ARR_DEL15               287334\n",
       "ARR_DELAY_GROUP         287334\n",
       "ARR_TIME_BLK                 0\n",
       "CANCELLED                    0\n",
       "CANCELLATION_CODE      2462921\n",
       "CRS_ELAPSED_TIME             2\n",
       "ACTUAL_ELAPSED_TIME     287334\n",
       "AIR_TIME                287334\n",
       "DISTANCE                     0\n",
       "DISTANCE_GROUP               0\n",
       "CARRIER_DELAY          2467621\n",
       "WEATHER_DELAY          2467621\n",
       "NAS_DELAY              2467621\n",
       "SECURITY_DELAY         2467621\n",
       "LATE_AIRCRAFT_DELAY    2467621\n",
       "dtype: int64"
      ]
     },
     "execution_count": 264,
     "metadata": {},
     "output_type": "execute_result"
    }
   ],
   "source": [
    "# Check for missing values\n",
    "print(\"Missing values per column:\")\n",
    "df.isnull().sum()"
   ]
  },
  {
   "cell_type": "code",
   "execution_count": 265,
   "id": "4b3ed600",
   "metadata": {},
   "outputs": [
    {
     "name": "stdout",
     "output_type": "stream",
     "text": [
      "\n",
      "Data types:\n"
     ]
    },
    {
     "data": {
      "text/plain": [
       "YEAR                     int64\n",
       "QUARTER                  int64\n",
       "MONTH                    int64\n",
       "DAY_OF_MONTH             int64\n",
       "DAY_OF_WEEK              int64\n",
       "FL_DATE                 object\n",
       "MKT_UNIQUE_CARRIER      object\n",
       "MKT_CARRIER_FL_NUM       int64\n",
       "TAIL_NUM                object\n",
       "ORIGIN                  object\n",
       "ORIGIN_CITY_NAME        object\n",
       "ORIGIN_STATE_ABR        object\n",
       "ORIGIN_STATE_NM         object\n",
       "DEST                    object\n",
       "DEST_CITY_NAME          object\n",
       "DEST_STATE_ABR          object\n",
       "DEST_STATE_NM           object\n",
       "CRS_DEP_TIME             int64\n",
       "DEP_TIME               float64\n",
       "DEP_DELAY              float64\n",
       "DEP_DELAY_NEW          float64\n",
       "DEP_DEL15              float64\n",
       "DEP_DELAY_GROUP        float64\n",
       "DEP_TIME_BLK            object\n",
       "TAXI_OUT               float64\n",
       "WHEELS_OFF             float64\n",
       "WHEELS_ON              float64\n",
       "TAXI_IN                float64\n",
       "CRS_ARR_TIME             int64\n",
       "ARR_TIME               float64\n",
       "ARR_DELAY              float64\n",
       "ARR_DELAY_NEW          float64\n",
       "ARR_DEL15              float64\n",
       "ARR_DELAY_GROUP        float64\n",
       "ARR_TIME_BLK            object\n",
       "CANCELLED                int64\n",
       "CANCELLATION_CODE       object\n",
       "CRS_ELAPSED_TIME       float64\n",
       "ACTUAL_ELAPSED_TIME    float64\n",
       "AIR_TIME               float64\n",
       "DISTANCE                 int64\n",
       "DISTANCE_GROUP           int64\n",
       "CARRIER_DELAY          float64\n",
       "WEATHER_DELAY          float64\n",
       "NAS_DELAY              float64\n",
       "SECURITY_DELAY         float64\n",
       "LATE_AIRCRAFT_DELAY    float64\n",
       "dtype: object"
      ]
     },
     "execution_count": 265,
     "metadata": {},
     "output_type": "execute_result"
    }
   ],
   "source": [
    "# Display data types\n",
    "print(\"\\nData types:\")\n",
    "df.dtypes"
   ]
  },
  {
   "cell_type": "code",
   "execution_count": 266,
   "id": "31a66a48",
   "metadata": {},
   "outputs": [
    {
     "name": "stdout",
     "output_type": "stream",
     "text": [
      "\n",
      "Summary statistics:\n"
     ]
    },
    {
     "data": {
      "text/html": [
       "<div>\n",
       "<style scoped>\n",
       "    .dataframe tbody tr th:only-of-type {\n",
       "        vertical-align: middle;\n",
       "    }\n",
       "\n",
       "    .dataframe tbody tr th {\n",
       "        vertical-align: top;\n",
       "    }\n",
       "\n",
       "    .dataframe thead th {\n",
       "        text-align: right;\n",
       "    }\n",
       "</style>\n",
       "<table border=\"1\" class=\"dataframe\">\n",
       "  <thead>\n",
       "    <tr style=\"text-align: right;\">\n",
       "      <th></th>\n",
       "      <th>YEAR</th>\n",
       "      <th>QUARTER</th>\n",
       "      <th>MONTH</th>\n",
       "      <th>DAY_OF_MONTH</th>\n",
       "      <th>DAY_OF_WEEK</th>\n",
       "      <th>FL_DATE</th>\n",
       "      <th>MKT_UNIQUE_CARRIER</th>\n",
       "      <th>MKT_CARRIER_FL_NUM</th>\n",
       "      <th>TAIL_NUM</th>\n",
       "      <th>ORIGIN</th>\n",
       "      <th>ORIGIN_CITY_NAME</th>\n",
       "      <th>ORIGIN_STATE_ABR</th>\n",
       "      <th>ORIGIN_STATE_NM</th>\n",
       "      <th>DEST</th>\n",
       "      <th>DEST_CITY_NAME</th>\n",
       "      <th>DEST_STATE_ABR</th>\n",
       "      <th>DEST_STATE_NM</th>\n",
       "      <th>CRS_DEP_TIME</th>\n",
       "      <th>DEP_TIME</th>\n",
       "      <th>DEP_DELAY</th>\n",
       "      <th>DEP_DELAY_NEW</th>\n",
       "      <th>DEP_DEL15</th>\n",
       "      <th>DEP_DELAY_GROUP</th>\n",
       "      <th>DEP_TIME_BLK</th>\n",
       "      <th>TAXI_OUT</th>\n",
       "      <th>WHEELS_OFF</th>\n",
       "      <th>WHEELS_ON</th>\n",
       "      <th>TAXI_IN</th>\n",
       "      <th>CRS_ARR_TIME</th>\n",
       "      <th>ARR_TIME</th>\n",
       "      <th>ARR_DELAY</th>\n",
       "      <th>ARR_DELAY_NEW</th>\n",
       "      <th>ARR_DEL15</th>\n",
       "      <th>ARR_DELAY_GROUP</th>\n",
       "      <th>ARR_TIME_BLK</th>\n",
       "      <th>CANCELLED</th>\n",
       "      <th>CANCELLATION_CODE</th>\n",
       "      <th>CRS_ELAPSED_TIME</th>\n",
       "      <th>ACTUAL_ELAPSED_TIME</th>\n",
       "      <th>AIR_TIME</th>\n",
       "      <th>DISTANCE</th>\n",
       "      <th>DISTANCE_GROUP</th>\n",
       "      <th>CARRIER_DELAY</th>\n",
       "      <th>WEATHER_DELAY</th>\n",
       "      <th>NAS_DELAY</th>\n",
       "      <th>SECURITY_DELAY</th>\n",
       "      <th>LATE_AIRCRAFT_DELAY</th>\n",
       "    </tr>\n",
       "  </thead>\n",
       "  <tbody>\n",
       "    <tr>\n",
       "      <th>count</th>\n",
       "      <td>2745847.0</td>\n",
       "      <td>2.745847e+06</td>\n",
       "      <td>2.745847e+06</td>\n",
       "      <td>2.745847e+06</td>\n",
       "      <td>2.745847e+06</td>\n",
       "      <td>2745847</td>\n",
       "      <td>2745847</td>\n",
       "      <td>2.745847e+06</td>\n",
       "      <td>2582920</td>\n",
       "      <td>2745847</td>\n",
       "      <td>2745847</td>\n",
       "      <td>2745847</td>\n",
       "      <td>2745847</td>\n",
       "      <td>2745847</td>\n",
       "      <td>2745847</td>\n",
       "      <td>2745847</td>\n",
       "      <td>2745847</td>\n",
       "      <td>2.745847e+06</td>\n",
       "      <td>2.463910e+06</td>\n",
       "      <td>2.463855e+06</td>\n",
       "      <td>2.463855e+06</td>\n",
       "      <td>2.463855e+06</td>\n",
       "      <td>2.463855e+06</td>\n",
       "      <td>2745847</td>\n",
       "      <td>2.463354e+06</td>\n",
       "      <td>2.463354e+06</td>\n",
       "      <td>2.462293e+06</td>\n",
       "      <td>2.462293e+06</td>\n",
       "      <td>2.745847e+06</td>\n",
       "      <td>2.462293e+06</td>\n",
       "      <td>2.458513e+06</td>\n",
       "      <td>2.458513e+06</td>\n",
       "      <td>2.458513e+06</td>\n",
       "      <td>2.458513e+06</td>\n",
       "      <td>2745847</td>\n",
       "      <td>2.745847e+06</td>\n",
       "      <td>282926</td>\n",
       "      <td>2.745845e+06</td>\n",
       "      <td>2.458513e+06</td>\n",
       "      <td>2.458513e+06</td>\n",
       "      <td>2.745847e+06</td>\n",
       "      <td>2.745847e+06</td>\n",
       "      <td>278226.000000</td>\n",
       "      <td>278226.000000</td>\n",
       "      <td>278226.000000</td>\n",
       "      <td>278226.000000</td>\n",
       "      <td>278226.000000</td>\n",
       "    </tr>\n",
       "    <tr>\n",
       "      <th>unique</th>\n",
       "      <td>NaN</td>\n",
       "      <td>NaN</td>\n",
       "      <td>NaN</td>\n",
       "      <td>NaN</td>\n",
       "      <td>NaN</td>\n",
       "      <td>182</td>\n",
       "      <td>10</td>\n",
       "      <td>NaN</td>\n",
       "      <td>6079</td>\n",
       "      <td>375</td>\n",
       "      <td>368</td>\n",
       "      <td>52</td>\n",
       "      <td>52</td>\n",
       "      <td>375</td>\n",
       "      <td>368</td>\n",
       "      <td>52</td>\n",
       "      <td>52</td>\n",
       "      <td>NaN</td>\n",
       "      <td>NaN</td>\n",
       "      <td>NaN</td>\n",
       "      <td>NaN</td>\n",
       "      <td>NaN</td>\n",
       "      <td>NaN</td>\n",
       "      <td>19</td>\n",
       "      <td>NaN</td>\n",
       "      <td>NaN</td>\n",
       "      <td>NaN</td>\n",
       "      <td>NaN</td>\n",
       "      <td>NaN</td>\n",
       "      <td>NaN</td>\n",
       "      <td>NaN</td>\n",
       "      <td>NaN</td>\n",
       "      <td>NaN</td>\n",
       "      <td>NaN</td>\n",
       "      <td>19</td>\n",
       "      <td>NaN</td>\n",
       "      <td>4</td>\n",
       "      <td>NaN</td>\n",
       "      <td>NaN</td>\n",
       "      <td>NaN</td>\n",
       "      <td>NaN</td>\n",
       "      <td>NaN</td>\n",
       "      <td>NaN</td>\n",
       "      <td>NaN</td>\n",
       "      <td>NaN</td>\n",
       "      <td>NaN</td>\n",
       "      <td>NaN</td>\n",
       "    </tr>\n",
       "    <tr>\n",
       "      <th>top</th>\n",
       "      <td>NaN</td>\n",
       "      <td>NaN</td>\n",
       "      <td>NaN</td>\n",
       "      <td>NaN</td>\n",
       "      <td>NaN</td>\n",
       "      <td>3/20/2020</td>\n",
       "      <td>AA</td>\n",
       "      <td>NaN</td>\n",
       "      <td>N494HA</td>\n",
       "      <td>ATL</td>\n",
       "      <td>Chicago, IL</td>\n",
       "      <td>TX</td>\n",
       "      <td>Texas</td>\n",
       "      <td>ATL</td>\n",
       "      <td>Chicago, IL</td>\n",
       "      <td>TX</td>\n",
       "      <td>Texas</td>\n",
       "      <td>NaN</td>\n",
       "      <td>NaN</td>\n",
       "      <td>NaN</td>\n",
       "      <td>NaN</td>\n",
       "      <td>NaN</td>\n",
       "      <td>NaN</td>\n",
       "      <td>0700-0759</td>\n",
       "      <td>NaN</td>\n",
       "      <td>NaN</td>\n",
       "      <td>NaN</td>\n",
       "      <td>NaN</td>\n",
       "      <td>NaN</td>\n",
       "      <td>NaN</td>\n",
       "      <td>NaN</td>\n",
       "      <td>NaN</td>\n",
       "      <td>NaN</td>\n",
       "      <td>NaN</td>\n",
       "      <td>1600-1659</td>\n",
       "      <td>NaN</td>\n",
       "      <td>D</td>\n",
       "      <td>NaN</td>\n",
       "      <td>NaN</td>\n",
       "      <td>NaN</td>\n",
       "      <td>NaN</td>\n",
       "      <td>NaN</td>\n",
       "      <td>NaN</td>\n",
       "      <td>NaN</td>\n",
       "      <td>NaN</td>\n",
       "      <td>NaN</td>\n",
       "      <td>NaN</td>\n",
       "    </tr>\n",
       "    <tr>\n",
       "      <th>freq</th>\n",
       "      <td>NaN</td>\n",
       "      <td>NaN</td>\n",
       "      <td>NaN</td>\n",
       "      <td>NaN</td>\n",
       "      <td>NaN</td>\n",
       "      <td>23956</td>\n",
       "      <td>735559</td>\n",
       "      <td>NaN</td>\n",
       "      <td>1106</td>\n",
       "      <td>128166</td>\n",
       "      <td>159609</td>\n",
       "      <td>287693</td>\n",
       "      <td>287693</td>\n",
       "      <td>128263</td>\n",
       "      <td>159653</td>\n",
       "      <td>287645</td>\n",
       "      <td>287645</td>\n",
       "      <td>NaN</td>\n",
       "      <td>NaN</td>\n",
       "      <td>NaN</td>\n",
       "      <td>NaN</td>\n",
       "      <td>NaN</td>\n",
       "      <td>NaN</td>\n",
       "      <td>188892</td>\n",
       "      <td>NaN</td>\n",
       "      <td>NaN</td>\n",
       "      <td>NaN</td>\n",
       "      <td>NaN</td>\n",
       "      <td>NaN</td>\n",
       "      <td>NaN</td>\n",
       "      <td>NaN</td>\n",
       "      <td>NaN</td>\n",
       "      <td>NaN</td>\n",
       "      <td>NaN</td>\n",
       "      <td>180483</td>\n",
       "      <td>NaN</td>\n",
       "      <td>246293</td>\n",
       "      <td>NaN</td>\n",
       "      <td>NaN</td>\n",
       "      <td>NaN</td>\n",
       "      <td>NaN</td>\n",
       "      <td>NaN</td>\n",
       "      <td>NaN</td>\n",
       "      <td>NaN</td>\n",
       "      <td>NaN</td>\n",
       "      <td>NaN</td>\n",
       "      <td>NaN</td>\n",
       "    </tr>\n",
       "    <tr>\n",
       "      <th>mean</th>\n",
       "      <td>2020.0</td>\n",
       "      <td>1.277114e+00</td>\n",
       "      <td>2.811948e+00</td>\n",
       "      <td>1.548115e+01</td>\n",
       "      <td>3.963960e+00</td>\n",
       "      <td>NaN</td>\n",
       "      <td>NaN</td>\n",
       "      <td>2.714583e+03</td>\n",
       "      <td>NaN</td>\n",
       "      <td>NaN</td>\n",
       "      <td>NaN</td>\n",
       "      <td>NaN</td>\n",
       "      <td>NaN</td>\n",
       "      <td>NaN</td>\n",
       "      <td>NaN</td>\n",
       "      <td>NaN</td>\n",
       "      <td>NaN</td>\n",
       "      <td>1.325110e+03</td>\n",
       "      <td>1.325076e+03</td>\n",
       "      <td>3.469542e+00</td>\n",
       "      <td>8.093630e+00</td>\n",
       "      <td>1.094963e-01</td>\n",
       "      <td>-3.725580e-01</td>\n",
       "      <td>NaN</td>\n",
       "      <td>1.603596e+01</td>\n",
       "      <td>1.349569e+03</td>\n",
       "      <td>1.470827e+03</td>\n",
       "      <td>7.007121e+00</td>\n",
       "      <td>1.490211e+03</td>\n",
       "      <td>1.476626e+03</td>\n",
       "      <td>-4.405264e+00</td>\n",
       "      <td>8.038959e+00</td>\n",
       "      <td>1.131684e-01</td>\n",
       "      <td>-7.507026e-01</td>\n",
       "      <td>NaN</td>\n",
       "      <td>1.030378e-01</td>\n",
       "      <td>NaN</td>\n",
       "      <td>1.372010e+02</td>\n",
       "      <td>1.298110e+02</td>\n",
       "      <td>1.067751e+02</td>\n",
       "      <td>7.539543e+02</td>\n",
       "      <td>3.493924e+00</td>\n",
       "      <td>24.748298</td>\n",
       "      <td>3.768045</td>\n",
       "      <td>14.474571</td>\n",
       "      <td>0.090412</td>\n",
       "      <td>21.617246</td>\n",
       "    </tr>\n",
       "    <tr>\n",
       "      <th>std</th>\n",
       "      <td>0.0</td>\n",
       "      <td>4.475736e-01</td>\n",
       "      <td>1.527229e+00</td>\n",
       "      <td>8.799480e+00</td>\n",
       "      <td>1.993749e+00</td>\n",
       "      <td>NaN</td>\n",
       "      <td>NaN</td>\n",
       "      <td>1.829519e+03</td>\n",
       "      <td>NaN</td>\n",
       "      <td>NaN</td>\n",
       "      <td>NaN</td>\n",
       "      <td>NaN</td>\n",
       "      <td>NaN</td>\n",
       "      <td>NaN</td>\n",
       "      <td>NaN</td>\n",
       "      <td>NaN</td>\n",
       "      <td>NaN</td>\n",
       "      <td>4.786911e+02</td>\n",
       "      <td>4.859642e+02</td>\n",
       "      <td>3.927404e+01</td>\n",
       "      <td>3.806698e+01</td>\n",
       "      <td>3.122609e-01</td>\n",
       "      <td>1.769355e+00</td>\n",
       "      <td>NaN</td>\n",
       "      <td>8.893133e+00</td>\n",
       "      <td>4.858066e+02</td>\n",
       "      <td>5.066435e+02</td>\n",
       "      <td>5.276935e+00</td>\n",
       "      <td>5.038733e+02</td>\n",
       "      <td>5.096350e+02</td>\n",
       "      <td>4.138908e+01</td>\n",
       "      <td>3.729379e+01</td>\n",
       "      <td>3.167986e-01</td>\n",
       "      <td>1.918962e+00</td>\n",
       "      <td>NaN</td>\n",
       "      <td>3.040083e-01</td>\n",
       "      <td>NaN</td>\n",
       "      <td>6.899053e+01</td>\n",
       "      <td>6.895146e+01</td>\n",
       "      <td>6.752781e+01</td>\n",
       "      <td>5.580195e+02</td>\n",
       "      <td>2.203873e+00</td>\n",
       "      <td>74.229054</td>\n",
       "      <td>31.682242</td>\n",
       "      <td>32.595644</td>\n",
       "      <td>3.371606</td>\n",
       "      <td>52.738680</td>\n",
       "    </tr>\n",
       "    <tr>\n",
       "      <th>min</th>\n",
       "      <td>2020.0</td>\n",
       "      <td>1.000000e+00</td>\n",
       "      <td>1.000000e+00</td>\n",
       "      <td>1.000000e+00</td>\n",
       "      <td>1.000000e+00</td>\n",
       "      <td>NaN</td>\n",
       "      <td>NaN</td>\n",
       "      <td>1.000000e+00</td>\n",
       "      <td>NaN</td>\n",
       "      <td>NaN</td>\n",
       "      <td>NaN</td>\n",
       "      <td>NaN</td>\n",
       "      <td>NaN</td>\n",
       "      <td>NaN</td>\n",
       "      <td>NaN</td>\n",
       "      <td>NaN</td>\n",
       "      <td>NaN</td>\n",
       "      <td>1.000000e+00</td>\n",
       "      <td>1.000000e+00</td>\n",
       "      <td>-8.000000e+01</td>\n",
       "      <td>0.000000e+00</td>\n",
       "      <td>0.000000e+00</td>\n",
       "      <td>-2.000000e+00</td>\n",
       "      <td>NaN</td>\n",
       "      <td>0.000000e+00</td>\n",
       "      <td>1.000000e+00</td>\n",
       "      <td>1.000000e+00</td>\n",
       "      <td>0.000000e+00</td>\n",
       "      <td>1.000000e+00</td>\n",
       "      <td>1.000000e+00</td>\n",
       "      <td>-1.170000e+02</td>\n",
       "      <td>0.000000e+00</td>\n",
       "      <td>0.000000e+00</td>\n",
       "      <td>-2.000000e+00</td>\n",
       "      <td>NaN</td>\n",
       "      <td>0.000000e+00</td>\n",
       "      <td>NaN</td>\n",
       "      <td>-7.700000e+01</td>\n",
       "      <td>1.300000e+01</td>\n",
       "      <td>7.000000e+00</td>\n",
       "      <td>2.900000e+01</td>\n",
       "      <td>1.000000e+00</td>\n",
       "      <td>0.000000</td>\n",
       "      <td>0.000000</td>\n",
       "      <td>0.000000</td>\n",
       "      <td>0.000000</td>\n",
       "      <td>0.000000</td>\n",
       "    </tr>\n",
       "    <tr>\n",
       "      <th>25%</th>\n",
       "      <td>2020.0</td>\n",
       "      <td>1.000000e+00</td>\n",
       "      <td>2.000000e+00</td>\n",
       "      <td>8.000000e+00</td>\n",
       "      <td>2.000000e+00</td>\n",
       "      <td>NaN</td>\n",
       "      <td>NaN</td>\n",
       "      <td>1.108000e+03</td>\n",
       "      <td>NaN</td>\n",
       "      <td>NaN</td>\n",
       "      <td>NaN</td>\n",
       "      <td>NaN</td>\n",
       "      <td>NaN</td>\n",
       "      <td>NaN</td>\n",
       "      <td>NaN</td>\n",
       "      <td>NaN</td>\n",
       "      <td>NaN</td>\n",
       "      <td>9.200000e+02</td>\n",
       "      <td>9.210000e+02</td>\n",
       "      <td>-7.000000e+00</td>\n",
       "      <td>0.000000e+00</td>\n",
       "      <td>0.000000e+00</td>\n",
       "      <td>-1.000000e+00</td>\n",
       "      <td>NaN</td>\n",
       "      <td>1.100000e+01</td>\n",
       "      <td>9.360000e+02</td>\n",
       "      <td>1.058000e+03</td>\n",
       "      <td>4.000000e+00</td>\n",
       "      <td>1.110000e+03</td>\n",
       "      <td>1.102000e+03</td>\n",
       "      <td>-2.000000e+01</td>\n",
       "      <td>0.000000e+00</td>\n",
       "      <td>0.000000e+00</td>\n",
       "      <td>-2.000000e+00</td>\n",
       "      <td>NaN</td>\n",
       "      <td>0.000000e+00</td>\n",
       "      <td>NaN</td>\n",
       "      <td>8.800000e+01</td>\n",
       "      <td>8.000000e+01</td>\n",
       "      <td>5.800000e+01</td>\n",
       "      <td>3.450000e+02</td>\n",
       "      <td>2.000000e+00</td>\n",
       "      <td>0.000000</td>\n",
       "      <td>0.000000</td>\n",
       "      <td>0.000000</td>\n",
       "      <td>0.000000</td>\n",
       "      <td>0.000000</td>\n",
       "    </tr>\n",
       "    <tr>\n",
       "      <th>50%</th>\n",
       "      <td>2020.0</td>\n",
       "      <td>1.000000e+00</td>\n",
       "      <td>3.000000e+00</td>\n",
       "      <td>1.500000e+01</td>\n",
       "      <td>4.000000e+00</td>\n",
       "      <td>NaN</td>\n",
       "      <td>NaN</td>\n",
       "      <td>2.344000e+03</td>\n",
       "      <td>NaN</td>\n",
       "      <td>NaN</td>\n",
       "      <td>NaN</td>\n",
       "      <td>NaN</td>\n",
       "      <td>NaN</td>\n",
       "      <td>NaN</td>\n",
       "      <td>NaN</td>\n",
       "      <td>NaN</td>\n",
       "      <td>NaN</td>\n",
       "      <td>1.320000e+03</td>\n",
       "      <td>1.322000e+03</td>\n",
       "      <td>-4.000000e+00</td>\n",
       "      <td>0.000000e+00</td>\n",
       "      <td>0.000000e+00</td>\n",
       "      <td>-1.000000e+00</td>\n",
       "      <td>NaN</td>\n",
       "      <td>1.400000e+01</td>\n",
       "      <td>1.335000e+03</td>\n",
       "      <td>1.505000e+03</td>\n",
       "      <td>6.000000e+00</td>\n",
       "      <td>1.515000e+03</td>\n",
       "      <td>1.509000e+03</td>\n",
       "      <td>-1.100000e+01</td>\n",
       "      <td>0.000000e+00</td>\n",
       "      <td>0.000000e+00</td>\n",
       "      <td>-1.000000e+00</td>\n",
       "      <td>NaN</td>\n",
       "      <td>0.000000e+00</td>\n",
       "      <td>NaN</td>\n",
       "      <td>1.200000e+02</td>\n",
       "      <td>1.130000e+02</td>\n",
       "      <td>8.900000e+01</td>\n",
       "      <td>6.050000e+02</td>\n",
       "      <td>3.000000e+00</td>\n",
       "      <td>0.000000</td>\n",
       "      <td>0.000000</td>\n",
       "      <td>2.000000</td>\n",
       "      <td>0.000000</td>\n",
       "      <td>0.000000</td>\n",
       "    </tr>\n",
       "    <tr>\n",
       "      <th>75%</th>\n",
       "      <td>2020.0</td>\n",
       "      <td>2.000000e+00</td>\n",
       "      <td>4.000000e+00</td>\n",
       "      <td>2.300000e+01</td>\n",
       "      <td>6.000000e+00</td>\n",
       "      <td>NaN</td>\n",
       "      <td>NaN</td>\n",
       "      <td>4.305000e+03</td>\n",
       "      <td>NaN</td>\n",
       "      <td>NaN</td>\n",
       "      <td>NaN</td>\n",
       "      <td>NaN</td>\n",
       "      <td>NaN</td>\n",
       "      <td>NaN</td>\n",
       "      <td>NaN</td>\n",
       "      <td>NaN</td>\n",
       "      <td>NaN</td>\n",
       "      <td>1.727000e+03</td>\n",
       "      <td>1.730000e+03</td>\n",
       "      <td>0.000000e+00</td>\n",
       "      <td>0.000000e+00</td>\n",
       "      <td>0.000000e+00</td>\n",
       "      <td>0.000000e+00</td>\n",
       "      <td>NaN</td>\n",
       "      <td>1.900000e+01</td>\n",
       "      <td>1.744000e+03</td>\n",
       "      <td>1.902000e+03</td>\n",
       "      <td>8.000000e+00</td>\n",
       "      <td>1.913000e+03</td>\n",
       "      <td>1.907000e+03</td>\n",
       "      <td>-1.000000e+00</td>\n",
       "      <td>0.000000e+00</td>\n",
       "      <td>0.000000e+00</td>\n",
       "      <td>-1.000000e+00</td>\n",
       "      <td>NaN</td>\n",
       "      <td>0.000000e+00</td>\n",
       "      <td>NaN</td>\n",
       "      <td>1.680000e+02</td>\n",
       "      <td>1.600000e+02</td>\n",
       "      <td>1.360000e+02</td>\n",
       "      <td>9.940000e+02</td>\n",
       "      <td>4.000000e+00</td>\n",
       "      <td>23.000000</td>\n",
       "      <td>0.000000</td>\n",
       "      <td>19.000000</td>\n",
       "      <td>0.000000</td>\n",
       "      <td>23.000000</td>\n",
       "    </tr>\n",
       "    <tr>\n",
       "      <th>max</th>\n",
       "      <td>2020.0</td>\n",
       "      <td>2.000000e+00</td>\n",
       "      <td>6.000000e+00</td>\n",
       "      <td>3.100000e+01</td>\n",
       "      <td>7.000000e+00</td>\n",
       "      <td>NaN</td>\n",
       "      <td>NaN</td>\n",
       "      <td>9.888000e+03</td>\n",
       "      <td>NaN</td>\n",
       "      <td>NaN</td>\n",
       "      <td>NaN</td>\n",
       "      <td>NaN</td>\n",
       "      <td>NaN</td>\n",
       "      <td>NaN</td>\n",
       "      <td>NaN</td>\n",
       "      <td>NaN</td>\n",
       "      <td>NaN</td>\n",
       "      <td>2.359000e+03</td>\n",
       "      <td>2.400000e+03</td>\n",
       "      <td>2.814000e+03</td>\n",
       "      <td>2.814000e+03</td>\n",
       "      <td>1.000000e+00</td>\n",
       "      <td>1.200000e+01</td>\n",
       "      <td>NaN</td>\n",
       "      <td>1.890000e+02</td>\n",
       "      <td>2.400000e+03</td>\n",
       "      <td>2.400000e+03</td>\n",
       "      <td>1.940000e+02</td>\n",
       "      <td>2.400000e+03</td>\n",
       "      <td>2.400000e+03</td>\n",
       "      <td>2.794000e+03</td>\n",
       "      <td>2.794000e+03</td>\n",
       "      <td>1.000000e+00</td>\n",
       "      <td>1.200000e+01</td>\n",
       "      <td>NaN</td>\n",
       "      <td>1.000000e+00</td>\n",
       "      <td>NaN</td>\n",
       "      <td>7.000000e+02</td>\n",
       "      <td>7.630000e+02</td>\n",
       "      <td>6.980000e+02</td>\n",
       "      <td>5.095000e+03</td>\n",
       "      <td>1.100000e+01</td>\n",
       "      <td>2560.000000</td>\n",
       "      <td>1525.000000</td>\n",
       "      <td>1462.000000</td>\n",
       "      <td>1185.000000</td>\n",
       "      <td>2228.000000</td>\n",
       "    </tr>\n",
       "  </tbody>\n",
       "</table>\n",
       "</div>"
      ],
      "text/plain": [
       "             YEAR       QUARTER         MONTH  DAY_OF_MONTH   DAY_OF_WEEK  \\\n",
       "count   2745847.0  2.745847e+06  2.745847e+06  2.745847e+06  2.745847e+06   \n",
       "unique        NaN           NaN           NaN           NaN           NaN   \n",
       "top           NaN           NaN           NaN           NaN           NaN   \n",
       "freq          NaN           NaN           NaN           NaN           NaN   \n",
       "mean       2020.0  1.277114e+00  2.811948e+00  1.548115e+01  3.963960e+00   \n",
       "std           0.0  4.475736e-01  1.527229e+00  8.799480e+00  1.993749e+00   \n",
       "min        2020.0  1.000000e+00  1.000000e+00  1.000000e+00  1.000000e+00   \n",
       "25%        2020.0  1.000000e+00  2.000000e+00  8.000000e+00  2.000000e+00   \n",
       "50%        2020.0  1.000000e+00  3.000000e+00  1.500000e+01  4.000000e+00   \n",
       "75%        2020.0  2.000000e+00  4.000000e+00  2.300000e+01  6.000000e+00   \n",
       "max        2020.0  2.000000e+00  6.000000e+00  3.100000e+01  7.000000e+00   \n",
       "\n",
       "          FL_DATE MKT_UNIQUE_CARRIER  MKT_CARRIER_FL_NUM TAIL_NUM   ORIGIN  \\\n",
       "count     2745847            2745847        2.745847e+06  2582920  2745847   \n",
       "unique        182                 10                 NaN     6079      375   \n",
       "top     3/20/2020                 AA                 NaN   N494HA      ATL   \n",
       "freq        23956             735559                 NaN     1106   128166   \n",
       "mean          NaN                NaN        2.714583e+03      NaN      NaN   \n",
       "std           NaN                NaN        1.829519e+03      NaN      NaN   \n",
       "min           NaN                NaN        1.000000e+00      NaN      NaN   \n",
       "25%           NaN                NaN        1.108000e+03      NaN      NaN   \n",
       "50%           NaN                NaN        2.344000e+03      NaN      NaN   \n",
       "75%           NaN                NaN        4.305000e+03      NaN      NaN   \n",
       "max           NaN                NaN        9.888000e+03      NaN      NaN   \n",
       "\n",
       "       ORIGIN_CITY_NAME ORIGIN_STATE_ABR ORIGIN_STATE_NM     DEST  \\\n",
       "count           2745847          2745847         2745847  2745847   \n",
       "unique              368               52              52      375   \n",
       "top         Chicago, IL               TX           Texas      ATL   \n",
       "freq             159609           287693          287693   128263   \n",
       "mean                NaN              NaN             NaN      NaN   \n",
       "std                 NaN              NaN             NaN      NaN   \n",
       "min                 NaN              NaN             NaN      NaN   \n",
       "25%                 NaN              NaN             NaN      NaN   \n",
       "50%                 NaN              NaN             NaN      NaN   \n",
       "75%                 NaN              NaN             NaN      NaN   \n",
       "max                 NaN              NaN             NaN      NaN   \n",
       "\n",
       "       DEST_CITY_NAME DEST_STATE_ABR DEST_STATE_NM  CRS_DEP_TIME  \\\n",
       "count         2745847        2745847       2745847  2.745847e+06   \n",
       "unique            368             52            52           NaN   \n",
       "top       Chicago, IL             TX         Texas           NaN   \n",
       "freq           159653         287645        287645           NaN   \n",
       "mean              NaN            NaN           NaN  1.325110e+03   \n",
       "std               NaN            NaN           NaN  4.786911e+02   \n",
       "min               NaN            NaN           NaN  1.000000e+00   \n",
       "25%               NaN            NaN           NaN  9.200000e+02   \n",
       "50%               NaN            NaN           NaN  1.320000e+03   \n",
       "75%               NaN            NaN           NaN  1.727000e+03   \n",
       "max               NaN            NaN           NaN  2.359000e+03   \n",
       "\n",
       "            DEP_TIME     DEP_DELAY  DEP_DELAY_NEW     DEP_DEL15  \\\n",
       "count   2.463910e+06  2.463855e+06   2.463855e+06  2.463855e+06   \n",
       "unique           NaN           NaN            NaN           NaN   \n",
       "top              NaN           NaN            NaN           NaN   \n",
       "freq             NaN           NaN            NaN           NaN   \n",
       "mean    1.325076e+03  3.469542e+00   8.093630e+00  1.094963e-01   \n",
       "std     4.859642e+02  3.927404e+01   3.806698e+01  3.122609e-01   \n",
       "min     1.000000e+00 -8.000000e+01   0.000000e+00  0.000000e+00   \n",
       "25%     9.210000e+02 -7.000000e+00   0.000000e+00  0.000000e+00   \n",
       "50%     1.322000e+03 -4.000000e+00   0.000000e+00  0.000000e+00   \n",
       "75%     1.730000e+03  0.000000e+00   0.000000e+00  0.000000e+00   \n",
       "max     2.400000e+03  2.814000e+03   2.814000e+03  1.000000e+00   \n",
       "\n",
       "        DEP_DELAY_GROUP DEP_TIME_BLK      TAXI_OUT    WHEELS_OFF  \\\n",
       "count      2.463855e+06      2745847  2.463354e+06  2.463354e+06   \n",
       "unique              NaN           19           NaN           NaN   \n",
       "top                 NaN    0700-0759           NaN           NaN   \n",
       "freq                NaN       188892           NaN           NaN   \n",
       "mean      -3.725580e-01          NaN  1.603596e+01  1.349569e+03   \n",
       "std        1.769355e+00          NaN  8.893133e+00  4.858066e+02   \n",
       "min       -2.000000e+00          NaN  0.000000e+00  1.000000e+00   \n",
       "25%       -1.000000e+00          NaN  1.100000e+01  9.360000e+02   \n",
       "50%       -1.000000e+00          NaN  1.400000e+01  1.335000e+03   \n",
       "75%        0.000000e+00          NaN  1.900000e+01  1.744000e+03   \n",
       "max        1.200000e+01          NaN  1.890000e+02  2.400000e+03   \n",
       "\n",
       "           WHEELS_ON       TAXI_IN  CRS_ARR_TIME      ARR_TIME     ARR_DELAY  \\\n",
       "count   2.462293e+06  2.462293e+06  2.745847e+06  2.462293e+06  2.458513e+06   \n",
       "unique           NaN           NaN           NaN           NaN           NaN   \n",
       "top              NaN           NaN           NaN           NaN           NaN   \n",
       "freq             NaN           NaN           NaN           NaN           NaN   \n",
       "mean    1.470827e+03  7.007121e+00  1.490211e+03  1.476626e+03 -4.405264e+00   \n",
       "std     5.066435e+02  5.276935e+00  5.038733e+02  5.096350e+02  4.138908e+01   \n",
       "min     1.000000e+00  0.000000e+00  1.000000e+00  1.000000e+00 -1.170000e+02   \n",
       "25%     1.058000e+03  4.000000e+00  1.110000e+03  1.102000e+03 -2.000000e+01   \n",
       "50%     1.505000e+03  6.000000e+00  1.515000e+03  1.509000e+03 -1.100000e+01   \n",
       "75%     1.902000e+03  8.000000e+00  1.913000e+03  1.907000e+03 -1.000000e+00   \n",
       "max     2.400000e+03  1.940000e+02  2.400000e+03  2.400000e+03  2.794000e+03   \n",
       "\n",
       "        ARR_DELAY_NEW     ARR_DEL15  ARR_DELAY_GROUP ARR_TIME_BLK  \\\n",
       "count    2.458513e+06  2.458513e+06     2.458513e+06      2745847   \n",
       "unique            NaN           NaN              NaN           19   \n",
       "top               NaN           NaN              NaN    1600-1659   \n",
       "freq              NaN           NaN              NaN       180483   \n",
       "mean     8.038959e+00  1.131684e-01    -7.507026e-01          NaN   \n",
       "std      3.729379e+01  3.167986e-01     1.918962e+00          NaN   \n",
       "min      0.000000e+00  0.000000e+00    -2.000000e+00          NaN   \n",
       "25%      0.000000e+00  0.000000e+00    -2.000000e+00          NaN   \n",
       "50%      0.000000e+00  0.000000e+00    -1.000000e+00          NaN   \n",
       "75%      0.000000e+00  0.000000e+00    -1.000000e+00          NaN   \n",
       "max      2.794000e+03  1.000000e+00     1.200000e+01          NaN   \n",
       "\n",
       "           CANCELLED CANCELLATION_CODE  CRS_ELAPSED_TIME  ACTUAL_ELAPSED_TIME  \\\n",
       "count   2.745847e+06            282926      2.745845e+06         2.458513e+06   \n",
       "unique           NaN                 4               NaN                  NaN   \n",
       "top              NaN                 D               NaN                  NaN   \n",
       "freq             NaN            246293               NaN                  NaN   \n",
       "mean    1.030378e-01               NaN      1.372010e+02         1.298110e+02   \n",
       "std     3.040083e-01               NaN      6.899053e+01         6.895146e+01   \n",
       "min     0.000000e+00               NaN     -7.700000e+01         1.300000e+01   \n",
       "25%     0.000000e+00               NaN      8.800000e+01         8.000000e+01   \n",
       "50%     0.000000e+00               NaN      1.200000e+02         1.130000e+02   \n",
       "75%     0.000000e+00               NaN      1.680000e+02         1.600000e+02   \n",
       "max     1.000000e+00               NaN      7.000000e+02         7.630000e+02   \n",
       "\n",
       "            AIR_TIME      DISTANCE  DISTANCE_GROUP  CARRIER_DELAY  \\\n",
       "count   2.458513e+06  2.745847e+06    2.745847e+06  278226.000000   \n",
       "unique           NaN           NaN             NaN            NaN   \n",
       "top              NaN           NaN             NaN            NaN   \n",
       "freq             NaN           NaN             NaN            NaN   \n",
       "mean    1.067751e+02  7.539543e+02    3.493924e+00      24.748298   \n",
       "std     6.752781e+01  5.580195e+02    2.203873e+00      74.229054   \n",
       "min     7.000000e+00  2.900000e+01    1.000000e+00       0.000000   \n",
       "25%     5.800000e+01  3.450000e+02    2.000000e+00       0.000000   \n",
       "50%     8.900000e+01  6.050000e+02    3.000000e+00       0.000000   \n",
       "75%     1.360000e+02  9.940000e+02    4.000000e+00      23.000000   \n",
       "max     6.980000e+02  5.095000e+03    1.100000e+01    2560.000000   \n",
       "\n",
       "        WEATHER_DELAY      NAS_DELAY  SECURITY_DELAY  LATE_AIRCRAFT_DELAY  \n",
       "count   278226.000000  278226.000000   278226.000000        278226.000000  \n",
       "unique            NaN            NaN             NaN                  NaN  \n",
       "top               NaN            NaN             NaN                  NaN  \n",
       "freq              NaN            NaN             NaN                  NaN  \n",
       "mean         3.768045      14.474571        0.090412            21.617246  \n",
       "std         31.682242      32.595644        3.371606            52.738680  \n",
       "min          0.000000       0.000000        0.000000             0.000000  \n",
       "25%          0.000000       0.000000        0.000000             0.000000  \n",
       "50%          0.000000       2.000000        0.000000             0.000000  \n",
       "75%          0.000000      19.000000        0.000000            23.000000  \n",
       "max       1525.000000    1462.000000     1185.000000          2228.000000  "
      ]
     },
     "execution_count": 266,
     "metadata": {},
     "output_type": "execute_result"
    }
   ],
   "source": [
    "# Get summary statistics\n",
    "print(\"\\nSummary statistics:\")\n",
    "df.describe(include='all')"
   ]
  },
  {
   "cell_type": "code",
   "execution_count": null,
   "id": "a1350da3",
   "metadata": {},
   "outputs": [],
   "source": []
  },
  {
   "cell_type": "markdown",
   "id": "3dd29189",
   "metadata": {},
   "source": [
    "## Changing Data Type"
   ]
  },
  {
   "cell_type": "markdown",
   "id": "bd028582",
   "metadata": {},
   "source": [
    "### Defined Functions\n",
    "here are some functions we can use for changing the datatype"
   ]
  },
  {
   "cell_type": "code",
   "execution_count": 267,
   "id": "8109ce26",
   "metadata": {},
   "outputs": [],
   "source": [
    "def to_string(df, column_name):\n",
    "    \"\"\"\n",
    "    Convert a pandas DataFrame column to a string.\n",
    "    \"\"\"\n",
    "    df[column_name] = df[column_name].astype('string')\n",
    "    print(f\"Column Name: '{column_name}', Type: {df[column_name].dtype}\")\n",
    "    return df  "
   ]
  },
  {
   "cell_type": "code",
   "execution_count": 268,
   "id": "173f7750",
   "metadata": {},
   "outputs": [],
   "source": [
    "def to_date(df, column_name, format=None):\n",
    "    \"\"\"\n",
    "    Convert a pandas DataFrame column to datetime.\n",
    "    \"\"\"\n",
    "    df[column_name] = pd.to_datetime(df[column_name], format=format)\n",
    "    print(f\"Column Name: '{column_name}', Type: {df[column_name].dtype}\")\n",
    "    return df"
   ]
  },
  {
   "cell_type": "code",
   "execution_count": 269,
   "id": "3ed093a5",
   "metadata": {},
   "outputs": [],
   "source": [
    "def to_int(df, column_name):\n",
    "    \"\"\"\n",
    "    Convert a pandas DataFrame column to a int.\n",
    "    \"\"\"\n",
    "    df[column_name] = df[column_name].astype('int64')\n",
    "    print(f\"Column Name: '{column_name}', Type: {df[column_name].dtype}\")\n",
    "    return df  "
   ]
  },
  {
   "cell_type": "code",
   "execution_count": 270,
   "id": "04c7aa01",
   "metadata": {},
   "outputs": [],
   "source": [
    "def to_float(df, column_name):\n",
    "    \"\"\"\n",
    "    Convert a pandas DataFrame column to a float.\n",
    "    \"\"\"\n",
    "    df[column_name] = df[column_name].astype('float64')\n",
    "    print(f\"Column Name: '{column_name}', Type: {df[column_name].dtype}\")\n",
    "    return df  "
   ]
  },
  {
   "cell_type": "markdown",
   "id": "2cd2d041",
   "metadata": {},
   "source": [
    "# Column by Column Analysis\n",
    "so here for each of the 47 columns, we will be doing a thourough analysis on each like whether we are keeping them, dropping them, if they need to be renamed, any datatype to be changed, are there any missing values, etc. "
   ]
  },
  {
   "cell_type": "code",
   "execution_count": 271,
   "id": "5d8f9dc3",
   "metadata": {},
   "outputs": [],
   "source": [
    "def show_unique_missing_dtype(df, columnName):\n",
    "    print(df[columnName].value_counts())\n",
    "    print(\"\\nmissing values: \", df[columnName].isna().sum())\n",
    "    print(\"\\ndatatype: \", df[columnName].dtype)"
   ]
  },
  {
   "cell_type": "markdown",
   "id": "a507dcd8",
   "metadata": {},
   "source": [
    "## YEAR"
   ]
  },
  {
   "cell_type": "code",
   "execution_count": 272,
   "id": "b78d26b6",
   "metadata": {},
   "outputs": [
    {
     "name": "stdout",
     "output_type": "stream",
     "text": [
      "YEAR\n",
      "2020    2745847\n",
      "Name: count, dtype: int64\n",
      "\n",
      "missing values:  0\n",
      "\n",
      "datatype:  int64\n"
     ]
    }
   ],
   "source": [
    "show_unique_missing_dtype(df, 'YEAR')"
   ]
  },
  {
   "cell_type": "markdown",
   "id": "4e387e87",
   "metadata": {},
   "source": [
    "so every row is just filled with 2020's so it is useless. so better to drop the column as it does not give us any insight."
   ]
  },
  {
   "cell_type": "code",
   "execution_count": 273,
   "id": "4036e57d",
   "metadata": {},
   "outputs": [],
   "source": [
    "df = df.drop('YEAR', axis=1)"
   ]
  },
  {
   "cell_type": "markdown",
   "id": "1d82fc98",
   "metadata": {},
   "source": [
    "## QUARTER"
   ]
  },
  {
   "cell_type": "code",
   "execution_count": 274,
   "id": "55c7aca7",
   "metadata": {},
   "outputs": [
    {
     "name": "stdout",
     "output_type": "stream",
     "text": [
      "QUARTER\n",
      "1    1984933\n",
      "2     760914\n",
      "Name: count, dtype: int64\n",
      "\n",
      "missing values:  0\n",
      "\n",
      "datatype:  int64\n"
     ]
    }
   ],
   "source": [
    "show_unique_missing_dtype(df, 'QUARTER')"
   ]
  },
  {
   "cell_type": "markdown",
   "id": "6657edae",
   "metadata": {},
   "source": [
    "so this is just filled with 2 values - 1 and 2. not very effective. we can also get the QUARTER using drill down strategy using `FL_DATE` in powerBI. so better to drop."
   ]
  },
  {
   "cell_type": "code",
   "execution_count": 275,
   "id": "ebcdba10",
   "metadata": {},
   "outputs": [],
   "source": [
    "df = df.drop('QUARTER', axis=1)"
   ]
  },
  {
   "cell_type": "markdown",
   "id": "a4aedfd2",
   "metadata": {},
   "source": [
    "## MONTH"
   ]
  },
  {
   "cell_type": "code",
   "execution_count": 276,
   "id": "1d14fcbf",
   "metadata": {},
   "outputs": [
    {
     "name": "stdout",
     "output_type": "stream",
     "text": [
      "MONTH\n",
      "3    701274\n",
      "1    660556\n",
      "2    623103\n",
      "4    331238\n",
      "6    237264\n",
      "5    192412\n",
      "Name: count, dtype: int64\n",
      "\n",
      "missing values:  0\n",
      "\n",
      "datatype:  int64\n"
     ]
    }
   ],
   "source": [
    "show_unique_missing_dtype(df, 'MONTH')"
   ]
  },
  {
   "cell_type": "markdown",
   "id": "7168f165",
   "metadata": {},
   "source": [
    "so there are no missing values, and the value counts seem fine. the datatype is fine too."
   ]
  },
  {
   "cell_type": "markdown",
   "id": "0dbdd8cf",
   "metadata": {},
   "source": [
    "## DAY_OF_MONTH"
   ]
  },
  {
   "cell_type": "code",
   "execution_count": 277,
   "id": "dc98a442",
   "metadata": {},
   "outputs": [
    {
     "name": "stdout",
     "output_type": "stream",
     "text": [
      "DAY_OF_MONTH\n",
      "3     97419\n",
      "6     97057\n",
      "5     95971\n",
      "2     95345\n",
      "10    93798\n",
      "13    93682\n",
      "9     92722\n",
      "1     92291\n",
      "20    91680\n",
      "17    91672\n",
      "4     91591\n",
      "12    91523\n",
      "24    91504\n",
      "27    91312\n",
      "7     91263\n",
      "23    90779\n",
      "26    90024\n",
      "16    89142\n",
      "19    88608\n",
      "14    88460\n",
      "8     88375\n",
      "21    88324\n",
      "28    87555\n",
      "22    87379\n",
      "11    86975\n",
      "15    86659\n",
      "29    86234\n",
      "25    85630\n",
      "18    85266\n",
      "30    67176\n",
      "31    50431\n",
      "Name: count, dtype: int64\n",
      "\n",
      "missing values:  0\n",
      "\n",
      "datatype:  int64\n"
     ]
    }
   ],
   "source": [
    "show_unique_missing_dtype(df, 'DAY_OF_MONTH')"
   ]
  },
  {
   "cell_type": "markdown",
   "id": "3c5f5387",
   "metadata": {},
   "source": [
    "so we see that majority of flights take place on 3rd of each month and the least flights tak place on 31st. theres a very large decrease of flights on 30th and 31st. now the datatype is fine, there are no missing values, and they do give some meaning. so no need to remove column."
   ]
  },
  {
   "cell_type": "markdown",
   "id": "e7972066",
   "metadata": {},
   "source": [
    "## DAY_OF_WEEK"
   ]
  },
  {
   "cell_type": "code",
   "execution_count": 278,
   "id": "e36624f5",
   "metadata": {},
   "outputs": [
    {
     "name": "stdout",
     "output_type": "stream",
     "text": [
      "DAY_OF_WEEK\n",
      "5    414777\n",
      "4    414462\n",
      "1    409181\n",
      "7    394434\n",
      "3    393629\n",
      "2    378649\n",
      "6    340715\n",
      "Name: count, dtype: int64\n",
      "\n",
      "missing values:  0\n",
      "\n",
      "datatype:  int64\n"
     ]
    }
   ],
   "source": [
    "show_unique_missing_dtype(df, 'DAY_OF_WEEK')"
   ]
  },
  {
   "cell_type": "markdown",
   "id": "ddf0c1da",
   "metadata": {},
   "source": [
    "so majority of flights flew at 5:Friday and least amount of flights on 6:Saturday. not a very large difference, but there is a difference. so it does give some analysis. there are no missing values. but this is not very understandable, especially the 1-7. so lets map it to actual days, but only the first three letters to save space."
   ]
  },
  {
   "cell_type": "code",
   "execution_count": 279,
   "id": "9d793d0a",
   "metadata": {},
   "outputs": [],
   "source": [
    "# define the mapping\n",
    "num_to_day = {\n",
    "    1: \"Mon\",\n",
    "    2: \"Tue\",\n",
    "    3: \"Wed\",\n",
    "    4: \"Thu\",\n",
    "    5: \"Fri\",\n",
    "    6: \"Sat\",\n",
    "    7: \"Sun\"\n",
    "}\n",
    "\n",
    "# replace in your DataFrame (in-place)\n",
    "df['day_of_week_c'] = df['DAY_OF_WEEK'].map(num_to_day)"
   ]
  },
  {
   "cell_type": "code",
   "execution_count": 280,
   "id": "b413accf",
   "metadata": {},
   "outputs": [],
   "source": [
    "# Get list of current columns\n",
    "cols = list(df.columns)\n",
    "\n",
    "# Move 'day_of_week_c' to be right after 'DAY_OF_WEEK'\n",
    "day_index = cols.index('DAY_OF_WEEK')\n",
    "cols.insert(day_index + 1, cols.pop(cols.index('day_of_week_c')))\n",
    "\n",
    "# Reorder DataFrame\n",
    "df = df[cols]"
   ]
  },
  {
   "cell_type": "markdown",
   "id": "d33c7d8c",
   "metadata": {},
   "source": [
    "change the datatype to string and recheck the unique values to verify that the mapping is done correctly"
   ]
  },
  {
   "cell_type": "code",
   "execution_count": 281,
   "id": "951882a9",
   "metadata": {},
   "outputs": [
    {
     "name": "stdout",
     "output_type": "stream",
     "text": [
      "Column Name: 'day_of_week_c', Type: string\n"
     ]
    }
   ],
   "source": [
    "df = to_string(df, 'day_of_week_c')"
   ]
  },
  {
   "cell_type": "code",
   "execution_count": 282,
   "id": "41f175a6",
   "metadata": {},
   "outputs": [
    {
     "name": "stdout",
     "output_type": "stream",
     "text": [
      "day_of_week_c\n",
      "Fri    414777\n",
      "Thu    414462\n",
      "Mon    409181\n",
      "Sun    394434\n",
      "Wed    393629\n",
      "Tue    378649\n",
      "Sat    340715\n",
      "Name: count, dtype: Int64\n",
      "\n",
      "missing values:  0\n",
      "\n",
      "datatype:  string\n"
     ]
    }
   ],
   "source": [
    "show_unique_missing_dtype(df, 'day_of_week_c')"
   ]
  },
  {
   "cell_type": "markdown",
   "id": "54dbb3b2",
   "metadata": {},
   "source": [
    "## FL_DATE"
   ]
  },
  {
   "cell_type": "code",
   "execution_count": 283,
   "id": "674f5584",
   "metadata": {},
   "outputs": [
    {
     "name": "stdout",
     "output_type": "stream",
     "text": [
      "FL_DATE\n",
      "3/20/2020    23956\n",
      "3/19/2020    23936\n",
      "3/13/2020    23863\n",
      "3/16/2020    23832\n",
      "3/12/2020    23787\n",
      "             ...  \n",
      "5/16/2020     5371\n",
      "5/9/2020      5347\n",
      "5/5/2020      5288\n",
      "5/19/2020     5251\n",
      "5/12/2020     5232\n",
      "Name: count, Length: 182, dtype: int64\n",
      "\n",
      "missing values:  0\n",
      "\n",
      "datatype:  object\n"
     ]
    }
   ],
   "source": [
    "show_unique_missing_dtype(df, 'FL_DATE')"
   ]
  },
  {
   "cell_type": "markdown",
   "id": "c10caab5",
   "metadata": {},
   "source": [
    "so we see that the majority flights were on 20th March 2020. now convert the data to datatype `DATE`. no missing values. "
   ]
  },
  {
   "cell_type": "code",
   "execution_count": 284,
   "id": "36a0d529",
   "metadata": {},
   "outputs": [
    {
     "name": "stdout",
     "output_type": "stream",
     "text": [
      "Column Name: 'FL_DATE', Type: datetime64[ns]\n"
     ]
    }
   ],
   "source": [
    "# convert FL_DATE from '3/20/2020' strings to actual dates\n",
    "df = to_date(df, 'FL_DATE', format='%m/%d/%Y')"
   ]
  },
  {
   "cell_type": "markdown",
   "id": "0a0024f2",
   "metadata": {},
   "source": [
    "## MKT_UNIQUE_CARRIER"
   ]
  },
  {
   "cell_type": "code",
   "execution_count": 285,
   "id": "b117bb38",
   "metadata": {},
   "outputs": [
    {
     "name": "stdout",
     "output_type": "stream",
     "text": [
      "MKT_UNIQUE_CARRIER\n",
      "AA    735559\n",
      "DL    551432\n",
      "WN    531577\n",
      "UA    499418\n",
      "AS    145080\n",
      "B6     88908\n",
      "NK     65918\n",
      "G4     53160\n",
      "F9     47134\n",
      "HA     27661\n",
      "Name: count, dtype: int64\n",
      "\n",
      "missing values:  0\n",
      "\n",
      "datatype:  object\n"
     ]
    }
   ],
   "source": [
    "show_unique_missing_dtype(df, 'MKT_UNIQUE_CARRIER')"
   ]
  },
  {
   "cell_type": "markdown",
   "id": "f0c1a4f0",
   "metadata": {},
   "source": [
    "so we see that the `AA` carrier is most used whereas the `HA` carrier is least. no missing values. does give meaningful information. lets convert its `dtype` to `string`."
   ]
  },
  {
   "cell_type": "code",
   "execution_count": 286,
   "id": "9e6ffa03",
   "metadata": {},
   "outputs": [
    {
     "name": "stdout",
     "output_type": "stream",
     "text": [
      "Column Name: 'MKT_UNIQUE_CARRIER', Type: string\n"
     ]
    }
   ],
   "source": [
    "df = to_string(df, 'MKT_UNIQUE_CARRIER')"
   ]
  },
  {
   "cell_type": "markdown",
   "id": "6671233a",
   "metadata": {},
   "source": [
    "lets make the name more meaningful - so this column is basically the airline that MARKETS you the ticket. the airline that flies you is the OPERATING CARRIER. so lets rename as `marketing_carrier_code`    \n",
    "- Marketing Carrier (MKT_UNIQUE_CARRIER): the airline that sells or markets the flight—i.e. whose flight number appears on your ticket.\n",
    "- Operating Carrier (OP_CARRIER): the airline that actually operates the flight (the plane and crew)."
   ]
  },
  {
   "cell_type": "code",
   "execution_count": 287,
   "id": "56ca071d",
   "metadata": {},
   "outputs": [],
   "source": [
    "df.rename(columns={\n",
    "    'MKT_UNIQUE_CARRIER': 'MARKETING_CARRIER_CODE'\n",
    "}, inplace=True)"
   ]
  },
  {
   "cell_type": "markdown",
   "id": "aa100e35",
   "metadata": {},
   "source": [
    "## MKT_CARRIER_FL_NUM"
   ]
  },
  {
   "cell_type": "code",
   "execution_count": 288,
   "id": "28d543bc",
   "metadata": {},
   "outputs": [
    {
     "name": "stdout",
     "output_type": "stream",
     "text": [
      "MKT_CARRIER_FL_NUM\n",
      "1095    1462\n",
      "64      1308\n",
      "403     1296\n",
      "478     1249\n",
      "65      1225\n",
      "        ... \n",
      "9372       1\n",
      "9373       1\n",
      "9370       1\n",
      "9400       1\n",
      "9888       1\n",
      "Name: count, Length: 7003, dtype: int64\n",
      "\n",
      "missing values:  0\n",
      "\n",
      "datatype:  int64\n"
     ]
    }
   ],
   "source": [
    "show_unique_missing_dtype(df, 'MKT_CARRIER_FL_NUM')"
   ]
  },
  {
   "cell_type": "markdown",
   "id": "f61064d2",
   "metadata": {},
   "source": [
    "so `MKT_CARRIER_FL_NUM` is the flight number. we see that flight number `1095` is flown the most. no missing values. datatype is fine. again, lets rename to something more menaingful and understandable"
   ]
  },
  {
   "cell_type": "code",
   "execution_count": 289,
   "id": "d26e1f14",
   "metadata": {},
   "outputs": [],
   "source": [
    "df.rename(columns={\n",
    "    'MKT_CARRIER_FL_NUM': 'MARKETING_FLIGHT_NUMBER'\n",
    "}, inplace=True)"
   ]
  },
  {
   "cell_type": "markdown",
   "id": "083025a2",
   "metadata": {},
   "source": [
    "## TAIL_NUM"
   ]
  },
  {
   "cell_type": "code",
   "execution_count": 290,
   "id": "a97ec03d",
   "metadata": {},
   "outputs": [
    {
     "name": "stdout",
     "output_type": "stream",
     "text": [
      "TAIL_NUM\n",
      "N494HA    1106\n",
      "N484HA    1102\n",
      "N804HC    1051\n",
      "N479HA    1032\n",
      "N475HA    1024\n",
      "          ... \n",
      "N843MH       1\n",
      "N785UA       1\n",
      "N626AS       1\n",
      "N227UA       1\n",
      "N866DA       1\n",
      "Name: count, Length: 6079, dtype: int64\n",
      "\n",
      "missing values:  162927\n",
      "\n",
      "datatype:  object\n"
     ]
    }
   ],
   "source": [
    "show_unique_missing_dtype(df, 'TAIL_NUM')"
   ]
  },
  {
   "cell_type": "markdown",
   "id": "e3792609",
   "metadata": {},
   "source": [
    "so `tail_num` is the Aircraft Tail Number. it usually starts with N. it has 160k missing values. first lets change its datatype to string."
   ]
  },
  {
   "cell_type": "code",
   "execution_count": 291,
   "id": "de058fd7",
   "metadata": {},
   "outputs": [
    {
     "name": "stdout",
     "output_type": "stream",
     "text": [
      "Column Name: 'TAIL_NUM', Type: string\n"
     ]
    }
   ],
   "source": [
    "df = to_string(df, 'TAIL_NUM')"
   ]
  },
  {
   "cell_type": "markdown",
   "id": "d9dba505",
   "metadata": {},
   "source": [
    "now lets move to missing values. first we need to check if all those flights were cancelled"
   ]
  },
  {
   "cell_type": "code",
   "execution_count": 292,
   "id": "3ff0e9d9",
   "metadata": {},
   "outputs": [
    {
     "data": {
      "text/plain": [
       "CANCELLED\n",
       "1    162925\n",
       "0         2\n",
       "Name: count, dtype: int64"
      ]
     },
     "execution_count": 292,
     "metadata": {},
     "output_type": "execute_result"
    }
   ],
   "source": [
    "# 1. Filter to only the rows where TAIL_NUM is missing\n",
    "missing_tail = df[df['TAIL_NUM'].isna()]\n",
    "\n",
    "# 2. How many of those were cancelled?\n",
    "cancel_counts = missing_tail['CANCELLED'].value_counts(dropna=False)\n",
    "\n",
    "cancel_counts"
   ]
  },
  {
   "cell_type": "code",
   "execution_count": 293,
   "id": "75618cef",
   "metadata": {},
   "outputs": [
    {
     "data": {
      "text/plain": [
       "CANCELLATION_CODE\n",
       "True     162925\n",
       "False         2\n",
       "Name: count, dtype: int64"
      ]
     },
     "execution_count": 293,
     "metadata": {},
     "output_type": "execute_result"
    }
   ],
   "source": [
    "# Of the missing-tail flights, how many have a non-null CANCELLATION_CODE?\n",
    "missing_tail['CANCELLATION_CODE'].notna().value_counts()"
   ]
  },
  {
   "cell_type": "markdown",
   "id": "287a8b51",
   "metadata": {},
   "source": [
    "oh so only 2 rows were not cancelled but majority was. so a cancelled flight will obviously not have an aircraft. so lets fill those aircraft numbers with 'CANCELLED'"
   ]
  },
  {
   "cell_type": "code",
   "execution_count": 294,
   "id": "878037cd",
   "metadata": {},
   "outputs": [],
   "source": [
    "# Mark all cancelled flights’ TAIL_NUM as “CANCELLED”\n",
    "df.loc[\n",
    "    (df['TAIL_NUM'].isna()) & (df['CANCELLED'] == 1),\n",
    "    'TAIL_NUM'\n",
    "] = 'CANCELLED'"
   ]
  },
  {
   "cell_type": "markdown",
   "id": "ed543a15",
   "metadata": {},
   "source": [
    "done. lets just check it"
   ]
  },
  {
   "cell_type": "code",
   "execution_count": 295,
   "id": "b620d40e",
   "metadata": {},
   "outputs": [
    {
     "name": "stdout",
     "output_type": "stream",
     "text": [
      "TAIL_NUM\n",
      "CANCELLED    162925\n",
      "N494HA         1106\n",
      "N484HA         1102\n",
      "N804HC         1051\n",
      "N479HA         1032\n",
      "              ...  \n",
      "N508DN            1\n",
      "N864DA            1\n",
      "N562NK            1\n",
      "N733AR            1\n",
      "N866DA            1\n",
      "Name: count, Length: 6080, dtype: Int64\n",
      "\n",
      "missing values:  2\n",
      "\n",
      "datatype:  string\n"
     ]
    }
   ],
   "source": [
    "show_unique_missing_dtype(df, 'TAIL_NUM')"
   ]
  },
  {
   "cell_type": "markdown",
   "id": "34a4c086",
   "metadata": {},
   "source": [
    "ah so still 2 flights are left. so first lets extract them and see how they look, what other thing are missing, what they could be"
   ]
  },
  {
   "cell_type": "code",
   "execution_count": 296,
   "id": "2368a5d0",
   "metadata": {},
   "outputs": [
    {
     "data": {
      "text/html": [
       "<div>\n",
       "<style scoped>\n",
       "    .dataframe tbody tr th:only-of-type {\n",
       "        vertical-align: middle;\n",
       "    }\n",
       "\n",
       "    .dataframe tbody tr th {\n",
       "        vertical-align: top;\n",
       "    }\n",
       "\n",
       "    .dataframe thead th {\n",
       "        text-align: right;\n",
       "    }\n",
       "</style>\n",
       "<table border=\"1\" class=\"dataframe\">\n",
       "  <thead>\n",
       "    <tr style=\"text-align: right;\">\n",
       "      <th></th>\n",
       "      <th>MONTH</th>\n",
       "      <th>DAY_OF_MONTH</th>\n",
       "      <th>DAY_OF_WEEK</th>\n",
       "      <th>day_of_week_c</th>\n",
       "      <th>FL_DATE</th>\n",
       "      <th>MARKETING_CARRIER_CODE</th>\n",
       "      <th>MARKETING_FLIGHT_NUMBER</th>\n",
       "      <th>TAIL_NUM</th>\n",
       "      <th>ORIGIN</th>\n",
       "      <th>ORIGIN_CITY_NAME</th>\n",
       "      <th>ORIGIN_STATE_ABR</th>\n",
       "      <th>ORIGIN_STATE_NM</th>\n",
       "      <th>DEST</th>\n",
       "      <th>DEST_CITY_NAME</th>\n",
       "      <th>DEST_STATE_ABR</th>\n",
       "      <th>DEST_STATE_NM</th>\n",
       "      <th>CRS_DEP_TIME</th>\n",
       "      <th>DEP_TIME</th>\n",
       "      <th>DEP_DELAY</th>\n",
       "      <th>DEP_DELAY_NEW</th>\n",
       "      <th>DEP_DEL15</th>\n",
       "      <th>DEP_DELAY_GROUP</th>\n",
       "      <th>DEP_TIME_BLK</th>\n",
       "      <th>TAXI_OUT</th>\n",
       "      <th>WHEELS_OFF</th>\n",
       "      <th>WHEELS_ON</th>\n",
       "      <th>TAXI_IN</th>\n",
       "      <th>CRS_ARR_TIME</th>\n",
       "      <th>ARR_TIME</th>\n",
       "      <th>ARR_DELAY</th>\n",
       "      <th>ARR_DELAY_NEW</th>\n",
       "      <th>ARR_DEL15</th>\n",
       "      <th>ARR_DELAY_GROUP</th>\n",
       "      <th>ARR_TIME_BLK</th>\n",
       "      <th>CANCELLED</th>\n",
       "      <th>CANCELLATION_CODE</th>\n",
       "      <th>CRS_ELAPSED_TIME</th>\n",
       "      <th>ACTUAL_ELAPSED_TIME</th>\n",
       "      <th>AIR_TIME</th>\n",
       "      <th>DISTANCE</th>\n",
       "      <th>DISTANCE_GROUP</th>\n",
       "      <th>CARRIER_DELAY</th>\n",
       "      <th>WEATHER_DELAY</th>\n",
       "      <th>NAS_DELAY</th>\n",
       "      <th>SECURITY_DELAY</th>\n",
       "      <th>LATE_AIRCRAFT_DELAY</th>\n",
       "    </tr>\n",
       "  </thead>\n",
       "  <tbody>\n",
       "    <tr>\n",
       "      <th>1353545</th>\n",
       "      <td>3</td>\n",
       "      <td>31</td>\n",
       "      <td>2</td>\n",
       "      <td>Tue</td>\n",
       "      <td>2020-03-31</td>\n",
       "      <td>G4</td>\n",
       "      <td>541</td>\n",
       "      <td>&lt;NA&gt;</td>\n",
       "      <td>FAR</td>\n",
       "      <td>Fargo, ND</td>\n",
       "      <td>ND</td>\n",
       "      <td>North Dakota</td>\n",
       "      <td>AZA</td>\n",
       "      <td>Phoenix, AZ</td>\n",
       "      <td>AZ</td>\n",
       "      <td>Arizona</td>\n",
       "      <td>1422</td>\n",
       "      <td>1422.0</td>\n",
       "      <td>0.0</td>\n",
       "      <td>0.0</td>\n",
       "      <td>0.0</td>\n",
       "      <td>0.0</td>\n",
       "      <td>1400-1459</td>\n",
       "      <td>7.0</td>\n",
       "      <td>1429.0</td>\n",
       "      <td>1621.0</td>\n",
       "      <td>6.0</td>\n",
       "      <td>1527</td>\n",
       "      <td>1627.0</td>\n",
       "      <td>NaN</td>\n",
       "      <td>NaN</td>\n",
       "      <td>NaN</td>\n",
       "      <td>NaN</td>\n",
       "      <td>1500-1559</td>\n",
       "      <td>0</td>\n",
       "      <td>NaN</td>\n",
       "      <td>185.0</td>\n",
       "      <td>NaN</td>\n",
       "      <td>NaN</td>\n",
       "      <td>1220</td>\n",
       "      <td>5</td>\n",
       "      <td>NaN</td>\n",
       "      <td>NaN</td>\n",
       "      <td>NaN</td>\n",
       "      <td>NaN</td>\n",
       "      <td>NaN</td>\n",
       "    </tr>\n",
       "    <tr>\n",
       "      <th>1881785</th>\n",
       "      <td>3</td>\n",
       "      <td>31</td>\n",
       "      <td>2</td>\n",
       "      <td>Tue</td>\n",
       "      <td>2020-03-31</td>\n",
       "      <td>G4</td>\n",
       "      <td>1819</td>\n",
       "      <td>&lt;NA&gt;</td>\n",
       "      <td>PGD</td>\n",
       "      <td>Punta Gorda, FL</td>\n",
       "      <td>FL</td>\n",
       "      <td>Florida</td>\n",
       "      <td>IND</td>\n",
       "      <td>Indianapolis, IN</td>\n",
       "      <td>IN</td>\n",
       "      <td>Indiana</td>\n",
       "      <td>1721</td>\n",
       "      <td>1720.0</td>\n",
       "      <td>-1.0</td>\n",
       "      <td>0.0</td>\n",
       "      <td>0.0</td>\n",
       "      <td>-1.0</td>\n",
       "      <td>1700-1759</td>\n",
       "      <td>12.0</td>\n",
       "      <td>1732.0</td>\n",
       "      <td>2030.0</td>\n",
       "      <td>5.0</td>\n",
       "      <td>1941</td>\n",
       "      <td>2035.0</td>\n",
       "      <td>NaN</td>\n",
       "      <td>NaN</td>\n",
       "      <td>NaN</td>\n",
       "      <td>NaN</td>\n",
       "      <td>1900-1959</td>\n",
       "      <td>0</td>\n",
       "      <td>NaN</td>\n",
       "      <td>140.0</td>\n",
       "      <td>NaN</td>\n",
       "      <td>NaN</td>\n",
       "      <td>916</td>\n",
       "      <td>4</td>\n",
       "      <td>NaN</td>\n",
       "      <td>NaN</td>\n",
       "      <td>NaN</td>\n",
       "      <td>NaN</td>\n",
       "      <td>NaN</td>\n",
       "    </tr>\n",
       "  </tbody>\n",
       "</table>\n",
       "</div>"
      ],
      "text/plain": [
       "         MONTH  DAY_OF_MONTH  DAY_OF_WEEK day_of_week_c    FL_DATE  \\\n",
       "1353545      3            31            2           Tue 2020-03-31   \n",
       "1881785      3            31            2           Tue 2020-03-31   \n",
       "\n",
       "        MARKETING_CARRIER_CODE  MARKETING_FLIGHT_NUMBER TAIL_NUM ORIGIN  \\\n",
       "1353545                     G4                      541     <NA>    FAR   \n",
       "1881785                     G4                     1819     <NA>    PGD   \n",
       "\n",
       "        ORIGIN_CITY_NAME ORIGIN_STATE_ABR ORIGIN_STATE_NM DEST  \\\n",
       "1353545        Fargo, ND               ND    North Dakota  AZA   \n",
       "1881785  Punta Gorda, FL               FL         Florida  IND   \n",
       "\n",
       "           DEST_CITY_NAME DEST_STATE_ABR DEST_STATE_NM  CRS_DEP_TIME  \\\n",
       "1353545       Phoenix, AZ             AZ       Arizona          1422   \n",
       "1881785  Indianapolis, IN             IN       Indiana          1721   \n",
       "\n",
       "         DEP_TIME  DEP_DELAY  DEP_DELAY_NEW  DEP_DEL15  DEP_DELAY_GROUP  \\\n",
       "1353545    1422.0        0.0            0.0        0.0              0.0   \n",
       "1881785    1720.0       -1.0            0.0        0.0             -1.0   \n",
       "\n",
       "        DEP_TIME_BLK  TAXI_OUT  WHEELS_OFF  WHEELS_ON  TAXI_IN  CRS_ARR_TIME  \\\n",
       "1353545    1400-1459       7.0      1429.0     1621.0      6.0          1527   \n",
       "1881785    1700-1759      12.0      1732.0     2030.0      5.0          1941   \n",
       "\n",
       "         ARR_TIME  ARR_DELAY  ARR_DELAY_NEW  ARR_DEL15  ARR_DELAY_GROUP  \\\n",
       "1353545    1627.0        NaN            NaN        NaN              NaN   \n",
       "1881785    2035.0        NaN            NaN        NaN              NaN   \n",
       "\n",
       "        ARR_TIME_BLK  CANCELLED CANCELLATION_CODE  CRS_ELAPSED_TIME  \\\n",
       "1353545    1500-1559          0               NaN             185.0   \n",
       "1881785    1900-1959          0               NaN             140.0   \n",
       "\n",
       "         ACTUAL_ELAPSED_TIME  AIR_TIME  DISTANCE  DISTANCE_GROUP  \\\n",
       "1353545                  NaN       NaN      1220               5   \n",
       "1881785                  NaN       NaN       916               4   \n",
       "\n",
       "         CARRIER_DELAY  WEATHER_DELAY  NAS_DELAY  SECURITY_DELAY  \\\n",
       "1353545            NaN            NaN        NaN             NaN   \n",
       "1881785            NaN            NaN        NaN             NaN   \n",
       "\n",
       "         LATE_AIRCRAFT_DELAY  \n",
       "1353545                  NaN  \n",
       "1881785                  NaN  "
      ]
     },
     "execution_count": 296,
     "metadata": {},
     "output_type": "execute_result"
    }
   ],
   "source": [
    "# get the two “non-cancelled but tail‐missing” flights\n",
    "problem = df[(df['TAIL_NUM'].isna())]\n",
    "problem"
   ]
  },
  {
   "cell_type": "markdown",
   "id": "fc6ab0c8",
   "metadata": {},
   "source": [
    "so they flew on the same day = 31st march 2020 - one at 2:22pm and one at 5:21pm. both were not cancelled, just their aircraft numbers were not noted. now they are real flights and just dropping them would loose data. so lets just keep them and fill their `tail_num` with UNKNOWN."
   ]
  },
  {
   "cell_type": "code",
   "execution_count": 297,
   "id": "3959dde4",
   "metadata": {},
   "outputs": [],
   "source": [
    "df.loc[\n",
    "  (df['TAIL_NUM'].isna()) & (df['CANCELLED'] == 0),\n",
    "  'TAIL_NUM'\n",
    "] = 'UNKNOWN'"
   ]
  },
  {
   "cell_type": "markdown",
   "id": "1ecea7f1",
   "metadata": {},
   "source": [
    "and lets recheck"
   ]
  },
  {
   "cell_type": "code",
   "execution_count": 298,
   "id": "6d261a19",
   "metadata": {},
   "outputs": [
    {
     "name": "stdout",
     "output_type": "stream",
     "text": [
      "TAIL_NUM\n",
      "CANCELLED    162925\n",
      "N494HA         1106\n",
      "N484HA         1102\n",
      "N804HC         1051\n",
      "N479HA         1032\n",
      "              ...  \n",
      "N857NW            1\n",
      "N733AR            1\n",
      "N795UA            1\n",
      "N77019            1\n",
      "N864DA            1\n",
      "Name: count, Length: 6081, dtype: Int64\n",
      "\n",
      "missing values:  0\n",
      "\n",
      "datatype:  string\n"
     ]
    }
   ],
   "source": [
    "show_unique_missing_dtype(df, 'TAIL_NUM')"
   ]
  },
  {
   "cell_type": "markdown",
   "id": "6154c3c4",
   "metadata": {},
   "source": [
    "lets also make its name easier to understand and interpret. so lets change its name to `aircraft_tail_number`"
   ]
  },
  {
   "cell_type": "code",
   "execution_count": 299,
   "id": "98dffe6a",
   "metadata": {},
   "outputs": [],
   "source": [
    "df.rename(columns={\n",
    "    'TAIL_NUM': 'AIRCRAFT_TAIL_NUMBER'\n",
    "}, inplace=True)"
   ]
  },
  {
   "cell_type": "markdown",
   "id": "b7cbd46d",
   "metadata": {},
   "source": [
    "## ORIGIN"
   ]
  },
  {
   "cell_type": "code",
   "execution_count": 300,
   "id": "0fb961d0",
   "metadata": {},
   "outputs": [
    {
     "name": "stdout",
     "output_type": "stream",
     "text": [
      "ORIGIN\n",
      "ATL    128166\n",
      "ORD    127858\n",
      "DFW    112065\n",
      "DEN    101678\n",
      "CLT     98762\n",
      "        ...  \n",
      "PPG        26\n",
      "CDB        26\n",
      "MVY        17\n",
      "UIN        10\n",
      "BKG         9\n",
      "Name: count, Length: 375, dtype: int64\n",
      "\n",
      "missing values:  0\n",
      "\n",
      "datatype:  object\n"
     ]
    }
   ],
   "source": [
    "show_unique_missing_dtype(df, 'ORIGIN')"
   ]
  },
  {
   "cell_type": "markdown",
   "id": "7b55b40f",
   "metadata": {},
   "source": [
    "so this is Flight Departure 3-Letter Airport Abbreviation. no missing values. we do get insights of the most flew-out of city and least flew-out city - data is meaningful. lets just change the datatype to string. "
   ]
  },
  {
   "cell_type": "code",
   "execution_count": 301,
   "id": "469648cc",
   "metadata": {},
   "outputs": [
    {
     "name": "stdout",
     "output_type": "stream",
     "text": [
      "Column Name: 'ORIGIN', Type: string\n"
     ]
    }
   ],
   "source": [
    "df = to_string(df, 'ORIGIN')"
   ]
  },
  {
   "cell_type": "markdown",
   "id": "50f76bac",
   "metadata": {},
   "source": [
    "## ORIGIN_CITY_NAME"
   ]
  },
  {
   "cell_type": "code",
   "execution_count": 302,
   "id": "1d3e8d14",
   "metadata": {},
   "outputs": [
    {
     "name": "stdout",
     "output_type": "stream",
     "text": [
      "ORIGIN_CITY_NAME\n",
      "Chicago, IL              159609\n",
      "Atlanta, GA              128166\n",
      "Dallas/Fort Worth, TX    112065\n",
      "Denver, CO               101678\n",
      "Charlotte, NC             98762\n",
      "                          ...  \n",
      "Cold Bay, AK                 26\n",
      "Pago Pago, TT                26\n",
      "Martha's Vineyard, MA        17\n",
      "Quincy, IL                   10\n",
      "Branson, MO                   9\n",
      "Name: count, Length: 368, dtype: int64\n",
      "\n",
      "missing values:  0\n",
      "\n",
      "datatype:  object\n"
     ]
    }
   ],
   "source": [
    "show_unique_missing_dtype(df, 'ORIGIN_CITY_NAME')"
   ]
  },
  {
   "cell_type": "markdown",
   "id": "2fb69199",
   "metadata": {},
   "source": [
    "before looking at the values, lets make the datatype as string"
   ]
  },
  {
   "cell_type": "code",
   "execution_count": 303,
   "id": "a7cc319e",
   "metadata": {},
   "outputs": [
    {
     "name": "stdout",
     "output_type": "stream",
     "text": [
      "Column Name: 'ORIGIN_CITY_NAME', Type: string\n"
     ]
    }
   ],
   "source": [
    "df = to_string(df, 'ORIGIN_CITY_NAME')"
   ]
  },
  {
   "cell_type": "markdown",
   "id": "4a8dff72",
   "metadata": {},
   "source": [
    "so thats very weird. according to the previous `origin`, we see that \n",
    "- `Atlanta, GA` corresponds to `ATL`. \n",
    "- `Dallas/Fort Worth, TX` corresponds to `DFW`. \n",
    "- `Denver, CO` for `DEN`. \n",
    "- `Charlotte, NC` for `CLT`. \n",
    "- `Cold Bay, AK` for `CDB`. \n",
    "- `Pago Pago, TT` for `PPG`. \n",
    "- `Martha's Vineyard, MA` for `MVY`. \n",
    "- `Quincy, IL` for `UIN`. \n",
    "- `Branson, MO` for `BKG`.    \n",
    " \n",
    "BUT      \n",
    "`Chicago, IL` doesnt correspond to any. `ORD` does not correspond to any. which is fishy - data is inconsistent.   "
   ]
  },
  {
   "cell_type": "markdown",
   "id": "6b20e16e",
   "metadata": {},
   "source": [
    "so lets do this. lets get each unique value in `origin` and extract their rows. then lets extract all the `value_counts ()` and see if they have more than one unique value. if yes, lets see it, if not, ignore."
   ]
  },
  {
   "cell_type": "code",
   "execution_count": 304,
   "id": "6a0d2f0b",
   "metadata": {},
   "outputs": [
    {
     "name": "stdout",
     "output_type": "stream",
     "text": [
      "Number of unique ORIGIN codes: 375\n",
      "processed 20\n",
      "processed 40\n",
      "processed 60\n",
      "processed 80\n",
      "processed 100\n",
      "processed 120\n",
      "processed 140\n",
      "processed 160\n",
      "processed 180\n",
      "processed 200\n",
      "processed 220\n",
      "processed 240\n",
      "processed 260\n",
      "processed 280\n",
      "processed 300\n",
      "processed 320\n",
      "processed 340\n",
      "processed 360\n"
     ]
    }
   ],
   "source": [
    "# 1. How many unique ORIGIN values?\n",
    "num_origins = df['ORIGIN'].nunique()\n",
    "print(f\"Number of unique ORIGIN codes: {num_origins}\")\n",
    "\n",
    "# 2. Iterate over each unique ORIGIN value\n",
    "unique_col1 = df['ORIGIN'].unique()\n",
    "count = 0\n",
    "for col1_name in unique_col1:\n",
    "    rows = df[df['ORIGIN'] == col1_name]\n",
    "    num_uniques = rows['ORIGIN_CITY_NAME'].nunique()\n",
    "    count+=1\n",
    "    if num_uniques > 1:\n",
    "        print(f\"Processing ORIGIN = {col1_name}\")\n",
    "        print(rows['ORIGIN_CITY_NAME'].value_counts())\n",
    "    if count % 20 == 0:\n",
    "        print(\"processed\", count)"
   ]
  },
  {
   "cell_type": "markdown",
   "id": "e825d979",
   "metadata": {},
   "source": [
    "so basically we saw that all the `ORIGIN` map to one city. now lets do this: lets just explore the one we were fishy about - `ORIGIN = ORD`"
   ]
  },
  {
   "cell_type": "code",
   "execution_count": 305,
   "id": "47349e43",
   "metadata": {},
   "outputs": [
    {
     "data": {
      "text/plain": [
       "ORIGIN_CITY_NAME\n",
       "Chicago, IL    127858\n",
       "Name: count, dtype: Int64"
      ]
     },
     "execution_count": 305,
     "metadata": {},
     "output_type": "execute_result"
    }
   ],
   "source": [
    "rows = df[df['ORIGIN'] == 'ORD']\n",
    "rows['ORIGIN_CITY_NAME'].value_counts()"
   ]
  },
  {
   "cell_type": "markdown",
   "id": "01a2a115",
   "metadata": {},
   "source": [
    "so looks like `Chicago, IL` for `ORD` is fine. lets do the opposite now - for every `origin_city_name`, lets find its corresponding `origin` and extract all the >1 unique names. "
   ]
  },
  {
   "cell_type": "code",
   "execution_count": 306,
   "id": "7f0a9857",
   "metadata": {},
   "outputs": [
    {
     "name": "stdout",
     "output_type": "stream",
     "text": [
      "Number of unique ORIGIN_CITY_NAME codes: 368\n",
      "Processing ORIGIN_CITY_NAME = Phoenix, AZ\n",
      "ORIGIN\n",
      "PHX    67069\n",
      "AZA     2961\n",
      "Name: count, dtype: Int64\n",
      "----processed 20\n",
      "----processed 40\n",
      "Processing ORIGIN_CITY_NAME = Columbus, OH\n",
      "ORIGIN\n",
      "CMH    16072\n",
      "LCK      524\n",
      "Name: count, dtype: Int64\n",
      "Processing ORIGIN_CITY_NAME = Washington, DC\n",
      "ORIGIN\n",
      "DCA    46334\n",
      "IAD    31084\n",
      "Name: count, dtype: Int64\n",
      "----processed 60\n",
      "Processing ORIGIN_CITY_NAME = Houston, TX\n",
      "ORIGIN\n",
      "IAH    58525\n",
      "HOU    22426\n",
      "Name: count, dtype: Int64\n",
      "Processing ORIGIN_CITY_NAME = New York, NY\n",
      "ORIGIN\n",
      "LGA    46879\n",
      "JFK    36344\n",
      "Name: count, dtype: Int64\n",
      "----processed 80\n",
      "Processing ORIGIN_CITY_NAME = Chicago, IL\n",
      "ORIGIN\n",
      "ORD    127858\n",
      "MDW     31751\n",
      "Name: count, dtype: Int64\n",
      "----processed 100\n",
      "----processed 120\n",
      "----processed 140\n",
      "----processed 160\n",
      "Processing ORIGIN_CITY_NAME = Mobile, AL\n",
      "ORIGIN\n",
      "MOB    2348\n",
      "BFM      47\n",
      "Name: count, dtype: Int64\n",
      "----processed 180\n",
      "----processed 200\n",
      "----processed 220\n",
      "----processed 240\n",
      "----processed 260\n",
      "----processed 280\n",
      "----processed 300\n",
      "----processed 320\n",
      "----processed 340\n",
      "----processed 360\n"
     ]
    }
   ],
   "source": [
    "# 1. How many unique ORIGIN_CITY_NAME values?\n",
    "num_origins = df['ORIGIN_CITY_NAME'].nunique()\n",
    "print(f\"Number of unique ORIGIN_CITY_NAME codes: {num_origins}\")\n",
    "\n",
    "# 2. Iterate over each unique ORIGIN_CITY_NAME value\n",
    "unique_col1 = df['ORIGIN_CITY_NAME'].unique()\n",
    "count = 0\n",
    "for col1_name in unique_col1:\n",
    "    rows = df[df['ORIGIN_CITY_NAME'] == col1_name]\n",
    "    num_uniques = rows['ORIGIN'].nunique()\n",
    "    count+=1\n",
    "    if num_uniques > 1:\n",
    "        print(f\"Processing ORIGIN_CITY_NAME = {col1_name}\")\n",
    "        print(rows['ORIGIN'].value_counts())\n",
    "    if count % 20 == 0:\n",
    "        print(\"----processed\", count)"
   ]
  },
  {
   "cell_type": "markdown",
   "id": "7d7646c1",
   "metadata": {},
   "source": [
    "so heres the tea. so after a little searching on internet (and chatGPT) multiple `origin` code does not mean data inconsistency, but it means that that city had more than one airport - as `origin` is the AIRPORT ABBREVIATION. not the CITY ABBREVIATION. so this is something to note. to make this more clearer, lets rename `origin` to something more meaningful like `origin_airport_code`"
   ]
  },
  {
   "cell_type": "code",
   "execution_count": 307,
   "id": "d12fe96d",
   "metadata": {},
   "outputs": [],
   "source": [
    "df.rename(columns={'ORIGIN': 'ORIGIN_AIRPORT_CODE'}, inplace=True)"
   ]
  },
  {
   "cell_type": "markdown",
   "id": "e5594278",
   "metadata": {},
   "source": [
    "lets give it a final recheck because it was altered"
   ]
  },
  {
   "cell_type": "code",
   "execution_count": 308,
   "id": "aa58bc31",
   "metadata": {},
   "outputs": [
    {
     "name": "stdout",
     "output_type": "stream",
     "text": [
      "ORIGIN_AIRPORT_CODE\n",
      "ATL    128166\n",
      "ORD    127858\n",
      "DFW    112065\n",
      "DEN    101678\n",
      "CLT     98762\n",
      "        ...  \n",
      "PPG        26\n",
      "CDB        26\n",
      "MVY        17\n",
      "UIN        10\n",
      "BKG         9\n",
      "Name: count, Length: 375, dtype: Int64\n",
      "\n",
      "missing values:  0\n",
      "\n",
      "datatype:  string\n"
     ]
    }
   ],
   "source": [
    "show_unique_missing_dtype(df, 'ORIGIN_AIRPORT_CODE' )"
   ]
  },
  {
   "cell_type": "markdown",
   "id": "0e25e13b",
   "metadata": {},
   "source": [
    "## ORIGIN_STATE_ABR"
   ]
  },
  {
   "cell_type": "code",
   "execution_count": 309,
   "id": "810bc043",
   "metadata": {},
   "outputs": [
    {
     "name": "stdout",
     "output_type": "stream",
     "text": [
      "ORIGIN_STATE_ABR\n",
      "TX    287693\n",
      "CA    284941\n",
      "FL    227389\n",
      "IL    168105\n",
      "GA    137830\n",
      "NC    137163\n",
      "NY    120614\n",
      "CO    116040\n",
      "VA    103216\n",
      "WA     79706\n",
      "AZ     79653\n",
      "PA     79450\n",
      "MI     74629\n",
      "NV     69339\n",
      "MN     53996\n",
      "TN     51261\n",
      "MO     51210\n",
      "NJ     47738\n",
      "MA     47560\n",
      "UT     46158\n",
      "OH     41282\n",
      "HI     40572\n",
      "MD     38523\n",
      "OR     36189\n",
      "KY     30419\n",
      "LA     29627\n",
      "IN     25301\n",
      "WI     24849\n",
      "SC     23906\n",
      "OK     15930\n",
      "AL     15140\n",
      "AK     13447\n",
      "NE     12379\n",
      "ID     12060\n",
      "AR     11808\n",
      "IA     11614\n",
      "MT     10894\n",
      "NM     10869\n",
      "PR     10706\n",
      "CT     10217\n",
      "ND      7961\n",
      "KS      6576\n",
      "RI      6279\n",
      "ME      6199\n",
      "SD      6127\n",
      "MS      5832\n",
      "WY      4312\n",
      "NH      4032\n",
      "VT      3541\n",
      "WV      3040\n",
      "VI      2012\n",
      "TT       513\n",
      "Name: count, dtype: int64\n",
      "\n",
      "missing values:  0\n",
      "\n",
      "datatype:  object\n"
     ]
    }
   ],
   "source": [
    "show_unique_missing_dtype(df, 'ORIGIN_STATE_ABR')"
   ]
  },
  {
   "cell_type": "markdown",
   "id": "69a3ccea",
   "metadata": {},
   "source": [
    "so first off, lets change the datatype to string"
   ]
  },
  {
   "cell_type": "code",
   "execution_count": 310,
   "id": "840ab759",
   "metadata": {},
   "outputs": [
    {
     "name": "stdout",
     "output_type": "stream",
     "text": [
      "Column Name: 'ORIGIN_STATE_ABR', Type: string\n"
     ]
    }
   ],
   "source": [
    "df = to_string(df, 'ORIGIN_STATE_ABR')"
   ]
  },
  {
   "cell_type": "markdown",
   "id": "9318400d",
   "metadata": {},
   "source": [
    "so no missing values. this is a good thing. so this column basically tells us the Flight Departure 2-Letter State Abbreviation. So we can use this column to get the state of the flight departure. this is meaningful, we will keep it, but lets rename the column to something more meaningful like `origin_state_code`"
   ]
  },
  {
   "cell_type": "code",
   "execution_count": 311,
   "id": "e485cbc6",
   "metadata": {},
   "outputs": [],
   "source": [
    "df.rename(columns={\n",
    "    'ORIGIN_STATE_ABR': 'ORIGIN_STATE_CODE'\n",
    "}, inplace=True)"
   ]
  },
  {
   "cell_type": "markdown",
   "id": "0f338e43",
   "metadata": {},
   "source": [
    "## ORIGIN_STATE_NM"
   ]
  },
  {
   "cell_type": "code",
   "execution_count": 312,
   "id": "bb76d094",
   "metadata": {},
   "outputs": [
    {
     "name": "stdout",
     "output_type": "stream",
     "text": [
      "ORIGIN_STATE_NM\n",
      "Texas                                             287693\n",
      "California                                        284941\n",
      "Florida                                           227389\n",
      "Illinois                                          168105\n",
      "Georgia                                           137830\n",
      "North Carolina                                    137163\n",
      "New York                                          120614\n",
      "Colorado                                          116040\n",
      "Virginia                                          103216\n",
      "Washington                                         79706\n",
      "Arizona                                            79653\n",
      "Pennsylvania                                       79450\n",
      "Michigan                                           74629\n",
      "Nevada                                             69339\n",
      "Minnesota                                          53996\n",
      "Tennessee                                          51261\n",
      "Missouri                                           51210\n",
      "New Jersey                                         47738\n",
      "Massachusetts                                      47560\n",
      "Utah                                               46158\n",
      "Ohio                                               41282\n",
      "Hawaii                                             40572\n",
      "Maryland                                           38523\n",
      "Oregon                                             36189\n",
      "Kentucky                                           30419\n",
      "Louisiana                                          29627\n",
      "Indiana                                            25301\n",
      "Wisconsin                                          24849\n",
      "South Carolina                                     23906\n",
      "Oklahoma                                           15930\n",
      "Alabama                                            15140\n",
      "Alaska                                             13447\n",
      "Nebraska                                           12379\n",
      "Idaho                                              12060\n",
      "Arkansas                                           11808\n",
      "Iowa                                               11614\n",
      "Montana                                            10894\n",
      "New Mexico                                         10869\n",
      "Puerto Rico                                        10706\n",
      "Connecticut                                        10217\n",
      "North Dakota                                        7961\n",
      "Kansas                                              6576\n",
      "Rhode Island                                        6279\n",
      "Maine                                               6199\n",
      "South Dakota                                        6127\n",
      "Mississippi                                         5832\n",
      "Wyoming                                             4312\n",
      "New Hampshire                                       4032\n",
      "Vermont                                             3541\n",
      "West Virginia                                       3040\n",
      "U.S. Virgin Islands                                 2012\n",
      "U.S. Pacific Trust Territories and Possessions       513\n",
      "Name: count, dtype: int64\n",
      "\n",
      "missing values:  0\n",
      "\n",
      "datatype:  object\n"
     ]
    }
   ],
   "source": [
    "show_unique_missing_dtype(df, 'ORIGIN_STATE_NM')"
   ]
  },
  {
   "cell_type": "markdown",
   "id": "1bf9985f",
   "metadata": {},
   "source": [
    "so lets change its datatype to string"
   ]
  },
  {
   "cell_type": "code",
   "execution_count": 313,
   "id": "12ebed08",
   "metadata": {},
   "outputs": [
    {
     "name": "stdout",
     "output_type": "stream",
     "text": [
      "Column Name: 'ORIGIN_STATE_NM', Type: string\n"
     ]
    }
   ],
   "source": [
    "df = to_string(df, 'ORIGIN_STATE_NM')"
   ]
  },
  {
   "cell_type": "markdown",
   "id": "16213b58",
   "metadata": {},
   "source": [
    "so no missing values. this is the same as the last column however this is full name. lets check does it map 1 to 1? we need to check for any inconsistencies because last time we found the differenc in airport codes and city names. "
   ]
  },
  {
   "cell_type": "code",
   "execution_count": 314,
   "id": "e596335c",
   "metadata": {},
   "outputs": [
    {
     "name": "stdout",
     "output_type": "stream",
     "text": [
      "Number of unique ORIGIN_STATE_CODE codes: {num_origins}\n",
      "processed 20\n",
      "processed 40\n"
     ]
    }
   ],
   "source": [
    "column1 = 'ORIGIN_STATE_CODE'\n",
    "column2 = 'ORIGIN_STATE_NM'\n",
    "\n",
    "# 1. How many unique column1 values?\n",
    "num_origins = df[column1].nunique()\n",
    "print(f\"Number of unique\", column1, \"codes: {num_origins}\")\n",
    "\n",
    "# 2. Iterate over each unique column1 value\n",
    "unique_col1 = df[column1].unique()\n",
    "count = 0\n",
    "for col1_name in unique_col1:\n",
    "    rows = df[df[column1] == col1_name]\n",
    "    num_uniques = rows[column2].nunique()\n",
    "    count+=1\n",
    "    if num_uniques > 1:\n",
    "        print(f\"Processing \", column1, \" = {col1_name}\")\n",
    "        print(rows[column2].value_counts())\n",
    "    if count % 20 == 0:\n",
    "        print(\"processed\", count)"
   ]
  },
  {
   "cell_type": "code",
   "execution_count": 315,
   "id": "82e15722",
   "metadata": {},
   "outputs": [
    {
     "name": "stdout",
     "output_type": "stream",
     "text": [
      "Number of unique ORIGIN_STATE_NM codes: {num_origins}\n",
      "processed 20\n",
      "processed 40\n"
     ]
    }
   ],
   "source": [
    "column1 = 'ORIGIN_STATE_NM'\n",
    "column2 = 'ORIGIN_STATE_CODE'\n",
    "\n",
    "# 1. How many unique column1 values?\n",
    "num_origins = df[column1].nunique()\n",
    "print(f\"Number of unique\", column1, \"codes: {num_origins}\")\n",
    "\n",
    "# 2. Iterate over each unique column1 value\n",
    "unique_col1 = df[column1].unique()\n",
    "count = 0\n",
    "for col1_name in unique_col1:\n",
    "    rows = df[df[column1] == col1_name]\n",
    "    num_uniques = rows[column2].nunique()\n",
    "    count+=1\n",
    "    if num_uniques > 1:\n",
    "        print(f\"Processing \", column1, \" = {col1_name}\")\n",
    "        print(rows[column2].value_counts())\n",
    "    if count % 20 == 0:\n",
    "        print(\"processed\", count)"
   ]
  },
  {
   "cell_type": "markdown",
   "id": "c139679c",
   "metadata": {},
   "source": [
    "so looks like all the data is consistent and maps to the same one. This is a good thing. lets just rename the column to something more meaningful"
   ]
  },
  {
   "cell_type": "code",
   "execution_count": 316,
   "id": "aa3f32be",
   "metadata": {},
   "outputs": [],
   "source": [
    "df.rename(columns={\n",
    "    'ORIGIN_STATE_NM': 'ORIGIN_STATE_NAME'\n",
    "}, inplace=True)"
   ]
  },
  {
   "cell_type": "markdown",
   "id": "395e1dff",
   "metadata": {},
   "source": [
    "## DEST"
   ]
  },
  {
   "cell_type": "code",
   "execution_count": 317,
   "id": "0ea36867",
   "metadata": {},
   "outputs": [
    {
     "name": "stdout",
     "output_type": "stream",
     "text": [
      "DEST\n",
      "ATL    128263\n",
      "ORD    127904\n",
      "DFW    112018\n",
      "DEN    101737\n",
      "CLT     98727\n",
      "        ...  \n",
      "CDB        26\n",
      "PPG        26\n",
      "MVY        17\n",
      "BKG         9\n",
      "UIN         9\n",
      "Name: count, Length: 375, dtype: int64\n",
      "\n",
      "missing values:  0\n",
      "\n",
      "datatype:  object\n"
     ]
    }
   ],
   "source": [
    "show_unique_missing_dtype(df, 'DEST')"
   ]
  },
  {
   "cell_type": "markdown",
   "id": "6c933939",
   "metadata": {},
   "source": [
    "so this is again AIRPORT CODES and not CITY CODES. lets rename this to `DEST_AIRPORT_CODE` "
   ]
  },
  {
   "cell_type": "code",
   "execution_count": 318,
   "id": "c255d6d4",
   "metadata": {},
   "outputs": [],
   "source": [
    "df.rename(columns={\n",
    "    'DEST': 'DEST_AIRPORT_CODE'\n",
    "}, inplace=True)"
   ]
  },
  {
   "cell_type": "markdown",
   "id": "42bb1712",
   "metadata": {},
   "source": [
    "and now lets change the datatype to string"
   ]
  },
  {
   "cell_type": "code",
   "execution_count": 319,
   "id": "c4b74801",
   "metadata": {},
   "outputs": [
    {
     "name": "stdout",
     "output_type": "stream",
     "text": [
      "Column Name: 'DEST_AIRPORT_CODE', Type: string\n"
     ]
    }
   ],
   "source": [
    "df = to_string(df, 'DEST_AIRPORT_CODE')"
   ]
  },
  {
   "cell_type": "markdown",
   "id": "92d1347c",
   "metadata": {},
   "source": [
    "## DEST_CITY_NAME"
   ]
  },
  {
   "cell_type": "code",
   "execution_count": 320,
   "id": "8354f63a",
   "metadata": {},
   "outputs": [
    {
     "name": "stdout",
     "output_type": "stream",
     "text": [
      "DEST_CITY_NAME\n",
      "Chicago, IL              159653\n",
      "Atlanta, GA              128263\n",
      "Dallas/Fort Worth, TX    112018\n",
      "Denver, CO               101737\n",
      "Charlotte, NC             98727\n",
      "                          ...  \n",
      "Pago Pago, TT                26\n",
      "Cold Bay, AK                 26\n",
      "Martha's Vineyard, MA        17\n",
      "Quincy, IL                    9\n",
      "Branson, MO                   9\n",
      "Name: count, Length: 368, dtype: int64\n",
      "\n",
      "missing values:  0\n",
      "\n",
      "datatype:  object\n"
     ]
    }
   ],
   "source": [
    "show_unique_missing_dtype(df, 'DEST_CITY_NAME')"
   ]
  },
  {
   "cell_type": "markdown",
   "id": "19e04982",
   "metadata": {},
   "source": [
    "so no missing values. the data is same as we discussed for origin, this is destination city name. so name is menaingful and changing is not needed. so lets change datatype to string"
   ]
  },
  {
   "cell_type": "code",
   "execution_count": 321,
   "id": "c25445e0",
   "metadata": {},
   "outputs": [
    {
     "name": "stdout",
     "output_type": "stream",
     "text": [
      "Column Name: 'DEST_CITY_NAME', Type: string\n"
     ]
    }
   ],
   "source": [
    "df = to_string(df, 'DEST_CITY_NAME')"
   ]
  },
  {
   "cell_type": "markdown",
   "id": "f69e148c",
   "metadata": {},
   "source": [
    "## DEST_STATE_ABR"
   ]
  },
  {
   "cell_type": "code",
   "execution_count": 322,
   "id": "4f429594",
   "metadata": {},
   "outputs": [
    {
     "name": "stdout",
     "output_type": "stream",
     "text": [
      "DEST_STATE_ABR\n",
      "TX    287645\n",
      "CA    285003\n",
      "FL    227236\n",
      "IL    168148\n",
      "GA    137917\n",
      "NC    137123\n",
      "NY    120619\n",
      "CO    116071\n",
      "VA    103214\n",
      "WA     79713\n",
      "AZ     79629\n",
      "PA     79440\n",
      "MI     74676\n",
      "NV     69322\n",
      "MN     54017\n",
      "TN     51258\n",
      "MO     51207\n",
      "NJ     47806\n",
      "MA     47589\n",
      "UT     46217\n",
      "OH     41279\n",
      "HI     40550\n",
      "MD     38502\n",
      "OR     36184\n",
      "KY     30420\n",
      "LA     29637\n",
      "IN     25281\n",
      "WI     24836\n",
      "SC     23906\n",
      "OK     15929\n",
      "AL     15147\n",
      "AK     13450\n",
      "NE     12381\n",
      "ID     11985\n",
      "AR     11824\n",
      "IA     11614\n",
      "MT     10879\n",
      "NM     10869\n",
      "PR     10680\n",
      "CT     10213\n",
      "ND      7957\n",
      "KS      6584\n",
      "RI      6280\n",
      "ME      6201\n",
      "SD      6134\n",
      "MS      5830\n",
      "WY      4307\n",
      "NH      4032\n",
      "VT      3543\n",
      "WV      3038\n",
      "VI      2013\n",
      "TT       512\n",
      "Name: count, dtype: int64\n",
      "\n",
      "missing values:  0\n",
      "\n",
      "datatype:  object\n"
     ]
    }
   ],
   "source": [
    "show_unique_missing_dtype(df, 'DEST_STATE_ABR')"
   ]
  },
  {
   "cell_type": "markdown",
   "id": "04f0eff2",
   "metadata": {},
   "source": [
    "so this is fine. no missing values. lets change the datatype to string"
   ]
  },
  {
   "cell_type": "code",
   "execution_count": 323,
   "id": "7bee061c",
   "metadata": {},
   "outputs": [
    {
     "name": "stdout",
     "output_type": "stream",
     "text": [
      "Column Name: 'DEST_STATE_ABR', Type: string\n"
     ]
    }
   ],
   "source": [
    "df = to_string(df, 'DEST_STATE_ABR')"
   ]
  },
  {
   "cell_type": "markdown",
   "id": "6c13650d",
   "metadata": {},
   "source": [
    "lets rename the column in the same way for origin so that its consistent"
   ]
  },
  {
   "cell_type": "code",
   "execution_count": 324,
   "id": "a507db8a",
   "metadata": {},
   "outputs": [],
   "source": [
    "df.rename(columns={\n",
    "    'DEST_STATE_ABR': 'DEST_STATE_CODE'\n",
    "}, inplace=True)"
   ]
  },
  {
   "cell_type": "markdown",
   "id": "a018fec6",
   "metadata": {},
   "source": [
    "## DEST_STATE_NM "
   ]
  },
  {
   "cell_type": "code",
   "execution_count": 325,
   "id": "2f7572f9",
   "metadata": {},
   "outputs": [
    {
     "name": "stdout",
     "output_type": "stream",
     "text": [
      "DEST_STATE_NM\n",
      "Texas                                             287645\n",
      "California                                        285003\n",
      "Florida                                           227236\n",
      "Illinois                                          168148\n",
      "Georgia                                           137917\n",
      "North Carolina                                    137123\n",
      "New York                                          120619\n",
      "Colorado                                          116071\n",
      "Virginia                                          103214\n",
      "Washington                                         79713\n",
      "Arizona                                            79629\n",
      "Pennsylvania                                       79440\n",
      "Michigan                                           74676\n",
      "Nevada                                             69322\n",
      "Minnesota                                          54017\n",
      "Tennessee                                          51258\n",
      "Missouri                                           51207\n",
      "New Jersey                                         47806\n",
      "Massachusetts                                      47589\n",
      "Utah                                               46217\n",
      "Ohio                                               41279\n",
      "Hawaii                                             40550\n",
      "Maryland                                           38502\n",
      "Oregon                                             36184\n",
      "Kentucky                                           30420\n",
      "Louisiana                                          29637\n",
      "Indiana                                            25281\n",
      "Wisconsin                                          24836\n",
      "South Carolina                                     23906\n",
      "Oklahoma                                           15929\n",
      "Alabama                                            15147\n",
      "Alaska                                             13450\n",
      "Nebraska                                           12381\n",
      "Idaho                                              11985\n",
      "Arkansas                                           11824\n",
      "Iowa                                               11614\n",
      "Montana                                            10879\n",
      "New Mexico                                         10869\n",
      "Puerto Rico                                        10680\n",
      "Connecticut                                        10213\n",
      "North Dakota                                        7957\n",
      "Kansas                                              6584\n",
      "Rhode Island                                        6280\n",
      "Maine                                               6201\n",
      "South Dakota                                        6134\n",
      "Mississippi                                         5830\n",
      "Wyoming                                             4307\n",
      "New Hampshire                                       4032\n",
      "Vermont                                             3543\n",
      "West Virginia                                       3038\n",
      "U.S. Virgin Islands                                 2013\n",
      "U.S. Pacific Trust Territories and Possessions       512\n",
      "Name: count, dtype: int64\n",
      "\n",
      "missing values:  0\n",
      "\n",
      "datatype:  object\n"
     ]
    }
   ],
   "source": [
    "show_unique_missing_dtype(df, 'DEST_STATE_NM')"
   ]
  },
  {
   "cell_type": "markdown",
   "id": "2b007277",
   "metadata": {},
   "source": [
    "so no missing values. lets change datatype and rename the same way as origin"
   ]
  },
  {
   "cell_type": "code",
   "execution_count": 326,
   "id": "20f7ada7",
   "metadata": {},
   "outputs": [
    {
     "name": "stdout",
     "output_type": "stream",
     "text": [
      "Column Name: 'DEST_STATE_NM', Type: string\n"
     ]
    }
   ],
   "source": [
    "df = to_string(df, 'DEST_STATE_NM')"
   ]
  },
  {
   "cell_type": "code",
   "execution_count": 327,
   "id": "f76f3c63",
   "metadata": {},
   "outputs": [],
   "source": [
    "df.rename(columns={\n",
    "    'DEST_STATE_NM': 'DEST_STATE_NAME'\n",
    "}, inplace=True)"
   ]
  },
  {
   "cell_type": "markdown",
   "id": "21d1f976",
   "metadata": {},
   "source": [
    "## CRS_DEP_TIME"
   ]
  },
  {
   "cell_type": "code",
   "execution_count": 328,
   "id": "814d70e4",
   "metadata": {},
   "outputs": [
    {
     "name": "stdout",
     "output_type": "stream",
     "text": [
      "CRS_DEP_TIME\n",
      "600    54560\n",
      "700    48071\n",
      "800    29759\n",
      "900    19845\n",
      "830    19290\n",
      "       ...  \n",
      "452        1\n",
      "332        1\n",
      "146        1\n",
      "137        1\n",
      "357        1\n",
      "Name: count, Length: 1310, dtype: int64\n",
      "\n",
      "missing values:  0\n",
      "\n",
      "datatype:  int64\n"
     ]
    }
   ],
   "source": [
    "show_unique_missing_dtype(df, 'CRS_DEP_TIME')"
   ]
  },
  {
   "cell_type": "markdown",
   "id": "1088f95f",
   "metadata": {},
   "source": [
    "so no missing values. this is the SCHEDULED DEP TIME. majority flights happen at 6am and at whole numbers like 6am, 7am, 8am etc. but this is not very interpretable, we cannot make any understanding from this. but what is more interpretable is that we get the HOURS of departure. i.e. 4:52 means 4. 1:46 means 1. etc. i want to be able to interpret what is the most hour of departure flights? same for arrival."
   ]
  },
  {
   "cell_type": "code",
   "execution_count": 329,
   "id": "78cebde7",
   "metadata": {},
   "outputs": [],
   "source": [
    "def extract_hour(df: pd.DataFrame, time_col: str, hour_col: str) -> pd.DataFrame:\n",
    "    \"\"\"\n",
    "    Given a DataFrame and a column like 'CRS_DEP_TIME' or 'CRS_ARR_TIME' \n",
    "    in HMM or HHMM integer form, creates a new column with just the hour.\n",
    "\n",
    "    Examples:\n",
    "      3    → 0   (00:03)\n",
    "      614  → 6   (06:14)\n",
    "      2300 → 23  (23:00)\n",
    "    \"\"\"\n",
    "    # ensure numeric, coerce errors to NaN\n",
    "    times = pd.to_numeric(df[time_col], errors='coerce').fillna(0).astype(int)\n",
    "    \n",
    "    # integer-divide by 100 to get the hour bucket\n",
    "    df[hour_col] = times // 100\n",
    "    \n",
    "    return df"
   ]
  },
  {
   "cell_type": "markdown",
   "id": "105296e6",
   "metadata": {},
   "source": [
    "so lets make a new column which extracts the times"
   ]
  },
  {
   "cell_type": "code",
   "execution_count": 330,
   "id": "55336c05",
   "metadata": {},
   "outputs": [],
   "source": [
    "df = extract_hour(df, 'CRS_DEP_TIME', 'CRS_DEP_HOUR')"
   ]
  },
  {
   "cell_type": "code",
   "execution_count": 331,
   "id": "7ea70721",
   "metadata": {},
   "outputs": [],
   "source": [
    "# Get list of current columns\n",
    "cols = list(df.columns)\n",
    "\n",
    "# Move 'CRS_DEP_HOUR' to be right after 'CRS_DEP_TIME'\n",
    "day_index = cols.index('CRS_DEP_TIME')\n",
    "cols.insert(day_index + 1, cols.pop(cols.index('CRS_DEP_HOUR')))\n",
    "\n",
    "# Reorder DataFrame\n",
    "df = df[cols]"
   ]
  },
  {
   "cell_type": "markdown",
   "id": "f0a5d04d",
   "metadata": {},
   "source": [
    "lets review its statistics and recheck"
   ]
  },
  {
   "cell_type": "code",
   "execution_count": 332,
   "id": "06aeb1f2",
   "metadata": {},
   "outputs": [
    {
     "name": "stdout",
     "output_type": "stream",
     "text": [
      "CRS_DEP_HOUR\n",
      "7     188892\n",
      "17    185129\n",
      "6     184951\n",
      "8     183788\n",
      "11    176881\n",
      "9     173659\n",
      "12    172998\n",
      "15    170027\n",
      "10    167429\n",
      "13    164308\n",
      "14    163822\n",
      "16    163611\n",
      "18    162903\n",
      "19    145134\n",
      "20    128942\n",
      "21     73945\n",
      "5      58407\n",
      "22     57798\n",
      "23     15267\n",
      "0       4235\n",
      "1       2260\n",
      "2        671\n",
      "3        509\n",
      "4        281\n",
      "Name: count, dtype: int64\n",
      "\n",
      "missing values:  0\n",
      "\n",
      "datatype:  int32\n"
     ]
    }
   ],
   "source": [
    "show_unique_missing_dtype(df, 'CRS_DEP_HOUR')"
   ]
  },
  {
   "cell_type": "markdown",
   "id": "f4de24e1",
   "metadata": {},
   "source": [
    "after this, we can even make a DAY/NIGHT column in `DAX`. right now its not necessary. now lets rename both column names to make it more understandable."
   ]
  },
  {
   "cell_type": "code",
   "execution_count": 333,
   "id": "e94fb31a",
   "metadata": {},
   "outputs": [],
   "source": [
    "df.rename(columns={\n",
    "    'CRS_DEP_TIME': 'SCHEDULED_DEP_TIME',\n",
    "    'CRS_DEP_HOUR': 'SCHEDULED_DEP_HOUR'\n",
    "}, inplace=True)"
   ]
  },
  {
   "cell_type": "markdown",
   "id": "bdedbc51",
   "metadata": {},
   "source": [
    "## DEP_TIME"
   ]
  },
  {
   "cell_type": "code",
   "execution_count": null,
   "id": "aeab2288",
   "metadata": {},
   "outputs": [],
   "source": []
  },
  {
   "cell_type": "markdown",
   "id": "89d204f8",
   "metadata": {},
   "source": [
    "## DEP_DELAY"
   ]
  },
  {
   "cell_type": "code",
   "execution_count": null,
   "id": "0cefa44b",
   "metadata": {},
   "outputs": [],
   "source": []
  },
  {
   "cell_type": "markdown",
   "id": "90dcca82",
   "metadata": {},
   "source": [
    "## DEP_DELAY_NEW"
   ]
  },
  {
   "cell_type": "code",
   "execution_count": null,
   "id": "131f218d",
   "metadata": {},
   "outputs": [],
   "source": []
  },
  {
   "cell_type": "markdown",
   "id": "b24d9202",
   "metadata": {},
   "source": [
    "## DEP_DEL15"
   ]
  },
  {
   "cell_type": "code",
   "execution_count": null,
   "id": "c85bfebf",
   "metadata": {},
   "outputs": [],
   "source": []
  },
  {
   "cell_type": "markdown",
   "id": "c2b3dc4b",
   "metadata": {},
   "source": [
    "## DEP_DELAY_GROUP"
   ]
  },
  {
   "cell_type": "code",
   "execution_count": null,
   "id": "4ac4054e",
   "metadata": {},
   "outputs": [],
   "source": []
  },
  {
   "cell_type": "markdown",
   "id": "d18e8611",
   "metadata": {},
   "source": [
    "## DEP_TIME_BLK"
   ]
  },
  {
   "cell_type": "code",
   "execution_count": null,
   "id": "83d1d97f",
   "metadata": {},
   "outputs": [],
   "source": []
  },
  {
   "cell_type": "markdown",
   "id": "7f5f503a",
   "metadata": {},
   "source": [
    "## TAXI_OUT"
   ]
  },
  {
   "cell_type": "code",
   "execution_count": null,
   "id": "c32e56a0",
   "metadata": {},
   "outputs": [],
   "source": []
  },
  {
   "cell_type": "markdown",
   "id": "4c554f4a",
   "metadata": {},
   "source": [
    "## WHEELS_OFF"
   ]
  },
  {
   "cell_type": "code",
   "execution_count": null,
   "id": "a4fe6d4d",
   "metadata": {},
   "outputs": [],
   "source": []
  },
  {
   "cell_type": "markdown",
   "id": "b74f0dd3",
   "metadata": {},
   "source": [
    "## WHEELS_ON"
   ]
  },
  {
   "cell_type": "code",
   "execution_count": null,
   "id": "bdbb67c3",
   "metadata": {},
   "outputs": [],
   "source": []
  },
  {
   "cell_type": "markdown",
   "id": "910f3a37",
   "metadata": {},
   "source": [
    "## TAXI_IN"
   ]
  },
  {
   "cell_type": "code",
   "execution_count": null,
   "id": "4009f3eb",
   "metadata": {},
   "outputs": [],
   "source": []
  },
  {
   "cell_type": "markdown",
   "id": "bfb2c496",
   "metadata": {},
   "source": [
    "## CRS_ARR_TIME"
   ]
  },
  {
   "cell_type": "code",
   "execution_count": null,
   "id": "eeff9745",
   "metadata": {},
   "outputs": [],
   "source": []
  },
  {
   "cell_type": "markdown",
   "id": "8788eba7",
   "metadata": {},
   "source": [
    "## ARR_TIME"
   ]
  },
  {
   "cell_type": "code",
   "execution_count": null,
   "id": "67cf9628",
   "metadata": {},
   "outputs": [],
   "source": []
  },
  {
   "cell_type": "markdown",
   "id": "da90cf79",
   "metadata": {},
   "source": [
    "## ARR_DELAY"
   ]
  },
  {
   "cell_type": "code",
   "execution_count": null,
   "id": "17d4173d",
   "metadata": {},
   "outputs": [],
   "source": []
  },
  {
   "cell_type": "markdown",
   "id": "441f16cf",
   "metadata": {},
   "source": [
    "## ARR_DELAY_NEW"
   ]
  },
  {
   "cell_type": "code",
   "execution_count": null,
   "id": "37112f12",
   "metadata": {},
   "outputs": [],
   "source": []
  },
  {
   "cell_type": "markdown",
   "id": "1ba6ef61",
   "metadata": {},
   "source": [
    "## ARR_DEL15"
   ]
  },
  {
   "cell_type": "code",
   "execution_count": null,
   "id": "b3ae0b8d",
   "metadata": {},
   "outputs": [],
   "source": []
  },
  {
   "cell_type": "markdown",
   "id": "325aff75",
   "metadata": {},
   "source": [
    "## ARR_DELAY_GROUP"
   ]
  },
  {
   "cell_type": "code",
   "execution_count": null,
   "id": "9e6182bf",
   "metadata": {},
   "outputs": [],
   "source": []
  },
  {
   "cell_type": "markdown",
   "id": "1ac20ede",
   "metadata": {},
   "source": [
    "## ARR_TIME_BLK"
   ]
  },
  {
   "cell_type": "code",
   "execution_count": null,
   "id": "d6906418",
   "metadata": {},
   "outputs": [],
   "source": []
  },
  {
   "cell_type": "markdown",
   "id": "4108ae8b",
   "metadata": {},
   "source": [
    "## CANCELLED"
   ]
  },
  {
   "cell_type": "code",
   "execution_count": null,
   "id": "3b12d333",
   "metadata": {},
   "outputs": [],
   "source": []
  },
  {
   "cell_type": "markdown",
   "id": "f70ba738",
   "metadata": {},
   "source": [
    "## CANCELLATION_CODE"
   ]
  },
  {
   "cell_type": "code",
   "execution_count": null,
   "id": "58611bb5",
   "metadata": {},
   "outputs": [],
   "source": []
  },
  {
   "cell_type": "markdown",
   "id": "666b3eb7",
   "metadata": {},
   "source": [
    "## CRS_ELAPSED_TIME"
   ]
  },
  {
   "cell_type": "code",
   "execution_count": null,
   "id": "2e07f637",
   "metadata": {},
   "outputs": [],
   "source": []
  },
  {
   "cell_type": "markdown",
   "id": "e896f7ed",
   "metadata": {},
   "source": [
    "## ACTUAL_ELAPSED_TIME"
   ]
  },
  {
   "cell_type": "code",
   "execution_count": null,
   "id": "3f214557",
   "metadata": {},
   "outputs": [],
   "source": []
  },
  {
   "cell_type": "markdown",
   "id": "cc789ff8",
   "metadata": {},
   "source": [
    "## AIR_TIME"
   ]
  },
  {
   "cell_type": "code",
   "execution_count": null,
   "id": "38fc8cf5",
   "metadata": {},
   "outputs": [],
   "source": []
  },
  {
   "cell_type": "markdown",
   "id": "5ffdcaff",
   "metadata": {},
   "source": [
    "## DISTANCE"
   ]
  },
  {
   "cell_type": "code",
   "execution_count": null,
   "id": "ebf07aaa",
   "metadata": {},
   "outputs": [],
   "source": []
  },
  {
   "cell_type": "markdown",
   "id": "cb33bf55",
   "metadata": {},
   "source": [
    "## DISTANCE_GROUP"
   ]
  },
  {
   "cell_type": "code",
   "execution_count": null,
   "id": "8604180b",
   "metadata": {},
   "outputs": [],
   "source": []
  },
  {
   "cell_type": "markdown",
   "id": "e4ff0d64",
   "metadata": {},
   "source": [
    "## CARRIER_DELAY"
   ]
  },
  {
   "cell_type": "code",
   "execution_count": null,
   "id": "354cca54",
   "metadata": {},
   "outputs": [],
   "source": []
  },
  {
   "cell_type": "markdown",
   "id": "17dd8a55",
   "metadata": {},
   "source": [
    "## WEATHER_DELAY"
   ]
  },
  {
   "cell_type": "code",
   "execution_count": null,
   "id": "9f673b93",
   "metadata": {},
   "outputs": [],
   "source": []
  },
  {
   "cell_type": "markdown",
   "id": "ab6f8e24",
   "metadata": {},
   "source": [
    "## NAS_DELAY"
   ]
  },
  {
   "cell_type": "code",
   "execution_count": null,
   "id": "4d0cbd55",
   "metadata": {},
   "outputs": [],
   "source": []
  },
  {
   "cell_type": "markdown",
   "id": "55225cf2",
   "metadata": {},
   "source": [
    "## SECURITY_DELAY"
   ]
  },
  {
   "cell_type": "code",
   "execution_count": null,
   "id": "856c269d",
   "metadata": {},
   "outputs": [],
   "source": []
  },
  {
   "cell_type": "markdown",
   "id": "9b4722b2",
   "metadata": {},
   "source": [
    "## LATE_AIRCRAFT_DELAY"
   ]
  },
  {
   "cell_type": "code",
   "execution_count": null,
   "id": "2747f48e",
   "metadata": {},
   "outputs": [],
   "source": []
  },
  {
   "cell_type": "markdown",
   "id": "97d780bf",
   "metadata": {},
   "source": [
    "# Recheck\n",
    "a simple recheck of all data statistics to see if the data is fine before donwloading"
   ]
  },
  {
   "cell_type": "code",
   "execution_count": 334,
   "id": "0176ba01",
   "metadata": {},
   "outputs": [
    {
     "data": {
      "text/plain": [
       "(2745847, 47)"
      ]
     },
     "execution_count": 334,
     "metadata": {},
     "output_type": "execute_result"
    }
   ],
   "source": [
    "df.shape"
   ]
  },
  {
   "cell_type": "code",
   "execution_count": 335,
   "id": "861e917d",
   "metadata": {},
   "outputs": [
    {
     "data": {
      "text/plain": [
       "MONTH                            0\n",
       "DAY_OF_MONTH                     0\n",
       "DAY_OF_WEEK                      0\n",
       "day_of_week_c                    0\n",
       "FL_DATE                          0\n",
       "MARKETING_CARRIER_CODE           0\n",
       "MARKETING_FLIGHT_NUMBER          0\n",
       "AIRCRAFT_TAIL_NUMBER             0\n",
       "ORIGIN_AIRPORT_CODE              0\n",
       "ORIGIN_CITY_NAME                 0\n",
       "ORIGIN_STATE_CODE                0\n",
       "ORIGIN_STATE_NAME                0\n",
       "DEST_AIRPORT_CODE                0\n",
       "DEST_CITY_NAME                   0\n",
       "DEST_STATE_CODE                  0\n",
       "DEST_STATE_NAME                  0\n",
       "SCHEDULED_DEP_TIME               0\n",
       "SCHEDULED_DEP_HOUR               0\n",
       "DEP_TIME                    281937\n",
       "DEP_DELAY                   281992\n",
       "DEP_DELAY_NEW               281992\n",
       "DEP_DEL15                   281992\n",
       "DEP_DELAY_GROUP             281992\n",
       "DEP_TIME_BLK                     0\n",
       "TAXI_OUT                    282493\n",
       "WHEELS_OFF                  282493\n",
       "WHEELS_ON                   283554\n",
       "TAXI_IN                     283554\n",
       "CRS_ARR_TIME                     0\n",
       "ARR_TIME                    283554\n",
       "ARR_DELAY                   287334\n",
       "ARR_DELAY_NEW               287334\n",
       "ARR_DEL15                   287334\n",
       "ARR_DELAY_GROUP             287334\n",
       "ARR_TIME_BLK                     0\n",
       "CANCELLED                        0\n",
       "CANCELLATION_CODE          2462921\n",
       "CRS_ELAPSED_TIME                 2\n",
       "ACTUAL_ELAPSED_TIME         287334\n",
       "AIR_TIME                    287334\n",
       "DISTANCE                         0\n",
       "DISTANCE_GROUP                   0\n",
       "CARRIER_DELAY              2467621\n",
       "WEATHER_DELAY              2467621\n",
       "NAS_DELAY                  2467621\n",
       "SECURITY_DELAY             2467621\n",
       "LATE_AIRCRAFT_DELAY        2467621\n",
       "dtype: int64"
      ]
     },
     "execution_count": 335,
     "metadata": {},
     "output_type": "execute_result"
    }
   ],
   "source": [
    "# Check for missing values\n",
    "df.isnull().sum()"
   ]
  },
  {
   "cell_type": "code",
   "execution_count": 336,
   "id": "2f3ad2dd",
   "metadata": {},
   "outputs": [
    {
     "data": {
      "text/plain": [
       "MONTH                               int64\n",
       "DAY_OF_MONTH                        int64\n",
       "DAY_OF_WEEK                         int64\n",
       "day_of_week_c              string[python]\n",
       "FL_DATE                    datetime64[ns]\n",
       "MARKETING_CARRIER_CODE     string[python]\n",
       "MARKETING_FLIGHT_NUMBER             int64\n",
       "AIRCRAFT_TAIL_NUMBER       string[python]\n",
       "ORIGIN_AIRPORT_CODE        string[python]\n",
       "ORIGIN_CITY_NAME           string[python]\n",
       "ORIGIN_STATE_CODE          string[python]\n",
       "ORIGIN_STATE_NAME          string[python]\n",
       "DEST_AIRPORT_CODE          string[python]\n",
       "DEST_CITY_NAME             string[python]\n",
       "DEST_STATE_CODE            string[python]\n",
       "DEST_STATE_NAME            string[python]\n",
       "SCHEDULED_DEP_TIME                  int64\n",
       "SCHEDULED_DEP_HOUR                  int32\n",
       "DEP_TIME                          float64\n",
       "DEP_DELAY                         float64\n",
       "DEP_DELAY_NEW                     float64\n",
       "DEP_DEL15                         float64\n",
       "DEP_DELAY_GROUP                   float64\n",
       "DEP_TIME_BLK                       object\n",
       "TAXI_OUT                          float64\n",
       "WHEELS_OFF                        float64\n",
       "WHEELS_ON                         float64\n",
       "TAXI_IN                           float64\n",
       "CRS_ARR_TIME                        int64\n",
       "ARR_TIME                          float64\n",
       "ARR_DELAY                         float64\n",
       "ARR_DELAY_NEW                     float64\n",
       "ARR_DEL15                         float64\n",
       "ARR_DELAY_GROUP                   float64\n",
       "ARR_TIME_BLK                       object\n",
       "CANCELLED                           int64\n",
       "CANCELLATION_CODE                  object\n",
       "CRS_ELAPSED_TIME                  float64\n",
       "ACTUAL_ELAPSED_TIME               float64\n",
       "AIR_TIME                          float64\n",
       "DISTANCE                            int64\n",
       "DISTANCE_GROUP                      int64\n",
       "CARRIER_DELAY                     float64\n",
       "WEATHER_DELAY                     float64\n",
       "NAS_DELAY                         float64\n",
       "SECURITY_DELAY                    float64\n",
       "LATE_AIRCRAFT_DELAY               float64\n",
       "dtype: object"
      ]
     },
     "execution_count": 336,
     "metadata": {},
     "output_type": "execute_result"
    }
   ],
   "source": [
    "# Display data types\n",
    "df.dtypes"
   ]
  },
  {
   "cell_type": "code",
   "execution_count": 337,
   "id": "96ce9025",
   "metadata": {},
   "outputs": [
    {
     "data": {
      "text/html": [
       "<div>\n",
       "<style scoped>\n",
       "    .dataframe tbody tr th:only-of-type {\n",
       "        vertical-align: middle;\n",
       "    }\n",
       "\n",
       "    .dataframe tbody tr th {\n",
       "        vertical-align: top;\n",
       "    }\n",
       "\n",
       "    .dataframe thead th {\n",
       "        text-align: right;\n",
       "    }\n",
       "</style>\n",
       "<table border=\"1\" class=\"dataframe\">\n",
       "  <thead>\n",
       "    <tr style=\"text-align: right;\">\n",
       "      <th></th>\n",
       "      <th>MONTH</th>\n",
       "      <th>DAY_OF_MONTH</th>\n",
       "      <th>DAY_OF_WEEK</th>\n",
       "      <th>day_of_week_c</th>\n",
       "      <th>FL_DATE</th>\n",
       "      <th>MARKETING_CARRIER_CODE</th>\n",
       "      <th>MARKETING_FLIGHT_NUMBER</th>\n",
       "      <th>AIRCRAFT_TAIL_NUMBER</th>\n",
       "      <th>ORIGIN_AIRPORT_CODE</th>\n",
       "      <th>ORIGIN_CITY_NAME</th>\n",
       "      <th>ORIGIN_STATE_CODE</th>\n",
       "      <th>ORIGIN_STATE_NAME</th>\n",
       "      <th>DEST_AIRPORT_CODE</th>\n",
       "      <th>DEST_CITY_NAME</th>\n",
       "      <th>DEST_STATE_CODE</th>\n",
       "      <th>DEST_STATE_NAME</th>\n",
       "      <th>SCHEDULED_DEP_TIME</th>\n",
       "      <th>SCHEDULED_DEP_HOUR</th>\n",
       "      <th>DEP_TIME</th>\n",
       "      <th>DEP_DELAY</th>\n",
       "      <th>DEP_DELAY_NEW</th>\n",
       "      <th>DEP_DEL15</th>\n",
       "      <th>DEP_DELAY_GROUP</th>\n",
       "      <th>DEP_TIME_BLK</th>\n",
       "      <th>TAXI_OUT</th>\n",
       "      <th>WHEELS_OFF</th>\n",
       "      <th>WHEELS_ON</th>\n",
       "      <th>TAXI_IN</th>\n",
       "      <th>CRS_ARR_TIME</th>\n",
       "      <th>ARR_TIME</th>\n",
       "      <th>ARR_DELAY</th>\n",
       "      <th>ARR_DELAY_NEW</th>\n",
       "      <th>ARR_DEL15</th>\n",
       "      <th>ARR_DELAY_GROUP</th>\n",
       "      <th>ARR_TIME_BLK</th>\n",
       "      <th>CANCELLED</th>\n",
       "      <th>CANCELLATION_CODE</th>\n",
       "      <th>CRS_ELAPSED_TIME</th>\n",
       "      <th>ACTUAL_ELAPSED_TIME</th>\n",
       "      <th>AIR_TIME</th>\n",
       "      <th>DISTANCE</th>\n",
       "      <th>DISTANCE_GROUP</th>\n",
       "      <th>CARRIER_DELAY</th>\n",
       "      <th>WEATHER_DELAY</th>\n",
       "      <th>NAS_DELAY</th>\n",
       "      <th>SECURITY_DELAY</th>\n",
       "      <th>LATE_AIRCRAFT_DELAY</th>\n",
       "    </tr>\n",
       "  </thead>\n",
       "  <tbody>\n",
       "    <tr>\n",
       "      <th>0</th>\n",
       "      <td>1</td>\n",
       "      <td>1</td>\n",
       "      <td>3</td>\n",
       "      <td>Wed</td>\n",
       "      <td>2020-01-01</td>\n",
       "      <td>WN</td>\n",
       "      <td>5888</td>\n",
       "      <td>N951WN</td>\n",
       "      <td>ONT</td>\n",
       "      <td>Ontario, CA</td>\n",
       "      <td>CA</td>\n",
       "      <td>California</td>\n",
       "      <td>SFO</td>\n",
       "      <td>San Francisco, CA</td>\n",
       "      <td>CA</td>\n",
       "      <td>California</td>\n",
       "      <td>1810</td>\n",
       "      <td>18</td>\n",
       "      <td>1851.0</td>\n",
       "      <td>41.0</td>\n",
       "      <td>41.0</td>\n",
       "      <td>1.0</td>\n",
       "      <td>2.0</td>\n",
       "      <td>1800-1859</td>\n",
       "      <td>44.0</td>\n",
       "      <td>1935.0</td>\n",
       "      <td>2049.0</td>\n",
       "      <td>4.0</td>\n",
       "      <td>1945</td>\n",
       "      <td>2053.0</td>\n",
       "      <td>68.0</td>\n",
       "      <td>68.0</td>\n",
       "      <td>1.0</td>\n",
       "      <td>4.0</td>\n",
       "      <td>1900-1959</td>\n",
       "      <td>0</td>\n",
       "      <td>NaN</td>\n",
       "      <td>95.0</td>\n",
       "      <td>122.0</td>\n",
       "      <td>74.0</td>\n",
       "      <td>363</td>\n",
       "      <td>2</td>\n",
       "      <td>8.0</td>\n",
       "      <td>0.0</td>\n",
       "      <td>27.0</td>\n",
       "      <td>0.0</td>\n",
       "      <td>33.0</td>\n",
       "    </tr>\n",
       "    <tr>\n",
       "      <th>1</th>\n",
       "      <td>1</td>\n",
       "      <td>1</td>\n",
       "      <td>3</td>\n",
       "      <td>Wed</td>\n",
       "      <td>2020-01-01</td>\n",
       "      <td>WN</td>\n",
       "      <td>6276</td>\n",
       "      <td>N467WN</td>\n",
       "      <td>ONT</td>\n",
       "      <td>Ontario, CA</td>\n",
       "      <td>CA</td>\n",
       "      <td>California</td>\n",
       "      <td>SFO</td>\n",
       "      <td>San Francisco, CA</td>\n",
       "      <td>CA</td>\n",
       "      <td>California</td>\n",
       "      <td>1150</td>\n",
       "      <td>11</td>\n",
       "      <td>1146.0</td>\n",
       "      <td>-4.0</td>\n",
       "      <td>0.0</td>\n",
       "      <td>0.0</td>\n",
       "      <td>-1.0</td>\n",
       "      <td>1100-1159</td>\n",
       "      <td>13.0</td>\n",
       "      <td>1159.0</td>\n",
       "      <td>1310.0</td>\n",
       "      <td>8.0</td>\n",
       "      <td>1320</td>\n",
       "      <td>1318.0</td>\n",
       "      <td>-2.0</td>\n",
       "      <td>0.0</td>\n",
       "      <td>0.0</td>\n",
       "      <td>-1.0</td>\n",
       "      <td>1300-1359</td>\n",
       "      <td>0</td>\n",
       "      <td>NaN</td>\n",
       "      <td>90.0</td>\n",
       "      <td>92.0</td>\n",
       "      <td>71.0</td>\n",
       "      <td>363</td>\n",
       "      <td>2</td>\n",
       "      <td>NaN</td>\n",
       "      <td>NaN</td>\n",
       "      <td>NaN</td>\n",
       "      <td>NaN</td>\n",
       "      <td>NaN</td>\n",
       "    </tr>\n",
       "    <tr>\n",
       "      <th>2</th>\n",
       "      <td>1</td>\n",
       "      <td>1</td>\n",
       "      <td>3</td>\n",
       "      <td>Wed</td>\n",
       "      <td>2020-01-01</td>\n",
       "      <td>WN</td>\n",
       "      <td>4598</td>\n",
       "      <td>N7885A</td>\n",
       "      <td>ONT</td>\n",
       "      <td>Ontario, CA</td>\n",
       "      <td>CA</td>\n",
       "      <td>California</td>\n",
       "      <td>SJC</td>\n",
       "      <td>San Jose, CA</td>\n",
       "      <td>CA</td>\n",
       "      <td>California</td>\n",
       "      <td>2020</td>\n",
       "      <td>20</td>\n",
       "      <td>2016.0</td>\n",
       "      <td>-4.0</td>\n",
       "      <td>0.0</td>\n",
       "      <td>0.0</td>\n",
       "      <td>-1.0</td>\n",
       "      <td>2000-2059</td>\n",
       "      <td>8.0</td>\n",
       "      <td>2024.0</td>\n",
       "      <td>2121.0</td>\n",
       "      <td>3.0</td>\n",
       "      <td>2130</td>\n",
       "      <td>2124.0</td>\n",
       "      <td>-6.0</td>\n",
       "      <td>0.0</td>\n",
       "      <td>0.0</td>\n",
       "      <td>-1.0</td>\n",
       "      <td>2100-2159</td>\n",
       "      <td>0</td>\n",
       "      <td>NaN</td>\n",
       "      <td>70.0</td>\n",
       "      <td>68.0</td>\n",
       "      <td>57.0</td>\n",
       "      <td>333</td>\n",
       "      <td>2</td>\n",
       "      <td>NaN</td>\n",
       "      <td>NaN</td>\n",
       "      <td>NaN</td>\n",
       "      <td>NaN</td>\n",
       "      <td>NaN</td>\n",
       "    </tr>\n",
       "    <tr>\n",
       "      <th>3</th>\n",
       "      <td>1</td>\n",
       "      <td>1</td>\n",
       "      <td>3</td>\n",
       "      <td>Wed</td>\n",
       "      <td>2020-01-01</td>\n",
       "      <td>WN</td>\n",
       "      <td>4761</td>\n",
       "      <td>N551WN</td>\n",
       "      <td>ONT</td>\n",
       "      <td>Ontario, CA</td>\n",
       "      <td>CA</td>\n",
       "      <td>California</td>\n",
       "      <td>SJC</td>\n",
       "      <td>San Jose, CA</td>\n",
       "      <td>CA</td>\n",
       "      <td>California</td>\n",
       "      <td>1340</td>\n",
       "      <td>13</td>\n",
       "      <td>1350.0</td>\n",
       "      <td>10.0</td>\n",
       "      <td>10.0</td>\n",
       "      <td>0.0</td>\n",
       "      <td>0.0</td>\n",
       "      <td>1300-1359</td>\n",
       "      <td>10.0</td>\n",
       "      <td>1400.0</td>\n",
       "      <td>1503.0</td>\n",
       "      <td>2.0</td>\n",
       "      <td>1455</td>\n",
       "      <td>1505.0</td>\n",
       "      <td>10.0</td>\n",
       "      <td>10.0</td>\n",
       "      <td>0.0</td>\n",
       "      <td>0.0</td>\n",
       "      <td>1400-1459</td>\n",
       "      <td>0</td>\n",
       "      <td>NaN</td>\n",
       "      <td>75.0</td>\n",
       "      <td>75.0</td>\n",
       "      <td>63.0</td>\n",
       "      <td>333</td>\n",
       "      <td>2</td>\n",
       "      <td>NaN</td>\n",
       "      <td>NaN</td>\n",
       "      <td>NaN</td>\n",
       "      <td>NaN</td>\n",
       "      <td>NaN</td>\n",
       "    </tr>\n",
       "    <tr>\n",
       "      <th>4</th>\n",
       "      <td>1</td>\n",
       "      <td>1</td>\n",
       "      <td>3</td>\n",
       "      <td>Wed</td>\n",
       "      <td>2020-01-01</td>\n",
       "      <td>WN</td>\n",
       "      <td>5162</td>\n",
       "      <td>N968WN</td>\n",
       "      <td>ONT</td>\n",
       "      <td>Ontario, CA</td>\n",
       "      <td>CA</td>\n",
       "      <td>California</td>\n",
       "      <td>SJC</td>\n",
       "      <td>San Jose, CA</td>\n",
       "      <td>CA</td>\n",
       "      <td>California</td>\n",
       "      <td>915</td>\n",
       "      <td>9</td>\n",
       "      <td>916.0</td>\n",
       "      <td>1.0</td>\n",
       "      <td>1.0</td>\n",
       "      <td>0.0</td>\n",
       "      <td>0.0</td>\n",
       "      <td>0900-0959</td>\n",
       "      <td>6.0</td>\n",
       "      <td>922.0</td>\n",
       "      <td>1019.0</td>\n",
       "      <td>4.0</td>\n",
       "      <td>1035</td>\n",
       "      <td>1023.0</td>\n",
       "      <td>-12.0</td>\n",
       "      <td>0.0</td>\n",
       "      <td>0.0</td>\n",
       "      <td>-1.0</td>\n",
       "      <td>1000-1059</td>\n",
       "      <td>0</td>\n",
       "      <td>NaN</td>\n",
       "      <td>80.0</td>\n",
       "      <td>67.0</td>\n",
       "      <td>57.0</td>\n",
       "      <td>333</td>\n",
       "      <td>2</td>\n",
       "      <td>NaN</td>\n",
       "      <td>NaN</td>\n",
       "      <td>NaN</td>\n",
       "      <td>NaN</td>\n",
       "      <td>NaN</td>\n",
       "    </tr>\n",
       "    <tr>\n",
       "      <th>...</th>\n",
       "      <td>...</td>\n",
       "      <td>...</td>\n",
       "      <td>...</td>\n",
       "      <td>...</td>\n",
       "      <td>...</td>\n",
       "      <td>...</td>\n",
       "      <td>...</td>\n",
       "      <td>...</td>\n",
       "      <td>...</td>\n",
       "      <td>...</td>\n",
       "      <td>...</td>\n",
       "      <td>...</td>\n",
       "      <td>...</td>\n",
       "      <td>...</td>\n",
       "      <td>...</td>\n",
       "      <td>...</td>\n",
       "      <td>...</td>\n",
       "      <td>...</td>\n",
       "      <td>...</td>\n",
       "      <td>...</td>\n",
       "      <td>...</td>\n",
       "      <td>...</td>\n",
       "      <td>...</td>\n",
       "      <td>...</td>\n",
       "      <td>...</td>\n",
       "      <td>...</td>\n",
       "      <td>...</td>\n",
       "      <td>...</td>\n",
       "      <td>...</td>\n",
       "      <td>...</td>\n",
       "      <td>...</td>\n",
       "      <td>...</td>\n",
       "      <td>...</td>\n",
       "      <td>...</td>\n",
       "      <td>...</td>\n",
       "      <td>...</td>\n",
       "      <td>...</td>\n",
       "      <td>...</td>\n",
       "      <td>...</td>\n",
       "      <td>...</td>\n",
       "      <td>...</td>\n",
       "      <td>...</td>\n",
       "      <td>...</td>\n",
       "      <td>...</td>\n",
       "      <td>...</td>\n",
       "      <td>...</td>\n",
       "      <td>...</td>\n",
       "    </tr>\n",
       "    <tr>\n",
       "      <th>2745842</th>\n",
       "      <td>6</td>\n",
       "      <td>13</td>\n",
       "      <td>6</td>\n",
       "      <td>Sat</td>\n",
       "      <td>2020-06-13</td>\n",
       "      <td>AS</td>\n",
       "      <td>1209</td>\n",
       "      <td>N413AS</td>\n",
       "      <td>SEA</td>\n",
       "      <td>Seattle, WA</td>\n",
       "      <td>WA</td>\n",
       "      <td>Washington</td>\n",
       "      <td>HNL</td>\n",
       "      <td>Honolulu, HI</td>\n",
       "      <td>HI</td>\n",
       "      <td>Hawaii</td>\n",
       "      <td>1050</td>\n",
       "      <td>10</td>\n",
       "      <td>1048.0</td>\n",
       "      <td>-2.0</td>\n",
       "      <td>0.0</td>\n",
       "      <td>0.0</td>\n",
       "      <td>-1.0</td>\n",
       "      <td>1000-1059</td>\n",
       "      <td>10.0</td>\n",
       "      <td>1058.0</td>\n",
       "      <td>1327.0</td>\n",
       "      <td>3.0</td>\n",
       "      <td>1405</td>\n",
       "      <td>1330.0</td>\n",
       "      <td>-35.0</td>\n",
       "      <td>0.0</td>\n",
       "      <td>0.0</td>\n",
       "      <td>-2.0</td>\n",
       "      <td>1400-1459</td>\n",
       "      <td>0</td>\n",
       "      <td>NaN</td>\n",
       "      <td>375.0</td>\n",
       "      <td>342.0</td>\n",
       "      <td>329.0</td>\n",
       "      <td>2677</td>\n",
       "      <td>11</td>\n",
       "      <td>NaN</td>\n",
       "      <td>NaN</td>\n",
       "      <td>NaN</td>\n",
       "      <td>NaN</td>\n",
       "      <td>NaN</td>\n",
       "    </tr>\n",
       "    <tr>\n",
       "      <th>2745843</th>\n",
       "      <td>6</td>\n",
       "      <td>13</td>\n",
       "      <td>6</td>\n",
       "      <td>Sat</td>\n",
       "      <td>2020-06-13</td>\n",
       "      <td>AS</td>\n",
       "      <td>1216</td>\n",
       "      <td>N929VA</td>\n",
       "      <td>PHX</td>\n",
       "      <td>Phoenix, AZ</td>\n",
       "      <td>AZ</td>\n",
       "      <td>Arizona</td>\n",
       "      <td>SEA</td>\n",
       "      <td>Seattle, WA</td>\n",
       "      <td>WA</td>\n",
       "      <td>Washington</td>\n",
       "      <td>1530</td>\n",
       "      <td>15</td>\n",
       "      <td>1517.0</td>\n",
       "      <td>-13.0</td>\n",
       "      <td>0.0</td>\n",
       "      <td>0.0</td>\n",
       "      <td>-1.0</td>\n",
       "      <td>1500-1559</td>\n",
       "      <td>20.0</td>\n",
       "      <td>1537.0</td>\n",
       "      <td>1802.0</td>\n",
       "      <td>5.0</td>\n",
       "      <td>1826</td>\n",
       "      <td>1807.0</td>\n",
       "      <td>-19.0</td>\n",
       "      <td>0.0</td>\n",
       "      <td>0.0</td>\n",
       "      <td>-2.0</td>\n",
       "      <td>1800-1859</td>\n",
       "      <td>0</td>\n",
       "      <td>NaN</td>\n",
       "      <td>176.0</td>\n",
       "      <td>170.0</td>\n",
       "      <td>145.0</td>\n",
       "      <td>1107</td>\n",
       "      <td>5</td>\n",
       "      <td>NaN</td>\n",
       "      <td>NaN</td>\n",
       "      <td>NaN</td>\n",
       "      <td>NaN</td>\n",
       "      <td>NaN</td>\n",
       "    </tr>\n",
       "    <tr>\n",
       "      <th>2745844</th>\n",
       "      <td>6</td>\n",
       "      <td>13</td>\n",
       "      <td>6</td>\n",
       "      <td>Sat</td>\n",
       "      <td>2020-06-13</td>\n",
       "      <td>AS</td>\n",
       "      <td>1217</td>\n",
       "      <td>N929VA</td>\n",
       "      <td>SEA</td>\n",
       "      <td>Seattle, WA</td>\n",
       "      <td>WA</td>\n",
       "      <td>Washington</td>\n",
       "      <td>PHX</td>\n",
       "      <td>Phoenix, AZ</td>\n",
       "      <td>AZ</td>\n",
       "      <td>Arizona</td>\n",
       "      <td>1100</td>\n",
       "      <td>11</td>\n",
       "      <td>1058.0</td>\n",
       "      <td>-2.0</td>\n",
       "      <td>0.0</td>\n",
       "      <td>0.0</td>\n",
       "      <td>-1.0</td>\n",
       "      <td>1100-1159</td>\n",
       "      <td>18.0</td>\n",
       "      <td>1116.0</td>\n",
       "      <td>1350.0</td>\n",
       "      <td>3.0</td>\n",
       "      <td>1405</td>\n",
       "      <td>1353.0</td>\n",
       "      <td>-12.0</td>\n",
       "      <td>0.0</td>\n",
       "      <td>0.0</td>\n",
       "      <td>-1.0</td>\n",
       "      <td>1400-1459</td>\n",
       "      <td>0</td>\n",
       "      <td>NaN</td>\n",
       "      <td>185.0</td>\n",
       "      <td>175.0</td>\n",
       "      <td>154.0</td>\n",
       "      <td>1107</td>\n",
       "      <td>5</td>\n",
       "      <td>NaN</td>\n",
       "      <td>NaN</td>\n",
       "      <td>NaN</td>\n",
       "      <td>NaN</td>\n",
       "      <td>NaN</td>\n",
       "    </tr>\n",
       "    <tr>\n",
       "      <th>2745845</th>\n",
       "      <td>6</td>\n",
       "      <td>13</td>\n",
       "      <td>6</td>\n",
       "      <td>Sat</td>\n",
       "      <td>2020-06-13</td>\n",
       "      <td>AS</td>\n",
       "      <td>1223</td>\n",
       "      <td>N841VA</td>\n",
       "      <td>SNA</td>\n",
       "      <td>Santa Ana, CA</td>\n",
       "      <td>CA</td>\n",
       "      <td>California</td>\n",
       "      <td>SEA</td>\n",
       "      <td>Seattle, WA</td>\n",
       "      <td>WA</td>\n",
       "      <td>Washington</td>\n",
       "      <td>1510</td>\n",
       "      <td>15</td>\n",
       "      <td>1459.0</td>\n",
       "      <td>-11.0</td>\n",
       "      <td>0.0</td>\n",
       "      <td>0.0</td>\n",
       "      <td>-1.0</td>\n",
       "      <td>1500-1559</td>\n",
       "      <td>14.0</td>\n",
       "      <td>1513.0</td>\n",
       "      <td>1738.0</td>\n",
       "      <td>5.0</td>\n",
       "      <td>1755</td>\n",
       "      <td>1743.0</td>\n",
       "      <td>-12.0</td>\n",
       "      <td>0.0</td>\n",
       "      <td>0.0</td>\n",
       "      <td>-1.0</td>\n",
       "      <td>1700-1759</td>\n",
       "      <td>0</td>\n",
       "      <td>NaN</td>\n",
       "      <td>165.0</td>\n",
       "      <td>164.0</td>\n",
       "      <td>145.0</td>\n",
       "      <td>978</td>\n",
       "      <td>4</td>\n",
       "      <td>NaN</td>\n",
       "      <td>NaN</td>\n",
       "      <td>NaN</td>\n",
       "      <td>NaN</td>\n",
       "      <td>NaN</td>\n",
       "    </tr>\n",
       "    <tr>\n",
       "      <th>2745846</th>\n",
       "      <td>6</td>\n",
       "      <td>13</td>\n",
       "      <td>6</td>\n",
       "      <td>Sat</td>\n",
       "      <td>2020-06-13</td>\n",
       "      <td>AS</td>\n",
       "      <td>1229</td>\n",
       "      <td>N413AS</td>\n",
       "      <td>HNL</td>\n",
       "      <td>Honolulu, HI</td>\n",
       "      <td>HI</td>\n",
       "      <td>Hawaii</td>\n",
       "      <td>SEA</td>\n",
       "      <td>Seattle, WA</td>\n",
       "      <td>WA</td>\n",
       "      <td>Washington</td>\n",
       "      <td>1520</td>\n",
       "      <td>15</td>\n",
       "      <td>1515.0</td>\n",
       "      <td>-5.0</td>\n",
       "      <td>0.0</td>\n",
       "      <td>0.0</td>\n",
       "      <td>-1.0</td>\n",
       "      <td>1500-1559</td>\n",
       "      <td>17.0</td>\n",
       "      <td>1532.0</td>\n",
       "      <td>2348.0</td>\n",
       "      <td>5.0</td>\n",
       "      <td>2358</td>\n",
       "      <td>2353.0</td>\n",
       "      <td>-5.0</td>\n",
       "      <td>0.0</td>\n",
       "      <td>0.0</td>\n",
       "      <td>-1.0</td>\n",
       "      <td>2300-2359</td>\n",
       "      <td>0</td>\n",
       "      <td>NaN</td>\n",
       "      <td>338.0</td>\n",
       "      <td>338.0</td>\n",
       "      <td>316.0</td>\n",
       "      <td>2677</td>\n",
       "      <td>11</td>\n",
       "      <td>NaN</td>\n",
       "      <td>NaN</td>\n",
       "      <td>NaN</td>\n",
       "      <td>NaN</td>\n",
       "      <td>NaN</td>\n",
       "    </tr>\n",
       "  </tbody>\n",
       "</table>\n",
       "<p>2745847 rows × 47 columns</p>\n",
       "</div>"
      ],
      "text/plain": [
       "         MONTH  DAY_OF_MONTH  DAY_OF_WEEK day_of_week_c    FL_DATE  \\\n",
       "0            1             1            3           Wed 2020-01-01   \n",
       "1            1             1            3           Wed 2020-01-01   \n",
       "2            1             1            3           Wed 2020-01-01   \n",
       "3            1             1            3           Wed 2020-01-01   \n",
       "4            1             1            3           Wed 2020-01-01   \n",
       "...        ...           ...          ...           ...        ...   \n",
       "2745842      6            13            6           Sat 2020-06-13   \n",
       "2745843      6            13            6           Sat 2020-06-13   \n",
       "2745844      6            13            6           Sat 2020-06-13   \n",
       "2745845      6            13            6           Sat 2020-06-13   \n",
       "2745846      6            13            6           Sat 2020-06-13   \n",
       "\n",
       "        MARKETING_CARRIER_CODE  MARKETING_FLIGHT_NUMBER AIRCRAFT_TAIL_NUMBER  \\\n",
       "0                           WN                     5888               N951WN   \n",
       "1                           WN                     6276               N467WN   \n",
       "2                           WN                     4598               N7885A   \n",
       "3                           WN                     4761               N551WN   \n",
       "4                           WN                     5162               N968WN   \n",
       "...                        ...                      ...                  ...   \n",
       "2745842                     AS                     1209               N413AS   \n",
       "2745843                     AS                     1216               N929VA   \n",
       "2745844                     AS                     1217               N929VA   \n",
       "2745845                     AS                     1223               N841VA   \n",
       "2745846                     AS                     1229               N413AS   \n",
       "\n",
       "        ORIGIN_AIRPORT_CODE ORIGIN_CITY_NAME ORIGIN_STATE_CODE  \\\n",
       "0                       ONT      Ontario, CA                CA   \n",
       "1                       ONT      Ontario, CA                CA   \n",
       "2                       ONT      Ontario, CA                CA   \n",
       "3                       ONT      Ontario, CA                CA   \n",
       "4                       ONT      Ontario, CA                CA   \n",
       "...                     ...              ...               ...   \n",
       "2745842                 SEA      Seattle, WA                WA   \n",
       "2745843                 PHX      Phoenix, AZ                AZ   \n",
       "2745844                 SEA      Seattle, WA                WA   \n",
       "2745845                 SNA    Santa Ana, CA                CA   \n",
       "2745846                 HNL     Honolulu, HI                HI   \n",
       "\n",
       "        ORIGIN_STATE_NAME DEST_AIRPORT_CODE     DEST_CITY_NAME  \\\n",
       "0              California               SFO  San Francisco, CA   \n",
       "1              California               SFO  San Francisco, CA   \n",
       "2              California               SJC       San Jose, CA   \n",
       "3              California               SJC       San Jose, CA   \n",
       "4              California               SJC       San Jose, CA   \n",
       "...                   ...               ...                ...   \n",
       "2745842        Washington               HNL       Honolulu, HI   \n",
       "2745843           Arizona               SEA        Seattle, WA   \n",
       "2745844        Washington               PHX        Phoenix, AZ   \n",
       "2745845        California               SEA        Seattle, WA   \n",
       "2745846            Hawaii               SEA        Seattle, WA   \n",
       "\n",
       "        DEST_STATE_CODE DEST_STATE_NAME  SCHEDULED_DEP_TIME  \\\n",
       "0                    CA      California                1810   \n",
       "1                    CA      California                1150   \n",
       "2                    CA      California                2020   \n",
       "3                    CA      California                1340   \n",
       "4                    CA      California                 915   \n",
       "...                 ...             ...                 ...   \n",
       "2745842              HI          Hawaii                1050   \n",
       "2745843              WA      Washington                1530   \n",
       "2745844              AZ         Arizona                1100   \n",
       "2745845              WA      Washington                1510   \n",
       "2745846              WA      Washington                1520   \n",
       "\n",
       "         SCHEDULED_DEP_HOUR  DEP_TIME  DEP_DELAY  DEP_DELAY_NEW  DEP_DEL15  \\\n",
       "0                        18    1851.0       41.0           41.0        1.0   \n",
       "1                        11    1146.0       -4.0            0.0        0.0   \n",
       "2                        20    2016.0       -4.0            0.0        0.0   \n",
       "3                        13    1350.0       10.0           10.0        0.0   \n",
       "4                         9     916.0        1.0            1.0        0.0   \n",
       "...                     ...       ...        ...            ...        ...   \n",
       "2745842                  10    1048.0       -2.0            0.0        0.0   \n",
       "2745843                  15    1517.0      -13.0            0.0        0.0   \n",
       "2745844                  11    1058.0       -2.0            0.0        0.0   \n",
       "2745845                  15    1459.0      -11.0            0.0        0.0   \n",
       "2745846                  15    1515.0       -5.0            0.0        0.0   \n",
       "\n",
       "         DEP_DELAY_GROUP DEP_TIME_BLK  TAXI_OUT  WHEELS_OFF  WHEELS_ON  \\\n",
       "0                    2.0    1800-1859      44.0      1935.0     2049.0   \n",
       "1                   -1.0    1100-1159      13.0      1159.0     1310.0   \n",
       "2                   -1.0    2000-2059       8.0      2024.0     2121.0   \n",
       "3                    0.0    1300-1359      10.0      1400.0     1503.0   \n",
       "4                    0.0    0900-0959       6.0       922.0     1019.0   \n",
       "...                  ...          ...       ...         ...        ...   \n",
       "2745842             -1.0    1000-1059      10.0      1058.0     1327.0   \n",
       "2745843             -1.0    1500-1559      20.0      1537.0     1802.0   \n",
       "2745844             -1.0    1100-1159      18.0      1116.0     1350.0   \n",
       "2745845             -1.0    1500-1559      14.0      1513.0     1738.0   \n",
       "2745846             -1.0    1500-1559      17.0      1532.0     2348.0   \n",
       "\n",
       "         TAXI_IN  CRS_ARR_TIME  ARR_TIME  ARR_DELAY  ARR_DELAY_NEW  ARR_DEL15  \\\n",
       "0            4.0          1945    2053.0       68.0           68.0        1.0   \n",
       "1            8.0          1320    1318.0       -2.0            0.0        0.0   \n",
       "2            3.0          2130    2124.0       -6.0            0.0        0.0   \n",
       "3            2.0          1455    1505.0       10.0           10.0        0.0   \n",
       "4            4.0          1035    1023.0      -12.0            0.0        0.0   \n",
       "...          ...           ...       ...        ...            ...        ...   \n",
       "2745842      3.0          1405    1330.0      -35.0            0.0        0.0   \n",
       "2745843      5.0          1826    1807.0      -19.0            0.0        0.0   \n",
       "2745844      3.0          1405    1353.0      -12.0            0.0        0.0   \n",
       "2745845      5.0          1755    1743.0      -12.0            0.0        0.0   \n",
       "2745846      5.0          2358    2353.0       -5.0            0.0        0.0   \n",
       "\n",
       "         ARR_DELAY_GROUP ARR_TIME_BLK  CANCELLED CANCELLATION_CODE  \\\n",
       "0                    4.0    1900-1959          0               NaN   \n",
       "1                   -1.0    1300-1359          0               NaN   \n",
       "2                   -1.0    2100-2159          0               NaN   \n",
       "3                    0.0    1400-1459          0               NaN   \n",
       "4                   -1.0    1000-1059          0               NaN   \n",
       "...                  ...          ...        ...               ...   \n",
       "2745842             -2.0    1400-1459          0               NaN   \n",
       "2745843             -2.0    1800-1859          0               NaN   \n",
       "2745844             -1.0    1400-1459          0               NaN   \n",
       "2745845             -1.0    1700-1759          0               NaN   \n",
       "2745846             -1.0    2300-2359          0               NaN   \n",
       "\n",
       "         CRS_ELAPSED_TIME  ACTUAL_ELAPSED_TIME  AIR_TIME  DISTANCE  \\\n",
       "0                    95.0                122.0      74.0       363   \n",
       "1                    90.0                 92.0      71.0       363   \n",
       "2                    70.0                 68.0      57.0       333   \n",
       "3                    75.0                 75.0      63.0       333   \n",
       "4                    80.0                 67.0      57.0       333   \n",
       "...                   ...                  ...       ...       ...   \n",
       "2745842             375.0                342.0     329.0      2677   \n",
       "2745843             176.0                170.0     145.0      1107   \n",
       "2745844             185.0                175.0     154.0      1107   \n",
       "2745845             165.0                164.0     145.0       978   \n",
       "2745846             338.0                338.0     316.0      2677   \n",
       "\n",
       "         DISTANCE_GROUP  CARRIER_DELAY  WEATHER_DELAY  NAS_DELAY  \\\n",
       "0                     2            8.0            0.0       27.0   \n",
       "1                     2            NaN            NaN        NaN   \n",
       "2                     2            NaN            NaN        NaN   \n",
       "3                     2            NaN            NaN        NaN   \n",
       "4                     2            NaN            NaN        NaN   \n",
       "...                 ...            ...            ...        ...   \n",
       "2745842              11            NaN            NaN        NaN   \n",
       "2745843               5            NaN            NaN        NaN   \n",
       "2745844               5            NaN            NaN        NaN   \n",
       "2745845               4            NaN            NaN        NaN   \n",
       "2745846              11            NaN            NaN        NaN   \n",
       "\n",
       "         SECURITY_DELAY  LATE_AIRCRAFT_DELAY  \n",
       "0                   0.0                 33.0  \n",
       "1                   NaN                  NaN  \n",
       "2                   NaN                  NaN  \n",
       "3                   NaN                  NaN  \n",
       "4                   NaN                  NaN  \n",
       "...                 ...                  ...  \n",
       "2745842             NaN                  NaN  \n",
       "2745843             NaN                  NaN  \n",
       "2745844             NaN                  NaN  \n",
       "2745845             NaN                  NaN  \n",
       "2745846             NaN                  NaN  \n",
       "\n",
       "[2745847 rows x 47 columns]"
      ]
     },
     "execution_count": 337,
     "metadata": {},
     "output_type": "execute_result"
    }
   ],
   "source": [
    "df"
   ]
  },
  {
   "cell_type": "markdown",
   "id": "ad0daabf",
   "metadata": {},
   "source": [
    "# Download cleaned dataset"
   ]
  },
  {
   "cell_type": "code",
   "execution_count": 338,
   "id": "5d95b474",
   "metadata": {},
   "outputs": [],
   "source": [
    "# Save the cleaned DataFrame to a CSV file\n",
    "# df.to_csv('../data/flights_jantojun2020_3M_cleaned.csv', index=False)"
   ]
  },
  {
   "cell_type": "code",
   "execution_count": 339,
   "id": "765cfd28",
   "metadata": {},
   "outputs": [],
   "source": [
    "# Extract first 1000 rows\n",
    "df_1000 = df.head(1000)\n",
    "\n",
    "# Save to CSV with column headers\n",
    "df_1000.to_csv('../data/flights_jantojun2020_1K_cleaned.csv', index=False)"
   ]
  },
  {
   "cell_type": "code",
   "execution_count": 340,
   "id": "a0992633",
   "metadata": {},
   "outputs": [],
   "source": [
    "# revert pandas settings back to normal\n",
    "# pd.reset_option('display.max_columns')"
   ]
  },
  {
   "cell_type": "markdown",
   "id": "ddfd01e5",
   "metadata": {},
   "source": [
    "# Last run"
   ]
  },
  {
   "cell_type": "code",
   "execution_count": 341,
   "id": "e81b6e8b",
   "metadata": {},
   "outputs": [
    {
     "data": {
      "text/plain": [
       "'2025-05-30 13:44:22'"
      ]
     },
     "execution_count": 341,
     "metadata": {},
     "output_type": "execute_result"
    }
   ],
   "source": [
    "get_current_datetime()"
   ]
  },
  {
   "cell_type": "code",
   "execution_count": 342,
   "id": "dd6588f9",
   "metadata": {},
   "outputs": [
    {
     "name": "stdout",
     "output_type": "stream",
     "text": [
      "Start time : 2025-05-30 13:40:32.003100\n",
      "End time   : 2025-05-30 13:44:22.855537\n",
      "Duration   : 0h 3m 50s 852ms\n"
     ]
    }
   ],
   "source": [
    "# Capture end time\n",
    "end_time = datetime.now()\n",
    "\n",
    "# Compute time difference\n",
    "diff = end_time - start_time\n",
    "\n",
    "# Total seconds (float)\n",
    "total_seconds = diff.total_seconds()\n",
    "\n",
    "# Decompose\n",
    "hours, rem = divmod(total_seconds, 3600)\n",
    "minutes, rem = divmod(rem, 60)\n",
    "seconds = int(rem)\n",
    "milliseconds = diff.microseconds // 1000\n",
    "\n",
    "# Display\n",
    "print(f\"Start time : {start_time.strftime('%Y-%m-%d %H:%M:%S.%f')}\")\n",
    "print(f\"End time   : {end_time.strftime('%Y-%m-%d %H:%M:%S.%f')}\")\n",
    "print(f\"Duration   : {int(hours)}h {int(minutes)}m {seconds}s {milliseconds}ms\")"
   ]
  }
 ],
 "metadata": {
  "kernelspec": {
   "display_name": "Python 3",
   "language": "python",
   "name": "python3"
  },
  "language_info": {
   "codemirror_mode": {
    "name": "ipython",
    "version": 3
   },
   "file_extension": ".py",
   "mimetype": "text/x-python",
   "name": "python",
   "nbconvert_exporter": "python",
   "pygments_lexer": "ipython3",
   "version": "3.12.10"
  }
 },
 "nbformat": 4,
 "nbformat_minor": 5
}
