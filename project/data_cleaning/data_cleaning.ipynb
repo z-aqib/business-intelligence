{
 "cells": [
  {
   "cell_type": "markdown",
   "id": "6018971c",
   "metadata": {},
   "source": [
    "Business Intelligence Project    \n",
    "Name: Zehra Ahmed, Farah Inayat, Kisa Fatima, Zuha Aqib    \n",
    "Date: 18-May-2025"
   ]
  },
  {
   "cell_type": "code",
   "execution_count": null,
   "id": "709b858f",
   "metadata": {},
   "outputs": [],
   "source": [
    "# print when the last code was run\n",
    "from datetime import datetime\n",
    "datetime.now().strftime(\"%Y-%m-%d %H:%M:%S\")"
   ]
  },
  {
   "cell_type": "code",
   "execution_count": null,
   "id": "71f32b75",
   "metadata": {},
   "outputs": [],
   "source": [
    "# Capture start time\n",
    "start_time = datetime.now()"
   ]
  },
  {
   "cell_type": "markdown",
   "id": "cd29e08c",
   "metadata": {},
   "source": [
    "# Imports"
   ]
  },
  {
   "cell_type": "code",
   "execution_count": null,
   "id": "6353fea4",
   "metadata": {},
   "outputs": [],
   "source": [
    "import pandas as pd\n",
    "import numpy as np\n",
    "import matplotlib.pyplot as plt\n",
    "import seaborn as sns\n",
    "\n",
    "from datetime import datetime, timedelta"
   ]
  },
  {
   "cell_type": "markdown",
   "id": "400ec6d2",
   "metadata": {},
   "source": [
    "### Some Functions\n",
    "some preliminary functions we can use in the code"
   ]
  },
  {
   "cell_type": "markdown",
   "id": "dd677360",
   "metadata": {},
   "source": [
    "# Data Loading"
   ]
  },
  {
   "cell_type": "code",
   "execution_count": 1166,
   "id": "fe9136c0",
   "metadata": {},
   "outputs": [
    {
     "name": "stderr",
     "output_type": "stream",
     "text": [
      "C:\\Users\\DELL\\AppData\\Local\\Temp\\ipykernel_19980\\696202387.py:2: DtypeWarning: Columns (36) have mixed types. Specify dtype option on import or set low_memory=False.\n",
      "  df = pd.read_csv('../data/flights_jantojun2020_3M.csv')\n"
     ]
    }
   ],
   "source": [
    "# Load the dataset\n",
    "df = pd.read_csv('../data/flights_jantojun2020_3M.csv')\n",
    "\n",
    "pd.set_option('display.max_columns', None)"
   ]
  },
  {
   "cell_type": "code",
   "execution_count": 1167,
   "id": "0ee3beb0",
   "metadata": {},
   "outputs": [
    {
     "data": {
      "text/html": [
       "<div>\n",
       "<style scoped>\n",
       "    .dataframe tbody tr th:only-of-type {\n",
       "        vertical-align: middle;\n",
       "    }\n",
       "\n",
       "    .dataframe tbody tr th {\n",
       "        vertical-align: top;\n",
       "    }\n",
       "\n",
       "    .dataframe thead th {\n",
       "        text-align: right;\n",
       "    }\n",
       "</style>\n",
       "<table border=\"1\" class=\"dataframe\">\n",
       "  <thead>\n",
       "    <tr style=\"text-align: right;\">\n",
       "      <th></th>\n",
       "      <th>YEAR</th>\n",
       "      <th>QUARTER</th>\n",
       "      <th>MONTH</th>\n",
       "      <th>DAY_OF_MONTH</th>\n",
       "      <th>DAY_OF_WEEK</th>\n",
       "      <th>FL_DATE</th>\n",
       "      <th>MKT_UNIQUE_CARRIER</th>\n",
       "      <th>MKT_CARRIER_FL_NUM</th>\n",
       "      <th>TAIL_NUM</th>\n",
       "      <th>ORIGIN</th>\n",
       "      <th>ORIGIN_CITY_NAME</th>\n",
       "      <th>ORIGIN_STATE_ABR</th>\n",
       "      <th>ORIGIN_STATE_NM</th>\n",
       "      <th>DEST</th>\n",
       "      <th>DEST_CITY_NAME</th>\n",
       "      <th>DEST_STATE_ABR</th>\n",
       "      <th>DEST_STATE_NM</th>\n",
       "      <th>CRS_DEP_TIME</th>\n",
       "      <th>DEP_TIME</th>\n",
       "      <th>DEP_DELAY</th>\n",
       "      <th>DEP_DELAY_NEW</th>\n",
       "      <th>DEP_DEL15</th>\n",
       "      <th>DEP_DELAY_GROUP</th>\n",
       "      <th>DEP_TIME_BLK</th>\n",
       "      <th>TAXI_OUT</th>\n",
       "      <th>WHEELS_OFF</th>\n",
       "      <th>WHEELS_ON</th>\n",
       "      <th>TAXI_IN</th>\n",
       "      <th>CRS_ARR_TIME</th>\n",
       "      <th>ARR_TIME</th>\n",
       "      <th>ARR_DELAY</th>\n",
       "      <th>ARR_DELAY_NEW</th>\n",
       "      <th>ARR_DEL15</th>\n",
       "      <th>ARR_DELAY_GROUP</th>\n",
       "      <th>ARR_TIME_BLK</th>\n",
       "      <th>CANCELLED</th>\n",
       "      <th>CANCELLATION_CODE</th>\n",
       "      <th>CRS_ELAPSED_TIME</th>\n",
       "      <th>ACTUAL_ELAPSED_TIME</th>\n",
       "      <th>AIR_TIME</th>\n",
       "      <th>DISTANCE</th>\n",
       "      <th>DISTANCE_GROUP</th>\n",
       "      <th>CARRIER_DELAY</th>\n",
       "      <th>WEATHER_DELAY</th>\n",
       "      <th>NAS_DELAY</th>\n",
       "      <th>SECURITY_DELAY</th>\n",
       "      <th>LATE_AIRCRAFT_DELAY</th>\n",
       "    </tr>\n",
       "  </thead>\n",
       "  <tbody>\n",
       "    <tr>\n",
       "      <th>0</th>\n",
       "      <td>2020</td>\n",
       "      <td>1</td>\n",
       "      <td>1</td>\n",
       "      <td>1</td>\n",
       "      <td>3</td>\n",
       "      <td>1/1/2020</td>\n",
       "      <td>WN</td>\n",
       "      <td>5888</td>\n",
       "      <td>N951WN</td>\n",
       "      <td>ONT</td>\n",
       "      <td>Ontario, CA</td>\n",
       "      <td>CA</td>\n",
       "      <td>California</td>\n",
       "      <td>SFO</td>\n",
       "      <td>San Francisco, CA</td>\n",
       "      <td>CA</td>\n",
       "      <td>California</td>\n",
       "      <td>1810</td>\n",
       "      <td>1851.0</td>\n",
       "      <td>41.0</td>\n",
       "      <td>41.0</td>\n",
       "      <td>1.0</td>\n",
       "      <td>2.0</td>\n",
       "      <td>1800-1859</td>\n",
       "      <td>44.0</td>\n",
       "      <td>1935.0</td>\n",
       "      <td>2049.0</td>\n",
       "      <td>4.0</td>\n",
       "      <td>1945</td>\n",
       "      <td>2053.0</td>\n",
       "      <td>68.0</td>\n",
       "      <td>68.0</td>\n",
       "      <td>1.0</td>\n",
       "      <td>4.0</td>\n",
       "      <td>1900-1959</td>\n",
       "      <td>0</td>\n",
       "      <td>NaN</td>\n",
       "      <td>95.0</td>\n",
       "      <td>122.0</td>\n",
       "      <td>74.0</td>\n",
       "      <td>363</td>\n",
       "      <td>2</td>\n",
       "      <td>8.0</td>\n",
       "      <td>0.0</td>\n",
       "      <td>27.0</td>\n",
       "      <td>0.0</td>\n",
       "      <td>33.0</td>\n",
       "    </tr>\n",
       "    <tr>\n",
       "      <th>1</th>\n",
       "      <td>2020</td>\n",
       "      <td>1</td>\n",
       "      <td>1</td>\n",
       "      <td>1</td>\n",
       "      <td>3</td>\n",
       "      <td>1/1/2020</td>\n",
       "      <td>WN</td>\n",
       "      <td>6276</td>\n",
       "      <td>N467WN</td>\n",
       "      <td>ONT</td>\n",
       "      <td>Ontario, CA</td>\n",
       "      <td>CA</td>\n",
       "      <td>California</td>\n",
       "      <td>SFO</td>\n",
       "      <td>San Francisco, CA</td>\n",
       "      <td>CA</td>\n",
       "      <td>California</td>\n",
       "      <td>1150</td>\n",
       "      <td>1146.0</td>\n",
       "      <td>-4.0</td>\n",
       "      <td>0.0</td>\n",
       "      <td>0.0</td>\n",
       "      <td>-1.0</td>\n",
       "      <td>1100-1159</td>\n",
       "      <td>13.0</td>\n",
       "      <td>1159.0</td>\n",
       "      <td>1310.0</td>\n",
       "      <td>8.0</td>\n",
       "      <td>1320</td>\n",
       "      <td>1318.0</td>\n",
       "      <td>-2.0</td>\n",
       "      <td>0.0</td>\n",
       "      <td>0.0</td>\n",
       "      <td>-1.0</td>\n",
       "      <td>1300-1359</td>\n",
       "      <td>0</td>\n",
       "      <td>NaN</td>\n",
       "      <td>90.0</td>\n",
       "      <td>92.0</td>\n",
       "      <td>71.0</td>\n",
       "      <td>363</td>\n",
       "      <td>2</td>\n",
       "      <td>NaN</td>\n",
       "      <td>NaN</td>\n",
       "      <td>NaN</td>\n",
       "      <td>NaN</td>\n",
       "      <td>NaN</td>\n",
       "    </tr>\n",
       "    <tr>\n",
       "      <th>2</th>\n",
       "      <td>2020</td>\n",
       "      <td>1</td>\n",
       "      <td>1</td>\n",
       "      <td>1</td>\n",
       "      <td>3</td>\n",
       "      <td>1/1/2020</td>\n",
       "      <td>WN</td>\n",
       "      <td>4598</td>\n",
       "      <td>N7885A</td>\n",
       "      <td>ONT</td>\n",
       "      <td>Ontario, CA</td>\n",
       "      <td>CA</td>\n",
       "      <td>California</td>\n",
       "      <td>SJC</td>\n",
       "      <td>San Jose, CA</td>\n",
       "      <td>CA</td>\n",
       "      <td>California</td>\n",
       "      <td>2020</td>\n",
       "      <td>2016.0</td>\n",
       "      <td>-4.0</td>\n",
       "      <td>0.0</td>\n",
       "      <td>0.0</td>\n",
       "      <td>-1.0</td>\n",
       "      <td>2000-2059</td>\n",
       "      <td>8.0</td>\n",
       "      <td>2024.0</td>\n",
       "      <td>2121.0</td>\n",
       "      <td>3.0</td>\n",
       "      <td>2130</td>\n",
       "      <td>2124.0</td>\n",
       "      <td>-6.0</td>\n",
       "      <td>0.0</td>\n",
       "      <td>0.0</td>\n",
       "      <td>-1.0</td>\n",
       "      <td>2100-2159</td>\n",
       "      <td>0</td>\n",
       "      <td>NaN</td>\n",
       "      <td>70.0</td>\n",
       "      <td>68.0</td>\n",
       "      <td>57.0</td>\n",
       "      <td>333</td>\n",
       "      <td>2</td>\n",
       "      <td>NaN</td>\n",
       "      <td>NaN</td>\n",
       "      <td>NaN</td>\n",
       "      <td>NaN</td>\n",
       "      <td>NaN</td>\n",
       "    </tr>\n",
       "    <tr>\n",
       "      <th>3</th>\n",
       "      <td>2020</td>\n",
       "      <td>1</td>\n",
       "      <td>1</td>\n",
       "      <td>1</td>\n",
       "      <td>3</td>\n",
       "      <td>1/1/2020</td>\n",
       "      <td>WN</td>\n",
       "      <td>4761</td>\n",
       "      <td>N551WN</td>\n",
       "      <td>ONT</td>\n",
       "      <td>Ontario, CA</td>\n",
       "      <td>CA</td>\n",
       "      <td>California</td>\n",
       "      <td>SJC</td>\n",
       "      <td>San Jose, CA</td>\n",
       "      <td>CA</td>\n",
       "      <td>California</td>\n",
       "      <td>1340</td>\n",
       "      <td>1350.0</td>\n",
       "      <td>10.0</td>\n",
       "      <td>10.0</td>\n",
       "      <td>0.0</td>\n",
       "      <td>0.0</td>\n",
       "      <td>1300-1359</td>\n",
       "      <td>10.0</td>\n",
       "      <td>1400.0</td>\n",
       "      <td>1503.0</td>\n",
       "      <td>2.0</td>\n",
       "      <td>1455</td>\n",
       "      <td>1505.0</td>\n",
       "      <td>10.0</td>\n",
       "      <td>10.0</td>\n",
       "      <td>0.0</td>\n",
       "      <td>0.0</td>\n",
       "      <td>1400-1459</td>\n",
       "      <td>0</td>\n",
       "      <td>NaN</td>\n",
       "      <td>75.0</td>\n",
       "      <td>75.0</td>\n",
       "      <td>63.0</td>\n",
       "      <td>333</td>\n",
       "      <td>2</td>\n",
       "      <td>NaN</td>\n",
       "      <td>NaN</td>\n",
       "      <td>NaN</td>\n",
       "      <td>NaN</td>\n",
       "      <td>NaN</td>\n",
       "    </tr>\n",
       "    <tr>\n",
       "      <th>4</th>\n",
       "      <td>2020</td>\n",
       "      <td>1</td>\n",
       "      <td>1</td>\n",
       "      <td>1</td>\n",
       "      <td>3</td>\n",
       "      <td>1/1/2020</td>\n",
       "      <td>WN</td>\n",
       "      <td>5162</td>\n",
       "      <td>N968WN</td>\n",
       "      <td>ONT</td>\n",
       "      <td>Ontario, CA</td>\n",
       "      <td>CA</td>\n",
       "      <td>California</td>\n",
       "      <td>SJC</td>\n",
       "      <td>San Jose, CA</td>\n",
       "      <td>CA</td>\n",
       "      <td>California</td>\n",
       "      <td>915</td>\n",
       "      <td>916.0</td>\n",
       "      <td>1.0</td>\n",
       "      <td>1.0</td>\n",
       "      <td>0.0</td>\n",
       "      <td>0.0</td>\n",
       "      <td>0900-0959</td>\n",
       "      <td>6.0</td>\n",
       "      <td>922.0</td>\n",
       "      <td>1019.0</td>\n",
       "      <td>4.0</td>\n",
       "      <td>1035</td>\n",
       "      <td>1023.0</td>\n",
       "      <td>-12.0</td>\n",
       "      <td>0.0</td>\n",
       "      <td>0.0</td>\n",
       "      <td>-1.0</td>\n",
       "      <td>1000-1059</td>\n",
       "      <td>0</td>\n",
       "      <td>NaN</td>\n",
       "      <td>80.0</td>\n",
       "      <td>67.0</td>\n",
       "      <td>57.0</td>\n",
       "      <td>333</td>\n",
       "      <td>2</td>\n",
       "      <td>NaN</td>\n",
       "      <td>NaN</td>\n",
       "      <td>NaN</td>\n",
       "      <td>NaN</td>\n",
       "      <td>NaN</td>\n",
       "    </tr>\n",
       "    <tr>\n",
       "      <th>...</th>\n",
       "      <td>...</td>\n",
       "      <td>...</td>\n",
       "      <td>...</td>\n",
       "      <td>...</td>\n",
       "      <td>...</td>\n",
       "      <td>...</td>\n",
       "      <td>...</td>\n",
       "      <td>...</td>\n",
       "      <td>...</td>\n",
       "      <td>...</td>\n",
       "      <td>...</td>\n",
       "      <td>...</td>\n",
       "      <td>...</td>\n",
       "      <td>...</td>\n",
       "      <td>...</td>\n",
       "      <td>...</td>\n",
       "      <td>...</td>\n",
       "      <td>...</td>\n",
       "      <td>...</td>\n",
       "      <td>...</td>\n",
       "      <td>...</td>\n",
       "      <td>...</td>\n",
       "      <td>...</td>\n",
       "      <td>...</td>\n",
       "      <td>...</td>\n",
       "      <td>...</td>\n",
       "      <td>...</td>\n",
       "      <td>...</td>\n",
       "      <td>...</td>\n",
       "      <td>...</td>\n",
       "      <td>...</td>\n",
       "      <td>...</td>\n",
       "      <td>...</td>\n",
       "      <td>...</td>\n",
       "      <td>...</td>\n",
       "      <td>...</td>\n",
       "      <td>...</td>\n",
       "      <td>...</td>\n",
       "      <td>...</td>\n",
       "      <td>...</td>\n",
       "      <td>...</td>\n",
       "      <td>...</td>\n",
       "      <td>...</td>\n",
       "      <td>...</td>\n",
       "      <td>...</td>\n",
       "      <td>...</td>\n",
       "      <td>...</td>\n",
       "    </tr>\n",
       "    <tr>\n",
       "      <th>2745842</th>\n",
       "      <td>2020</td>\n",
       "      <td>2</td>\n",
       "      <td>6</td>\n",
       "      <td>13</td>\n",
       "      <td>6</td>\n",
       "      <td>6/13/2020</td>\n",
       "      <td>AS</td>\n",
       "      <td>1209</td>\n",
       "      <td>N413AS</td>\n",
       "      <td>SEA</td>\n",
       "      <td>Seattle, WA</td>\n",
       "      <td>WA</td>\n",
       "      <td>Washington</td>\n",
       "      <td>HNL</td>\n",
       "      <td>Honolulu, HI</td>\n",
       "      <td>HI</td>\n",
       "      <td>Hawaii</td>\n",
       "      <td>1050</td>\n",
       "      <td>1048.0</td>\n",
       "      <td>-2.0</td>\n",
       "      <td>0.0</td>\n",
       "      <td>0.0</td>\n",
       "      <td>-1.0</td>\n",
       "      <td>1000-1059</td>\n",
       "      <td>10.0</td>\n",
       "      <td>1058.0</td>\n",
       "      <td>1327.0</td>\n",
       "      <td>3.0</td>\n",
       "      <td>1405</td>\n",
       "      <td>1330.0</td>\n",
       "      <td>-35.0</td>\n",
       "      <td>0.0</td>\n",
       "      <td>0.0</td>\n",
       "      <td>-2.0</td>\n",
       "      <td>1400-1459</td>\n",
       "      <td>0</td>\n",
       "      <td>NaN</td>\n",
       "      <td>375.0</td>\n",
       "      <td>342.0</td>\n",
       "      <td>329.0</td>\n",
       "      <td>2677</td>\n",
       "      <td>11</td>\n",
       "      <td>NaN</td>\n",
       "      <td>NaN</td>\n",
       "      <td>NaN</td>\n",
       "      <td>NaN</td>\n",
       "      <td>NaN</td>\n",
       "    </tr>\n",
       "    <tr>\n",
       "      <th>2745843</th>\n",
       "      <td>2020</td>\n",
       "      <td>2</td>\n",
       "      <td>6</td>\n",
       "      <td>13</td>\n",
       "      <td>6</td>\n",
       "      <td>6/13/2020</td>\n",
       "      <td>AS</td>\n",
       "      <td>1216</td>\n",
       "      <td>N929VA</td>\n",
       "      <td>PHX</td>\n",
       "      <td>Phoenix, AZ</td>\n",
       "      <td>AZ</td>\n",
       "      <td>Arizona</td>\n",
       "      <td>SEA</td>\n",
       "      <td>Seattle, WA</td>\n",
       "      <td>WA</td>\n",
       "      <td>Washington</td>\n",
       "      <td>1530</td>\n",
       "      <td>1517.0</td>\n",
       "      <td>-13.0</td>\n",
       "      <td>0.0</td>\n",
       "      <td>0.0</td>\n",
       "      <td>-1.0</td>\n",
       "      <td>1500-1559</td>\n",
       "      <td>20.0</td>\n",
       "      <td>1537.0</td>\n",
       "      <td>1802.0</td>\n",
       "      <td>5.0</td>\n",
       "      <td>1826</td>\n",
       "      <td>1807.0</td>\n",
       "      <td>-19.0</td>\n",
       "      <td>0.0</td>\n",
       "      <td>0.0</td>\n",
       "      <td>-2.0</td>\n",
       "      <td>1800-1859</td>\n",
       "      <td>0</td>\n",
       "      <td>NaN</td>\n",
       "      <td>176.0</td>\n",
       "      <td>170.0</td>\n",
       "      <td>145.0</td>\n",
       "      <td>1107</td>\n",
       "      <td>5</td>\n",
       "      <td>NaN</td>\n",
       "      <td>NaN</td>\n",
       "      <td>NaN</td>\n",
       "      <td>NaN</td>\n",
       "      <td>NaN</td>\n",
       "    </tr>\n",
       "    <tr>\n",
       "      <th>2745844</th>\n",
       "      <td>2020</td>\n",
       "      <td>2</td>\n",
       "      <td>6</td>\n",
       "      <td>13</td>\n",
       "      <td>6</td>\n",
       "      <td>6/13/2020</td>\n",
       "      <td>AS</td>\n",
       "      <td>1217</td>\n",
       "      <td>N929VA</td>\n",
       "      <td>SEA</td>\n",
       "      <td>Seattle, WA</td>\n",
       "      <td>WA</td>\n",
       "      <td>Washington</td>\n",
       "      <td>PHX</td>\n",
       "      <td>Phoenix, AZ</td>\n",
       "      <td>AZ</td>\n",
       "      <td>Arizona</td>\n",
       "      <td>1100</td>\n",
       "      <td>1058.0</td>\n",
       "      <td>-2.0</td>\n",
       "      <td>0.0</td>\n",
       "      <td>0.0</td>\n",
       "      <td>-1.0</td>\n",
       "      <td>1100-1159</td>\n",
       "      <td>18.0</td>\n",
       "      <td>1116.0</td>\n",
       "      <td>1350.0</td>\n",
       "      <td>3.0</td>\n",
       "      <td>1405</td>\n",
       "      <td>1353.0</td>\n",
       "      <td>-12.0</td>\n",
       "      <td>0.0</td>\n",
       "      <td>0.0</td>\n",
       "      <td>-1.0</td>\n",
       "      <td>1400-1459</td>\n",
       "      <td>0</td>\n",
       "      <td>NaN</td>\n",
       "      <td>185.0</td>\n",
       "      <td>175.0</td>\n",
       "      <td>154.0</td>\n",
       "      <td>1107</td>\n",
       "      <td>5</td>\n",
       "      <td>NaN</td>\n",
       "      <td>NaN</td>\n",
       "      <td>NaN</td>\n",
       "      <td>NaN</td>\n",
       "      <td>NaN</td>\n",
       "    </tr>\n",
       "    <tr>\n",
       "      <th>2745845</th>\n",
       "      <td>2020</td>\n",
       "      <td>2</td>\n",
       "      <td>6</td>\n",
       "      <td>13</td>\n",
       "      <td>6</td>\n",
       "      <td>6/13/2020</td>\n",
       "      <td>AS</td>\n",
       "      <td>1223</td>\n",
       "      <td>N841VA</td>\n",
       "      <td>SNA</td>\n",
       "      <td>Santa Ana, CA</td>\n",
       "      <td>CA</td>\n",
       "      <td>California</td>\n",
       "      <td>SEA</td>\n",
       "      <td>Seattle, WA</td>\n",
       "      <td>WA</td>\n",
       "      <td>Washington</td>\n",
       "      <td>1510</td>\n",
       "      <td>1459.0</td>\n",
       "      <td>-11.0</td>\n",
       "      <td>0.0</td>\n",
       "      <td>0.0</td>\n",
       "      <td>-1.0</td>\n",
       "      <td>1500-1559</td>\n",
       "      <td>14.0</td>\n",
       "      <td>1513.0</td>\n",
       "      <td>1738.0</td>\n",
       "      <td>5.0</td>\n",
       "      <td>1755</td>\n",
       "      <td>1743.0</td>\n",
       "      <td>-12.0</td>\n",
       "      <td>0.0</td>\n",
       "      <td>0.0</td>\n",
       "      <td>-1.0</td>\n",
       "      <td>1700-1759</td>\n",
       "      <td>0</td>\n",
       "      <td>NaN</td>\n",
       "      <td>165.0</td>\n",
       "      <td>164.0</td>\n",
       "      <td>145.0</td>\n",
       "      <td>978</td>\n",
       "      <td>4</td>\n",
       "      <td>NaN</td>\n",
       "      <td>NaN</td>\n",
       "      <td>NaN</td>\n",
       "      <td>NaN</td>\n",
       "      <td>NaN</td>\n",
       "    </tr>\n",
       "    <tr>\n",
       "      <th>2745846</th>\n",
       "      <td>2020</td>\n",
       "      <td>2</td>\n",
       "      <td>6</td>\n",
       "      <td>13</td>\n",
       "      <td>6</td>\n",
       "      <td>6/13/2020</td>\n",
       "      <td>AS</td>\n",
       "      <td>1229</td>\n",
       "      <td>N413AS</td>\n",
       "      <td>HNL</td>\n",
       "      <td>Honolulu, HI</td>\n",
       "      <td>HI</td>\n",
       "      <td>Hawaii</td>\n",
       "      <td>SEA</td>\n",
       "      <td>Seattle, WA</td>\n",
       "      <td>WA</td>\n",
       "      <td>Washington</td>\n",
       "      <td>1520</td>\n",
       "      <td>1515.0</td>\n",
       "      <td>-5.0</td>\n",
       "      <td>0.0</td>\n",
       "      <td>0.0</td>\n",
       "      <td>-1.0</td>\n",
       "      <td>1500-1559</td>\n",
       "      <td>17.0</td>\n",
       "      <td>1532.0</td>\n",
       "      <td>2348.0</td>\n",
       "      <td>5.0</td>\n",
       "      <td>2358</td>\n",
       "      <td>2353.0</td>\n",
       "      <td>-5.0</td>\n",
       "      <td>0.0</td>\n",
       "      <td>0.0</td>\n",
       "      <td>-1.0</td>\n",
       "      <td>2300-2359</td>\n",
       "      <td>0</td>\n",
       "      <td>NaN</td>\n",
       "      <td>338.0</td>\n",
       "      <td>338.0</td>\n",
       "      <td>316.0</td>\n",
       "      <td>2677</td>\n",
       "      <td>11</td>\n",
       "      <td>NaN</td>\n",
       "      <td>NaN</td>\n",
       "      <td>NaN</td>\n",
       "      <td>NaN</td>\n",
       "      <td>NaN</td>\n",
       "    </tr>\n",
       "  </tbody>\n",
       "</table>\n",
       "<p>2745847 rows × 47 columns</p>\n",
       "</div>"
      ],
      "text/plain": [
       "         YEAR  QUARTER  MONTH  DAY_OF_MONTH  DAY_OF_WEEK    FL_DATE  \\\n",
       "0        2020        1      1             1            3   1/1/2020   \n",
       "1        2020        1      1             1            3   1/1/2020   \n",
       "2        2020        1      1             1            3   1/1/2020   \n",
       "3        2020        1      1             1            3   1/1/2020   \n",
       "4        2020        1      1             1            3   1/1/2020   \n",
       "...       ...      ...    ...           ...          ...        ...   \n",
       "2745842  2020        2      6            13            6  6/13/2020   \n",
       "2745843  2020        2      6            13            6  6/13/2020   \n",
       "2745844  2020        2      6            13            6  6/13/2020   \n",
       "2745845  2020        2      6            13            6  6/13/2020   \n",
       "2745846  2020        2      6            13            6  6/13/2020   \n",
       "\n",
       "        MKT_UNIQUE_CARRIER  MKT_CARRIER_FL_NUM TAIL_NUM ORIGIN  \\\n",
       "0                       WN                5888   N951WN    ONT   \n",
       "1                       WN                6276   N467WN    ONT   \n",
       "2                       WN                4598   N7885A    ONT   \n",
       "3                       WN                4761   N551WN    ONT   \n",
       "4                       WN                5162   N968WN    ONT   \n",
       "...                    ...                 ...      ...    ...   \n",
       "2745842                 AS                1209   N413AS    SEA   \n",
       "2745843                 AS                1216   N929VA    PHX   \n",
       "2745844                 AS                1217   N929VA    SEA   \n",
       "2745845                 AS                1223   N841VA    SNA   \n",
       "2745846                 AS                1229   N413AS    HNL   \n",
       "\n",
       "        ORIGIN_CITY_NAME ORIGIN_STATE_ABR ORIGIN_STATE_NM DEST  \\\n",
       "0            Ontario, CA               CA      California  SFO   \n",
       "1            Ontario, CA               CA      California  SFO   \n",
       "2            Ontario, CA               CA      California  SJC   \n",
       "3            Ontario, CA               CA      California  SJC   \n",
       "4            Ontario, CA               CA      California  SJC   \n",
       "...                  ...              ...             ...  ...   \n",
       "2745842      Seattle, WA               WA      Washington  HNL   \n",
       "2745843      Phoenix, AZ               AZ         Arizona  SEA   \n",
       "2745844      Seattle, WA               WA      Washington  PHX   \n",
       "2745845    Santa Ana, CA               CA      California  SEA   \n",
       "2745846     Honolulu, HI               HI          Hawaii  SEA   \n",
       "\n",
       "            DEST_CITY_NAME DEST_STATE_ABR DEST_STATE_NM  CRS_DEP_TIME  \\\n",
       "0        San Francisco, CA             CA    California          1810   \n",
       "1        San Francisco, CA             CA    California          1150   \n",
       "2             San Jose, CA             CA    California          2020   \n",
       "3             San Jose, CA             CA    California          1340   \n",
       "4             San Jose, CA             CA    California           915   \n",
       "...                    ...            ...           ...           ...   \n",
       "2745842       Honolulu, HI             HI        Hawaii          1050   \n",
       "2745843        Seattle, WA             WA    Washington          1530   \n",
       "2745844        Phoenix, AZ             AZ       Arizona          1100   \n",
       "2745845        Seattle, WA             WA    Washington          1510   \n",
       "2745846        Seattle, WA             WA    Washington          1520   \n",
       "\n",
       "         DEP_TIME  DEP_DELAY  DEP_DELAY_NEW  DEP_DEL15  DEP_DELAY_GROUP  \\\n",
       "0          1851.0       41.0           41.0        1.0              2.0   \n",
       "1          1146.0       -4.0            0.0        0.0             -1.0   \n",
       "2          2016.0       -4.0            0.0        0.0             -1.0   \n",
       "3          1350.0       10.0           10.0        0.0              0.0   \n",
       "4           916.0        1.0            1.0        0.0              0.0   \n",
       "...           ...        ...            ...        ...              ...   \n",
       "2745842    1048.0       -2.0            0.0        0.0             -1.0   \n",
       "2745843    1517.0      -13.0            0.0        0.0             -1.0   \n",
       "2745844    1058.0       -2.0            0.0        0.0             -1.0   \n",
       "2745845    1459.0      -11.0            0.0        0.0             -1.0   \n",
       "2745846    1515.0       -5.0            0.0        0.0             -1.0   \n",
       "\n",
       "        DEP_TIME_BLK  TAXI_OUT  WHEELS_OFF  WHEELS_ON  TAXI_IN  CRS_ARR_TIME  \\\n",
       "0          1800-1859      44.0      1935.0     2049.0      4.0          1945   \n",
       "1          1100-1159      13.0      1159.0     1310.0      8.0          1320   \n",
       "2          2000-2059       8.0      2024.0     2121.0      3.0          2130   \n",
       "3          1300-1359      10.0      1400.0     1503.0      2.0          1455   \n",
       "4          0900-0959       6.0       922.0     1019.0      4.0          1035   \n",
       "...              ...       ...         ...        ...      ...           ...   \n",
       "2745842    1000-1059      10.0      1058.0     1327.0      3.0          1405   \n",
       "2745843    1500-1559      20.0      1537.0     1802.0      5.0          1826   \n",
       "2745844    1100-1159      18.0      1116.0     1350.0      3.0          1405   \n",
       "2745845    1500-1559      14.0      1513.0     1738.0      5.0          1755   \n",
       "2745846    1500-1559      17.0      1532.0     2348.0      5.0          2358   \n",
       "\n",
       "         ARR_TIME  ARR_DELAY  ARR_DELAY_NEW  ARR_DEL15  ARR_DELAY_GROUP  \\\n",
       "0          2053.0       68.0           68.0        1.0              4.0   \n",
       "1          1318.0       -2.0            0.0        0.0             -1.0   \n",
       "2          2124.0       -6.0            0.0        0.0             -1.0   \n",
       "3          1505.0       10.0           10.0        0.0              0.0   \n",
       "4          1023.0      -12.0            0.0        0.0             -1.0   \n",
       "...           ...        ...            ...        ...              ...   \n",
       "2745842    1330.0      -35.0            0.0        0.0             -2.0   \n",
       "2745843    1807.0      -19.0            0.0        0.0             -2.0   \n",
       "2745844    1353.0      -12.0            0.0        0.0             -1.0   \n",
       "2745845    1743.0      -12.0            0.0        0.0             -1.0   \n",
       "2745846    2353.0       -5.0            0.0        0.0             -1.0   \n",
       "\n",
       "        ARR_TIME_BLK  CANCELLED CANCELLATION_CODE  CRS_ELAPSED_TIME  \\\n",
       "0          1900-1959          0               NaN              95.0   \n",
       "1          1300-1359          0               NaN              90.0   \n",
       "2          2100-2159          0               NaN              70.0   \n",
       "3          1400-1459          0               NaN              75.0   \n",
       "4          1000-1059          0               NaN              80.0   \n",
       "...              ...        ...               ...               ...   \n",
       "2745842    1400-1459          0               NaN             375.0   \n",
       "2745843    1800-1859          0               NaN             176.0   \n",
       "2745844    1400-1459          0               NaN             185.0   \n",
       "2745845    1700-1759          0               NaN             165.0   \n",
       "2745846    2300-2359          0               NaN             338.0   \n",
       "\n",
       "         ACTUAL_ELAPSED_TIME  AIR_TIME  DISTANCE  DISTANCE_GROUP  \\\n",
       "0                      122.0      74.0       363               2   \n",
       "1                       92.0      71.0       363               2   \n",
       "2                       68.0      57.0       333               2   \n",
       "3                       75.0      63.0       333               2   \n",
       "4                       67.0      57.0       333               2   \n",
       "...                      ...       ...       ...             ...   \n",
       "2745842                342.0     329.0      2677              11   \n",
       "2745843                170.0     145.0      1107               5   \n",
       "2745844                175.0     154.0      1107               5   \n",
       "2745845                164.0     145.0       978               4   \n",
       "2745846                338.0     316.0      2677              11   \n",
       "\n",
       "         CARRIER_DELAY  WEATHER_DELAY  NAS_DELAY  SECURITY_DELAY  \\\n",
       "0                  8.0            0.0       27.0             0.0   \n",
       "1                  NaN            NaN        NaN             NaN   \n",
       "2                  NaN            NaN        NaN             NaN   \n",
       "3                  NaN            NaN        NaN             NaN   \n",
       "4                  NaN            NaN        NaN             NaN   \n",
       "...                ...            ...        ...             ...   \n",
       "2745842            NaN            NaN        NaN             NaN   \n",
       "2745843            NaN            NaN        NaN             NaN   \n",
       "2745844            NaN            NaN        NaN             NaN   \n",
       "2745845            NaN            NaN        NaN             NaN   \n",
       "2745846            NaN            NaN        NaN             NaN   \n",
       "\n",
       "         LATE_AIRCRAFT_DELAY  \n",
       "0                       33.0  \n",
       "1                        NaN  \n",
       "2                        NaN  \n",
       "3                        NaN  \n",
       "4                        NaN  \n",
       "...                      ...  \n",
       "2745842                  NaN  \n",
       "2745843                  NaN  \n",
       "2745844                  NaN  \n",
       "2745845                  NaN  \n",
       "2745846                  NaN  \n",
       "\n",
       "[2745847 rows x 47 columns]"
      ]
     },
     "execution_count": 1167,
     "metadata": {},
     "output_type": "execute_result"
    }
   ],
   "source": [
    "df"
   ]
  },
  {
   "cell_type": "code",
   "execution_count": 1168,
   "id": "cdfc81a4",
   "metadata": {},
   "outputs": [
    {
     "data": {
      "text/plain": [
       "(2745847, 47)"
      ]
     },
     "execution_count": 1168,
     "metadata": {},
     "output_type": "execute_result"
    }
   ],
   "source": [
    "df.shape"
   ]
  },
  {
   "cell_type": "code",
   "execution_count": 1169,
   "id": "2c30c5bf",
   "metadata": {},
   "outputs": [],
   "source": [
    "# Function to get current date and time as a string\n",
    "def get_current_datetime():\n",
    "    return datetime.now().strftime(\"%Y-%m-%d %H:%M:%S\")"
   ]
  },
  {
   "cell_type": "markdown",
   "id": "cb03c9cf",
   "metadata": {},
   "source": [
    "# Data Preparation"
   ]
  },
  {
   "cell_type": "markdown",
   "id": "4ae5f512",
   "metadata": {},
   "source": [
    "## Data Statistics"
   ]
  },
  {
   "cell_type": "code",
   "execution_count": 1170,
   "id": "789826d8",
   "metadata": {},
   "outputs": [
    {
     "name": "stdout",
     "output_type": "stream",
     "text": [
      "Missing values per column:\n"
     ]
    },
    {
     "data": {
      "text/plain": [
       "YEAR                         0\n",
       "QUARTER                      0\n",
       "MONTH                        0\n",
       "DAY_OF_MONTH                 0\n",
       "DAY_OF_WEEK                  0\n",
       "FL_DATE                      0\n",
       "MKT_UNIQUE_CARRIER           0\n",
       "MKT_CARRIER_FL_NUM           0\n",
       "TAIL_NUM                162927\n",
       "ORIGIN                       0\n",
       "ORIGIN_CITY_NAME             0\n",
       "ORIGIN_STATE_ABR             0\n",
       "ORIGIN_STATE_NM              0\n",
       "DEST                         0\n",
       "DEST_CITY_NAME               0\n",
       "DEST_STATE_ABR               0\n",
       "DEST_STATE_NM                0\n",
       "CRS_DEP_TIME                 0\n",
       "DEP_TIME                281937\n",
       "DEP_DELAY               281992\n",
       "DEP_DELAY_NEW           281992\n",
       "DEP_DEL15               281992\n",
       "DEP_DELAY_GROUP         281992\n",
       "DEP_TIME_BLK                 0\n",
       "TAXI_OUT                282493\n",
       "WHEELS_OFF              282493\n",
       "WHEELS_ON               283554\n",
       "TAXI_IN                 283554\n",
       "CRS_ARR_TIME                 0\n",
       "ARR_TIME                283554\n",
       "ARR_DELAY               287334\n",
       "ARR_DELAY_NEW           287334\n",
       "ARR_DEL15               287334\n",
       "ARR_DELAY_GROUP         287334\n",
       "ARR_TIME_BLK                 0\n",
       "CANCELLED                    0\n",
       "CANCELLATION_CODE      2462921\n",
       "CRS_ELAPSED_TIME             2\n",
       "ACTUAL_ELAPSED_TIME     287334\n",
       "AIR_TIME                287334\n",
       "DISTANCE                     0\n",
       "DISTANCE_GROUP               0\n",
       "CARRIER_DELAY          2467621\n",
       "WEATHER_DELAY          2467621\n",
       "NAS_DELAY              2467621\n",
       "SECURITY_DELAY         2467621\n",
       "LATE_AIRCRAFT_DELAY    2467621\n",
       "dtype: int64"
      ]
     },
     "execution_count": 1170,
     "metadata": {},
     "output_type": "execute_result"
    }
   ],
   "source": [
    "# Check for missing values\n",
    "print(\"Missing values per column:\")\n",
    "df.isnull().sum()"
   ]
  },
  {
   "cell_type": "code",
   "execution_count": 1171,
   "id": "4b3ed600",
   "metadata": {},
   "outputs": [
    {
     "name": "stdout",
     "output_type": "stream",
     "text": [
      "\n",
      "Data types:\n"
     ]
    },
    {
     "data": {
      "text/plain": [
       "YEAR                     int64\n",
       "QUARTER                  int64\n",
       "MONTH                    int64\n",
       "DAY_OF_MONTH             int64\n",
       "DAY_OF_WEEK              int64\n",
       "FL_DATE                 object\n",
       "MKT_UNIQUE_CARRIER      object\n",
       "MKT_CARRIER_FL_NUM       int64\n",
       "TAIL_NUM                object\n",
       "ORIGIN                  object\n",
       "ORIGIN_CITY_NAME        object\n",
       "ORIGIN_STATE_ABR        object\n",
       "ORIGIN_STATE_NM         object\n",
       "DEST                    object\n",
       "DEST_CITY_NAME          object\n",
       "DEST_STATE_ABR          object\n",
       "DEST_STATE_NM           object\n",
       "CRS_DEP_TIME             int64\n",
       "DEP_TIME               float64\n",
       "DEP_DELAY              float64\n",
       "DEP_DELAY_NEW          float64\n",
       "DEP_DEL15              float64\n",
       "DEP_DELAY_GROUP        float64\n",
       "DEP_TIME_BLK            object\n",
       "TAXI_OUT               float64\n",
       "WHEELS_OFF             float64\n",
       "WHEELS_ON              float64\n",
       "TAXI_IN                float64\n",
       "CRS_ARR_TIME             int64\n",
       "ARR_TIME               float64\n",
       "ARR_DELAY              float64\n",
       "ARR_DELAY_NEW          float64\n",
       "ARR_DEL15              float64\n",
       "ARR_DELAY_GROUP        float64\n",
       "ARR_TIME_BLK            object\n",
       "CANCELLED                int64\n",
       "CANCELLATION_CODE       object\n",
       "CRS_ELAPSED_TIME       float64\n",
       "ACTUAL_ELAPSED_TIME    float64\n",
       "AIR_TIME               float64\n",
       "DISTANCE                 int64\n",
       "DISTANCE_GROUP           int64\n",
       "CARRIER_DELAY          float64\n",
       "WEATHER_DELAY          float64\n",
       "NAS_DELAY              float64\n",
       "SECURITY_DELAY         float64\n",
       "LATE_AIRCRAFT_DELAY    float64\n",
       "dtype: object"
      ]
     },
     "execution_count": 1171,
     "metadata": {},
     "output_type": "execute_result"
    }
   ],
   "source": [
    "# Display data types\n",
    "print(\"\\nData types:\")\n",
    "df.dtypes"
   ]
  },
  {
   "cell_type": "code",
   "execution_count": 1172,
   "id": "31a66a48",
   "metadata": {},
   "outputs": [
    {
     "name": "stdout",
     "output_type": "stream",
     "text": [
      "\n",
      "Summary statistics:\n"
     ]
    },
    {
     "data": {
      "text/html": [
       "<div>\n",
       "<style scoped>\n",
       "    .dataframe tbody tr th:only-of-type {\n",
       "        vertical-align: middle;\n",
       "    }\n",
       "\n",
       "    .dataframe tbody tr th {\n",
       "        vertical-align: top;\n",
       "    }\n",
       "\n",
       "    .dataframe thead th {\n",
       "        text-align: right;\n",
       "    }\n",
       "</style>\n",
       "<table border=\"1\" class=\"dataframe\">\n",
       "  <thead>\n",
       "    <tr style=\"text-align: right;\">\n",
       "      <th></th>\n",
       "      <th>YEAR</th>\n",
       "      <th>QUARTER</th>\n",
       "      <th>MONTH</th>\n",
       "      <th>DAY_OF_MONTH</th>\n",
       "      <th>DAY_OF_WEEK</th>\n",
       "      <th>FL_DATE</th>\n",
       "      <th>MKT_UNIQUE_CARRIER</th>\n",
       "      <th>MKT_CARRIER_FL_NUM</th>\n",
       "      <th>TAIL_NUM</th>\n",
       "      <th>ORIGIN</th>\n",
       "      <th>ORIGIN_CITY_NAME</th>\n",
       "      <th>ORIGIN_STATE_ABR</th>\n",
       "      <th>ORIGIN_STATE_NM</th>\n",
       "      <th>DEST</th>\n",
       "      <th>DEST_CITY_NAME</th>\n",
       "      <th>DEST_STATE_ABR</th>\n",
       "      <th>DEST_STATE_NM</th>\n",
       "      <th>CRS_DEP_TIME</th>\n",
       "      <th>DEP_TIME</th>\n",
       "      <th>DEP_DELAY</th>\n",
       "      <th>DEP_DELAY_NEW</th>\n",
       "      <th>DEP_DEL15</th>\n",
       "      <th>DEP_DELAY_GROUP</th>\n",
       "      <th>DEP_TIME_BLK</th>\n",
       "      <th>TAXI_OUT</th>\n",
       "      <th>WHEELS_OFF</th>\n",
       "      <th>WHEELS_ON</th>\n",
       "      <th>TAXI_IN</th>\n",
       "      <th>CRS_ARR_TIME</th>\n",
       "      <th>ARR_TIME</th>\n",
       "      <th>ARR_DELAY</th>\n",
       "      <th>ARR_DELAY_NEW</th>\n",
       "      <th>ARR_DEL15</th>\n",
       "      <th>ARR_DELAY_GROUP</th>\n",
       "      <th>ARR_TIME_BLK</th>\n",
       "      <th>CANCELLED</th>\n",
       "      <th>CANCELLATION_CODE</th>\n",
       "      <th>CRS_ELAPSED_TIME</th>\n",
       "      <th>ACTUAL_ELAPSED_TIME</th>\n",
       "      <th>AIR_TIME</th>\n",
       "      <th>DISTANCE</th>\n",
       "      <th>DISTANCE_GROUP</th>\n",
       "      <th>CARRIER_DELAY</th>\n",
       "      <th>WEATHER_DELAY</th>\n",
       "      <th>NAS_DELAY</th>\n",
       "      <th>SECURITY_DELAY</th>\n",
       "      <th>LATE_AIRCRAFT_DELAY</th>\n",
       "    </tr>\n",
       "  </thead>\n",
       "  <tbody>\n",
       "    <tr>\n",
       "      <th>count</th>\n",
       "      <td>2745847.0</td>\n",
       "      <td>2.745847e+06</td>\n",
       "      <td>2.745847e+06</td>\n",
       "      <td>2.745847e+06</td>\n",
       "      <td>2.745847e+06</td>\n",
       "      <td>2745847</td>\n",
       "      <td>2745847</td>\n",
       "      <td>2.745847e+06</td>\n",
       "      <td>2582920</td>\n",
       "      <td>2745847</td>\n",
       "      <td>2745847</td>\n",
       "      <td>2745847</td>\n",
       "      <td>2745847</td>\n",
       "      <td>2745847</td>\n",
       "      <td>2745847</td>\n",
       "      <td>2745847</td>\n",
       "      <td>2745847</td>\n",
       "      <td>2.745847e+06</td>\n",
       "      <td>2.463910e+06</td>\n",
       "      <td>2.463855e+06</td>\n",
       "      <td>2.463855e+06</td>\n",
       "      <td>2.463855e+06</td>\n",
       "      <td>2.463855e+06</td>\n",
       "      <td>2745847</td>\n",
       "      <td>2.463354e+06</td>\n",
       "      <td>2.463354e+06</td>\n",
       "      <td>2.462293e+06</td>\n",
       "      <td>2.462293e+06</td>\n",
       "      <td>2.745847e+06</td>\n",
       "      <td>2.462293e+06</td>\n",
       "      <td>2.458513e+06</td>\n",
       "      <td>2.458513e+06</td>\n",
       "      <td>2.458513e+06</td>\n",
       "      <td>2.458513e+06</td>\n",
       "      <td>2745847</td>\n",
       "      <td>2.745847e+06</td>\n",
       "      <td>282926</td>\n",
       "      <td>2.745845e+06</td>\n",
       "      <td>2.458513e+06</td>\n",
       "      <td>2.458513e+06</td>\n",
       "      <td>2.745847e+06</td>\n",
       "      <td>2.745847e+06</td>\n",
       "      <td>278226.000000</td>\n",
       "      <td>278226.000000</td>\n",
       "      <td>278226.000000</td>\n",
       "      <td>278226.000000</td>\n",
       "      <td>278226.000000</td>\n",
       "    </tr>\n",
       "    <tr>\n",
       "      <th>unique</th>\n",
       "      <td>NaN</td>\n",
       "      <td>NaN</td>\n",
       "      <td>NaN</td>\n",
       "      <td>NaN</td>\n",
       "      <td>NaN</td>\n",
       "      <td>182</td>\n",
       "      <td>10</td>\n",
       "      <td>NaN</td>\n",
       "      <td>6079</td>\n",
       "      <td>375</td>\n",
       "      <td>368</td>\n",
       "      <td>52</td>\n",
       "      <td>52</td>\n",
       "      <td>375</td>\n",
       "      <td>368</td>\n",
       "      <td>52</td>\n",
       "      <td>52</td>\n",
       "      <td>NaN</td>\n",
       "      <td>NaN</td>\n",
       "      <td>NaN</td>\n",
       "      <td>NaN</td>\n",
       "      <td>NaN</td>\n",
       "      <td>NaN</td>\n",
       "      <td>19</td>\n",
       "      <td>NaN</td>\n",
       "      <td>NaN</td>\n",
       "      <td>NaN</td>\n",
       "      <td>NaN</td>\n",
       "      <td>NaN</td>\n",
       "      <td>NaN</td>\n",
       "      <td>NaN</td>\n",
       "      <td>NaN</td>\n",
       "      <td>NaN</td>\n",
       "      <td>NaN</td>\n",
       "      <td>19</td>\n",
       "      <td>NaN</td>\n",
       "      <td>4</td>\n",
       "      <td>NaN</td>\n",
       "      <td>NaN</td>\n",
       "      <td>NaN</td>\n",
       "      <td>NaN</td>\n",
       "      <td>NaN</td>\n",
       "      <td>NaN</td>\n",
       "      <td>NaN</td>\n",
       "      <td>NaN</td>\n",
       "      <td>NaN</td>\n",
       "      <td>NaN</td>\n",
       "    </tr>\n",
       "    <tr>\n",
       "      <th>top</th>\n",
       "      <td>NaN</td>\n",
       "      <td>NaN</td>\n",
       "      <td>NaN</td>\n",
       "      <td>NaN</td>\n",
       "      <td>NaN</td>\n",
       "      <td>3/20/2020</td>\n",
       "      <td>AA</td>\n",
       "      <td>NaN</td>\n",
       "      <td>N494HA</td>\n",
       "      <td>ATL</td>\n",
       "      <td>Chicago, IL</td>\n",
       "      <td>TX</td>\n",
       "      <td>Texas</td>\n",
       "      <td>ATL</td>\n",
       "      <td>Chicago, IL</td>\n",
       "      <td>TX</td>\n",
       "      <td>Texas</td>\n",
       "      <td>NaN</td>\n",
       "      <td>NaN</td>\n",
       "      <td>NaN</td>\n",
       "      <td>NaN</td>\n",
       "      <td>NaN</td>\n",
       "      <td>NaN</td>\n",
       "      <td>0700-0759</td>\n",
       "      <td>NaN</td>\n",
       "      <td>NaN</td>\n",
       "      <td>NaN</td>\n",
       "      <td>NaN</td>\n",
       "      <td>NaN</td>\n",
       "      <td>NaN</td>\n",
       "      <td>NaN</td>\n",
       "      <td>NaN</td>\n",
       "      <td>NaN</td>\n",
       "      <td>NaN</td>\n",
       "      <td>1600-1659</td>\n",
       "      <td>NaN</td>\n",
       "      <td>D</td>\n",
       "      <td>NaN</td>\n",
       "      <td>NaN</td>\n",
       "      <td>NaN</td>\n",
       "      <td>NaN</td>\n",
       "      <td>NaN</td>\n",
       "      <td>NaN</td>\n",
       "      <td>NaN</td>\n",
       "      <td>NaN</td>\n",
       "      <td>NaN</td>\n",
       "      <td>NaN</td>\n",
       "    </tr>\n",
       "    <tr>\n",
       "      <th>freq</th>\n",
       "      <td>NaN</td>\n",
       "      <td>NaN</td>\n",
       "      <td>NaN</td>\n",
       "      <td>NaN</td>\n",
       "      <td>NaN</td>\n",
       "      <td>23956</td>\n",
       "      <td>735559</td>\n",
       "      <td>NaN</td>\n",
       "      <td>1106</td>\n",
       "      <td>128166</td>\n",
       "      <td>159609</td>\n",
       "      <td>287693</td>\n",
       "      <td>287693</td>\n",
       "      <td>128263</td>\n",
       "      <td>159653</td>\n",
       "      <td>287645</td>\n",
       "      <td>287645</td>\n",
       "      <td>NaN</td>\n",
       "      <td>NaN</td>\n",
       "      <td>NaN</td>\n",
       "      <td>NaN</td>\n",
       "      <td>NaN</td>\n",
       "      <td>NaN</td>\n",
       "      <td>188892</td>\n",
       "      <td>NaN</td>\n",
       "      <td>NaN</td>\n",
       "      <td>NaN</td>\n",
       "      <td>NaN</td>\n",
       "      <td>NaN</td>\n",
       "      <td>NaN</td>\n",
       "      <td>NaN</td>\n",
       "      <td>NaN</td>\n",
       "      <td>NaN</td>\n",
       "      <td>NaN</td>\n",
       "      <td>180483</td>\n",
       "      <td>NaN</td>\n",
       "      <td>246293</td>\n",
       "      <td>NaN</td>\n",
       "      <td>NaN</td>\n",
       "      <td>NaN</td>\n",
       "      <td>NaN</td>\n",
       "      <td>NaN</td>\n",
       "      <td>NaN</td>\n",
       "      <td>NaN</td>\n",
       "      <td>NaN</td>\n",
       "      <td>NaN</td>\n",
       "      <td>NaN</td>\n",
       "    </tr>\n",
       "    <tr>\n",
       "      <th>mean</th>\n",
       "      <td>2020.0</td>\n",
       "      <td>1.277114e+00</td>\n",
       "      <td>2.811948e+00</td>\n",
       "      <td>1.548115e+01</td>\n",
       "      <td>3.963960e+00</td>\n",
       "      <td>NaN</td>\n",
       "      <td>NaN</td>\n",
       "      <td>2.714583e+03</td>\n",
       "      <td>NaN</td>\n",
       "      <td>NaN</td>\n",
       "      <td>NaN</td>\n",
       "      <td>NaN</td>\n",
       "      <td>NaN</td>\n",
       "      <td>NaN</td>\n",
       "      <td>NaN</td>\n",
       "      <td>NaN</td>\n",
       "      <td>NaN</td>\n",
       "      <td>1.325110e+03</td>\n",
       "      <td>1.325076e+03</td>\n",
       "      <td>3.469542e+00</td>\n",
       "      <td>8.093630e+00</td>\n",
       "      <td>1.094963e-01</td>\n",
       "      <td>-3.725580e-01</td>\n",
       "      <td>NaN</td>\n",
       "      <td>1.603596e+01</td>\n",
       "      <td>1.349569e+03</td>\n",
       "      <td>1.470827e+03</td>\n",
       "      <td>7.007121e+00</td>\n",
       "      <td>1.490211e+03</td>\n",
       "      <td>1.476626e+03</td>\n",
       "      <td>-4.405264e+00</td>\n",
       "      <td>8.038959e+00</td>\n",
       "      <td>1.131684e-01</td>\n",
       "      <td>-7.507026e-01</td>\n",
       "      <td>NaN</td>\n",
       "      <td>1.030378e-01</td>\n",
       "      <td>NaN</td>\n",
       "      <td>1.372010e+02</td>\n",
       "      <td>1.298110e+02</td>\n",
       "      <td>1.067751e+02</td>\n",
       "      <td>7.539543e+02</td>\n",
       "      <td>3.493924e+00</td>\n",
       "      <td>24.748298</td>\n",
       "      <td>3.768045</td>\n",
       "      <td>14.474571</td>\n",
       "      <td>0.090412</td>\n",
       "      <td>21.617246</td>\n",
       "    </tr>\n",
       "    <tr>\n",
       "      <th>std</th>\n",
       "      <td>0.0</td>\n",
       "      <td>4.475736e-01</td>\n",
       "      <td>1.527229e+00</td>\n",
       "      <td>8.799480e+00</td>\n",
       "      <td>1.993749e+00</td>\n",
       "      <td>NaN</td>\n",
       "      <td>NaN</td>\n",
       "      <td>1.829519e+03</td>\n",
       "      <td>NaN</td>\n",
       "      <td>NaN</td>\n",
       "      <td>NaN</td>\n",
       "      <td>NaN</td>\n",
       "      <td>NaN</td>\n",
       "      <td>NaN</td>\n",
       "      <td>NaN</td>\n",
       "      <td>NaN</td>\n",
       "      <td>NaN</td>\n",
       "      <td>4.786911e+02</td>\n",
       "      <td>4.859642e+02</td>\n",
       "      <td>3.927404e+01</td>\n",
       "      <td>3.806698e+01</td>\n",
       "      <td>3.122609e-01</td>\n",
       "      <td>1.769355e+00</td>\n",
       "      <td>NaN</td>\n",
       "      <td>8.893133e+00</td>\n",
       "      <td>4.858066e+02</td>\n",
       "      <td>5.066435e+02</td>\n",
       "      <td>5.276935e+00</td>\n",
       "      <td>5.038733e+02</td>\n",
       "      <td>5.096350e+02</td>\n",
       "      <td>4.138908e+01</td>\n",
       "      <td>3.729379e+01</td>\n",
       "      <td>3.167986e-01</td>\n",
       "      <td>1.918962e+00</td>\n",
       "      <td>NaN</td>\n",
       "      <td>3.040083e-01</td>\n",
       "      <td>NaN</td>\n",
       "      <td>6.899053e+01</td>\n",
       "      <td>6.895146e+01</td>\n",
       "      <td>6.752781e+01</td>\n",
       "      <td>5.580195e+02</td>\n",
       "      <td>2.203873e+00</td>\n",
       "      <td>74.229054</td>\n",
       "      <td>31.682242</td>\n",
       "      <td>32.595644</td>\n",
       "      <td>3.371606</td>\n",
       "      <td>52.738680</td>\n",
       "    </tr>\n",
       "    <tr>\n",
       "      <th>min</th>\n",
       "      <td>2020.0</td>\n",
       "      <td>1.000000e+00</td>\n",
       "      <td>1.000000e+00</td>\n",
       "      <td>1.000000e+00</td>\n",
       "      <td>1.000000e+00</td>\n",
       "      <td>NaN</td>\n",
       "      <td>NaN</td>\n",
       "      <td>1.000000e+00</td>\n",
       "      <td>NaN</td>\n",
       "      <td>NaN</td>\n",
       "      <td>NaN</td>\n",
       "      <td>NaN</td>\n",
       "      <td>NaN</td>\n",
       "      <td>NaN</td>\n",
       "      <td>NaN</td>\n",
       "      <td>NaN</td>\n",
       "      <td>NaN</td>\n",
       "      <td>1.000000e+00</td>\n",
       "      <td>1.000000e+00</td>\n",
       "      <td>-8.000000e+01</td>\n",
       "      <td>0.000000e+00</td>\n",
       "      <td>0.000000e+00</td>\n",
       "      <td>-2.000000e+00</td>\n",
       "      <td>NaN</td>\n",
       "      <td>0.000000e+00</td>\n",
       "      <td>1.000000e+00</td>\n",
       "      <td>1.000000e+00</td>\n",
       "      <td>0.000000e+00</td>\n",
       "      <td>1.000000e+00</td>\n",
       "      <td>1.000000e+00</td>\n",
       "      <td>-1.170000e+02</td>\n",
       "      <td>0.000000e+00</td>\n",
       "      <td>0.000000e+00</td>\n",
       "      <td>-2.000000e+00</td>\n",
       "      <td>NaN</td>\n",
       "      <td>0.000000e+00</td>\n",
       "      <td>NaN</td>\n",
       "      <td>-7.700000e+01</td>\n",
       "      <td>1.300000e+01</td>\n",
       "      <td>7.000000e+00</td>\n",
       "      <td>2.900000e+01</td>\n",
       "      <td>1.000000e+00</td>\n",
       "      <td>0.000000</td>\n",
       "      <td>0.000000</td>\n",
       "      <td>0.000000</td>\n",
       "      <td>0.000000</td>\n",
       "      <td>0.000000</td>\n",
       "    </tr>\n",
       "    <tr>\n",
       "      <th>25%</th>\n",
       "      <td>2020.0</td>\n",
       "      <td>1.000000e+00</td>\n",
       "      <td>2.000000e+00</td>\n",
       "      <td>8.000000e+00</td>\n",
       "      <td>2.000000e+00</td>\n",
       "      <td>NaN</td>\n",
       "      <td>NaN</td>\n",
       "      <td>1.108000e+03</td>\n",
       "      <td>NaN</td>\n",
       "      <td>NaN</td>\n",
       "      <td>NaN</td>\n",
       "      <td>NaN</td>\n",
       "      <td>NaN</td>\n",
       "      <td>NaN</td>\n",
       "      <td>NaN</td>\n",
       "      <td>NaN</td>\n",
       "      <td>NaN</td>\n",
       "      <td>9.200000e+02</td>\n",
       "      <td>9.210000e+02</td>\n",
       "      <td>-7.000000e+00</td>\n",
       "      <td>0.000000e+00</td>\n",
       "      <td>0.000000e+00</td>\n",
       "      <td>-1.000000e+00</td>\n",
       "      <td>NaN</td>\n",
       "      <td>1.100000e+01</td>\n",
       "      <td>9.360000e+02</td>\n",
       "      <td>1.058000e+03</td>\n",
       "      <td>4.000000e+00</td>\n",
       "      <td>1.110000e+03</td>\n",
       "      <td>1.102000e+03</td>\n",
       "      <td>-2.000000e+01</td>\n",
       "      <td>0.000000e+00</td>\n",
       "      <td>0.000000e+00</td>\n",
       "      <td>-2.000000e+00</td>\n",
       "      <td>NaN</td>\n",
       "      <td>0.000000e+00</td>\n",
       "      <td>NaN</td>\n",
       "      <td>8.800000e+01</td>\n",
       "      <td>8.000000e+01</td>\n",
       "      <td>5.800000e+01</td>\n",
       "      <td>3.450000e+02</td>\n",
       "      <td>2.000000e+00</td>\n",
       "      <td>0.000000</td>\n",
       "      <td>0.000000</td>\n",
       "      <td>0.000000</td>\n",
       "      <td>0.000000</td>\n",
       "      <td>0.000000</td>\n",
       "    </tr>\n",
       "    <tr>\n",
       "      <th>50%</th>\n",
       "      <td>2020.0</td>\n",
       "      <td>1.000000e+00</td>\n",
       "      <td>3.000000e+00</td>\n",
       "      <td>1.500000e+01</td>\n",
       "      <td>4.000000e+00</td>\n",
       "      <td>NaN</td>\n",
       "      <td>NaN</td>\n",
       "      <td>2.344000e+03</td>\n",
       "      <td>NaN</td>\n",
       "      <td>NaN</td>\n",
       "      <td>NaN</td>\n",
       "      <td>NaN</td>\n",
       "      <td>NaN</td>\n",
       "      <td>NaN</td>\n",
       "      <td>NaN</td>\n",
       "      <td>NaN</td>\n",
       "      <td>NaN</td>\n",
       "      <td>1.320000e+03</td>\n",
       "      <td>1.322000e+03</td>\n",
       "      <td>-4.000000e+00</td>\n",
       "      <td>0.000000e+00</td>\n",
       "      <td>0.000000e+00</td>\n",
       "      <td>-1.000000e+00</td>\n",
       "      <td>NaN</td>\n",
       "      <td>1.400000e+01</td>\n",
       "      <td>1.335000e+03</td>\n",
       "      <td>1.505000e+03</td>\n",
       "      <td>6.000000e+00</td>\n",
       "      <td>1.515000e+03</td>\n",
       "      <td>1.509000e+03</td>\n",
       "      <td>-1.100000e+01</td>\n",
       "      <td>0.000000e+00</td>\n",
       "      <td>0.000000e+00</td>\n",
       "      <td>-1.000000e+00</td>\n",
       "      <td>NaN</td>\n",
       "      <td>0.000000e+00</td>\n",
       "      <td>NaN</td>\n",
       "      <td>1.200000e+02</td>\n",
       "      <td>1.130000e+02</td>\n",
       "      <td>8.900000e+01</td>\n",
       "      <td>6.050000e+02</td>\n",
       "      <td>3.000000e+00</td>\n",
       "      <td>0.000000</td>\n",
       "      <td>0.000000</td>\n",
       "      <td>2.000000</td>\n",
       "      <td>0.000000</td>\n",
       "      <td>0.000000</td>\n",
       "    </tr>\n",
       "    <tr>\n",
       "      <th>75%</th>\n",
       "      <td>2020.0</td>\n",
       "      <td>2.000000e+00</td>\n",
       "      <td>4.000000e+00</td>\n",
       "      <td>2.300000e+01</td>\n",
       "      <td>6.000000e+00</td>\n",
       "      <td>NaN</td>\n",
       "      <td>NaN</td>\n",
       "      <td>4.305000e+03</td>\n",
       "      <td>NaN</td>\n",
       "      <td>NaN</td>\n",
       "      <td>NaN</td>\n",
       "      <td>NaN</td>\n",
       "      <td>NaN</td>\n",
       "      <td>NaN</td>\n",
       "      <td>NaN</td>\n",
       "      <td>NaN</td>\n",
       "      <td>NaN</td>\n",
       "      <td>1.727000e+03</td>\n",
       "      <td>1.730000e+03</td>\n",
       "      <td>0.000000e+00</td>\n",
       "      <td>0.000000e+00</td>\n",
       "      <td>0.000000e+00</td>\n",
       "      <td>0.000000e+00</td>\n",
       "      <td>NaN</td>\n",
       "      <td>1.900000e+01</td>\n",
       "      <td>1.744000e+03</td>\n",
       "      <td>1.902000e+03</td>\n",
       "      <td>8.000000e+00</td>\n",
       "      <td>1.913000e+03</td>\n",
       "      <td>1.907000e+03</td>\n",
       "      <td>-1.000000e+00</td>\n",
       "      <td>0.000000e+00</td>\n",
       "      <td>0.000000e+00</td>\n",
       "      <td>-1.000000e+00</td>\n",
       "      <td>NaN</td>\n",
       "      <td>0.000000e+00</td>\n",
       "      <td>NaN</td>\n",
       "      <td>1.680000e+02</td>\n",
       "      <td>1.600000e+02</td>\n",
       "      <td>1.360000e+02</td>\n",
       "      <td>9.940000e+02</td>\n",
       "      <td>4.000000e+00</td>\n",
       "      <td>23.000000</td>\n",
       "      <td>0.000000</td>\n",
       "      <td>19.000000</td>\n",
       "      <td>0.000000</td>\n",
       "      <td>23.000000</td>\n",
       "    </tr>\n",
       "    <tr>\n",
       "      <th>max</th>\n",
       "      <td>2020.0</td>\n",
       "      <td>2.000000e+00</td>\n",
       "      <td>6.000000e+00</td>\n",
       "      <td>3.100000e+01</td>\n",
       "      <td>7.000000e+00</td>\n",
       "      <td>NaN</td>\n",
       "      <td>NaN</td>\n",
       "      <td>9.888000e+03</td>\n",
       "      <td>NaN</td>\n",
       "      <td>NaN</td>\n",
       "      <td>NaN</td>\n",
       "      <td>NaN</td>\n",
       "      <td>NaN</td>\n",
       "      <td>NaN</td>\n",
       "      <td>NaN</td>\n",
       "      <td>NaN</td>\n",
       "      <td>NaN</td>\n",
       "      <td>2.359000e+03</td>\n",
       "      <td>2.400000e+03</td>\n",
       "      <td>2.814000e+03</td>\n",
       "      <td>2.814000e+03</td>\n",
       "      <td>1.000000e+00</td>\n",
       "      <td>1.200000e+01</td>\n",
       "      <td>NaN</td>\n",
       "      <td>1.890000e+02</td>\n",
       "      <td>2.400000e+03</td>\n",
       "      <td>2.400000e+03</td>\n",
       "      <td>1.940000e+02</td>\n",
       "      <td>2.400000e+03</td>\n",
       "      <td>2.400000e+03</td>\n",
       "      <td>2.794000e+03</td>\n",
       "      <td>2.794000e+03</td>\n",
       "      <td>1.000000e+00</td>\n",
       "      <td>1.200000e+01</td>\n",
       "      <td>NaN</td>\n",
       "      <td>1.000000e+00</td>\n",
       "      <td>NaN</td>\n",
       "      <td>7.000000e+02</td>\n",
       "      <td>7.630000e+02</td>\n",
       "      <td>6.980000e+02</td>\n",
       "      <td>5.095000e+03</td>\n",
       "      <td>1.100000e+01</td>\n",
       "      <td>2560.000000</td>\n",
       "      <td>1525.000000</td>\n",
       "      <td>1462.000000</td>\n",
       "      <td>1185.000000</td>\n",
       "      <td>2228.000000</td>\n",
       "    </tr>\n",
       "  </tbody>\n",
       "</table>\n",
       "</div>"
      ],
      "text/plain": [
       "             YEAR       QUARTER         MONTH  DAY_OF_MONTH   DAY_OF_WEEK  \\\n",
       "count   2745847.0  2.745847e+06  2.745847e+06  2.745847e+06  2.745847e+06   \n",
       "unique        NaN           NaN           NaN           NaN           NaN   \n",
       "top           NaN           NaN           NaN           NaN           NaN   \n",
       "freq          NaN           NaN           NaN           NaN           NaN   \n",
       "mean       2020.0  1.277114e+00  2.811948e+00  1.548115e+01  3.963960e+00   \n",
       "std           0.0  4.475736e-01  1.527229e+00  8.799480e+00  1.993749e+00   \n",
       "min        2020.0  1.000000e+00  1.000000e+00  1.000000e+00  1.000000e+00   \n",
       "25%        2020.0  1.000000e+00  2.000000e+00  8.000000e+00  2.000000e+00   \n",
       "50%        2020.0  1.000000e+00  3.000000e+00  1.500000e+01  4.000000e+00   \n",
       "75%        2020.0  2.000000e+00  4.000000e+00  2.300000e+01  6.000000e+00   \n",
       "max        2020.0  2.000000e+00  6.000000e+00  3.100000e+01  7.000000e+00   \n",
       "\n",
       "          FL_DATE MKT_UNIQUE_CARRIER  MKT_CARRIER_FL_NUM TAIL_NUM   ORIGIN  \\\n",
       "count     2745847            2745847        2.745847e+06  2582920  2745847   \n",
       "unique        182                 10                 NaN     6079      375   \n",
       "top     3/20/2020                 AA                 NaN   N494HA      ATL   \n",
       "freq        23956             735559                 NaN     1106   128166   \n",
       "mean          NaN                NaN        2.714583e+03      NaN      NaN   \n",
       "std           NaN                NaN        1.829519e+03      NaN      NaN   \n",
       "min           NaN                NaN        1.000000e+00      NaN      NaN   \n",
       "25%           NaN                NaN        1.108000e+03      NaN      NaN   \n",
       "50%           NaN                NaN        2.344000e+03      NaN      NaN   \n",
       "75%           NaN                NaN        4.305000e+03      NaN      NaN   \n",
       "max           NaN                NaN        9.888000e+03      NaN      NaN   \n",
       "\n",
       "       ORIGIN_CITY_NAME ORIGIN_STATE_ABR ORIGIN_STATE_NM     DEST  \\\n",
       "count           2745847          2745847         2745847  2745847   \n",
       "unique              368               52              52      375   \n",
       "top         Chicago, IL               TX           Texas      ATL   \n",
       "freq             159609           287693          287693   128263   \n",
       "mean                NaN              NaN             NaN      NaN   \n",
       "std                 NaN              NaN             NaN      NaN   \n",
       "min                 NaN              NaN             NaN      NaN   \n",
       "25%                 NaN              NaN             NaN      NaN   \n",
       "50%                 NaN              NaN             NaN      NaN   \n",
       "75%                 NaN              NaN             NaN      NaN   \n",
       "max                 NaN              NaN             NaN      NaN   \n",
       "\n",
       "       DEST_CITY_NAME DEST_STATE_ABR DEST_STATE_NM  CRS_DEP_TIME  \\\n",
       "count         2745847        2745847       2745847  2.745847e+06   \n",
       "unique            368             52            52           NaN   \n",
       "top       Chicago, IL             TX         Texas           NaN   \n",
       "freq           159653         287645        287645           NaN   \n",
       "mean              NaN            NaN           NaN  1.325110e+03   \n",
       "std               NaN            NaN           NaN  4.786911e+02   \n",
       "min               NaN            NaN           NaN  1.000000e+00   \n",
       "25%               NaN            NaN           NaN  9.200000e+02   \n",
       "50%               NaN            NaN           NaN  1.320000e+03   \n",
       "75%               NaN            NaN           NaN  1.727000e+03   \n",
       "max               NaN            NaN           NaN  2.359000e+03   \n",
       "\n",
       "            DEP_TIME     DEP_DELAY  DEP_DELAY_NEW     DEP_DEL15  \\\n",
       "count   2.463910e+06  2.463855e+06   2.463855e+06  2.463855e+06   \n",
       "unique           NaN           NaN            NaN           NaN   \n",
       "top              NaN           NaN            NaN           NaN   \n",
       "freq             NaN           NaN            NaN           NaN   \n",
       "mean    1.325076e+03  3.469542e+00   8.093630e+00  1.094963e-01   \n",
       "std     4.859642e+02  3.927404e+01   3.806698e+01  3.122609e-01   \n",
       "min     1.000000e+00 -8.000000e+01   0.000000e+00  0.000000e+00   \n",
       "25%     9.210000e+02 -7.000000e+00   0.000000e+00  0.000000e+00   \n",
       "50%     1.322000e+03 -4.000000e+00   0.000000e+00  0.000000e+00   \n",
       "75%     1.730000e+03  0.000000e+00   0.000000e+00  0.000000e+00   \n",
       "max     2.400000e+03  2.814000e+03   2.814000e+03  1.000000e+00   \n",
       "\n",
       "        DEP_DELAY_GROUP DEP_TIME_BLK      TAXI_OUT    WHEELS_OFF  \\\n",
       "count      2.463855e+06      2745847  2.463354e+06  2.463354e+06   \n",
       "unique              NaN           19           NaN           NaN   \n",
       "top                 NaN    0700-0759           NaN           NaN   \n",
       "freq                NaN       188892           NaN           NaN   \n",
       "mean      -3.725580e-01          NaN  1.603596e+01  1.349569e+03   \n",
       "std        1.769355e+00          NaN  8.893133e+00  4.858066e+02   \n",
       "min       -2.000000e+00          NaN  0.000000e+00  1.000000e+00   \n",
       "25%       -1.000000e+00          NaN  1.100000e+01  9.360000e+02   \n",
       "50%       -1.000000e+00          NaN  1.400000e+01  1.335000e+03   \n",
       "75%        0.000000e+00          NaN  1.900000e+01  1.744000e+03   \n",
       "max        1.200000e+01          NaN  1.890000e+02  2.400000e+03   \n",
       "\n",
       "           WHEELS_ON       TAXI_IN  CRS_ARR_TIME      ARR_TIME     ARR_DELAY  \\\n",
       "count   2.462293e+06  2.462293e+06  2.745847e+06  2.462293e+06  2.458513e+06   \n",
       "unique           NaN           NaN           NaN           NaN           NaN   \n",
       "top              NaN           NaN           NaN           NaN           NaN   \n",
       "freq             NaN           NaN           NaN           NaN           NaN   \n",
       "mean    1.470827e+03  7.007121e+00  1.490211e+03  1.476626e+03 -4.405264e+00   \n",
       "std     5.066435e+02  5.276935e+00  5.038733e+02  5.096350e+02  4.138908e+01   \n",
       "min     1.000000e+00  0.000000e+00  1.000000e+00  1.000000e+00 -1.170000e+02   \n",
       "25%     1.058000e+03  4.000000e+00  1.110000e+03  1.102000e+03 -2.000000e+01   \n",
       "50%     1.505000e+03  6.000000e+00  1.515000e+03  1.509000e+03 -1.100000e+01   \n",
       "75%     1.902000e+03  8.000000e+00  1.913000e+03  1.907000e+03 -1.000000e+00   \n",
       "max     2.400000e+03  1.940000e+02  2.400000e+03  2.400000e+03  2.794000e+03   \n",
       "\n",
       "        ARR_DELAY_NEW     ARR_DEL15  ARR_DELAY_GROUP ARR_TIME_BLK  \\\n",
       "count    2.458513e+06  2.458513e+06     2.458513e+06      2745847   \n",
       "unique            NaN           NaN              NaN           19   \n",
       "top               NaN           NaN              NaN    1600-1659   \n",
       "freq              NaN           NaN              NaN       180483   \n",
       "mean     8.038959e+00  1.131684e-01    -7.507026e-01          NaN   \n",
       "std      3.729379e+01  3.167986e-01     1.918962e+00          NaN   \n",
       "min      0.000000e+00  0.000000e+00    -2.000000e+00          NaN   \n",
       "25%      0.000000e+00  0.000000e+00    -2.000000e+00          NaN   \n",
       "50%      0.000000e+00  0.000000e+00    -1.000000e+00          NaN   \n",
       "75%      0.000000e+00  0.000000e+00    -1.000000e+00          NaN   \n",
       "max      2.794000e+03  1.000000e+00     1.200000e+01          NaN   \n",
       "\n",
       "           CANCELLED CANCELLATION_CODE  CRS_ELAPSED_TIME  ACTUAL_ELAPSED_TIME  \\\n",
       "count   2.745847e+06            282926      2.745845e+06         2.458513e+06   \n",
       "unique           NaN                 4               NaN                  NaN   \n",
       "top              NaN                 D               NaN                  NaN   \n",
       "freq             NaN            246293               NaN                  NaN   \n",
       "mean    1.030378e-01               NaN      1.372010e+02         1.298110e+02   \n",
       "std     3.040083e-01               NaN      6.899053e+01         6.895146e+01   \n",
       "min     0.000000e+00               NaN     -7.700000e+01         1.300000e+01   \n",
       "25%     0.000000e+00               NaN      8.800000e+01         8.000000e+01   \n",
       "50%     0.000000e+00               NaN      1.200000e+02         1.130000e+02   \n",
       "75%     0.000000e+00               NaN      1.680000e+02         1.600000e+02   \n",
       "max     1.000000e+00               NaN      7.000000e+02         7.630000e+02   \n",
       "\n",
       "            AIR_TIME      DISTANCE  DISTANCE_GROUP  CARRIER_DELAY  \\\n",
       "count   2.458513e+06  2.745847e+06    2.745847e+06  278226.000000   \n",
       "unique           NaN           NaN             NaN            NaN   \n",
       "top              NaN           NaN             NaN            NaN   \n",
       "freq             NaN           NaN             NaN            NaN   \n",
       "mean    1.067751e+02  7.539543e+02    3.493924e+00      24.748298   \n",
       "std     6.752781e+01  5.580195e+02    2.203873e+00      74.229054   \n",
       "min     7.000000e+00  2.900000e+01    1.000000e+00       0.000000   \n",
       "25%     5.800000e+01  3.450000e+02    2.000000e+00       0.000000   \n",
       "50%     8.900000e+01  6.050000e+02    3.000000e+00       0.000000   \n",
       "75%     1.360000e+02  9.940000e+02    4.000000e+00      23.000000   \n",
       "max     6.980000e+02  5.095000e+03    1.100000e+01    2560.000000   \n",
       "\n",
       "        WEATHER_DELAY      NAS_DELAY  SECURITY_DELAY  LATE_AIRCRAFT_DELAY  \n",
       "count   278226.000000  278226.000000   278226.000000        278226.000000  \n",
       "unique            NaN            NaN             NaN                  NaN  \n",
       "top               NaN            NaN             NaN                  NaN  \n",
       "freq              NaN            NaN             NaN                  NaN  \n",
       "mean         3.768045      14.474571        0.090412            21.617246  \n",
       "std         31.682242      32.595644        3.371606            52.738680  \n",
       "min          0.000000       0.000000        0.000000             0.000000  \n",
       "25%          0.000000       0.000000        0.000000             0.000000  \n",
       "50%          0.000000       2.000000        0.000000             0.000000  \n",
       "75%          0.000000      19.000000        0.000000            23.000000  \n",
       "max       1525.000000    1462.000000     1185.000000          2228.000000  "
      ]
     },
     "execution_count": 1172,
     "metadata": {},
     "output_type": "execute_result"
    }
   ],
   "source": [
    "# Get summary statistics\n",
    "print(\"\\nSummary statistics:\")\n",
    "df.describe(include='all')"
   ]
  },
  {
   "cell_type": "code",
   "execution_count": null,
   "id": "a1350da3",
   "metadata": {},
   "outputs": [],
   "source": []
  },
  {
   "cell_type": "markdown",
   "id": "3dd29189",
   "metadata": {},
   "source": [
    "## Changing Data Type"
   ]
  },
  {
   "cell_type": "markdown",
   "id": "bd028582",
   "metadata": {},
   "source": [
    "### Defined Functions\n",
    "here are some functions we can use for changing the datatype"
   ]
  },
  {
   "cell_type": "code",
   "execution_count": 1173,
   "id": "8109ce26",
   "metadata": {},
   "outputs": [],
   "source": [
    "def to_string(df, column_name):\n",
    "    \"\"\"\n",
    "    Convert a pandas DataFrame column to a string.\n",
    "    \"\"\"\n",
    "    df[column_name] = df[column_name].astype('string')\n",
    "    print(f\"Column Name: '{column_name}', Type: {df[column_name].dtype}\")\n",
    "    return df  "
   ]
  },
  {
   "cell_type": "code",
   "execution_count": 1174,
   "id": "173f7750",
   "metadata": {},
   "outputs": [],
   "source": [
    "def to_date(df, column_name, format=None):\n",
    "    \"\"\"\n",
    "    Convert a pandas DataFrame column to datetime.\n",
    "    \"\"\"\n",
    "    df[column_name] = pd.to_datetime(df[column_name], format=format)\n",
    "    print(f\"Column Name: '{column_name}', Type: {df[column_name].dtype}\")\n",
    "    return df"
   ]
  },
  {
   "cell_type": "code",
   "execution_count": 1175,
   "id": "3ed093a5",
   "metadata": {},
   "outputs": [],
   "source": [
    "def to_int(df, column_name):\n",
    "    \"\"\"\n",
    "    Convert a pandas DataFrame column to a int.\n",
    "    \"\"\"\n",
    "    df[column_name] = df[column_name].notna().astype('int64')\n",
    "    print(f\"Column Name: '{column_name}', Type: {df[column_name].dtype}\")\n",
    "    return df  "
   ]
  },
  {
   "cell_type": "code",
   "execution_count": 1176,
   "id": "04c7aa01",
   "metadata": {},
   "outputs": [],
   "source": [
    "def to_float(df, column_name):\n",
    "    \"\"\"\n",
    "    Convert a pandas DataFrame column to a float.\n",
    "    \"\"\"\n",
    "    df[column_name] = df[column_name].astype('float64')\n",
    "    print(f\"Column Name: '{column_name}', Type: {df[column_name].dtype}\")\n",
    "    return df  "
   ]
  },
  {
   "cell_type": "markdown",
   "id": "2cd2d041",
   "metadata": {},
   "source": [
    "# Column by Column Analysis\n",
    "so here for each of the 47 columns, we will be doing a thourough analysis on each like whether we are keeping them, dropping them, if they need to be renamed, any datatype to be changed, are there any missing values, etc. "
   ]
  },
  {
   "cell_type": "code",
   "execution_count": 1177,
   "id": "5d8f9dc3",
   "metadata": {},
   "outputs": [],
   "source": [
    "# a function to display all statistics of a column\n",
    "def show_unique_missing_dtype(df, columnName):\n",
    "    print(df[columnName].value_counts())\n",
    "    print(\"\\nmissing values: \", df[columnName].isna().sum())\n",
    "    print(\"\\ndatatype: \", df[columnName].dtype)"
   ]
  },
  {
   "cell_type": "markdown",
   "id": "a507dcd8",
   "metadata": {},
   "source": [
    "## YEAR"
   ]
  },
  {
   "cell_type": "code",
   "execution_count": 1178,
   "id": "b78d26b6",
   "metadata": {},
   "outputs": [
    {
     "name": "stdout",
     "output_type": "stream",
     "text": [
      "YEAR\n",
      "2020    2745847\n",
      "Name: count, dtype: int64\n",
      "\n",
      "missing values:  0\n",
      "\n",
      "datatype:  int64\n"
     ]
    }
   ],
   "source": [
    "show_unique_missing_dtype(df, 'YEAR')"
   ]
  },
  {
   "cell_type": "markdown",
   "id": "4e387e87",
   "metadata": {},
   "source": [
    "so every row is just filled with 2020's so it is useless. so better to drop the column as it does not give us any insight."
   ]
  },
  {
   "cell_type": "code",
   "execution_count": 1179,
   "id": "4036e57d",
   "metadata": {},
   "outputs": [],
   "source": [
    "df = df.drop('YEAR', axis=1)"
   ]
  },
  {
   "cell_type": "markdown",
   "id": "1d82fc98",
   "metadata": {},
   "source": [
    "## QUARTER"
   ]
  },
  {
   "cell_type": "code",
   "execution_count": 1180,
   "id": "55c7aca7",
   "metadata": {},
   "outputs": [
    {
     "name": "stdout",
     "output_type": "stream",
     "text": [
      "QUARTER\n",
      "1    1984933\n",
      "2     760914\n",
      "Name: count, dtype: int64\n",
      "\n",
      "missing values:  0\n",
      "\n",
      "datatype:  int64\n"
     ]
    }
   ],
   "source": [
    "show_unique_missing_dtype(df, 'QUARTER')"
   ]
  },
  {
   "cell_type": "markdown",
   "id": "6657edae",
   "metadata": {},
   "source": [
    "so this is just filled with 2 values - 1 and 2. not very effective. we can also get the QUARTER using drill down strategy using `FL_DATE` in powerBI. so better to drop."
   ]
  },
  {
   "cell_type": "code",
   "execution_count": 1181,
   "id": "ebcdba10",
   "metadata": {},
   "outputs": [],
   "source": [
    "df = df.drop('QUARTER', axis=1)"
   ]
  },
  {
   "cell_type": "markdown",
   "id": "a4aedfd2",
   "metadata": {},
   "source": [
    "## MONTH"
   ]
  },
  {
   "cell_type": "code",
   "execution_count": 1182,
   "id": "1d14fcbf",
   "metadata": {},
   "outputs": [
    {
     "name": "stdout",
     "output_type": "stream",
     "text": [
      "MONTH\n",
      "3    701274\n",
      "1    660556\n",
      "2    623103\n",
      "4    331238\n",
      "6    237264\n",
      "5    192412\n",
      "Name: count, dtype: int64\n",
      "\n",
      "missing values:  0\n",
      "\n",
      "datatype:  int64\n"
     ]
    }
   ],
   "source": [
    "show_unique_missing_dtype(df, 'MONTH')"
   ]
  },
  {
   "cell_type": "markdown",
   "id": "7168f165",
   "metadata": {},
   "source": [
    "so there are no missing values, and the value counts seem fine. the datatype is fine too."
   ]
  },
  {
   "cell_type": "markdown",
   "id": "0dbdd8cf",
   "metadata": {},
   "source": [
    "## DAY_OF_MONTH"
   ]
  },
  {
   "cell_type": "code",
   "execution_count": 1183,
   "id": "dc98a442",
   "metadata": {},
   "outputs": [
    {
     "name": "stdout",
     "output_type": "stream",
     "text": [
      "DAY_OF_MONTH\n",
      "3     97419\n",
      "6     97057\n",
      "5     95971\n",
      "2     95345\n",
      "10    93798\n",
      "13    93682\n",
      "9     92722\n",
      "1     92291\n",
      "20    91680\n",
      "17    91672\n",
      "4     91591\n",
      "12    91523\n",
      "24    91504\n",
      "27    91312\n",
      "7     91263\n",
      "23    90779\n",
      "26    90024\n",
      "16    89142\n",
      "19    88608\n",
      "14    88460\n",
      "8     88375\n",
      "21    88324\n",
      "28    87555\n",
      "22    87379\n",
      "11    86975\n",
      "15    86659\n",
      "29    86234\n",
      "25    85630\n",
      "18    85266\n",
      "30    67176\n",
      "31    50431\n",
      "Name: count, dtype: int64\n",
      "\n",
      "missing values:  0\n",
      "\n",
      "datatype:  int64\n"
     ]
    }
   ],
   "source": [
    "show_unique_missing_dtype(df, 'DAY_OF_MONTH')"
   ]
  },
  {
   "cell_type": "markdown",
   "id": "3c5f5387",
   "metadata": {},
   "source": [
    "so we see that majority of flights take place on 3rd of each month and the least flights tak place on 31st. theres a very large decrease of flights on 30th and 31st. now the datatype is fine, there are no missing values, and they do give some meaning. so no need to remove column."
   ]
  },
  {
   "cell_type": "markdown",
   "id": "e7972066",
   "metadata": {},
   "source": [
    "## DAY_OF_WEEK"
   ]
  },
  {
   "cell_type": "code",
   "execution_count": 1184,
   "id": "e36624f5",
   "metadata": {},
   "outputs": [
    {
     "name": "stdout",
     "output_type": "stream",
     "text": [
      "DAY_OF_WEEK\n",
      "5    414777\n",
      "4    414462\n",
      "1    409181\n",
      "7    394434\n",
      "3    393629\n",
      "2    378649\n",
      "6    340715\n",
      "Name: count, dtype: int64\n",
      "\n",
      "missing values:  0\n",
      "\n",
      "datatype:  int64\n"
     ]
    }
   ],
   "source": [
    "show_unique_missing_dtype(df, 'DAY_OF_WEEK')"
   ]
  },
  {
   "cell_type": "markdown",
   "id": "ddf0c1da",
   "metadata": {},
   "source": [
    "so majority of flights flew at 5:Friday and least amount of flights on 6:Saturday. not a very large difference, but there is a difference. so it does give some analysis. there are no missing values. but this is not very understandable, especially the 1-7. so lets map it to actual days, but only the first three letters to save space."
   ]
  },
  {
   "cell_type": "code",
   "execution_count": 1185,
   "id": "9d793d0a",
   "metadata": {},
   "outputs": [],
   "source": [
    "# define the mapping\n",
    "num_to_day = {\n",
    "    1: \"Mon\",\n",
    "    2: \"Tue\",\n",
    "    3: \"Wed\",\n",
    "    4: \"Thu\",\n",
    "    5: \"Fri\",\n",
    "    6: \"Sat\",\n",
    "    7: \"Sun\"\n",
    "}\n",
    "\n",
    "# replace in your DataFrame (in-place)\n",
    "df['day_of_week_c'] = df['DAY_OF_WEEK'].map(num_to_day)"
   ]
  },
  {
   "cell_type": "code",
   "execution_count": 1186,
   "id": "b413accf",
   "metadata": {},
   "outputs": [],
   "source": [
    "# Get list of current columns\n",
    "cols = list(df.columns)\n",
    "\n",
    "# Move 'day_of_week_c' to be right after 'DAY_OF_WEEK'\n",
    "day_index = cols.index('DAY_OF_WEEK')\n",
    "cols.insert(day_index + 1, cols.pop(cols.index('day_of_week_c')))\n",
    "\n",
    "# Reorder DataFrame\n",
    "df = df[cols]"
   ]
  },
  {
   "cell_type": "markdown",
   "id": "d33c7d8c",
   "metadata": {},
   "source": [
    "change the datatype to string and recheck the unique values to verify that the mapping is done correctly"
   ]
  },
  {
   "cell_type": "code",
   "execution_count": 1187,
   "id": "951882a9",
   "metadata": {},
   "outputs": [
    {
     "name": "stdout",
     "output_type": "stream",
     "text": [
      "Column Name: 'day_of_week_c', Type: string\n"
     ]
    }
   ],
   "source": [
    "df = to_string(df, 'day_of_week_c')"
   ]
  },
  {
   "cell_type": "code",
   "execution_count": 1188,
   "id": "41f175a6",
   "metadata": {},
   "outputs": [
    {
     "name": "stdout",
     "output_type": "stream",
     "text": [
      "day_of_week_c\n",
      "Fri    414777\n",
      "Thu    414462\n",
      "Mon    409181\n",
      "Sun    394434\n",
      "Wed    393629\n",
      "Tue    378649\n",
      "Sat    340715\n",
      "Name: count, dtype: Int64\n",
      "\n",
      "missing values:  0\n",
      "\n",
      "datatype:  string\n"
     ]
    }
   ],
   "source": [
    "show_unique_missing_dtype(df, 'day_of_week_c')"
   ]
  },
  {
   "cell_type": "markdown",
   "id": "54dbb3b2",
   "metadata": {},
   "source": [
    "## FL_DATE"
   ]
  },
  {
   "cell_type": "code",
   "execution_count": 1189,
   "id": "674f5584",
   "metadata": {},
   "outputs": [
    {
     "name": "stdout",
     "output_type": "stream",
     "text": [
      "FL_DATE\n",
      "3/20/2020    23956\n",
      "3/19/2020    23936\n",
      "3/13/2020    23863\n",
      "3/16/2020    23832\n",
      "3/12/2020    23787\n",
      "             ...  \n",
      "5/16/2020     5371\n",
      "5/9/2020      5347\n",
      "5/5/2020      5288\n",
      "5/19/2020     5251\n",
      "5/12/2020     5232\n",
      "Name: count, Length: 182, dtype: int64\n",
      "\n",
      "missing values:  0\n",
      "\n",
      "datatype:  object\n"
     ]
    }
   ],
   "source": [
    "show_unique_missing_dtype(df, 'FL_DATE')"
   ]
  },
  {
   "cell_type": "markdown",
   "id": "c10caab5",
   "metadata": {},
   "source": [
    "so we see that the majority flights were on 20th March 2020. now convert the data to datatype `DATE`. no missing values. "
   ]
  },
  {
   "cell_type": "code",
   "execution_count": 1190,
   "id": "36a0d529",
   "metadata": {},
   "outputs": [
    {
     "name": "stdout",
     "output_type": "stream",
     "text": [
      "Column Name: 'FL_DATE', Type: datetime64[ns]\n"
     ]
    }
   ],
   "source": [
    "# convert FL_DATE from '3/20/2020' strings to actual dates\n",
    "df = to_date(df, 'FL_DATE', format='%m/%d/%Y')"
   ]
  },
  {
   "cell_type": "markdown",
   "id": "d1c45aea",
   "metadata": {},
   "source": [
    "lets rename the column to make it more clear, to `flight_date`"
   ]
  },
  {
   "cell_type": "code",
   "execution_count": 1191,
   "id": "fe14d2fa",
   "metadata": {},
   "outputs": [],
   "source": [
    "df.rename(columns={\n",
    "    'FL_DATE': 'FLIGHT_DATE'\n",
    "}, inplace=True)"
   ]
  },
  {
   "cell_type": "markdown",
   "id": "0a0024f2",
   "metadata": {},
   "source": [
    "## MKT_UNIQUE_CARRIER"
   ]
  },
  {
   "cell_type": "code",
   "execution_count": 1192,
   "id": "b117bb38",
   "metadata": {},
   "outputs": [
    {
     "name": "stdout",
     "output_type": "stream",
     "text": [
      "MKT_UNIQUE_CARRIER\n",
      "AA    735559\n",
      "DL    551432\n",
      "WN    531577\n",
      "UA    499418\n",
      "AS    145080\n",
      "B6     88908\n",
      "NK     65918\n",
      "G4     53160\n",
      "F9     47134\n",
      "HA     27661\n",
      "Name: count, dtype: int64\n",
      "\n",
      "missing values:  0\n",
      "\n",
      "datatype:  object\n"
     ]
    }
   ],
   "source": [
    "show_unique_missing_dtype(df, 'MKT_UNIQUE_CARRIER')"
   ]
  },
  {
   "cell_type": "markdown",
   "id": "f0c1a4f0",
   "metadata": {},
   "source": [
    "so we see that the `AA` carrier is most used whereas the `HA` carrier is least. no missing values. does give meaningful information. lets convert its `dtype` to `string`."
   ]
  },
  {
   "cell_type": "code",
   "execution_count": 1193,
   "id": "9e6ffa03",
   "metadata": {},
   "outputs": [
    {
     "name": "stdout",
     "output_type": "stream",
     "text": [
      "Column Name: 'MKT_UNIQUE_CARRIER', Type: string\n"
     ]
    }
   ],
   "source": [
    "df = to_string(df, 'MKT_UNIQUE_CARRIER')"
   ]
  },
  {
   "cell_type": "markdown",
   "id": "6671233a",
   "metadata": {},
   "source": [
    "lets make the name more meaningful - so this column is basically the airline that MARKETS you the ticket. the airline that flies you is the OPERATING CARRIER. so lets rename as `marketing_carrier_code`    \n",
    "- Marketing Carrier (MKT_UNIQUE_CARRIER): the airline that sells or markets the flight—i.e. whose flight number appears on your ticket.\n",
    "- Operating Carrier (OP_CARRIER): the airline that actually operates the flight (the plane and crew)."
   ]
  },
  {
   "cell_type": "code",
   "execution_count": 1194,
   "id": "56ca071d",
   "metadata": {},
   "outputs": [],
   "source": [
    "df.rename(columns={\n",
    "    'MKT_UNIQUE_CARRIER': 'MARKETING_CARRIER_CODE'\n",
    "}, inplace=True)"
   ]
  },
  {
   "cell_type": "markdown",
   "id": "aa100e35",
   "metadata": {},
   "source": [
    "## MKT_CARRIER_FL_NUM"
   ]
  },
  {
   "cell_type": "code",
   "execution_count": 1195,
   "id": "28d543bc",
   "metadata": {},
   "outputs": [
    {
     "name": "stdout",
     "output_type": "stream",
     "text": [
      "MKT_CARRIER_FL_NUM\n",
      "1095    1462\n",
      "64      1308\n",
      "403     1296\n",
      "478     1249\n",
      "65      1225\n",
      "        ... \n",
      "9372       1\n",
      "9373       1\n",
      "9370       1\n",
      "9400       1\n",
      "9888       1\n",
      "Name: count, Length: 7003, dtype: int64\n",
      "\n",
      "missing values:  0\n",
      "\n",
      "datatype:  int64\n"
     ]
    }
   ],
   "source": [
    "show_unique_missing_dtype(df, 'MKT_CARRIER_FL_NUM')"
   ]
  },
  {
   "cell_type": "markdown",
   "id": "f61064d2",
   "metadata": {},
   "source": [
    "so `MKT_CARRIER_FL_NUM` is the flight number. we see that flight number `1095` is flown the most. no missing values. datatype is fine. again, lets rename to something more menaingful and understandable"
   ]
  },
  {
   "cell_type": "code",
   "execution_count": 1196,
   "id": "d26e1f14",
   "metadata": {},
   "outputs": [],
   "source": [
    "df.rename(columns={\n",
    "    'MKT_CARRIER_FL_NUM': 'MARKETING_FLIGHT_NUMBER'\n",
    "}, inplace=True)"
   ]
  },
  {
   "cell_type": "markdown",
   "id": "083025a2",
   "metadata": {},
   "source": [
    "## TAIL_NUM"
   ]
  },
  {
   "cell_type": "code",
   "execution_count": 1197,
   "id": "a97ec03d",
   "metadata": {},
   "outputs": [
    {
     "name": "stdout",
     "output_type": "stream",
     "text": [
      "TAIL_NUM\n",
      "N494HA    1106\n",
      "N484HA    1102\n",
      "N804HC    1051\n",
      "N479HA    1032\n",
      "N475HA    1024\n",
      "          ... \n",
      "N843MH       1\n",
      "N785UA       1\n",
      "N626AS       1\n",
      "N227UA       1\n",
      "N866DA       1\n",
      "Name: count, Length: 6079, dtype: int64\n",
      "\n",
      "missing values:  162927\n",
      "\n",
      "datatype:  object\n"
     ]
    }
   ],
   "source": [
    "show_unique_missing_dtype(df, 'TAIL_NUM')"
   ]
  },
  {
   "cell_type": "markdown",
   "id": "e3792609",
   "metadata": {},
   "source": [
    "so `tail_num` is the Aircraft Tail Number. it usually starts with N. it has 160k missing values. first lets change its datatype to string."
   ]
  },
  {
   "cell_type": "code",
   "execution_count": 1198,
   "id": "de058fd7",
   "metadata": {},
   "outputs": [
    {
     "name": "stdout",
     "output_type": "stream",
     "text": [
      "Column Name: 'TAIL_NUM', Type: string\n"
     ]
    }
   ],
   "source": [
    "df = to_string(df, 'TAIL_NUM')"
   ]
  },
  {
   "cell_type": "markdown",
   "id": "d9dba505",
   "metadata": {},
   "source": [
    "now lets move to missing values. first we need to check if all those flights were cancelled"
   ]
  },
  {
   "cell_type": "code",
   "execution_count": 1199,
   "id": "3ff0e9d9",
   "metadata": {},
   "outputs": [
    {
     "data": {
      "text/plain": [
       "CANCELLED\n",
       "1    162925\n",
       "0         2\n",
       "Name: count, dtype: int64"
      ]
     },
     "execution_count": 1199,
     "metadata": {},
     "output_type": "execute_result"
    }
   ],
   "source": [
    "# 1. Filter to only the rows where TAIL_NUM is missing\n",
    "missing_tail = df[df['TAIL_NUM'].isna()]\n",
    "\n",
    "# 2. How many of those were cancelled?\n",
    "cancel_counts = missing_tail['CANCELLED'].value_counts(dropna=False)\n",
    "\n",
    "cancel_counts"
   ]
  },
  {
   "cell_type": "code",
   "execution_count": 1200,
   "id": "75618cef",
   "metadata": {},
   "outputs": [
    {
     "data": {
      "text/plain": [
       "CANCELLATION_CODE\n",
       "True     162925\n",
       "False         2\n",
       "Name: count, dtype: int64"
      ]
     },
     "execution_count": 1200,
     "metadata": {},
     "output_type": "execute_result"
    }
   ],
   "source": [
    "# Of the missing-tail flights, how many have a non-null CANCELLATION_CODE?\n",
    "missing_tail['CANCELLATION_CODE'].notna().value_counts()"
   ]
  },
  {
   "cell_type": "markdown",
   "id": "287a8b51",
   "metadata": {},
   "source": [
    "oh so only 2 rows were not cancelled but majority was. so a cancelled flight will obviously not have an aircraft. so lets fill those aircraft numbers with 'CANCELLED'"
   ]
  },
  {
   "cell_type": "code",
   "execution_count": 1201,
   "id": "878037cd",
   "metadata": {},
   "outputs": [],
   "source": [
    "# Mark all cancelled flights’ TAIL_NUM as “CANCELLED”\n",
    "df.loc[\n",
    "    (df['TAIL_NUM'].isna()) & (df['CANCELLED'] == 1),\n",
    "    'TAIL_NUM'\n",
    "] = 'CANCELLED'"
   ]
  },
  {
   "cell_type": "markdown",
   "id": "ed543a15",
   "metadata": {},
   "source": [
    "done. lets just check it"
   ]
  },
  {
   "cell_type": "code",
   "execution_count": 1202,
   "id": "b620d40e",
   "metadata": {},
   "outputs": [
    {
     "name": "stdout",
     "output_type": "stream",
     "text": [
      "TAIL_NUM\n",
      "CANCELLED    162925\n",
      "N494HA         1106\n",
      "N484HA         1102\n",
      "N804HC         1051\n",
      "N479HA         1032\n",
      "              ...  \n",
      "N508DN            1\n",
      "N864DA            1\n",
      "N562NK            1\n",
      "N733AR            1\n",
      "N866DA            1\n",
      "Name: count, Length: 6080, dtype: Int64\n",
      "\n",
      "missing values:  2\n",
      "\n",
      "datatype:  string\n"
     ]
    }
   ],
   "source": [
    "show_unique_missing_dtype(df, 'TAIL_NUM')"
   ]
  },
  {
   "cell_type": "markdown",
   "id": "34a4c086",
   "metadata": {},
   "source": [
    "ah so still 2 flights are left. so first lets extract them and see how they look, what other thing are missing, what they could be"
   ]
  },
  {
   "cell_type": "code",
   "execution_count": 1203,
   "id": "2368a5d0",
   "metadata": {},
   "outputs": [
    {
     "data": {
      "text/html": [
       "<div>\n",
       "<style scoped>\n",
       "    .dataframe tbody tr th:only-of-type {\n",
       "        vertical-align: middle;\n",
       "    }\n",
       "\n",
       "    .dataframe tbody tr th {\n",
       "        vertical-align: top;\n",
       "    }\n",
       "\n",
       "    .dataframe thead th {\n",
       "        text-align: right;\n",
       "    }\n",
       "</style>\n",
       "<table border=\"1\" class=\"dataframe\">\n",
       "  <thead>\n",
       "    <tr style=\"text-align: right;\">\n",
       "      <th></th>\n",
       "      <th>MONTH</th>\n",
       "      <th>DAY_OF_MONTH</th>\n",
       "      <th>DAY_OF_WEEK</th>\n",
       "      <th>day_of_week_c</th>\n",
       "      <th>FLIGHT_DATE</th>\n",
       "      <th>MARKETING_CARRIER_CODE</th>\n",
       "      <th>MARKETING_FLIGHT_NUMBER</th>\n",
       "      <th>TAIL_NUM</th>\n",
       "      <th>ORIGIN</th>\n",
       "      <th>ORIGIN_CITY_NAME</th>\n",
       "      <th>ORIGIN_STATE_ABR</th>\n",
       "      <th>ORIGIN_STATE_NM</th>\n",
       "      <th>DEST</th>\n",
       "      <th>DEST_CITY_NAME</th>\n",
       "      <th>DEST_STATE_ABR</th>\n",
       "      <th>DEST_STATE_NM</th>\n",
       "      <th>CRS_DEP_TIME</th>\n",
       "      <th>DEP_TIME</th>\n",
       "      <th>DEP_DELAY</th>\n",
       "      <th>DEP_DELAY_NEW</th>\n",
       "      <th>DEP_DEL15</th>\n",
       "      <th>DEP_DELAY_GROUP</th>\n",
       "      <th>DEP_TIME_BLK</th>\n",
       "      <th>TAXI_OUT</th>\n",
       "      <th>WHEELS_OFF</th>\n",
       "      <th>WHEELS_ON</th>\n",
       "      <th>TAXI_IN</th>\n",
       "      <th>CRS_ARR_TIME</th>\n",
       "      <th>ARR_TIME</th>\n",
       "      <th>ARR_DELAY</th>\n",
       "      <th>ARR_DELAY_NEW</th>\n",
       "      <th>ARR_DEL15</th>\n",
       "      <th>ARR_DELAY_GROUP</th>\n",
       "      <th>ARR_TIME_BLK</th>\n",
       "      <th>CANCELLED</th>\n",
       "      <th>CANCELLATION_CODE</th>\n",
       "      <th>CRS_ELAPSED_TIME</th>\n",
       "      <th>ACTUAL_ELAPSED_TIME</th>\n",
       "      <th>AIR_TIME</th>\n",
       "      <th>DISTANCE</th>\n",
       "      <th>DISTANCE_GROUP</th>\n",
       "      <th>CARRIER_DELAY</th>\n",
       "      <th>WEATHER_DELAY</th>\n",
       "      <th>NAS_DELAY</th>\n",
       "      <th>SECURITY_DELAY</th>\n",
       "      <th>LATE_AIRCRAFT_DELAY</th>\n",
       "    </tr>\n",
       "  </thead>\n",
       "  <tbody>\n",
       "    <tr>\n",
       "      <th>1353545</th>\n",
       "      <td>3</td>\n",
       "      <td>31</td>\n",
       "      <td>2</td>\n",
       "      <td>Tue</td>\n",
       "      <td>2020-03-31</td>\n",
       "      <td>G4</td>\n",
       "      <td>541</td>\n",
       "      <td>&lt;NA&gt;</td>\n",
       "      <td>FAR</td>\n",
       "      <td>Fargo, ND</td>\n",
       "      <td>ND</td>\n",
       "      <td>North Dakota</td>\n",
       "      <td>AZA</td>\n",
       "      <td>Phoenix, AZ</td>\n",
       "      <td>AZ</td>\n",
       "      <td>Arizona</td>\n",
       "      <td>1422</td>\n",
       "      <td>1422.0</td>\n",
       "      <td>0.0</td>\n",
       "      <td>0.0</td>\n",
       "      <td>0.0</td>\n",
       "      <td>0.0</td>\n",
       "      <td>1400-1459</td>\n",
       "      <td>7.0</td>\n",
       "      <td>1429.0</td>\n",
       "      <td>1621.0</td>\n",
       "      <td>6.0</td>\n",
       "      <td>1527</td>\n",
       "      <td>1627.0</td>\n",
       "      <td>NaN</td>\n",
       "      <td>NaN</td>\n",
       "      <td>NaN</td>\n",
       "      <td>NaN</td>\n",
       "      <td>1500-1559</td>\n",
       "      <td>0</td>\n",
       "      <td>NaN</td>\n",
       "      <td>185.0</td>\n",
       "      <td>NaN</td>\n",
       "      <td>NaN</td>\n",
       "      <td>1220</td>\n",
       "      <td>5</td>\n",
       "      <td>NaN</td>\n",
       "      <td>NaN</td>\n",
       "      <td>NaN</td>\n",
       "      <td>NaN</td>\n",
       "      <td>NaN</td>\n",
       "    </tr>\n",
       "    <tr>\n",
       "      <th>1881785</th>\n",
       "      <td>3</td>\n",
       "      <td>31</td>\n",
       "      <td>2</td>\n",
       "      <td>Tue</td>\n",
       "      <td>2020-03-31</td>\n",
       "      <td>G4</td>\n",
       "      <td>1819</td>\n",
       "      <td>&lt;NA&gt;</td>\n",
       "      <td>PGD</td>\n",
       "      <td>Punta Gorda, FL</td>\n",
       "      <td>FL</td>\n",
       "      <td>Florida</td>\n",
       "      <td>IND</td>\n",
       "      <td>Indianapolis, IN</td>\n",
       "      <td>IN</td>\n",
       "      <td>Indiana</td>\n",
       "      <td>1721</td>\n",
       "      <td>1720.0</td>\n",
       "      <td>-1.0</td>\n",
       "      <td>0.0</td>\n",
       "      <td>0.0</td>\n",
       "      <td>-1.0</td>\n",
       "      <td>1700-1759</td>\n",
       "      <td>12.0</td>\n",
       "      <td>1732.0</td>\n",
       "      <td>2030.0</td>\n",
       "      <td>5.0</td>\n",
       "      <td>1941</td>\n",
       "      <td>2035.0</td>\n",
       "      <td>NaN</td>\n",
       "      <td>NaN</td>\n",
       "      <td>NaN</td>\n",
       "      <td>NaN</td>\n",
       "      <td>1900-1959</td>\n",
       "      <td>0</td>\n",
       "      <td>NaN</td>\n",
       "      <td>140.0</td>\n",
       "      <td>NaN</td>\n",
       "      <td>NaN</td>\n",
       "      <td>916</td>\n",
       "      <td>4</td>\n",
       "      <td>NaN</td>\n",
       "      <td>NaN</td>\n",
       "      <td>NaN</td>\n",
       "      <td>NaN</td>\n",
       "      <td>NaN</td>\n",
       "    </tr>\n",
       "  </tbody>\n",
       "</table>\n",
       "</div>"
      ],
      "text/plain": [
       "         MONTH  DAY_OF_MONTH  DAY_OF_WEEK day_of_week_c FLIGHT_DATE  \\\n",
       "1353545      3            31            2           Tue  2020-03-31   \n",
       "1881785      3            31            2           Tue  2020-03-31   \n",
       "\n",
       "        MARKETING_CARRIER_CODE  MARKETING_FLIGHT_NUMBER TAIL_NUM ORIGIN  \\\n",
       "1353545                     G4                      541     <NA>    FAR   \n",
       "1881785                     G4                     1819     <NA>    PGD   \n",
       "\n",
       "        ORIGIN_CITY_NAME ORIGIN_STATE_ABR ORIGIN_STATE_NM DEST  \\\n",
       "1353545        Fargo, ND               ND    North Dakota  AZA   \n",
       "1881785  Punta Gorda, FL               FL         Florida  IND   \n",
       "\n",
       "           DEST_CITY_NAME DEST_STATE_ABR DEST_STATE_NM  CRS_DEP_TIME  \\\n",
       "1353545       Phoenix, AZ             AZ       Arizona          1422   \n",
       "1881785  Indianapolis, IN             IN       Indiana          1721   \n",
       "\n",
       "         DEP_TIME  DEP_DELAY  DEP_DELAY_NEW  DEP_DEL15  DEP_DELAY_GROUP  \\\n",
       "1353545    1422.0        0.0            0.0        0.0              0.0   \n",
       "1881785    1720.0       -1.0            0.0        0.0             -1.0   \n",
       "\n",
       "        DEP_TIME_BLK  TAXI_OUT  WHEELS_OFF  WHEELS_ON  TAXI_IN  CRS_ARR_TIME  \\\n",
       "1353545    1400-1459       7.0      1429.0     1621.0      6.0          1527   \n",
       "1881785    1700-1759      12.0      1732.0     2030.0      5.0          1941   \n",
       "\n",
       "         ARR_TIME  ARR_DELAY  ARR_DELAY_NEW  ARR_DEL15  ARR_DELAY_GROUP  \\\n",
       "1353545    1627.0        NaN            NaN        NaN              NaN   \n",
       "1881785    2035.0        NaN            NaN        NaN              NaN   \n",
       "\n",
       "        ARR_TIME_BLK  CANCELLED CANCELLATION_CODE  CRS_ELAPSED_TIME  \\\n",
       "1353545    1500-1559          0               NaN             185.0   \n",
       "1881785    1900-1959          0               NaN             140.0   \n",
       "\n",
       "         ACTUAL_ELAPSED_TIME  AIR_TIME  DISTANCE  DISTANCE_GROUP  \\\n",
       "1353545                  NaN       NaN      1220               5   \n",
       "1881785                  NaN       NaN       916               4   \n",
       "\n",
       "         CARRIER_DELAY  WEATHER_DELAY  NAS_DELAY  SECURITY_DELAY  \\\n",
       "1353545            NaN            NaN        NaN             NaN   \n",
       "1881785            NaN            NaN        NaN             NaN   \n",
       "\n",
       "         LATE_AIRCRAFT_DELAY  \n",
       "1353545                  NaN  \n",
       "1881785                  NaN  "
      ]
     },
     "execution_count": 1203,
     "metadata": {},
     "output_type": "execute_result"
    }
   ],
   "source": [
    "# get the two “non-cancelled but tail‐missing” flights\n",
    "problem = df[(df['TAIL_NUM'].isna())]\n",
    "problem"
   ]
  },
  {
   "cell_type": "markdown",
   "id": "fc6ab0c8",
   "metadata": {},
   "source": [
    "so they flew on the same day = 31st march 2020 - one at 2:22pm and one at 5:21pm. both were not cancelled, just their aircraft numbers were not noted. now they are real flights and just dropping them would loose data. so lets just keep them and fill their `tail_num` with UNKNOWN."
   ]
  },
  {
   "cell_type": "code",
   "execution_count": 1204,
   "id": "3959dde4",
   "metadata": {},
   "outputs": [],
   "source": [
    "df.loc[\n",
    "  (df['TAIL_NUM'].isna()) & (df['CANCELLED'] == 0),\n",
    "  'TAIL_NUM'\n",
    "] = 'UNKNOWN'"
   ]
  },
  {
   "cell_type": "markdown",
   "id": "1ecea7f1",
   "metadata": {},
   "source": [
    "and lets recheck"
   ]
  },
  {
   "cell_type": "code",
   "execution_count": 1205,
   "id": "6d261a19",
   "metadata": {},
   "outputs": [
    {
     "name": "stdout",
     "output_type": "stream",
     "text": [
      "TAIL_NUM\n",
      "CANCELLED    162925\n",
      "N494HA         1106\n",
      "N484HA         1102\n",
      "N804HC         1051\n",
      "N479HA         1032\n",
      "              ...  \n",
      "N857NW            1\n",
      "N733AR            1\n",
      "N795UA            1\n",
      "N77019            1\n",
      "N864DA            1\n",
      "Name: count, Length: 6081, dtype: Int64\n",
      "\n",
      "missing values:  0\n",
      "\n",
      "datatype:  string\n"
     ]
    }
   ],
   "source": [
    "show_unique_missing_dtype(df, 'TAIL_NUM')"
   ]
  },
  {
   "cell_type": "markdown",
   "id": "6154c3c4",
   "metadata": {},
   "source": [
    "lets also make its name easier to understand and interpret. so lets change its name to `aircraft_tail_number`"
   ]
  },
  {
   "cell_type": "code",
   "execution_count": 1206,
   "id": "98dffe6a",
   "metadata": {},
   "outputs": [],
   "source": [
    "df.rename(columns={\n",
    "    'TAIL_NUM': 'AIRCRAFT_TAIL_NUMBER'\n",
    "}, inplace=True)"
   ]
  },
  {
   "cell_type": "markdown",
   "id": "b7cbd46d",
   "metadata": {},
   "source": [
    "## ORIGIN"
   ]
  },
  {
   "cell_type": "code",
   "execution_count": 1207,
   "id": "0fb961d0",
   "metadata": {},
   "outputs": [
    {
     "name": "stdout",
     "output_type": "stream",
     "text": [
      "ORIGIN\n",
      "ATL    128166\n",
      "ORD    127858\n",
      "DFW    112065\n",
      "DEN    101678\n",
      "CLT     98762\n",
      "        ...  \n",
      "PPG        26\n",
      "CDB        26\n",
      "MVY        17\n",
      "UIN        10\n",
      "BKG         9\n",
      "Name: count, Length: 375, dtype: int64\n",
      "\n",
      "missing values:  0\n",
      "\n",
      "datatype:  object\n"
     ]
    }
   ],
   "source": [
    "show_unique_missing_dtype(df, 'ORIGIN')"
   ]
  },
  {
   "cell_type": "markdown",
   "id": "7b55b40f",
   "metadata": {},
   "source": [
    "so this is Flight Departure 3-Letter Airport Abbreviation. no missing values. we do get insights of the most flew-out of city and least flew-out city - data is meaningful. lets just change the datatype to string. "
   ]
  },
  {
   "cell_type": "code",
   "execution_count": 1208,
   "id": "469648cc",
   "metadata": {},
   "outputs": [
    {
     "name": "stdout",
     "output_type": "stream",
     "text": [
      "Column Name: 'ORIGIN', Type: string\n"
     ]
    }
   ],
   "source": [
    "df = to_string(df, 'ORIGIN')"
   ]
  },
  {
   "cell_type": "markdown",
   "id": "50f76bac",
   "metadata": {},
   "source": [
    "## ORIGIN_CITY_NAME"
   ]
  },
  {
   "cell_type": "code",
   "execution_count": 1209,
   "id": "1d3e8d14",
   "metadata": {},
   "outputs": [
    {
     "name": "stdout",
     "output_type": "stream",
     "text": [
      "ORIGIN_CITY_NAME\n",
      "Chicago, IL              159609\n",
      "Atlanta, GA              128166\n",
      "Dallas/Fort Worth, TX    112065\n",
      "Denver, CO               101678\n",
      "Charlotte, NC             98762\n",
      "                          ...  \n",
      "Cold Bay, AK                 26\n",
      "Pago Pago, TT                26\n",
      "Martha's Vineyard, MA        17\n",
      "Quincy, IL                   10\n",
      "Branson, MO                   9\n",
      "Name: count, Length: 368, dtype: int64\n",
      "\n",
      "missing values:  0\n",
      "\n",
      "datatype:  object\n"
     ]
    }
   ],
   "source": [
    "show_unique_missing_dtype(df, 'ORIGIN_CITY_NAME')"
   ]
  },
  {
   "cell_type": "markdown",
   "id": "2fb69199",
   "metadata": {},
   "source": [
    "before looking at the values, lets make the datatype as string"
   ]
  },
  {
   "cell_type": "code",
   "execution_count": 1210,
   "id": "a7cc319e",
   "metadata": {},
   "outputs": [
    {
     "name": "stdout",
     "output_type": "stream",
     "text": [
      "Column Name: 'ORIGIN_CITY_NAME', Type: string\n"
     ]
    }
   ],
   "source": [
    "df = to_string(df, 'ORIGIN_CITY_NAME')"
   ]
  },
  {
   "cell_type": "markdown",
   "id": "4a8dff72",
   "metadata": {},
   "source": [
    "so thats very weird. according to the previous `origin`, we see that \n",
    "- `Atlanta, GA` corresponds to `ATL`. \n",
    "- `Dallas/Fort Worth, TX` corresponds to `DFW`. \n",
    "- `Denver, CO` for `DEN`. \n",
    "- `Charlotte, NC` for `CLT`. \n",
    "- `Cold Bay, AK` for `CDB`. \n",
    "- `Pago Pago, TT` for `PPG`. \n",
    "- `Martha's Vineyard, MA` for `MVY`. \n",
    "- `Quincy, IL` for `UIN`. \n",
    "- `Branson, MO` for `BKG`.    \n",
    " \n",
    "BUT      \n",
    "`Chicago, IL` doesnt correspond to any. `ORD` does not correspond to any. which is fishy - data is inconsistent.   "
   ]
  },
  {
   "cell_type": "markdown",
   "id": "6b20e16e",
   "metadata": {},
   "source": [
    "so lets do this. lets get each unique value in `origin` and extract their rows. then lets extract all the `value_counts ()` and see if they have more than one unique value. if yes, lets see it, if not, ignore."
   ]
  },
  {
   "cell_type": "code",
   "execution_count": 1211,
   "id": "6a0d2f0b",
   "metadata": {},
   "outputs": [],
   "source": [
    "# # 1. How many unique ORIGIN values?\n",
    "# num_origins = df['ORIGIN'].nunique()\n",
    "# print(f\"Number of unique ORIGIN codes: {num_origins}\")\n",
    "\n",
    "# # 2. Iterate over each unique ORIGIN value\n",
    "# unique_col1 = df['ORIGIN'].unique()\n",
    "# count = 0\n",
    "# for col1_name in unique_col1:\n",
    "#     rows = df[df['ORIGIN'] == col1_name]\n",
    "#     num_uniques = rows['ORIGIN_CITY_NAME'].nunique()\n",
    "#     count+=1\n",
    "#     if num_uniques > 1:\n",
    "#         print(f\"Processing ORIGIN = {col1_name}\")\n",
    "#         print(rows['ORIGIN_CITY_NAME'].value_counts())\n",
    "#     if count % 20 == 0:\n",
    "#         print(\"processed\", count)"
   ]
  },
  {
   "cell_type": "markdown",
   "id": "e825d979",
   "metadata": {},
   "source": [
    "so basically we saw that all the `ORIGIN` map to one city. now lets do this: lets just explore the one we were fishy about - `ORIGIN = ORD`"
   ]
  },
  {
   "cell_type": "code",
   "execution_count": 1212,
   "id": "47349e43",
   "metadata": {},
   "outputs": [
    {
     "data": {
      "text/plain": [
       "ORIGIN_CITY_NAME\n",
       "Chicago, IL    127858\n",
       "Name: count, dtype: Int64"
      ]
     },
     "execution_count": 1212,
     "metadata": {},
     "output_type": "execute_result"
    }
   ],
   "source": [
    "rows = df[df['ORIGIN'] == 'ORD']\n",
    "rows['ORIGIN_CITY_NAME'].value_counts()"
   ]
  },
  {
   "cell_type": "markdown",
   "id": "01a2a115",
   "metadata": {},
   "source": [
    "so looks like `Chicago, IL` for `ORD` is fine. lets do the opposite now - for every `origin_city_name`, lets find its corresponding `origin` and extract all the >1 unique names. "
   ]
  },
  {
   "cell_type": "code",
   "execution_count": 1213,
   "id": "7f0a9857",
   "metadata": {},
   "outputs": [],
   "source": [
    "# # 1. How many unique ORIGIN_CITY_NAME values?\n",
    "# num_origins = df['ORIGIN_CITY_NAME'].nunique()\n",
    "# print(f\"Number of unique ORIGIN_CITY_NAME codes: {num_origins}\")\n",
    "\n",
    "# # 2. Iterate over each unique ORIGIN_CITY_NAME value\n",
    "# unique_col1 = df['ORIGIN_CITY_NAME'].unique()\n",
    "# count = 0\n",
    "# for col1_name in unique_col1:\n",
    "#     rows = df[df['ORIGIN_CITY_NAME'] == col1_name]\n",
    "#     num_uniques = rows['ORIGIN'].nunique()\n",
    "#     count+=1\n",
    "#     if num_uniques > 1:\n",
    "#         print(f\"Processing ORIGIN_CITY_NAME = {col1_name}\")\n",
    "#         print(rows['ORIGIN'].value_counts())\n",
    "#     if count % 20 == 0:\n",
    "#         print(\"----processed\", count)"
   ]
  },
  {
   "cell_type": "markdown",
   "id": "7d7646c1",
   "metadata": {},
   "source": [
    "so heres the tea. so after a little searching on internet (and chatGPT) multiple `origin` code does not mean data inconsistency, but it means that that city had more than one airport - as `origin` is the AIRPORT ABBREVIATION. not the CITY ABBREVIATION. so this is something to note. to make this more clearer, lets rename `origin` to something more meaningful like `origin_airport_code`"
   ]
  },
  {
   "cell_type": "code",
   "execution_count": 1214,
   "id": "d12fe96d",
   "metadata": {},
   "outputs": [],
   "source": [
    "df.rename(columns={'ORIGIN': 'ORIGIN_AIRPORT_CODE'}, inplace=True)"
   ]
  },
  {
   "cell_type": "markdown",
   "id": "e5594278",
   "metadata": {},
   "source": [
    "lets give it a final recheck because it was altered"
   ]
  },
  {
   "cell_type": "code",
   "execution_count": 1215,
   "id": "aa58bc31",
   "metadata": {},
   "outputs": [
    {
     "name": "stdout",
     "output_type": "stream",
     "text": [
      "ORIGIN_AIRPORT_CODE\n",
      "ATL    128166\n",
      "ORD    127858\n",
      "DFW    112065\n",
      "DEN    101678\n",
      "CLT     98762\n",
      "        ...  \n",
      "PPG        26\n",
      "CDB        26\n",
      "MVY        17\n",
      "UIN        10\n",
      "BKG         9\n",
      "Name: count, Length: 375, dtype: Int64\n",
      "\n",
      "missing values:  0\n",
      "\n",
      "datatype:  string\n"
     ]
    }
   ],
   "source": [
    "show_unique_missing_dtype(df, 'ORIGIN_AIRPORT_CODE' )"
   ]
  },
  {
   "cell_type": "markdown",
   "id": "0e25e13b",
   "metadata": {},
   "source": [
    "## ORIGIN_STATE_ABR"
   ]
  },
  {
   "cell_type": "code",
   "execution_count": 1216,
   "id": "810bc043",
   "metadata": {},
   "outputs": [
    {
     "name": "stdout",
     "output_type": "stream",
     "text": [
      "ORIGIN_STATE_ABR\n",
      "TX    287693\n",
      "CA    284941\n",
      "FL    227389\n",
      "IL    168105\n",
      "GA    137830\n",
      "NC    137163\n",
      "NY    120614\n",
      "CO    116040\n",
      "VA    103216\n",
      "WA     79706\n",
      "AZ     79653\n",
      "PA     79450\n",
      "MI     74629\n",
      "NV     69339\n",
      "MN     53996\n",
      "TN     51261\n",
      "MO     51210\n",
      "NJ     47738\n",
      "MA     47560\n",
      "UT     46158\n",
      "OH     41282\n",
      "HI     40572\n",
      "MD     38523\n",
      "OR     36189\n",
      "KY     30419\n",
      "LA     29627\n",
      "IN     25301\n",
      "WI     24849\n",
      "SC     23906\n",
      "OK     15930\n",
      "AL     15140\n",
      "AK     13447\n",
      "NE     12379\n",
      "ID     12060\n",
      "AR     11808\n",
      "IA     11614\n",
      "MT     10894\n",
      "NM     10869\n",
      "PR     10706\n",
      "CT     10217\n",
      "ND      7961\n",
      "KS      6576\n",
      "RI      6279\n",
      "ME      6199\n",
      "SD      6127\n",
      "MS      5832\n",
      "WY      4312\n",
      "NH      4032\n",
      "VT      3541\n",
      "WV      3040\n",
      "VI      2012\n",
      "TT       513\n",
      "Name: count, dtype: int64\n",
      "\n",
      "missing values:  0\n",
      "\n",
      "datatype:  object\n"
     ]
    }
   ],
   "source": [
    "show_unique_missing_dtype(df, 'ORIGIN_STATE_ABR')"
   ]
  },
  {
   "cell_type": "markdown",
   "id": "69a3ccea",
   "metadata": {},
   "source": [
    "so first off, lets change the datatype to string"
   ]
  },
  {
   "cell_type": "code",
   "execution_count": 1217,
   "id": "840ab759",
   "metadata": {},
   "outputs": [
    {
     "name": "stdout",
     "output_type": "stream",
     "text": [
      "Column Name: 'ORIGIN_STATE_ABR', Type: string\n"
     ]
    }
   ],
   "source": [
    "df = to_string(df, 'ORIGIN_STATE_ABR')"
   ]
  },
  {
   "cell_type": "markdown",
   "id": "9318400d",
   "metadata": {},
   "source": [
    "so no missing values. this is a good thing. so this column basically tells us the Flight Departure 2-Letter State Abbreviation. So we can use this column to get the state of the flight departure. this is meaningful, we will keep it, but lets rename the column to something more meaningful like `origin_state_code`"
   ]
  },
  {
   "cell_type": "code",
   "execution_count": 1218,
   "id": "e485cbc6",
   "metadata": {},
   "outputs": [],
   "source": [
    "df.rename(columns={\n",
    "    'ORIGIN_STATE_ABR': 'ORIGIN_STATE_CODE'\n",
    "}, inplace=True)"
   ]
  },
  {
   "cell_type": "markdown",
   "id": "0f338e43",
   "metadata": {},
   "source": [
    "## ORIGIN_STATE_NM"
   ]
  },
  {
   "cell_type": "code",
   "execution_count": 1219,
   "id": "bb76d094",
   "metadata": {},
   "outputs": [
    {
     "name": "stdout",
     "output_type": "stream",
     "text": [
      "ORIGIN_STATE_NM\n",
      "Texas                                             287693\n",
      "California                                        284941\n",
      "Florida                                           227389\n",
      "Illinois                                          168105\n",
      "Georgia                                           137830\n",
      "North Carolina                                    137163\n",
      "New York                                          120614\n",
      "Colorado                                          116040\n",
      "Virginia                                          103216\n",
      "Washington                                         79706\n",
      "Arizona                                            79653\n",
      "Pennsylvania                                       79450\n",
      "Michigan                                           74629\n",
      "Nevada                                             69339\n",
      "Minnesota                                          53996\n",
      "Tennessee                                          51261\n",
      "Missouri                                           51210\n",
      "New Jersey                                         47738\n",
      "Massachusetts                                      47560\n",
      "Utah                                               46158\n",
      "Ohio                                               41282\n",
      "Hawaii                                             40572\n",
      "Maryland                                           38523\n",
      "Oregon                                             36189\n",
      "Kentucky                                           30419\n",
      "Louisiana                                          29627\n",
      "Indiana                                            25301\n",
      "Wisconsin                                          24849\n",
      "South Carolina                                     23906\n",
      "Oklahoma                                           15930\n",
      "Alabama                                            15140\n",
      "Alaska                                             13447\n",
      "Nebraska                                           12379\n",
      "Idaho                                              12060\n",
      "Arkansas                                           11808\n",
      "Iowa                                               11614\n",
      "Montana                                            10894\n",
      "New Mexico                                         10869\n",
      "Puerto Rico                                        10706\n",
      "Connecticut                                        10217\n",
      "North Dakota                                        7961\n",
      "Kansas                                              6576\n",
      "Rhode Island                                        6279\n",
      "Maine                                               6199\n",
      "South Dakota                                        6127\n",
      "Mississippi                                         5832\n",
      "Wyoming                                             4312\n",
      "New Hampshire                                       4032\n",
      "Vermont                                             3541\n",
      "West Virginia                                       3040\n",
      "U.S. Virgin Islands                                 2012\n",
      "U.S. Pacific Trust Territories and Possessions       513\n",
      "Name: count, dtype: int64\n",
      "\n",
      "missing values:  0\n",
      "\n",
      "datatype:  object\n"
     ]
    }
   ],
   "source": [
    "show_unique_missing_dtype(df, 'ORIGIN_STATE_NM')"
   ]
  },
  {
   "cell_type": "markdown",
   "id": "1bf9985f",
   "metadata": {},
   "source": [
    "so lets change its datatype to string"
   ]
  },
  {
   "cell_type": "code",
   "execution_count": 1220,
   "id": "12ebed08",
   "metadata": {},
   "outputs": [
    {
     "name": "stdout",
     "output_type": "stream",
     "text": [
      "Column Name: 'ORIGIN_STATE_NM', Type: string\n"
     ]
    }
   ],
   "source": [
    "df = to_string(df, 'ORIGIN_STATE_NM')"
   ]
  },
  {
   "cell_type": "markdown",
   "id": "16213b58",
   "metadata": {},
   "source": [
    "so no missing values. this is the same as the last column however this is full name. lets check does it map 1 to 1? we need to check for any inconsistencies because last time we found the differenc in airport codes and city names. "
   ]
  },
  {
   "cell_type": "code",
   "execution_count": 1221,
   "id": "e596335c",
   "metadata": {},
   "outputs": [
    {
     "name": "stdout",
     "output_type": "stream",
     "text": [
      "Number of unique ORIGIN_STATE_CODE codes: {num_origins}\n",
      "processed 20\n",
      "processed 40\n"
     ]
    }
   ],
   "source": [
    "column1 = 'ORIGIN_STATE_CODE'\n",
    "column2 = 'ORIGIN_STATE_NM'\n",
    "\n",
    "# 1. How many unique column1 values?\n",
    "num_origins = df[column1].nunique()\n",
    "print(f\"Number of unique\", column1, \"codes: {num_origins}\")\n",
    "\n",
    "# 2. Iterate over each unique column1 value\n",
    "unique_col1 = df[column1].unique()\n",
    "count = 0\n",
    "for col1_name in unique_col1:\n",
    "    rows = df[df[column1] == col1_name]\n",
    "    num_uniques = rows[column2].nunique()\n",
    "    count+=1\n",
    "    if num_uniques > 1:\n",
    "        print(f\"Processing \", column1, \" = {col1_name}\")\n",
    "        print(rows[column2].value_counts())\n",
    "    if count % 20 == 0:\n",
    "        print(\"processed\", count)"
   ]
  },
  {
   "cell_type": "code",
   "execution_count": 1222,
   "id": "82e15722",
   "metadata": {},
   "outputs": [
    {
     "name": "stdout",
     "output_type": "stream",
     "text": [
      "Number of unique ORIGIN_STATE_NM codes: {num_origins}\n",
      "processed 20\n",
      "processed 40\n"
     ]
    }
   ],
   "source": [
    "column1 = 'ORIGIN_STATE_NM'\n",
    "column2 = 'ORIGIN_STATE_CODE'\n",
    "\n",
    "# 1. How many unique column1 values?\n",
    "num_origins = df[column1].nunique()\n",
    "print(f\"Number of unique\", column1, \"codes: {num_origins}\")\n",
    "\n",
    "# 2. Iterate over each unique column1 value\n",
    "unique_col1 = df[column1].unique()\n",
    "count = 0\n",
    "for col1_name in unique_col1:\n",
    "    rows = df[df[column1] == col1_name]\n",
    "    num_uniques = rows[column2].nunique()\n",
    "    count+=1\n",
    "    if num_uniques > 1:\n",
    "        print(f\"Processing \", column1, \" = {col1_name}\")\n",
    "        print(rows[column2].value_counts())\n",
    "    if count % 20 == 0:\n",
    "        print(\"processed\", count)"
   ]
  },
  {
   "cell_type": "markdown",
   "id": "c139679c",
   "metadata": {},
   "source": [
    "so looks like all the data is consistent and maps to the same one. This is a good thing. lets just rename the column to something more meaningful"
   ]
  },
  {
   "cell_type": "code",
   "execution_count": 1223,
   "id": "aa3f32be",
   "metadata": {},
   "outputs": [],
   "source": [
    "df.rename(columns={\n",
    "    'ORIGIN_STATE_NM': 'ORIGIN_STATE_NAME'\n",
    "}, inplace=True)"
   ]
  },
  {
   "cell_type": "markdown",
   "id": "395e1dff",
   "metadata": {},
   "source": [
    "## DEST"
   ]
  },
  {
   "cell_type": "code",
   "execution_count": 1224,
   "id": "0ea36867",
   "metadata": {},
   "outputs": [
    {
     "name": "stdout",
     "output_type": "stream",
     "text": [
      "DEST\n",
      "ATL    128263\n",
      "ORD    127904\n",
      "DFW    112018\n",
      "DEN    101737\n",
      "CLT     98727\n",
      "        ...  \n",
      "CDB        26\n",
      "PPG        26\n",
      "MVY        17\n",
      "BKG         9\n",
      "UIN         9\n",
      "Name: count, Length: 375, dtype: int64\n",
      "\n",
      "missing values:  0\n",
      "\n",
      "datatype:  object\n"
     ]
    }
   ],
   "source": [
    "show_unique_missing_dtype(df, 'DEST')"
   ]
  },
  {
   "cell_type": "markdown",
   "id": "6c933939",
   "metadata": {},
   "source": [
    "so this is again AIRPORT CODES and not CITY CODES. lets rename this to `DEST_AIRPORT_CODE` "
   ]
  },
  {
   "cell_type": "code",
   "execution_count": 1225,
   "id": "c255d6d4",
   "metadata": {},
   "outputs": [],
   "source": [
    "df.rename(columns={\n",
    "    'DEST': 'DEST_AIRPORT_CODE'\n",
    "}, inplace=True)"
   ]
  },
  {
   "cell_type": "markdown",
   "id": "42bb1712",
   "metadata": {},
   "source": [
    "and now lets change the datatype to string"
   ]
  },
  {
   "cell_type": "code",
   "execution_count": 1226,
   "id": "c4b74801",
   "metadata": {},
   "outputs": [
    {
     "name": "stdout",
     "output_type": "stream",
     "text": [
      "Column Name: 'DEST_AIRPORT_CODE', Type: string\n"
     ]
    }
   ],
   "source": [
    "df = to_string(df, 'DEST_AIRPORT_CODE')"
   ]
  },
  {
   "cell_type": "markdown",
   "id": "92d1347c",
   "metadata": {},
   "source": [
    "## DEST_CITY_NAME"
   ]
  },
  {
   "cell_type": "code",
   "execution_count": 1227,
   "id": "8354f63a",
   "metadata": {},
   "outputs": [
    {
     "name": "stdout",
     "output_type": "stream",
     "text": [
      "DEST_CITY_NAME\n",
      "Chicago, IL              159653\n",
      "Atlanta, GA              128263\n",
      "Dallas/Fort Worth, TX    112018\n",
      "Denver, CO               101737\n",
      "Charlotte, NC             98727\n",
      "                          ...  \n",
      "Pago Pago, TT                26\n",
      "Cold Bay, AK                 26\n",
      "Martha's Vineyard, MA        17\n",
      "Quincy, IL                    9\n",
      "Branson, MO                   9\n",
      "Name: count, Length: 368, dtype: int64\n",
      "\n",
      "missing values:  0\n",
      "\n",
      "datatype:  object\n"
     ]
    }
   ],
   "source": [
    "show_unique_missing_dtype(df, 'DEST_CITY_NAME')"
   ]
  },
  {
   "cell_type": "markdown",
   "id": "19e04982",
   "metadata": {},
   "source": [
    "so no missing values. the data is same as we discussed for origin, this is destination city name. so name is menaingful and changing is not needed. so lets change datatype to string"
   ]
  },
  {
   "cell_type": "code",
   "execution_count": 1228,
   "id": "c25445e0",
   "metadata": {},
   "outputs": [
    {
     "name": "stdout",
     "output_type": "stream",
     "text": [
      "Column Name: 'DEST_CITY_NAME', Type: string\n"
     ]
    }
   ],
   "source": [
    "df = to_string(df, 'DEST_CITY_NAME')"
   ]
  },
  {
   "cell_type": "markdown",
   "id": "f69e148c",
   "metadata": {},
   "source": [
    "## DEST_STATE_ABR"
   ]
  },
  {
   "cell_type": "code",
   "execution_count": 1229,
   "id": "4f429594",
   "metadata": {},
   "outputs": [
    {
     "name": "stdout",
     "output_type": "stream",
     "text": [
      "DEST_STATE_ABR\n",
      "TX    287645\n",
      "CA    285003\n",
      "FL    227236\n",
      "IL    168148\n",
      "GA    137917\n",
      "NC    137123\n",
      "NY    120619\n",
      "CO    116071\n",
      "VA    103214\n",
      "WA     79713\n",
      "AZ     79629\n",
      "PA     79440\n",
      "MI     74676\n",
      "NV     69322\n",
      "MN     54017\n",
      "TN     51258\n",
      "MO     51207\n",
      "NJ     47806\n",
      "MA     47589\n",
      "UT     46217\n",
      "OH     41279\n",
      "HI     40550\n",
      "MD     38502\n",
      "OR     36184\n",
      "KY     30420\n",
      "LA     29637\n",
      "IN     25281\n",
      "WI     24836\n",
      "SC     23906\n",
      "OK     15929\n",
      "AL     15147\n",
      "AK     13450\n",
      "NE     12381\n",
      "ID     11985\n",
      "AR     11824\n",
      "IA     11614\n",
      "MT     10879\n",
      "NM     10869\n",
      "PR     10680\n",
      "CT     10213\n",
      "ND      7957\n",
      "KS      6584\n",
      "RI      6280\n",
      "ME      6201\n",
      "SD      6134\n",
      "MS      5830\n",
      "WY      4307\n",
      "NH      4032\n",
      "VT      3543\n",
      "WV      3038\n",
      "VI      2013\n",
      "TT       512\n",
      "Name: count, dtype: int64\n",
      "\n",
      "missing values:  0\n",
      "\n",
      "datatype:  object\n"
     ]
    }
   ],
   "source": [
    "show_unique_missing_dtype(df, 'DEST_STATE_ABR')"
   ]
  },
  {
   "cell_type": "markdown",
   "id": "04f0eff2",
   "metadata": {},
   "source": [
    "so this is fine. no missing values. lets change the datatype to string"
   ]
  },
  {
   "cell_type": "code",
   "execution_count": 1230,
   "id": "7bee061c",
   "metadata": {},
   "outputs": [
    {
     "name": "stdout",
     "output_type": "stream",
     "text": [
      "Column Name: 'DEST_STATE_ABR', Type: string\n"
     ]
    }
   ],
   "source": [
    "df = to_string(df, 'DEST_STATE_ABR')"
   ]
  },
  {
   "cell_type": "markdown",
   "id": "6c13650d",
   "metadata": {},
   "source": [
    "lets rename the column in the same way for origin so that its consistent"
   ]
  },
  {
   "cell_type": "code",
   "execution_count": 1231,
   "id": "a507db8a",
   "metadata": {},
   "outputs": [],
   "source": [
    "df.rename(columns={\n",
    "    'DEST_STATE_ABR': 'DEST_STATE_CODE'\n",
    "}, inplace=True)"
   ]
  },
  {
   "cell_type": "markdown",
   "id": "a018fec6",
   "metadata": {},
   "source": [
    "## DEST_STATE_NM "
   ]
  },
  {
   "cell_type": "code",
   "execution_count": 1232,
   "id": "2f7572f9",
   "metadata": {},
   "outputs": [
    {
     "name": "stdout",
     "output_type": "stream",
     "text": [
      "DEST_STATE_NM\n",
      "Texas                                             287645\n",
      "California                                        285003\n",
      "Florida                                           227236\n",
      "Illinois                                          168148\n",
      "Georgia                                           137917\n",
      "North Carolina                                    137123\n",
      "New York                                          120619\n",
      "Colorado                                          116071\n",
      "Virginia                                          103214\n",
      "Washington                                         79713\n",
      "Arizona                                            79629\n",
      "Pennsylvania                                       79440\n",
      "Michigan                                           74676\n",
      "Nevada                                             69322\n",
      "Minnesota                                          54017\n",
      "Tennessee                                          51258\n",
      "Missouri                                           51207\n",
      "New Jersey                                         47806\n",
      "Massachusetts                                      47589\n",
      "Utah                                               46217\n",
      "Ohio                                               41279\n",
      "Hawaii                                             40550\n",
      "Maryland                                           38502\n",
      "Oregon                                             36184\n",
      "Kentucky                                           30420\n",
      "Louisiana                                          29637\n",
      "Indiana                                            25281\n",
      "Wisconsin                                          24836\n",
      "South Carolina                                     23906\n",
      "Oklahoma                                           15929\n",
      "Alabama                                            15147\n",
      "Alaska                                             13450\n",
      "Nebraska                                           12381\n",
      "Idaho                                              11985\n",
      "Arkansas                                           11824\n",
      "Iowa                                               11614\n",
      "Montana                                            10879\n",
      "New Mexico                                         10869\n",
      "Puerto Rico                                        10680\n",
      "Connecticut                                        10213\n",
      "North Dakota                                        7957\n",
      "Kansas                                              6584\n",
      "Rhode Island                                        6280\n",
      "Maine                                               6201\n",
      "South Dakota                                        6134\n",
      "Mississippi                                         5830\n",
      "Wyoming                                             4307\n",
      "New Hampshire                                       4032\n",
      "Vermont                                             3543\n",
      "West Virginia                                       3038\n",
      "U.S. Virgin Islands                                 2013\n",
      "U.S. Pacific Trust Territories and Possessions       512\n",
      "Name: count, dtype: int64\n",
      "\n",
      "missing values:  0\n",
      "\n",
      "datatype:  object\n"
     ]
    }
   ],
   "source": [
    "show_unique_missing_dtype(df, 'DEST_STATE_NM')"
   ]
  },
  {
   "cell_type": "markdown",
   "id": "2b007277",
   "metadata": {},
   "source": [
    "so no missing values. lets change datatype and rename the same way as origin"
   ]
  },
  {
   "cell_type": "code",
   "execution_count": 1233,
   "id": "20f7ada7",
   "metadata": {},
   "outputs": [
    {
     "name": "stdout",
     "output_type": "stream",
     "text": [
      "Column Name: 'DEST_STATE_NM', Type: string\n"
     ]
    }
   ],
   "source": [
    "df = to_string(df, 'DEST_STATE_NM')"
   ]
  },
  {
   "cell_type": "code",
   "execution_count": 1234,
   "id": "f76f3c63",
   "metadata": {},
   "outputs": [],
   "source": [
    "df.rename(columns={\n",
    "    'DEST_STATE_NM': 'DEST_STATE_NAME'\n",
    "}, inplace=True)"
   ]
  },
  {
   "cell_type": "markdown",
   "id": "21d1f976",
   "metadata": {},
   "source": [
    "## CRS_DEP_TIME"
   ]
  },
  {
   "cell_type": "code",
   "execution_count": 1235,
   "id": "814d70e4",
   "metadata": {},
   "outputs": [
    {
     "name": "stdout",
     "output_type": "stream",
     "text": [
      "CRS_DEP_TIME\n",
      "600    54560\n",
      "700    48071\n",
      "800    29759\n",
      "900    19845\n",
      "830    19290\n",
      "       ...  \n",
      "452        1\n",
      "332        1\n",
      "146        1\n",
      "137        1\n",
      "357        1\n",
      "Name: count, Length: 1310, dtype: int64\n",
      "\n",
      "missing values:  0\n",
      "\n",
      "datatype:  int64\n"
     ]
    }
   ],
   "source": [
    "show_unique_missing_dtype(df, 'CRS_DEP_TIME')"
   ]
  },
  {
   "cell_type": "markdown",
   "id": "1088f95f",
   "metadata": {},
   "source": [
    "so no missing values. this is the SCHEDULED DEP TIME. majority flights happen at 6am and at whole numbers like 6am, 7am, 8am etc. but this is not very interpretable, we cannot make any understanding from this. but what is more interpretable is that we get the HOURS of departure. i.e. 4:52 means 4. 1:46 means 1. etc. i want to be able to interpret what is the most hour of departure flights? same for arrival."
   ]
  },
  {
   "cell_type": "code",
   "execution_count": 1236,
   "id": "78cebde7",
   "metadata": {},
   "outputs": [],
   "source": [
    "def extract_hour(df: pd.DataFrame, time_col: str, hour_col: str) -> pd.DataFrame:\n",
    "    \"\"\"\n",
    "    Given a DataFrame and a column like 'CRS_DEP_TIME' or 'CRS_ARR_TIME' \n",
    "    in HMM or HHMM integer form, creates a new column with just the hour.\n",
    "\n",
    "    Examples:\n",
    "      3    → 0   (00:03)\n",
    "      614  → 6   (06:14)\n",
    "      2300 → 23  (23:00)\n",
    "    \"\"\"\n",
    "    # ensure numeric, coerce errors to NaN\n",
    "    times = pd.to_numeric(df[time_col], errors='coerce').fillna(0).astype(int)\n",
    "    \n",
    "    # integer-divide by 100 to get the hour bucket\n",
    "    df[hour_col] = times // 100\n",
    "    \n",
    "    # Get list of current columns\n",
    "    cols = list(df.columns)\n",
    "\n",
    "    # Move hour_col to be right after time_col\n",
    "    day_index = cols.index(time_col)\n",
    "    cols.insert(day_index + 1, cols.pop(cols.index(hour_col)))\n",
    "    \n",
    "    # Reorder DataFrame\n",
    "    df = df[cols]\n",
    "    \n",
    "    return df"
   ]
  },
  {
   "cell_type": "markdown",
   "id": "105296e6",
   "metadata": {},
   "source": [
    "so lets make a new column which extracts the times"
   ]
  },
  {
   "cell_type": "code",
   "execution_count": 1237,
   "id": "55336c05",
   "metadata": {},
   "outputs": [],
   "source": [
    "df = extract_hour(df, 'CRS_DEP_TIME', 'CRS_DEP_HOUR')"
   ]
  },
  {
   "cell_type": "markdown",
   "id": "f0a5d04d",
   "metadata": {},
   "source": [
    "lets review its statistics and recheck"
   ]
  },
  {
   "cell_type": "code",
   "execution_count": 1238,
   "id": "06aeb1f2",
   "metadata": {},
   "outputs": [
    {
     "name": "stdout",
     "output_type": "stream",
     "text": [
      "CRS_DEP_HOUR\n",
      "7     188892\n",
      "17    185129\n",
      "6     184951\n",
      "8     183788\n",
      "11    176881\n",
      "9     173659\n",
      "12    172998\n",
      "15    170027\n",
      "10    167429\n",
      "13    164308\n",
      "14    163822\n",
      "16    163611\n",
      "18    162903\n",
      "19    145134\n",
      "20    128942\n",
      "21     73945\n",
      "5      58407\n",
      "22     57798\n",
      "23     15267\n",
      "0       4235\n",
      "1       2260\n",
      "2        671\n",
      "3        509\n",
      "4        281\n",
      "Name: count, dtype: int64\n",
      "\n",
      "missing values:  0\n",
      "\n",
      "datatype:  int32\n"
     ]
    }
   ],
   "source": [
    "show_unique_missing_dtype(df, 'CRS_DEP_HOUR')"
   ]
  },
  {
   "cell_type": "markdown",
   "id": "f4de24e1",
   "metadata": {},
   "source": [
    "after this, we can even make a DAY/NIGHT column in `DAX`. right now its not necessary. now lets rename both column names to make it more understandable."
   ]
  },
  {
   "cell_type": "code",
   "execution_count": 1239,
   "id": "e94fb31a",
   "metadata": {},
   "outputs": [],
   "source": [
    "df.rename(columns={\n",
    "    'CRS_DEP_TIME': 'SCHEDULED_DEP_TIME',\n",
    "    'CRS_DEP_HOUR': 'SCHEDULED_DEP_HOUR'\n",
    "}, inplace=True)"
   ]
  },
  {
   "cell_type": "markdown",
   "id": "bdedbc51",
   "metadata": {},
   "source": [
    "## DEP_TIME"
   ]
  },
  {
   "cell_type": "code",
   "execution_count": 1240,
   "id": "aeab2288",
   "metadata": {},
   "outputs": [
    {
     "name": "stdout",
     "output_type": "stream",
     "text": [
      "DEP_TIME\n",
      "555.0    6360\n",
      "655.0    5925\n",
      "554.0    5466\n",
      "556.0    5420\n",
      "656.0    5411\n",
      "         ... \n",
      "430.0       3\n",
      "411.0       3\n",
      "313.0       3\n",
      "326.0       3\n",
      "407.0       2\n",
      "Name: count, Length: 1440, dtype: int64\n",
      "\n",
      "missing values:  281937\n",
      "\n",
      "datatype:  float64\n"
     ]
    }
   ],
   "source": [
    "show_unique_missing_dtype(df, 'DEP_TIME')"
   ]
  },
  {
   "cell_type": "markdown",
   "id": "6aba77f1",
   "metadata": {},
   "source": [
    "so there are missing values in the data. lets deal with these in a bit. first lets deal with datatype - why is it float ? lets check if all values are whole floats so that we can easily convert to int?"
   ]
  },
  {
   "cell_type": "code",
   "execution_count": 1241,
   "id": "5dde3e2e",
   "metadata": {},
   "outputs": [
    {
     "name": "stdout",
     "output_type": "stream",
     "text": [
      "All non-missing  DEP_TIME  values are integers? {is_every_int}\n"
     ]
    }
   ],
   "source": [
    "def check_if_int(df, col):\n",
    "    # 1. Check for non-null values that aren’t whole numbers\n",
    "    #    This will be False if any x has a fractional part.\n",
    "    is_every_int = (df[col]\n",
    "                    .dropna()              # ignore NaNs\n",
    "                    .mod(1)                # x % 1\n",
    "                    .eq(0)                 # check == 0\n",
    "                    .all()                 # all True?\n",
    "                )\n",
    "\n",
    "    print(f\"All non-missing \", col, \" values are integers? {is_every_int}\")\n",
    "    return is_every_int\n",
    "\n",
    "is_every_int = check_if_int(df, 'DEP_TIME')"
   ]
  },
  {
   "cell_type": "markdown",
   "id": "fb809a00",
   "metadata": {},
   "source": [
    "ah so they are whole decimals. lets convert datatype to integer"
   ]
  },
  {
   "cell_type": "code",
   "execution_count": 1242,
   "id": "512844cc",
   "metadata": {},
   "outputs": [
    {
     "name": "stdout",
     "output_type": "stream",
     "text": [
      "converted successfully\n"
     ]
    }
   ],
   "source": [
    "def convert_int(is_every_int, df, col):\n",
    "    # 2. If True, convert to an integer dtype.\n",
    "    if is_every_int:\n",
    "        if df[col].isna().sum() > 0:\n",
    "            # If you still have NaNs, use the pandas nullable Int64 dtype:\n",
    "            df[col] = df[col].astype('Int64')\n",
    "        else:\n",
    "            # Otherwise, for no-missing data, you can do:\n",
    "            df[col] = df[col].astype('Int64')\n",
    "        print(\"converted successfully\")\n",
    "    else:\n",
    "        print(\"Warning: some \", col, \" values have fractional parts—inspect those before casting.\")\n",
    "    return df\n",
    "\n",
    "df = convert_int(is_every_int, df, 'DEP_TIME')"
   ]
  },
  {
   "cell_type": "code",
   "execution_count": 1243,
   "id": "81885012",
   "metadata": {},
   "outputs": [],
   "source": [
    "def convert_to_int(df, column):\n",
    "    int = check_if_int(df, column)\n",
    "    df = convert_int(int, df, column)\n",
    "    return df"
   ]
  },
  {
   "cell_type": "markdown",
   "id": "2f950089",
   "metadata": {},
   "source": [
    "now lets revisit its statistics"
   ]
  },
  {
   "cell_type": "code",
   "execution_count": 1244,
   "id": "476d7d7f",
   "metadata": {},
   "outputs": [
    {
     "name": "stdout",
     "output_type": "stream",
     "text": [
      "DEP_TIME\n",
      "555    6360\n",
      "655    5925\n",
      "554    5466\n",
      "556    5420\n",
      "656    5411\n",
      "       ... \n",
      "430       3\n",
      "411       3\n",
      "313       3\n",
      "326       3\n",
      "407       2\n",
      "Name: count, Length: 1440, dtype: Int64\n",
      "\n",
      "missing values:  281937\n",
      "\n",
      "datatype:  Int64\n"
     ]
    }
   ],
   "source": [
    "show_unique_missing_dtype(df, 'DEP_TIME')"
   ]
  },
  {
   "cell_type": "markdown",
   "id": "e54e7b12",
   "metadata": {},
   "source": [
    "great, so now lets deal with missing values. lets extract all the missing rows and check - are they all cancelled?"
   ]
  },
  {
   "cell_type": "code",
   "execution_count": 1245,
   "id": "3cd9fc8f",
   "metadata": {},
   "outputs": [
    {
     "data": {
      "text/plain": [
       "CANCELLED\n",
       "1    281937\n",
       "Name: count, dtype: int64"
      ]
     },
     "execution_count": 1245,
     "metadata": {},
     "output_type": "execute_result"
    }
   ],
   "source": [
    "missing_rows = df[df['DEP_TIME'].isna()]\n",
    "# 2. How many of those were cancelled?\n",
    "cancel_counts = missing_rows['CANCELLED'].value_counts(dropna=False)\n",
    "\n",
    "cancel_counts"
   ]
  },
  {
   "cell_type": "code",
   "execution_count": 1246,
   "id": "94fff58d",
   "metadata": {},
   "outputs": [],
   "source": [
    "def check_if_cancelled(df, col):\n",
    "    missing_rows = df[df[col].isna()]\n",
    "    # 2. How many of those were cancelled?\n",
    "    print(missing_rows['CANCELLED'].value_counts(dropna=False))\n",
    "    return missing_rows"
   ]
  },
  {
   "cell_type": "markdown",
   "id": "8f48069c",
   "metadata": {},
   "source": [
    "ah so all were cancelled. lets fill with -1 to show its not departed"
   ]
  },
  {
   "cell_type": "code",
   "execution_count": 1247,
   "id": "e3a25162",
   "metadata": {},
   "outputs": [],
   "source": [
    "missing_idx = missing_rows.index\n",
    "df.loc[missing_idx, 'DEP_TIME'] = -1"
   ]
  },
  {
   "cell_type": "code",
   "execution_count": 1248,
   "id": "e7f4a02f",
   "metadata": {},
   "outputs": [
    {
     "name": "stdout",
     "output_type": "stream",
     "text": [
      "DEP_TIME\n",
      "-1     281937\n",
      "555      6360\n",
      "655      5925\n",
      "554      5466\n",
      "556      5420\n",
      "        ...  \n",
      "430         3\n",
      "411         3\n",
      "313         3\n",
      "326         3\n",
      "407         2\n",
      "Name: count, Length: 1441, dtype: Int64\n",
      "\n",
      "missing values:  0\n",
      "\n",
      "datatype:  Int64\n"
     ]
    }
   ],
   "source": [
    "show_unique_missing_dtype(df, 'DEP_TIME')"
   ]
  },
  {
   "cell_type": "markdown",
   "id": "9600c8a0",
   "metadata": {},
   "source": [
    "lets do the same for this, extract the hour"
   ]
  },
  {
   "cell_type": "code",
   "execution_count": 1249,
   "id": "7e107697",
   "metadata": {},
   "outputs": [],
   "source": [
    "df = extract_hour(df, 'DEP_TIME', 'DEP_HOUR')"
   ]
  },
  {
   "cell_type": "code",
   "execution_count": 1250,
   "id": "da3f98d5",
   "metadata": {},
   "outputs": [
    {
     "name": "stdout",
     "output_type": "stream",
     "text": [
      "DEP_HOUR\n",
      "-1     281937\n",
      " 17    163727\n",
      " 11    157351\n",
      " 6     155794\n",
      " 12    155225\n",
      " 9     152406\n",
      " 8     152213\n",
      " 7     151386\n",
      " 15    151011\n",
      " 16    147706\n",
      " 14    147460\n",
      " 10    146673\n",
      " 13    146259\n",
      " 18    141828\n",
      " 19    131332\n",
      " 20    116144\n",
      " 5      90432\n",
      " 21     70179\n",
      " 22     52109\n",
      " 23     16845\n",
      " 4       7823\n",
      " 0       5942\n",
      " 1       2668\n",
      " 2        754\n",
      " 3        540\n",
      " 24       103\n",
      "Name: count, dtype: int64\n",
      "\n",
      "missing values:  0\n",
      "\n",
      "datatype:  int32\n"
     ]
    }
   ],
   "source": [
    "show_unique_missing_dtype(df, 'DEP_HOUR')"
   ]
  },
  {
   "cell_type": "markdown",
   "id": "3b1ef16e",
   "metadata": {},
   "source": [
    "okay so there is a problem - how can there be the hour \"24\"? looks like some data inconsistency is present which is causing it to be 24. lets extract and inspect those rows first"
   ]
  },
  {
   "cell_type": "code",
   "execution_count": 1251,
   "id": "9a498f9d",
   "metadata": {},
   "outputs": [
    {
     "data": {
      "text/html": [
       "<div>\n",
       "<style scoped>\n",
       "    .dataframe tbody tr th:only-of-type {\n",
       "        vertical-align: middle;\n",
       "    }\n",
       "\n",
       "    .dataframe tbody tr th {\n",
       "        vertical-align: top;\n",
       "    }\n",
       "\n",
       "    .dataframe thead th {\n",
       "        text-align: right;\n",
       "    }\n",
       "</style>\n",
       "<table border=\"1\" class=\"dataframe\">\n",
       "  <thead>\n",
       "    <tr style=\"text-align: right;\">\n",
       "      <th></th>\n",
       "      <th>MONTH</th>\n",
       "      <th>DAY_OF_MONTH</th>\n",
       "      <th>DAY_OF_WEEK</th>\n",
       "      <th>day_of_week_c</th>\n",
       "      <th>FLIGHT_DATE</th>\n",
       "      <th>MARKETING_CARRIER_CODE</th>\n",
       "      <th>MARKETING_FLIGHT_NUMBER</th>\n",
       "      <th>AIRCRAFT_TAIL_NUMBER</th>\n",
       "      <th>ORIGIN_AIRPORT_CODE</th>\n",
       "      <th>ORIGIN_CITY_NAME</th>\n",
       "      <th>ORIGIN_STATE_CODE</th>\n",
       "      <th>ORIGIN_STATE_NAME</th>\n",
       "      <th>DEST_AIRPORT_CODE</th>\n",
       "      <th>DEST_CITY_NAME</th>\n",
       "      <th>DEST_STATE_CODE</th>\n",
       "      <th>DEST_STATE_NAME</th>\n",
       "      <th>SCHEDULED_DEP_TIME</th>\n",
       "      <th>SCHEDULED_DEP_HOUR</th>\n",
       "      <th>DEP_TIME</th>\n",
       "      <th>DEP_HOUR</th>\n",
       "      <th>DEP_DELAY</th>\n",
       "      <th>DEP_DELAY_NEW</th>\n",
       "      <th>DEP_DEL15</th>\n",
       "      <th>DEP_DELAY_GROUP</th>\n",
       "      <th>DEP_TIME_BLK</th>\n",
       "      <th>TAXI_OUT</th>\n",
       "      <th>WHEELS_OFF</th>\n",
       "      <th>WHEELS_ON</th>\n",
       "      <th>TAXI_IN</th>\n",
       "      <th>CRS_ARR_TIME</th>\n",
       "      <th>ARR_TIME</th>\n",
       "      <th>ARR_DELAY</th>\n",
       "      <th>ARR_DELAY_NEW</th>\n",
       "      <th>ARR_DEL15</th>\n",
       "      <th>ARR_DELAY_GROUP</th>\n",
       "      <th>ARR_TIME_BLK</th>\n",
       "      <th>CANCELLED</th>\n",
       "      <th>CANCELLATION_CODE</th>\n",
       "      <th>CRS_ELAPSED_TIME</th>\n",
       "      <th>ACTUAL_ELAPSED_TIME</th>\n",
       "      <th>AIR_TIME</th>\n",
       "      <th>DISTANCE</th>\n",
       "      <th>DISTANCE_GROUP</th>\n",
       "      <th>CARRIER_DELAY</th>\n",
       "      <th>WEATHER_DELAY</th>\n",
       "      <th>NAS_DELAY</th>\n",
       "      <th>SECURITY_DELAY</th>\n",
       "      <th>LATE_AIRCRAFT_DELAY</th>\n",
       "      <th>DEP_TIME_CLEAN</th>\n",
       "    </tr>\n",
       "  </thead>\n",
       "  <tbody>\n",
       "  </tbody>\n",
       "</table>\n",
       "</div>"
      ],
      "text/plain": [
       "Empty DataFrame\n",
       "Columns: [MONTH, DAY_OF_MONTH, DAY_OF_WEEK, day_of_week_c, FLIGHT_DATE, MARKETING_CARRIER_CODE, MARKETING_FLIGHT_NUMBER, AIRCRAFT_TAIL_NUMBER, ORIGIN_AIRPORT_CODE, ORIGIN_CITY_NAME, ORIGIN_STATE_CODE, ORIGIN_STATE_NAME, DEST_AIRPORT_CODE, DEST_CITY_NAME, DEST_STATE_CODE, DEST_STATE_NAME, SCHEDULED_DEP_TIME, SCHEDULED_DEP_HOUR, DEP_TIME, DEP_HOUR, DEP_DELAY, DEP_DELAY_NEW, DEP_DEL15, DEP_DELAY_GROUP, DEP_TIME_BLK, TAXI_OUT, WHEELS_OFF, WHEELS_ON, TAXI_IN, CRS_ARR_TIME, ARR_TIME, ARR_DELAY, ARR_DELAY_NEW, ARR_DEL15, ARR_DELAY_GROUP, ARR_TIME_BLK, CANCELLED, CANCELLATION_CODE, CRS_ELAPSED_TIME, ACTUAL_ELAPSED_TIME, AIR_TIME, DISTANCE, DISTANCE_GROUP, CARRIER_DELAY, WEATHER_DELAY, NAS_DELAY, SECURITY_DELAY, LATE_AIRCRAFT_DELAY, DEP_TIME_CLEAN]\n",
       "Index: []"
      ]
     },
     "execution_count": 1251,
     "metadata": {},
     "output_type": "execute_result"
    }
   ],
   "source": [
    "# ensure the column is numeric\n",
    "df['DEP_TIME_CLEAN'] = pd.to_numeric(df['DEP_TIME'], errors='coerce')\n",
    "\n",
    "# filter rows with values > 2400\n",
    "bad_times = df[df['DEP_TIME_CLEAN'] > 2400]\n",
    "bad_times"
   ]
  },
  {
   "cell_type": "markdown",
   "id": "49fa7241",
   "metadata": {},
   "source": [
    "none. lets extract all those with equal to 2400"
   ]
  },
  {
   "cell_type": "code",
   "execution_count": 1252,
   "id": "af6b6cc0",
   "metadata": {},
   "outputs": [
    {
     "data": {
      "text/html": [
       "<div>\n",
       "<style scoped>\n",
       "    .dataframe tbody tr th:only-of-type {\n",
       "        vertical-align: middle;\n",
       "    }\n",
       "\n",
       "    .dataframe tbody tr th {\n",
       "        vertical-align: top;\n",
       "    }\n",
       "\n",
       "    .dataframe thead th {\n",
       "        text-align: right;\n",
       "    }\n",
       "</style>\n",
       "<table border=\"1\" class=\"dataframe\">\n",
       "  <thead>\n",
       "    <tr style=\"text-align: right;\">\n",
       "      <th></th>\n",
       "      <th>MONTH</th>\n",
       "      <th>DAY_OF_MONTH</th>\n",
       "      <th>DAY_OF_WEEK</th>\n",
       "      <th>day_of_week_c</th>\n",
       "      <th>FLIGHT_DATE</th>\n",
       "      <th>MARKETING_CARRIER_CODE</th>\n",
       "      <th>MARKETING_FLIGHT_NUMBER</th>\n",
       "      <th>AIRCRAFT_TAIL_NUMBER</th>\n",
       "      <th>ORIGIN_AIRPORT_CODE</th>\n",
       "      <th>ORIGIN_CITY_NAME</th>\n",
       "      <th>ORIGIN_STATE_CODE</th>\n",
       "      <th>ORIGIN_STATE_NAME</th>\n",
       "      <th>DEST_AIRPORT_CODE</th>\n",
       "      <th>DEST_CITY_NAME</th>\n",
       "      <th>DEST_STATE_CODE</th>\n",
       "      <th>DEST_STATE_NAME</th>\n",
       "      <th>SCHEDULED_DEP_TIME</th>\n",
       "      <th>SCHEDULED_DEP_HOUR</th>\n",
       "      <th>DEP_TIME</th>\n",
       "      <th>DEP_HOUR</th>\n",
       "      <th>DEP_DELAY</th>\n",
       "      <th>DEP_DELAY_NEW</th>\n",
       "      <th>DEP_DEL15</th>\n",
       "      <th>DEP_DELAY_GROUP</th>\n",
       "      <th>DEP_TIME_BLK</th>\n",
       "      <th>TAXI_OUT</th>\n",
       "      <th>WHEELS_OFF</th>\n",
       "      <th>WHEELS_ON</th>\n",
       "      <th>TAXI_IN</th>\n",
       "      <th>CRS_ARR_TIME</th>\n",
       "      <th>ARR_TIME</th>\n",
       "      <th>ARR_DELAY</th>\n",
       "      <th>ARR_DELAY_NEW</th>\n",
       "      <th>ARR_DEL15</th>\n",
       "      <th>ARR_DELAY_GROUP</th>\n",
       "      <th>ARR_TIME_BLK</th>\n",
       "      <th>CANCELLED</th>\n",
       "      <th>CANCELLATION_CODE</th>\n",
       "      <th>CRS_ELAPSED_TIME</th>\n",
       "      <th>ACTUAL_ELAPSED_TIME</th>\n",
       "      <th>AIR_TIME</th>\n",
       "      <th>DISTANCE</th>\n",
       "      <th>DISTANCE_GROUP</th>\n",
       "      <th>CARRIER_DELAY</th>\n",
       "      <th>WEATHER_DELAY</th>\n",
       "      <th>NAS_DELAY</th>\n",
       "      <th>SECURITY_DELAY</th>\n",
       "      <th>LATE_AIRCRAFT_DELAY</th>\n",
       "      <th>DEP_TIME_CLEAN</th>\n",
       "    </tr>\n",
       "  </thead>\n",
       "  <tbody>\n",
       "    <tr>\n",
       "      <th>71387</th>\n",
       "      <td>1</td>\n",
       "      <td>28</td>\n",
       "      <td>2</td>\n",
       "      <td>Tue</td>\n",
       "      <td>2020-01-28</td>\n",
       "      <td>F9</td>\n",
       "      <td>558</td>\n",
       "      <td>N202FR</td>\n",
       "      <td>DEN</td>\n",
       "      <td>Denver, CO</td>\n",
       "      <td>CO</td>\n",
       "      <td>Colorado</td>\n",
       "      <td>RDU</td>\n",
       "      <td>Raleigh/Durham, NC</td>\n",
       "      <td>NC</td>\n",
       "      <td>North Carolina</td>\n",
       "      <td>2</td>\n",
       "      <td>0</td>\n",
       "      <td>2400</td>\n",
       "      <td>24</td>\n",
       "      <td>-2.0</td>\n",
       "      <td>0.0</td>\n",
       "      <td>0.0</td>\n",
       "      <td>-1.0</td>\n",
       "      <td>0001-0559</td>\n",
       "      <td>29.0</td>\n",
       "      <td>29.0</td>\n",
       "      <td>510.0</td>\n",
       "      <td>6.0</td>\n",
       "      <td>524</td>\n",
       "      <td>516.0</td>\n",
       "      <td>-8.0</td>\n",
       "      <td>0.0</td>\n",
       "      <td>0.0</td>\n",
       "      <td>-1.0</td>\n",
       "      <td>0001-0559</td>\n",
       "      <td>0</td>\n",
       "      <td>NaN</td>\n",
       "      <td>202.0</td>\n",
       "      <td>196.0</td>\n",
       "      <td>161.0</td>\n",
       "      <td>1436</td>\n",
       "      <td>6</td>\n",
       "      <td>NaN</td>\n",
       "      <td>NaN</td>\n",
       "      <td>NaN</td>\n",
       "      <td>NaN</td>\n",
       "      <td>NaN</td>\n",
       "      <td>2400</td>\n",
       "    </tr>\n",
       "    <tr>\n",
       "      <th>77444</th>\n",
       "      <td>1</td>\n",
       "      <td>9</td>\n",
       "      <td>4</td>\n",
       "      <td>Thu</td>\n",
       "      <td>2020-01-09</td>\n",
       "      <td>NK</td>\n",
       "      <td>1839</td>\n",
       "      <td>N646NK</td>\n",
       "      <td>LAS</td>\n",
       "      <td>Las Vegas, NV</td>\n",
       "      <td>NV</td>\n",
       "      <td>Nevada</td>\n",
       "      <td>BNA</td>\n",
       "      <td>Nashville, TN</td>\n",
       "      <td>TN</td>\n",
       "      <td>Tennessee</td>\n",
       "      <td>2359</td>\n",
       "      <td>23</td>\n",
       "      <td>2400</td>\n",
       "      <td>24</td>\n",
       "      <td>1.0</td>\n",
       "      <td>1.0</td>\n",
       "      <td>0.0</td>\n",
       "      <td>0.0</td>\n",
       "      <td>2300-2359</td>\n",
       "      <td>15.0</td>\n",
       "      <td>15.0</td>\n",
       "      <td>513.0</td>\n",
       "      <td>5.0</td>\n",
       "      <td>535</td>\n",
       "      <td>518.0</td>\n",
       "      <td>-17.0</td>\n",
       "      <td>0.0</td>\n",
       "      <td>0.0</td>\n",
       "      <td>-2.0</td>\n",
       "      <td>0001-0559</td>\n",
       "      <td>0</td>\n",
       "      <td>NaN</td>\n",
       "      <td>216.0</td>\n",
       "      <td>198.0</td>\n",
       "      <td>178.0</td>\n",
       "      <td>1587</td>\n",
       "      <td>7</td>\n",
       "      <td>NaN</td>\n",
       "      <td>NaN</td>\n",
       "      <td>NaN</td>\n",
       "      <td>NaN</td>\n",
       "      <td>NaN</td>\n",
       "      <td>2400</td>\n",
       "    </tr>\n",
       "    <tr>\n",
       "      <th>77461</th>\n",
       "      <td>1</td>\n",
       "      <td>26</td>\n",
       "      <td>7</td>\n",
       "      <td>Sun</td>\n",
       "      <td>2020-01-26</td>\n",
       "      <td>NK</td>\n",
       "      <td>1839</td>\n",
       "      <td>N647NK</td>\n",
       "      <td>LAS</td>\n",
       "      <td>Las Vegas, NV</td>\n",
       "      <td>NV</td>\n",
       "      <td>Nevada</td>\n",
       "      <td>BNA</td>\n",
       "      <td>Nashville, TN</td>\n",
       "      <td>TN</td>\n",
       "      <td>Tennessee</td>\n",
       "      <td>2359</td>\n",
       "      <td>23</td>\n",
       "      <td>2400</td>\n",
       "      <td>24</td>\n",
       "      <td>1.0</td>\n",
       "      <td>1.0</td>\n",
       "      <td>0.0</td>\n",
       "      <td>0.0</td>\n",
       "      <td>2300-2359</td>\n",
       "      <td>13.0</td>\n",
       "      <td>13.0</td>\n",
       "      <td>508.0</td>\n",
       "      <td>6.0</td>\n",
       "      <td>535</td>\n",
       "      <td>514.0</td>\n",
       "      <td>-21.0</td>\n",
       "      <td>0.0</td>\n",
       "      <td>0.0</td>\n",
       "      <td>-2.0</td>\n",
       "      <td>0001-0559</td>\n",
       "      <td>0</td>\n",
       "      <td>NaN</td>\n",
       "      <td>216.0</td>\n",
       "      <td>194.0</td>\n",
       "      <td>175.0</td>\n",
       "      <td>1587</td>\n",
       "      <td>7</td>\n",
       "      <td>NaN</td>\n",
       "      <td>NaN</td>\n",
       "      <td>NaN</td>\n",
       "      <td>NaN</td>\n",
       "      <td>NaN</td>\n",
       "      <td>2400</td>\n",
       "    </tr>\n",
       "    <tr>\n",
       "      <th>81292</th>\n",
       "      <td>1</td>\n",
       "      <td>7</td>\n",
       "      <td>2</td>\n",
       "      <td>Tue</td>\n",
       "      <td>2020-01-07</td>\n",
       "      <td>DL</td>\n",
       "      <td>1195</td>\n",
       "      <td>N846DN</td>\n",
       "      <td>LAX</td>\n",
       "      <td>Los Angeles, CA</td>\n",
       "      <td>CA</td>\n",
       "      <td>California</td>\n",
       "      <td>ATL</td>\n",
       "      <td>Atlanta, GA</td>\n",
       "      <td>GA</td>\n",
       "      <td>Georgia</td>\n",
       "      <td>2355</td>\n",
       "      <td>23</td>\n",
       "      <td>2400</td>\n",
       "      <td>24</td>\n",
       "      <td>5.0</td>\n",
       "      <td>5.0</td>\n",
       "      <td>0.0</td>\n",
       "      <td>0.0</td>\n",
       "      <td>2300-2359</td>\n",
       "      <td>26.0</td>\n",
       "      <td>26.0</td>\n",
       "      <td>706.0</td>\n",
       "      <td>5.0</td>\n",
       "      <td>703</td>\n",
       "      <td>711.0</td>\n",
       "      <td>8.0</td>\n",
       "      <td>8.0</td>\n",
       "      <td>0.0</td>\n",
       "      <td>0.0</td>\n",
       "      <td>0700-0759</td>\n",
       "      <td>0</td>\n",
       "      <td>NaN</td>\n",
       "      <td>248.0</td>\n",
       "      <td>251.0</td>\n",
       "      <td>220.0</td>\n",
       "      <td>1947</td>\n",
       "      <td>8</td>\n",
       "      <td>NaN</td>\n",
       "      <td>NaN</td>\n",
       "      <td>NaN</td>\n",
       "      <td>NaN</td>\n",
       "      <td>NaN</td>\n",
       "      <td>2400</td>\n",
       "    </tr>\n",
       "    <tr>\n",
       "      <th>84223</th>\n",
       "      <td>1</td>\n",
       "      <td>17</td>\n",
       "      <td>5</td>\n",
       "      <td>Fri</td>\n",
       "      <td>2020-01-17</td>\n",
       "      <td>DL</td>\n",
       "      <td>386</td>\n",
       "      <td>N312DN</td>\n",
       "      <td>ATL</td>\n",
       "      <td>Atlanta, GA</td>\n",
       "      <td>GA</td>\n",
       "      <td>Georgia</td>\n",
       "      <td>TPA</td>\n",
       "      <td>Tampa, FL</td>\n",
       "      <td>FL</td>\n",
       "      <td>Florida</td>\n",
       "      <td>2330</td>\n",
       "      <td>23</td>\n",
       "      <td>2400</td>\n",
       "      <td>24</td>\n",
       "      <td>30.0</td>\n",
       "      <td>30.0</td>\n",
       "      <td>1.0</td>\n",
       "      <td>2.0</td>\n",
       "      <td>2300-2359</td>\n",
       "      <td>11.0</td>\n",
       "      <td>11.0</td>\n",
       "      <td>115.0</td>\n",
       "      <td>9.0</td>\n",
       "      <td>51</td>\n",
       "      <td>124.0</td>\n",
       "      <td>33.0</td>\n",
       "      <td>33.0</td>\n",
       "      <td>1.0</td>\n",
       "      <td>2.0</td>\n",
       "      <td>0001-0559</td>\n",
       "      <td>0</td>\n",
       "      <td>NaN</td>\n",
       "      <td>81.0</td>\n",
       "      <td>84.0</td>\n",
       "      <td>64.0</td>\n",
       "      <td>406</td>\n",
       "      <td>2</td>\n",
       "      <td>30.0</td>\n",
       "      <td>0.0</td>\n",
       "      <td>3.0</td>\n",
       "      <td>0.0</td>\n",
       "      <td>0.0</td>\n",
       "      <td>2400</td>\n",
       "    </tr>\n",
       "    <tr>\n",
       "      <th>...</th>\n",
       "      <td>...</td>\n",
       "      <td>...</td>\n",
       "      <td>...</td>\n",
       "      <td>...</td>\n",
       "      <td>...</td>\n",
       "      <td>...</td>\n",
       "      <td>...</td>\n",
       "      <td>...</td>\n",
       "      <td>...</td>\n",
       "      <td>...</td>\n",
       "      <td>...</td>\n",
       "      <td>...</td>\n",
       "      <td>...</td>\n",
       "      <td>...</td>\n",
       "      <td>...</td>\n",
       "      <td>...</td>\n",
       "      <td>...</td>\n",
       "      <td>...</td>\n",
       "      <td>...</td>\n",
       "      <td>...</td>\n",
       "      <td>...</td>\n",
       "      <td>...</td>\n",
       "      <td>...</td>\n",
       "      <td>...</td>\n",
       "      <td>...</td>\n",
       "      <td>...</td>\n",
       "      <td>...</td>\n",
       "      <td>...</td>\n",
       "      <td>...</td>\n",
       "      <td>...</td>\n",
       "      <td>...</td>\n",
       "      <td>...</td>\n",
       "      <td>...</td>\n",
       "      <td>...</td>\n",
       "      <td>...</td>\n",
       "      <td>...</td>\n",
       "      <td>...</td>\n",
       "      <td>...</td>\n",
       "      <td>...</td>\n",
       "      <td>...</td>\n",
       "      <td>...</td>\n",
       "      <td>...</td>\n",
       "      <td>...</td>\n",
       "      <td>...</td>\n",
       "      <td>...</td>\n",
       "      <td>...</td>\n",
       "      <td>...</td>\n",
       "      <td>...</td>\n",
       "      <td>...</td>\n",
       "    </tr>\n",
       "    <tr>\n",
       "      <th>1828856</th>\n",
       "      <td>3</td>\n",
       "      <td>2</td>\n",
       "      <td>1</td>\n",
       "      <td>Mon</td>\n",
       "      <td>2020-03-02</td>\n",
       "      <td>AA</td>\n",
       "      <td>1151</td>\n",
       "      <td>N816NN</td>\n",
       "      <td>MIA</td>\n",
       "      <td>Miami, FL</td>\n",
       "      <td>FL</td>\n",
       "      <td>Florida</td>\n",
       "      <td>DFW</td>\n",
       "      <td>Dallas/Fort Worth, TX</td>\n",
       "      <td>TX</td>\n",
       "      <td>Texas</td>\n",
       "      <td>2237</td>\n",
       "      <td>22</td>\n",
       "      <td>2400</td>\n",
       "      <td>24</td>\n",
       "      <td>83.0</td>\n",
       "      <td>83.0</td>\n",
       "      <td>1.0</td>\n",
       "      <td>5.0</td>\n",
       "      <td>2200-2259</td>\n",
       "      <td>14.0</td>\n",
       "      <td>14.0</td>\n",
       "      <td>154.0</td>\n",
       "      <td>5.0</td>\n",
       "      <td>51</td>\n",
       "      <td>159.0</td>\n",
       "      <td>68.0</td>\n",
       "      <td>68.0</td>\n",
       "      <td>1.0</td>\n",
       "      <td>4.0</td>\n",
       "      <td>0001-0559</td>\n",
       "      <td>0</td>\n",
       "      <td>NaN</td>\n",
       "      <td>194.0</td>\n",
       "      <td>179.0</td>\n",
       "      <td>160.0</td>\n",
       "      <td>1121</td>\n",
       "      <td>5</td>\n",
       "      <td>68.0</td>\n",
       "      <td>0.0</td>\n",
       "      <td>0.0</td>\n",
       "      <td>0.0</td>\n",
       "      <td>0.0</td>\n",
       "      <td>2400</td>\n",
       "    </tr>\n",
       "    <tr>\n",
       "      <th>1881502</th>\n",
       "      <td>3</td>\n",
       "      <td>16</td>\n",
       "      <td>1</td>\n",
       "      <td>Mon</td>\n",
       "      <td>2020-03-16</td>\n",
       "      <td>G4</td>\n",
       "      <td>269</td>\n",
       "      <td>224NV</td>\n",
       "      <td>SFB</td>\n",
       "      <td>Sanford, FL</td>\n",
       "      <td>FL</td>\n",
       "      <td>Florida</td>\n",
       "      <td>ABE</td>\n",
       "      <td>Allentown/Bethlehem/Easton, PA</td>\n",
       "      <td>PA</td>\n",
       "      <td>Pennsylvania</td>\n",
       "      <td>2103</td>\n",
       "      <td>21</td>\n",
       "      <td>2400</td>\n",
       "      <td>24</td>\n",
       "      <td>177.0</td>\n",
       "      <td>177.0</td>\n",
       "      <td>1.0</td>\n",
       "      <td>11.0</td>\n",
       "      <td>2100-2159</td>\n",
       "      <td>37.0</td>\n",
       "      <td>37.0</td>\n",
       "      <td>231.0</td>\n",
       "      <td>7.0</td>\n",
       "      <td>2327</td>\n",
       "      <td>238.0</td>\n",
       "      <td>191.0</td>\n",
       "      <td>191.0</td>\n",
       "      <td>1.0</td>\n",
       "      <td>12.0</td>\n",
       "      <td>2300-2359</td>\n",
       "      <td>0</td>\n",
       "      <td>NaN</td>\n",
       "      <td>144.0</td>\n",
       "      <td>158.0</td>\n",
       "      <td>114.0</td>\n",
       "      <td>882</td>\n",
       "      <td>4</td>\n",
       "      <td>0.0</td>\n",
       "      <td>0.0</td>\n",
       "      <td>14.0</td>\n",
       "      <td>0.0</td>\n",
       "      <td>177.0</td>\n",
       "      <td>2400</td>\n",
       "    </tr>\n",
       "    <tr>\n",
       "      <th>2183266</th>\n",
       "      <td>4</td>\n",
       "      <td>4</td>\n",
       "      <td>6</td>\n",
       "      <td>Sat</td>\n",
       "      <td>2020-04-04</td>\n",
       "      <td>AA</td>\n",
       "      <td>340</td>\n",
       "      <td>N987AM</td>\n",
       "      <td>LAX</td>\n",
       "      <td>Los Angeles, CA</td>\n",
       "      <td>CA</td>\n",
       "      <td>California</td>\n",
       "      <td>MIA</td>\n",
       "      <td>Miami, FL</td>\n",
       "      <td>FL</td>\n",
       "      <td>Florida</td>\n",
       "      <td>5</td>\n",
       "      <td>0</td>\n",
       "      <td>2400</td>\n",
       "      <td>24</td>\n",
       "      <td>-5.0</td>\n",
       "      <td>0.0</td>\n",
       "      <td>0.0</td>\n",
       "      <td>-1.0</td>\n",
       "      <td>0001-0559</td>\n",
       "      <td>17.0</td>\n",
       "      <td>17.0</td>\n",
       "      <td>728.0</td>\n",
       "      <td>4.0</td>\n",
       "      <td>754</td>\n",
       "      <td>732.0</td>\n",
       "      <td>-22.0</td>\n",
       "      <td>0.0</td>\n",
       "      <td>0.0</td>\n",
       "      <td>-2.0</td>\n",
       "      <td>0700-0759</td>\n",
       "      <td>0</td>\n",
       "      <td>NaN</td>\n",
       "      <td>289.0</td>\n",
       "      <td>272.0</td>\n",
       "      <td>251.0</td>\n",
       "      <td>2342</td>\n",
       "      <td>10</td>\n",
       "      <td>NaN</td>\n",
       "      <td>NaN</td>\n",
       "      <td>NaN</td>\n",
       "      <td>NaN</td>\n",
       "      <td>NaN</td>\n",
       "      <td>2400</td>\n",
       "    </tr>\n",
       "    <tr>\n",
       "      <th>2270267</th>\n",
       "      <td>4</td>\n",
       "      <td>1</td>\n",
       "      <td>3</td>\n",
       "      <td>Wed</td>\n",
       "      <td>2020-04-01</td>\n",
       "      <td>AA</td>\n",
       "      <td>1004</td>\n",
       "      <td>N934AA</td>\n",
       "      <td>SFO</td>\n",
       "      <td>San Francisco, CA</td>\n",
       "      <td>CA</td>\n",
       "      <td>California</td>\n",
       "      <td>DFW</td>\n",
       "      <td>Dallas/Fort Worth, TX</td>\n",
       "      <td>TX</td>\n",
       "      <td>Texas</td>\n",
       "      <td>5</td>\n",
       "      <td>0</td>\n",
       "      <td>2400</td>\n",
       "      <td>24</td>\n",
       "      <td>-5.0</td>\n",
       "      <td>0.0</td>\n",
       "      <td>0.0</td>\n",
       "      <td>-1.0</td>\n",
       "      <td>0001-0559</td>\n",
       "      <td>16.0</td>\n",
       "      <td>16.0</td>\n",
       "      <td>504.0</td>\n",
       "      <td>4.0</td>\n",
       "      <td>529</td>\n",
       "      <td>508.0</td>\n",
       "      <td>-21.0</td>\n",
       "      <td>0.0</td>\n",
       "      <td>0.0</td>\n",
       "      <td>-2.0</td>\n",
       "      <td>0001-0559</td>\n",
       "      <td>0</td>\n",
       "      <td>NaN</td>\n",
       "      <td>204.0</td>\n",
       "      <td>188.0</td>\n",
       "      <td>168.0</td>\n",
       "      <td>1464</td>\n",
       "      <td>6</td>\n",
       "      <td>NaN</td>\n",
       "      <td>NaN</td>\n",
       "      <td>NaN</td>\n",
       "      <td>NaN</td>\n",
       "      <td>NaN</td>\n",
       "      <td>2400</td>\n",
       "    </tr>\n",
       "    <tr>\n",
       "      <th>2507831</th>\n",
       "      <td>5</td>\n",
       "      <td>24</td>\n",
       "      <td>7</td>\n",
       "      <td>Sun</td>\n",
       "      <td>2020-05-24</td>\n",
       "      <td>G4</td>\n",
       "      <td>5</td>\n",
       "      <td>304NV</td>\n",
       "      <td>ELP</td>\n",
       "      <td>El Paso, TX</td>\n",
       "      <td>TX</td>\n",
       "      <td>Texas</td>\n",
       "      <td>LAS</td>\n",
       "      <td>Las Vegas, NV</td>\n",
       "      <td>NV</td>\n",
       "      <td>Nevada</td>\n",
       "      <td>1800</td>\n",
       "      <td>18</td>\n",
       "      <td>2400</td>\n",
       "      <td>24</td>\n",
       "      <td>360.0</td>\n",
       "      <td>360.0</td>\n",
       "      <td>1.0</td>\n",
       "      <td>12.0</td>\n",
       "      <td>1800-1859</td>\n",
       "      <td>11.0</td>\n",
       "      <td>11.0</td>\n",
       "      <td>34.0</td>\n",
       "      <td>7.0</td>\n",
       "      <td>1849</td>\n",
       "      <td>41.0</td>\n",
       "      <td>352.0</td>\n",
       "      <td>352.0</td>\n",
       "      <td>1.0</td>\n",
       "      <td>12.0</td>\n",
       "      <td>1800-1859</td>\n",
       "      <td>0</td>\n",
       "      <td>NaN</td>\n",
       "      <td>109.0</td>\n",
       "      <td>101.0</td>\n",
       "      <td>83.0</td>\n",
       "      <td>583</td>\n",
       "      <td>3</td>\n",
       "      <td>0.0</td>\n",
       "      <td>0.0</td>\n",
       "      <td>352.0</td>\n",
       "      <td>0.0</td>\n",
       "      <td>0.0</td>\n",
       "      <td>2400</td>\n",
       "    </tr>\n",
       "  </tbody>\n",
       "</table>\n",
       "<p>103 rows × 49 columns</p>\n",
       "</div>"
      ],
      "text/plain": [
       "         MONTH  DAY_OF_MONTH  DAY_OF_WEEK day_of_week_c FLIGHT_DATE  \\\n",
       "71387        1            28            2           Tue  2020-01-28   \n",
       "77444        1             9            4           Thu  2020-01-09   \n",
       "77461        1            26            7           Sun  2020-01-26   \n",
       "81292        1             7            2           Tue  2020-01-07   \n",
       "84223        1            17            5           Fri  2020-01-17   \n",
       "...        ...           ...          ...           ...         ...   \n",
       "1828856      3             2            1           Mon  2020-03-02   \n",
       "1881502      3            16            1           Mon  2020-03-16   \n",
       "2183266      4             4            6           Sat  2020-04-04   \n",
       "2270267      4             1            3           Wed  2020-04-01   \n",
       "2507831      5            24            7           Sun  2020-05-24   \n",
       "\n",
       "        MARKETING_CARRIER_CODE  MARKETING_FLIGHT_NUMBER AIRCRAFT_TAIL_NUMBER  \\\n",
       "71387                       F9                      558               N202FR   \n",
       "77444                       NK                     1839               N646NK   \n",
       "77461                       NK                     1839               N647NK   \n",
       "81292                       DL                     1195               N846DN   \n",
       "84223                       DL                      386               N312DN   \n",
       "...                        ...                      ...                  ...   \n",
       "1828856                     AA                     1151               N816NN   \n",
       "1881502                     G4                      269                224NV   \n",
       "2183266                     AA                      340               N987AM   \n",
       "2270267                     AA                     1004               N934AA   \n",
       "2507831                     G4                        5                304NV   \n",
       "\n",
       "        ORIGIN_AIRPORT_CODE   ORIGIN_CITY_NAME ORIGIN_STATE_CODE  \\\n",
       "71387                   DEN         Denver, CO                CO   \n",
       "77444                   LAS      Las Vegas, NV                NV   \n",
       "77461                   LAS      Las Vegas, NV                NV   \n",
       "81292                   LAX    Los Angeles, CA                CA   \n",
       "84223                   ATL        Atlanta, GA                GA   \n",
       "...                     ...                ...               ...   \n",
       "1828856                 MIA          Miami, FL                FL   \n",
       "1881502                 SFB        Sanford, FL                FL   \n",
       "2183266                 LAX    Los Angeles, CA                CA   \n",
       "2270267                 SFO  San Francisco, CA                CA   \n",
       "2507831                 ELP        El Paso, TX                TX   \n",
       "\n",
       "        ORIGIN_STATE_NAME DEST_AIRPORT_CODE                  DEST_CITY_NAME  \\\n",
       "71387            Colorado               RDU              Raleigh/Durham, NC   \n",
       "77444              Nevada               BNA                   Nashville, TN   \n",
       "77461              Nevada               BNA                   Nashville, TN   \n",
       "81292          California               ATL                     Atlanta, GA   \n",
       "84223             Georgia               TPA                       Tampa, FL   \n",
       "...                   ...               ...                             ...   \n",
       "1828856           Florida               DFW           Dallas/Fort Worth, TX   \n",
       "1881502           Florida               ABE  Allentown/Bethlehem/Easton, PA   \n",
       "2183266        California               MIA                       Miami, FL   \n",
       "2270267        California               DFW           Dallas/Fort Worth, TX   \n",
       "2507831             Texas               LAS                   Las Vegas, NV   \n",
       "\n",
       "        DEST_STATE_CODE DEST_STATE_NAME  SCHEDULED_DEP_TIME  \\\n",
       "71387                NC  North Carolina                   2   \n",
       "77444                TN       Tennessee                2359   \n",
       "77461                TN       Tennessee                2359   \n",
       "81292                GA         Georgia                2355   \n",
       "84223                FL         Florida                2330   \n",
       "...                 ...             ...                 ...   \n",
       "1828856              TX           Texas                2237   \n",
       "1881502              PA    Pennsylvania                2103   \n",
       "2183266              FL         Florida                   5   \n",
       "2270267              TX           Texas                   5   \n",
       "2507831              NV          Nevada                1800   \n",
       "\n",
       "         SCHEDULED_DEP_HOUR  DEP_TIME  DEP_HOUR  DEP_DELAY  DEP_DELAY_NEW  \\\n",
       "71387                     0      2400        24       -2.0            0.0   \n",
       "77444                    23      2400        24        1.0            1.0   \n",
       "77461                    23      2400        24        1.0            1.0   \n",
       "81292                    23      2400        24        5.0            5.0   \n",
       "84223                    23      2400        24       30.0           30.0   \n",
       "...                     ...       ...       ...        ...            ...   \n",
       "1828856                  22      2400        24       83.0           83.0   \n",
       "1881502                  21      2400        24      177.0          177.0   \n",
       "2183266                   0      2400        24       -5.0            0.0   \n",
       "2270267                   0      2400        24       -5.0            0.0   \n",
       "2507831                  18      2400        24      360.0          360.0   \n",
       "\n",
       "         DEP_DEL15  DEP_DELAY_GROUP DEP_TIME_BLK  TAXI_OUT  WHEELS_OFF  \\\n",
       "71387          0.0             -1.0    0001-0559      29.0        29.0   \n",
       "77444          0.0              0.0    2300-2359      15.0        15.0   \n",
       "77461          0.0              0.0    2300-2359      13.0        13.0   \n",
       "81292          0.0              0.0    2300-2359      26.0        26.0   \n",
       "84223          1.0              2.0    2300-2359      11.0        11.0   \n",
       "...            ...              ...          ...       ...         ...   \n",
       "1828856        1.0              5.0    2200-2259      14.0        14.0   \n",
       "1881502        1.0             11.0    2100-2159      37.0        37.0   \n",
       "2183266        0.0             -1.0    0001-0559      17.0        17.0   \n",
       "2270267        0.0             -1.0    0001-0559      16.0        16.0   \n",
       "2507831        1.0             12.0    1800-1859      11.0        11.0   \n",
       "\n",
       "         WHEELS_ON  TAXI_IN  CRS_ARR_TIME  ARR_TIME  ARR_DELAY  ARR_DELAY_NEW  \\\n",
       "71387        510.0      6.0           524     516.0       -8.0            0.0   \n",
       "77444        513.0      5.0           535     518.0      -17.0            0.0   \n",
       "77461        508.0      6.0           535     514.0      -21.0            0.0   \n",
       "81292        706.0      5.0           703     711.0        8.0            8.0   \n",
       "84223        115.0      9.0            51     124.0       33.0           33.0   \n",
       "...            ...      ...           ...       ...        ...            ...   \n",
       "1828856      154.0      5.0            51     159.0       68.0           68.0   \n",
       "1881502      231.0      7.0          2327     238.0      191.0          191.0   \n",
       "2183266      728.0      4.0           754     732.0      -22.0            0.0   \n",
       "2270267      504.0      4.0           529     508.0      -21.0            0.0   \n",
       "2507831       34.0      7.0          1849      41.0      352.0          352.0   \n",
       "\n",
       "         ARR_DEL15  ARR_DELAY_GROUP ARR_TIME_BLK  CANCELLED CANCELLATION_CODE  \\\n",
       "71387          0.0             -1.0    0001-0559          0               NaN   \n",
       "77444          0.0             -2.0    0001-0559          0               NaN   \n",
       "77461          0.0             -2.0    0001-0559          0               NaN   \n",
       "81292          0.0              0.0    0700-0759          0               NaN   \n",
       "84223          1.0              2.0    0001-0559          0               NaN   \n",
       "...            ...              ...          ...        ...               ...   \n",
       "1828856        1.0              4.0    0001-0559          0               NaN   \n",
       "1881502        1.0             12.0    2300-2359          0               NaN   \n",
       "2183266        0.0             -2.0    0700-0759          0               NaN   \n",
       "2270267        0.0             -2.0    0001-0559          0               NaN   \n",
       "2507831        1.0             12.0    1800-1859          0               NaN   \n",
       "\n",
       "         CRS_ELAPSED_TIME  ACTUAL_ELAPSED_TIME  AIR_TIME  DISTANCE  \\\n",
       "71387               202.0                196.0     161.0      1436   \n",
       "77444               216.0                198.0     178.0      1587   \n",
       "77461               216.0                194.0     175.0      1587   \n",
       "81292               248.0                251.0     220.0      1947   \n",
       "84223                81.0                 84.0      64.0       406   \n",
       "...                   ...                  ...       ...       ...   \n",
       "1828856             194.0                179.0     160.0      1121   \n",
       "1881502             144.0                158.0     114.0       882   \n",
       "2183266             289.0                272.0     251.0      2342   \n",
       "2270267             204.0                188.0     168.0      1464   \n",
       "2507831             109.0                101.0      83.0       583   \n",
       "\n",
       "         DISTANCE_GROUP  CARRIER_DELAY  WEATHER_DELAY  NAS_DELAY  \\\n",
       "71387                 6            NaN            NaN        NaN   \n",
       "77444                 7            NaN            NaN        NaN   \n",
       "77461                 7            NaN            NaN        NaN   \n",
       "81292                 8            NaN            NaN        NaN   \n",
       "84223                 2           30.0            0.0        3.0   \n",
       "...                 ...            ...            ...        ...   \n",
       "1828856               5           68.0            0.0        0.0   \n",
       "1881502               4            0.0            0.0       14.0   \n",
       "2183266              10            NaN            NaN        NaN   \n",
       "2270267               6            NaN            NaN        NaN   \n",
       "2507831               3            0.0            0.0      352.0   \n",
       "\n",
       "         SECURITY_DELAY  LATE_AIRCRAFT_DELAY  DEP_TIME_CLEAN  \n",
       "71387               NaN                  NaN            2400  \n",
       "77444               NaN                  NaN            2400  \n",
       "77461               NaN                  NaN            2400  \n",
       "81292               NaN                  NaN            2400  \n",
       "84223               0.0                  0.0            2400  \n",
       "...                 ...                  ...             ...  \n",
       "1828856             0.0                  0.0            2400  \n",
       "1881502             0.0                177.0            2400  \n",
       "2183266             NaN                  NaN            2400  \n",
       "2270267             NaN                  NaN            2400  \n",
       "2507831             0.0                  0.0            2400  \n",
       "\n",
       "[103 rows x 49 columns]"
      ]
     },
     "execution_count": 1252,
     "metadata": {},
     "output_type": "execute_result"
    }
   ],
   "source": [
    "# ensure the column is numeric\n",
    "df['DEP_TIME_CLEAN'] = pd.to_numeric(df['DEP_TIME'], errors='coerce')\n",
    "\n",
    "# filter rows with values = 2400\n",
    "bad_times = df[df['DEP_TIME_CLEAN'] == 2400]\n",
    "bad_times"
   ]
  },
  {
   "cell_type": "markdown",
   "id": "df75049a",
   "metadata": {},
   "source": [
    "ah so it looks like all 2400 values mean raat 12 baje - i.e. 00:00. lets map all those values to 00:00 first"
   ]
  },
  {
   "cell_type": "code",
   "execution_count": 1253,
   "id": "e27d5971",
   "metadata": {},
   "outputs": [],
   "source": [
    "# ensure numeric dtype\n",
    "df['DEP_TIME'] = pd.to_numeric(df['DEP_TIME'], errors='coerce').astype('Int64')\n",
    "\n",
    "# replace exactly 2400 → 0\n",
    "df.loc[df['DEP_TIME'] == 2400, 'DEP_TIME'] = 0"
   ]
  },
  {
   "cell_type": "code",
   "execution_count": 1254,
   "id": "4e8d3ca2",
   "metadata": {},
   "outputs": [
    {
     "data": {
      "text/html": [
       "<div>\n",
       "<style scoped>\n",
       "    .dataframe tbody tr th:only-of-type {\n",
       "        vertical-align: middle;\n",
       "    }\n",
       "\n",
       "    .dataframe tbody tr th {\n",
       "        vertical-align: top;\n",
       "    }\n",
       "\n",
       "    .dataframe thead th {\n",
       "        text-align: right;\n",
       "    }\n",
       "</style>\n",
       "<table border=\"1\" class=\"dataframe\">\n",
       "  <thead>\n",
       "    <tr style=\"text-align: right;\">\n",
       "      <th></th>\n",
       "      <th>MONTH</th>\n",
       "      <th>DAY_OF_MONTH</th>\n",
       "      <th>DAY_OF_WEEK</th>\n",
       "      <th>day_of_week_c</th>\n",
       "      <th>FLIGHT_DATE</th>\n",
       "      <th>MARKETING_CARRIER_CODE</th>\n",
       "      <th>MARKETING_FLIGHT_NUMBER</th>\n",
       "      <th>AIRCRAFT_TAIL_NUMBER</th>\n",
       "      <th>ORIGIN_AIRPORT_CODE</th>\n",
       "      <th>ORIGIN_CITY_NAME</th>\n",
       "      <th>ORIGIN_STATE_CODE</th>\n",
       "      <th>ORIGIN_STATE_NAME</th>\n",
       "      <th>DEST_AIRPORT_CODE</th>\n",
       "      <th>DEST_CITY_NAME</th>\n",
       "      <th>DEST_STATE_CODE</th>\n",
       "      <th>DEST_STATE_NAME</th>\n",
       "      <th>SCHEDULED_DEP_TIME</th>\n",
       "      <th>SCHEDULED_DEP_HOUR</th>\n",
       "      <th>DEP_TIME</th>\n",
       "      <th>DEP_HOUR</th>\n",
       "      <th>DEP_DELAY</th>\n",
       "      <th>DEP_DELAY_NEW</th>\n",
       "      <th>DEP_DEL15</th>\n",
       "      <th>DEP_DELAY_GROUP</th>\n",
       "      <th>DEP_TIME_BLK</th>\n",
       "      <th>TAXI_OUT</th>\n",
       "      <th>WHEELS_OFF</th>\n",
       "      <th>WHEELS_ON</th>\n",
       "      <th>TAXI_IN</th>\n",
       "      <th>CRS_ARR_TIME</th>\n",
       "      <th>ARR_TIME</th>\n",
       "      <th>ARR_DELAY</th>\n",
       "      <th>ARR_DELAY_NEW</th>\n",
       "      <th>ARR_DEL15</th>\n",
       "      <th>ARR_DELAY_GROUP</th>\n",
       "      <th>ARR_TIME_BLK</th>\n",
       "      <th>CANCELLED</th>\n",
       "      <th>CANCELLATION_CODE</th>\n",
       "      <th>CRS_ELAPSED_TIME</th>\n",
       "      <th>ACTUAL_ELAPSED_TIME</th>\n",
       "      <th>AIR_TIME</th>\n",
       "      <th>DISTANCE</th>\n",
       "      <th>DISTANCE_GROUP</th>\n",
       "      <th>CARRIER_DELAY</th>\n",
       "      <th>WEATHER_DELAY</th>\n",
       "      <th>NAS_DELAY</th>\n",
       "      <th>SECURITY_DELAY</th>\n",
       "      <th>LATE_AIRCRAFT_DELAY</th>\n",
       "      <th>DEP_TIME_CLEAN</th>\n",
       "    </tr>\n",
       "  </thead>\n",
       "  <tbody>\n",
       "  </tbody>\n",
       "</table>\n",
       "</div>"
      ],
      "text/plain": [
       "Empty DataFrame\n",
       "Columns: [MONTH, DAY_OF_MONTH, DAY_OF_WEEK, day_of_week_c, FLIGHT_DATE, MARKETING_CARRIER_CODE, MARKETING_FLIGHT_NUMBER, AIRCRAFT_TAIL_NUMBER, ORIGIN_AIRPORT_CODE, ORIGIN_CITY_NAME, ORIGIN_STATE_CODE, ORIGIN_STATE_NAME, DEST_AIRPORT_CODE, DEST_CITY_NAME, DEST_STATE_CODE, DEST_STATE_NAME, SCHEDULED_DEP_TIME, SCHEDULED_DEP_HOUR, DEP_TIME, DEP_HOUR, DEP_DELAY, DEP_DELAY_NEW, DEP_DEL15, DEP_DELAY_GROUP, DEP_TIME_BLK, TAXI_OUT, WHEELS_OFF, WHEELS_ON, TAXI_IN, CRS_ARR_TIME, ARR_TIME, ARR_DELAY, ARR_DELAY_NEW, ARR_DEL15, ARR_DELAY_GROUP, ARR_TIME_BLK, CANCELLED, CANCELLATION_CODE, CRS_ELAPSED_TIME, ACTUAL_ELAPSED_TIME, AIR_TIME, DISTANCE, DISTANCE_GROUP, CARRIER_DELAY, WEATHER_DELAY, NAS_DELAY, SECURITY_DELAY, LATE_AIRCRAFT_DELAY, DEP_TIME_CLEAN]\n",
       "Index: []"
      ]
     },
     "execution_count": 1254,
     "metadata": {},
     "output_type": "execute_result"
    }
   ],
   "source": [
    "# RECHECK\n",
    "\n",
    "# ensure the column is numeric\n",
    "df['DEP_TIME_CLEAN'] = pd.to_numeric(df['DEP_TIME'], errors='coerce')\n",
    "\n",
    "# filter rows with values = 2400\n",
    "bad_times = df[df['DEP_TIME_CLEAN'] == 2400]\n",
    "bad_times"
   ]
  },
  {
   "cell_type": "code",
   "execution_count": 1255,
   "id": "aca266aa",
   "metadata": {},
   "outputs": [],
   "source": [
    "# remove dep_time_clean\n",
    "\n",
    "df = df.drop('DEP_TIME_CLEAN', axis=1)"
   ]
  },
  {
   "cell_type": "markdown",
   "id": "143ce0f3",
   "metadata": {},
   "source": [
    "lets re-evaluate dep_hour now"
   ]
  },
  {
   "cell_type": "code",
   "execution_count": 1256,
   "id": "6aac54b5",
   "metadata": {},
   "outputs": [],
   "source": [
    "df = extract_hour(df, 'DEP_TIME', 'DEP_HOUR')"
   ]
  },
  {
   "cell_type": "code",
   "execution_count": 1257,
   "id": "a3ad0eef",
   "metadata": {},
   "outputs": [
    {
     "name": "stdout",
     "output_type": "stream",
     "text": [
      "DEP_HOUR\n",
      "-1     281937\n",
      " 17    163727\n",
      " 11    157351\n",
      " 6     155794\n",
      " 12    155225\n",
      " 9     152406\n",
      " 8     152213\n",
      " 7     151386\n",
      " 15    151011\n",
      " 16    147706\n",
      " 14    147460\n",
      " 10    146673\n",
      " 13    146259\n",
      " 18    141828\n",
      " 19    131332\n",
      " 20    116144\n",
      " 5      90432\n",
      " 21     70179\n",
      " 22     52109\n",
      " 23     16845\n",
      " 4       7823\n",
      " 0       6045\n",
      " 1       2668\n",
      " 2        754\n",
      " 3        540\n",
      "Name: count, dtype: int64\n",
      "\n",
      "missing values:  0\n",
      "\n",
      "datatype:  int32\n"
     ]
    }
   ],
   "source": [
    "show_unique_missing_dtype(df, 'DEP_HOUR')"
   ]
  },
  {
   "cell_type": "markdown",
   "id": "f292af10",
   "metadata": {},
   "source": [
    "and lets rename both columns to improve readability"
   ]
  },
  {
   "cell_type": "code",
   "execution_count": 1258,
   "id": "9dc24cb6",
   "metadata": {},
   "outputs": [],
   "source": [
    "df.rename(columns={\n",
    "    'DEP_TIME': 'ACTUAL_DEP_TIME',\n",
    "    'DEP_HOUR': 'ACTUAL_DEP_HOUR'\n",
    "}, inplace=True)"
   ]
  },
  {
   "cell_type": "markdown",
   "id": "89d204f8",
   "metadata": {},
   "source": [
    "## DEP_DELAY"
   ]
  },
  {
   "cell_type": "code",
   "execution_count": 1259,
   "id": "0cefa44b",
   "metadata": {},
   "outputs": [
    {
     "name": "stdout",
     "output_type": "stream",
     "text": [
      "DEP_DELAY\n",
      "-5.0       229122\n",
      "-4.0       201527\n",
      "-6.0       194063\n",
      "-3.0       180863\n",
      "-7.0       168413\n",
      "            ...  \n",
      " 1203.0         1\n",
      " 850.0          1\n",
      " 1136.0         1\n",
      " 953.0          1\n",
      " 849.0          1\n",
      "Name: count, Length: 1371, dtype: int64\n",
      "\n",
      "missing values:  281992\n",
      "\n",
      "datatype:  float64\n"
     ]
    }
   ],
   "source": [
    "show_unique_missing_dtype(df, 'DEP_DELAY')"
   ]
  },
  {
   "cell_type": "markdown",
   "id": "41db3a0c",
   "metadata": {},
   "source": [
    "so lets check if its an integer or not and convert accordingly"
   ]
  },
  {
   "cell_type": "code",
   "execution_count": 1260,
   "id": "8a075cde",
   "metadata": {},
   "outputs": [
    {
     "name": "stdout",
     "output_type": "stream",
     "text": [
      "All non-missing  DEP_DELAY  values are integers? {is_every_int}\n",
      "converted successfully\n"
     ]
    }
   ],
   "source": [
    "df = convert_to_int(df, 'DEP_DELAY')"
   ]
  },
  {
   "cell_type": "code",
   "execution_count": 1261,
   "id": "9966208a",
   "metadata": {},
   "outputs": [
    {
     "name": "stdout",
     "output_type": "stream",
     "text": [
      "DEP_DELAY\n",
      "-5      229122\n",
      "-4      201527\n",
      "-6      194063\n",
      "-3      180863\n",
      "-7      168413\n",
      "         ...  \n",
      "1203         1\n",
      "850          1\n",
      "1136         1\n",
      "953          1\n",
      "849          1\n",
      "Name: count, Length: 1371, dtype: Int64\n",
      "\n",
      "missing values:  281992\n",
      "\n",
      "datatype:  Int64\n"
     ]
    }
   ],
   "source": [
    "show_unique_missing_dtype(df, 'DEP_DELAY')"
   ]
  },
  {
   "cell_type": "markdown",
   "id": "c1f3ad45",
   "metadata": {},
   "source": [
    "so now lets deal with missing values by extracting them and their cancelled values"
   ]
  },
  {
   "cell_type": "code",
   "execution_count": 1262,
   "id": "886a94f4",
   "metadata": {},
   "outputs": [
    {
     "name": "stdout",
     "output_type": "stream",
     "text": [
      "CANCELLED\n",
      "1    281992\n",
      "Name: count, dtype: int64\n"
     ]
    }
   ],
   "source": [
    "missing_rows = check_if_cancelled(df, 'DEP_DELAY')"
   ]
  },
  {
   "cell_type": "code",
   "execution_count": 1263,
   "id": "3987a78c",
   "metadata": {},
   "outputs": [
    {
     "data": {
      "text/plain": [
       "MONTH                           0\n",
       "DAY_OF_MONTH                    0\n",
       "DAY_OF_WEEK                     0\n",
       "day_of_week_c                   0\n",
       "FLIGHT_DATE                     0\n",
       "MARKETING_CARRIER_CODE          0\n",
       "MARKETING_FLIGHT_NUMBER         0\n",
       "AIRCRAFT_TAIL_NUMBER            0\n",
       "ORIGIN_AIRPORT_CODE             0\n",
       "ORIGIN_CITY_NAME                0\n",
       "ORIGIN_STATE_CODE               0\n",
       "ORIGIN_STATE_NAME               0\n",
       "DEST_AIRPORT_CODE               0\n",
       "DEST_CITY_NAME                  0\n",
       "DEST_STATE_CODE                 0\n",
       "DEST_STATE_NAME                 0\n",
       "SCHEDULED_DEP_TIME              0\n",
       "SCHEDULED_DEP_HOUR              0\n",
       "ACTUAL_DEP_TIME                 0\n",
       "ACTUAL_DEP_HOUR                 0\n",
       "DEP_DELAY                  281992\n",
       "DEP_DELAY_NEW              281992\n",
       "DEP_DEL15                  281992\n",
       "DEP_DELAY_GROUP            281992\n",
       "DEP_TIME_BLK                    0\n",
       "TAXI_OUT                   281992\n",
       "WHEELS_OFF                 281992\n",
       "WHEELS_ON                  281992\n",
       "TAXI_IN                    281992\n",
       "CRS_ARR_TIME                    0\n",
       "ARR_TIME                   281992\n",
       "ARR_DELAY                  281992\n",
       "ARR_DELAY_NEW              281992\n",
       "ARR_DEL15                  281992\n",
       "ARR_DELAY_GROUP            281992\n",
       "ARR_TIME_BLK                    0\n",
       "CANCELLED                       0\n",
       "CANCELLATION_CODE               0\n",
       "CRS_ELAPSED_TIME                2\n",
       "ACTUAL_ELAPSED_TIME        281992\n",
       "AIR_TIME                   281992\n",
       "DISTANCE                        0\n",
       "DISTANCE_GROUP                  0\n",
       "CARRIER_DELAY              281992\n",
       "WEATHER_DELAY              281992\n",
       "NAS_DELAY                  281992\n",
       "SECURITY_DELAY             281992\n",
       "LATE_AIRCRAFT_DELAY        281992\n",
       "dtype: int64"
      ]
     },
     "execution_count": 1263,
     "metadata": {},
     "output_type": "execute_result"
    }
   ],
   "source": [
    "missing_rows.isna().sum()"
   ]
  },
  {
   "cell_type": "markdown",
   "id": "7e96ccb5",
   "metadata": {},
   "source": [
    "so what do we fill them with? if we put `DEP_DELAY` as -1, it means all our flights were 1 minute early which skews and disrupts our analysis. so we need to fill with such a value that provides us a clear distinction that all these are cancelled. so lets try and extract the min/max values of the column"
   ]
  },
  {
   "cell_type": "code",
   "execution_count": 1264,
   "id": "d2e9cae1",
   "metadata": {},
   "outputs": [
    {
     "name": "stdout",
     "output_type": "stream",
     "text": [
      "min -80\n",
      "max 2814\n"
     ]
    }
   ],
   "source": [
    "min_delay = df['DEP_DELAY'].min()\n",
    "max_delay = df['DEP_DELAY'].max()\n",
    "\n",
    "print(\"min\", min_delay)\n",
    "print(\"max\", max_delay)"
   ]
  },
  {
   "cell_type": "markdown",
   "id": "4c0b8899",
   "metadata": {},
   "source": [
    "okay, lets also extract all the cancelled rows and see what they are filled with"
   ]
  },
  {
   "cell_type": "code",
   "execution_count": 1265,
   "id": "28a75c25",
   "metadata": {},
   "outputs": [
    {
     "name": "stdout",
     "output_type": "stream",
     "text": [
      "DEP_DELAY\n",
      "-5     66\n",
      "-6     54\n",
      "-4     54\n",
      "-7     44\n",
      "-8     42\n",
      "       ..\n",
      "172     1\n",
      "266     1\n",
      "283     1\n",
      "75      1\n",
      "169     1\n",
      "Name: count, Length: 198, dtype: Int64\n",
      "\n",
      "missing values:  281992\n",
      "\n",
      "datatype:  Int64\n"
     ]
    }
   ],
   "source": [
    "cancelled_all = df[df['CANCELLED'] == 1]\n",
    "show_unique_missing_dtype(cancelled_all, 'DEP_DELAY')"
   ]
  },
  {
   "cell_type": "code",
   "execution_count": 1266,
   "id": "ae3750f0",
   "metadata": {},
   "outputs": [
    {
     "data": {
      "text/html": [
       "<div>\n",
       "<style scoped>\n",
       "    .dataframe tbody tr th:only-of-type {\n",
       "        vertical-align: middle;\n",
       "    }\n",
       "\n",
       "    .dataframe tbody tr th {\n",
       "        vertical-align: top;\n",
       "    }\n",
       "\n",
       "    .dataframe thead th {\n",
       "        text-align: right;\n",
       "    }\n",
       "</style>\n",
       "<table border=\"1\" class=\"dataframe\">\n",
       "  <thead>\n",
       "    <tr style=\"text-align: right;\">\n",
       "      <th></th>\n",
       "      <th>MONTH</th>\n",
       "      <th>DAY_OF_MONTH</th>\n",
       "      <th>DAY_OF_WEEK</th>\n",
       "      <th>day_of_week_c</th>\n",
       "      <th>FLIGHT_DATE</th>\n",
       "      <th>MARKETING_CARRIER_CODE</th>\n",
       "      <th>MARKETING_FLIGHT_NUMBER</th>\n",
       "      <th>AIRCRAFT_TAIL_NUMBER</th>\n",
       "      <th>ORIGIN_AIRPORT_CODE</th>\n",
       "      <th>ORIGIN_CITY_NAME</th>\n",
       "      <th>ORIGIN_STATE_CODE</th>\n",
       "      <th>ORIGIN_STATE_NAME</th>\n",
       "      <th>DEST_AIRPORT_CODE</th>\n",
       "      <th>DEST_CITY_NAME</th>\n",
       "      <th>DEST_STATE_CODE</th>\n",
       "      <th>DEST_STATE_NAME</th>\n",
       "      <th>SCHEDULED_DEP_TIME</th>\n",
       "      <th>SCHEDULED_DEP_HOUR</th>\n",
       "      <th>ACTUAL_DEP_TIME</th>\n",
       "      <th>ACTUAL_DEP_HOUR</th>\n",
       "      <th>DEP_DELAY</th>\n",
       "      <th>DEP_DELAY_NEW</th>\n",
       "      <th>DEP_DEL15</th>\n",
       "      <th>DEP_DELAY_GROUP</th>\n",
       "      <th>DEP_TIME_BLK</th>\n",
       "      <th>TAXI_OUT</th>\n",
       "      <th>WHEELS_OFF</th>\n",
       "      <th>WHEELS_ON</th>\n",
       "      <th>TAXI_IN</th>\n",
       "      <th>CRS_ARR_TIME</th>\n",
       "      <th>ARR_TIME</th>\n",
       "      <th>ARR_DELAY</th>\n",
       "      <th>ARR_DELAY_NEW</th>\n",
       "      <th>ARR_DEL15</th>\n",
       "      <th>ARR_DELAY_GROUP</th>\n",
       "      <th>ARR_TIME_BLK</th>\n",
       "      <th>CANCELLED</th>\n",
       "      <th>CANCELLATION_CODE</th>\n",
       "      <th>CRS_ELAPSED_TIME</th>\n",
       "      <th>ACTUAL_ELAPSED_TIME</th>\n",
       "      <th>AIR_TIME</th>\n",
       "      <th>DISTANCE</th>\n",
       "      <th>DISTANCE_GROUP</th>\n",
       "      <th>CARRIER_DELAY</th>\n",
       "      <th>WEATHER_DELAY</th>\n",
       "      <th>NAS_DELAY</th>\n",
       "      <th>SECURITY_DELAY</th>\n",
       "      <th>LATE_AIRCRAFT_DELAY</th>\n",
       "    </tr>\n",
       "  </thead>\n",
       "  <tbody>\n",
       "    <tr>\n",
       "      <th>35</th>\n",
       "      <td>1</td>\n",
       "      <td>1</td>\n",
       "      <td>3</td>\n",
       "      <td>Wed</td>\n",
       "      <td>2020-01-01</td>\n",
       "      <td>WN</td>\n",
       "      <td>6173</td>\n",
       "      <td>N7831B</td>\n",
       "      <td>PDX</td>\n",
       "      <td>Portland, OR</td>\n",
       "      <td>OR</td>\n",
       "      <td>Oregon</td>\n",
       "      <td>LAS</td>\n",
       "      <td>Las Vegas, NV</td>\n",
       "      <td>NV</td>\n",
       "      <td>Nevada</td>\n",
       "      <td>700</td>\n",
       "      <td>7</td>\n",
       "      <td>-1</td>\n",
       "      <td>-1</td>\n",
       "      <td>&lt;NA&gt;</td>\n",
       "      <td>NaN</td>\n",
       "      <td>NaN</td>\n",
       "      <td>NaN</td>\n",
       "      <td>0700-0759</td>\n",
       "      <td>NaN</td>\n",
       "      <td>NaN</td>\n",
       "      <td>NaN</td>\n",
       "      <td>NaN</td>\n",
       "      <td>905</td>\n",
       "      <td>NaN</td>\n",
       "      <td>NaN</td>\n",
       "      <td>NaN</td>\n",
       "      <td>NaN</td>\n",
       "      <td>NaN</td>\n",
       "      <td>0900-0959</td>\n",
       "      <td>1</td>\n",
       "      <td>A</td>\n",
       "      <td>125.0</td>\n",
       "      <td>NaN</td>\n",
       "      <td>NaN</td>\n",
       "      <td>763</td>\n",
       "      <td>4</td>\n",
       "      <td>NaN</td>\n",
       "      <td>NaN</td>\n",
       "      <td>NaN</td>\n",
       "      <td>NaN</td>\n",
       "      <td>NaN</td>\n",
       "    </tr>\n",
       "    <tr>\n",
       "      <th>839</th>\n",
       "      <td>1</td>\n",
       "      <td>1</td>\n",
       "      <td>3</td>\n",
       "      <td>Wed</td>\n",
       "      <td>2020-01-01</td>\n",
       "      <td>WN</td>\n",
       "      <td>4433</td>\n",
       "      <td>N488WN</td>\n",
       "      <td>SNA</td>\n",
       "      <td>Santa Ana, CA</td>\n",
       "      <td>CA</td>\n",
       "      <td>California</td>\n",
       "      <td>OAK</td>\n",
       "      <td>Oakland, CA</td>\n",
       "      <td>CA</td>\n",
       "      <td>California</td>\n",
       "      <td>730</td>\n",
       "      <td>7</td>\n",
       "      <td>-1</td>\n",
       "      <td>-1</td>\n",
       "      <td>&lt;NA&gt;</td>\n",
       "      <td>NaN</td>\n",
       "      <td>NaN</td>\n",
       "      <td>NaN</td>\n",
       "      <td>0700-0759</td>\n",
       "      <td>NaN</td>\n",
       "      <td>NaN</td>\n",
       "      <td>NaN</td>\n",
       "      <td>NaN</td>\n",
       "      <td>900</td>\n",
       "      <td>NaN</td>\n",
       "      <td>NaN</td>\n",
       "      <td>NaN</td>\n",
       "      <td>NaN</td>\n",
       "      <td>NaN</td>\n",
       "      <td>0900-0959</td>\n",
       "      <td>1</td>\n",
       "      <td>A</td>\n",
       "      <td>90.0</td>\n",
       "      <td>NaN</td>\n",
       "      <td>NaN</td>\n",
       "      <td>371</td>\n",
       "      <td>2</td>\n",
       "      <td>NaN</td>\n",
       "      <td>NaN</td>\n",
       "      <td>NaN</td>\n",
       "      <td>NaN</td>\n",
       "      <td>NaN</td>\n",
       "    </tr>\n",
       "    <tr>\n",
       "      <th>1266</th>\n",
       "      <td>1</td>\n",
       "      <td>20</td>\n",
       "      <td>1</td>\n",
       "      <td>Mon</td>\n",
       "      <td>2020-01-20</td>\n",
       "      <td>WN</td>\n",
       "      <td>423</td>\n",
       "      <td>N209WN</td>\n",
       "      <td>DAL</td>\n",
       "      <td>Dallas, TX</td>\n",
       "      <td>TX</td>\n",
       "      <td>Texas</td>\n",
       "      <td>PHX</td>\n",
       "      <td>Phoenix, AZ</td>\n",
       "      <td>AZ</td>\n",
       "      <td>Arizona</td>\n",
       "      <td>600</td>\n",
       "      <td>6</td>\n",
       "      <td>-1</td>\n",
       "      <td>-1</td>\n",
       "      <td>&lt;NA&gt;</td>\n",
       "      <td>NaN</td>\n",
       "      <td>NaN</td>\n",
       "      <td>NaN</td>\n",
       "      <td>0600-0659</td>\n",
       "      <td>NaN</td>\n",
       "      <td>NaN</td>\n",
       "      <td>NaN</td>\n",
       "      <td>NaN</td>\n",
       "      <td>745</td>\n",
       "      <td>NaN</td>\n",
       "      <td>NaN</td>\n",
       "      <td>NaN</td>\n",
       "      <td>NaN</td>\n",
       "      <td>NaN</td>\n",
       "      <td>0700-0759</td>\n",
       "      <td>1</td>\n",
       "      <td>A</td>\n",
       "      <td>165.0</td>\n",
       "      <td>NaN</td>\n",
       "      <td>NaN</td>\n",
       "      <td>879</td>\n",
       "      <td>4</td>\n",
       "      <td>NaN</td>\n",
       "      <td>NaN</td>\n",
       "      <td>NaN</td>\n",
       "      <td>NaN</td>\n",
       "      <td>NaN</td>\n",
       "    </tr>\n",
       "    <tr>\n",
       "      <th>1283</th>\n",
       "      <td>1</td>\n",
       "      <td>20</td>\n",
       "      <td>1</td>\n",
       "      <td>Mon</td>\n",
       "      <td>2020-01-20</td>\n",
       "      <td>WN</td>\n",
       "      <td>1519</td>\n",
       "      <td>N467WN</td>\n",
       "      <td>DAL</td>\n",
       "      <td>Dallas, TX</td>\n",
       "      <td>TX</td>\n",
       "      <td>Texas</td>\n",
       "      <td>SAT</td>\n",
       "      <td>San Antonio, TX</td>\n",
       "      <td>TX</td>\n",
       "      <td>Texas</td>\n",
       "      <td>720</td>\n",
       "      <td>7</td>\n",
       "      <td>-1</td>\n",
       "      <td>-1</td>\n",
       "      <td>&lt;NA&gt;</td>\n",
       "      <td>NaN</td>\n",
       "      <td>NaN</td>\n",
       "      <td>NaN</td>\n",
       "      <td>0700-0759</td>\n",
       "      <td>NaN</td>\n",
       "      <td>NaN</td>\n",
       "      <td>NaN</td>\n",
       "      <td>NaN</td>\n",
       "      <td>830</td>\n",
       "      <td>NaN</td>\n",
       "      <td>NaN</td>\n",
       "      <td>NaN</td>\n",
       "      <td>NaN</td>\n",
       "      <td>NaN</td>\n",
       "      <td>0800-0859</td>\n",
       "      <td>1</td>\n",
       "      <td>A</td>\n",
       "      <td>70.0</td>\n",
       "      <td>NaN</td>\n",
       "      <td>NaN</td>\n",
       "      <td>247</td>\n",
       "      <td>1</td>\n",
       "      <td>NaN</td>\n",
       "      <td>NaN</td>\n",
       "      <td>NaN</td>\n",
       "      <td>NaN</td>\n",
       "      <td>NaN</td>\n",
       "    </tr>\n",
       "    <tr>\n",
       "      <th>1323</th>\n",
       "      <td>1</td>\n",
       "      <td>30</td>\n",
       "      <td>4</td>\n",
       "      <td>Thu</td>\n",
       "      <td>2020-01-30</td>\n",
       "      <td>WN</td>\n",
       "      <td>1845</td>\n",
       "      <td>N741SA</td>\n",
       "      <td>MSY</td>\n",
       "      <td>New Orleans, LA</td>\n",
       "      <td>LA</td>\n",
       "      <td>Louisiana</td>\n",
       "      <td>HOU</td>\n",
       "      <td>Houston, TX</td>\n",
       "      <td>TX</td>\n",
       "      <td>Texas</td>\n",
       "      <td>605</td>\n",
       "      <td>6</td>\n",
       "      <td>-1</td>\n",
       "      <td>-1</td>\n",
       "      <td>&lt;NA&gt;</td>\n",
       "      <td>NaN</td>\n",
       "      <td>NaN</td>\n",
       "      <td>NaN</td>\n",
       "      <td>0600-0659</td>\n",
       "      <td>NaN</td>\n",
       "      <td>NaN</td>\n",
       "      <td>NaN</td>\n",
       "      <td>NaN</td>\n",
       "      <td>725</td>\n",
       "      <td>NaN</td>\n",
       "      <td>NaN</td>\n",
       "      <td>NaN</td>\n",
       "      <td>NaN</td>\n",
       "      <td>NaN</td>\n",
       "      <td>0700-0759</td>\n",
       "      <td>1</td>\n",
       "      <td>A</td>\n",
       "      <td>80.0</td>\n",
       "      <td>NaN</td>\n",
       "      <td>NaN</td>\n",
       "      <td>302</td>\n",
       "      <td>2</td>\n",
       "      <td>NaN</td>\n",
       "      <td>NaN</td>\n",
       "      <td>NaN</td>\n",
       "      <td>NaN</td>\n",
       "      <td>NaN</td>\n",
       "    </tr>\n",
       "    <tr>\n",
       "      <th>...</th>\n",
       "      <td>...</td>\n",
       "      <td>...</td>\n",
       "      <td>...</td>\n",
       "      <td>...</td>\n",
       "      <td>...</td>\n",
       "      <td>...</td>\n",
       "      <td>...</td>\n",
       "      <td>...</td>\n",
       "      <td>...</td>\n",
       "      <td>...</td>\n",
       "      <td>...</td>\n",
       "      <td>...</td>\n",
       "      <td>...</td>\n",
       "      <td>...</td>\n",
       "      <td>...</td>\n",
       "      <td>...</td>\n",
       "      <td>...</td>\n",
       "      <td>...</td>\n",
       "      <td>...</td>\n",
       "      <td>...</td>\n",
       "      <td>...</td>\n",
       "      <td>...</td>\n",
       "      <td>...</td>\n",
       "      <td>...</td>\n",
       "      <td>...</td>\n",
       "      <td>...</td>\n",
       "      <td>...</td>\n",
       "      <td>...</td>\n",
       "      <td>...</td>\n",
       "      <td>...</td>\n",
       "      <td>...</td>\n",
       "      <td>...</td>\n",
       "      <td>...</td>\n",
       "      <td>...</td>\n",
       "      <td>...</td>\n",
       "      <td>...</td>\n",
       "      <td>...</td>\n",
       "      <td>...</td>\n",
       "      <td>...</td>\n",
       "      <td>...</td>\n",
       "      <td>...</td>\n",
       "      <td>...</td>\n",
       "      <td>...</td>\n",
       "      <td>...</td>\n",
       "      <td>...</td>\n",
       "      <td>...</td>\n",
       "      <td>...</td>\n",
       "      <td>...</td>\n",
       "    </tr>\n",
       "    <tr>\n",
       "      <th>2744984</th>\n",
       "      <td>6</td>\n",
       "      <td>9</td>\n",
       "      <td>2</td>\n",
       "      <td>Tue</td>\n",
       "      <td>2020-06-09</td>\n",
       "      <td>AS</td>\n",
       "      <td>919</td>\n",
       "      <td>N612AS</td>\n",
       "      <td>AKN</td>\n",
       "      <td>King Salmon, AK</td>\n",
       "      <td>AK</td>\n",
       "      <td>Alaska</td>\n",
       "      <td>ANC</td>\n",
       "      <td>Anchorage, AK</td>\n",
       "      <td>AK</td>\n",
       "      <td>Alaska</td>\n",
       "      <td>925</td>\n",
       "      <td>9</td>\n",
       "      <td>-1</td>\n",
       "      <td>-1</td>\n",
       "      <td>&lt;NA&gt;</td>\n",
       "      <td>NaN</td>\n",
       "      <td>NaN</td>\n",
       "      <td>NaN</td>\n",
       "      <td>0900-0959</td>\n",
       "      <td>NaN</td>\n",
       "      <td>NaN</td>\n",
       "      <td>NaN</td>\n",
       "      <td>NaN</td>\n",
       "      <td>1027</td>\n",
       "      <td>NaN</td>\n",
       "      <td>NaN</td>\n",
       "      <td>NaN</td>\n",
       "      <td>NaN</td>\n",
       "      <td>NaN</td>\n",
       "      <td>1000-1059</td>\n",
       "      <td>1</td>\n",
       "      <td>B</td>\n",
       "      <td>62.0</td>\n",
       "      <td>NaN</td>\n",
       "      <td>NaN</td>\n",
       "      <td>288</td>\n",
       "      <td>2</td>\n",
       "      <td>NaN</td>\n",
       "      <td>NaN</td>\n",
       "      <td>NaN</td>\n",
       "      <td>NaN</td>\n",
       "      <td>NaN</td>\n",
       "    </tr>\n",
       "    <tr>\n",
       "      <th>2744985</th>\n",
       "      <td>6</td>\n",
       "      <td>9</td>\n",
       "      <td>2</td>\n",
       "      <td>Tue</td>\n",
       "      <td>2020-06-09</td>\n",
       "      <td>AS</td>\n",
       "      <td>920</td>\n",
       "      <td>N612AS</td>\n",
       "      <td>ANC</td>\n",
       "      <td>Anchorage, AK</td>\n",
       "      <td>AK</td>\n",
       "      <td>Alaska</td>\n",
       "      <td>AKN</td>\n",
       "      <td>King Salmon, AK</td>\n",
       "      <td>AK</td>\n",
       "      <td>Alaska</td>\n",
       "      <td>730</td>\n",
       "      <td>7</td>\n",
       "      <td>735</td>\n",
       "      <td>7</td>\n",
       "      <td>5</td>\n",
       "      <td>5.0</td>\n",
       "      <td>0.0</td>\n",
       "      <td>0.0</td>\n",
       "      <td>0700-0759</td>\n",
       "      <td>14.0</td>\n",
       "      <td>749.0</td>\n",
       "      <td>NaN</td>\n",
       "      <td>NaN</td>\n",
       "      <td>832</td>\n",
       "      <td>NaN</td>\n",
       "      <td>NaN</td>\n",
       "      <td>NaN</td>\n",
       "      <td>NaN</td>\n",
       "      <td>NaN</td>\n",
       "      <td>0800-0859</td>\n",
       "      <td>1</td>\n",
       "      <td>B</td>\n",
       "      <td>62.0</td>\n",
       "      <td>NaN</td>\n",
       "      <td>NaN</td>\n",
       "      <td>288</td>\n",
       "      <td>2</td>\n",
       "      <td>NaN</td>\n",
       "      <td>NaN</td>\n",
       "      <td>NaN</td>\n",
       "      <td>NaN</td>\n",
       "      <td>NaN</td>\n",
       "    </tr>\n",
       "    <tr>\n",
       "      <th>2745802</th>\n",
       "      <td>6</td>\n",
       "      <td>13</td>\n",
       "      <td>6</td>\n",
       "      <td>Sat</td>\n",
       "      <td>2020-06-13</td>\n",
       "      <td>AS</td>\n",
       "      <td>919</td>\n",
       "      <td>N615AS</td>\n",
       "      <td>AKN</td>\n",
       "      <td>King Salmon, AK</td>\n",
       "      <td>AK</td>\n",
       "      <td>Alaska</td>\n",
       "      <td>ANC</td>\n",
       "      <td>Anchorage, AK</td>\n",
       "      <td>AK</td>\n",
       "      <td>Alaska</td>\n",
       "      <td>925</td>\n",
       "      <td>9</td>\n",
       "      <td>-1</td>\n",
       "      <td>-1</td>\n",
       "      <td>&lt;NA&gt;</td>\n",
       "      <td>NaN</td>\n",
       "      <td>NaN</td>\n",
       "      <td>NaN</td>\n",
       "      <td>0900-0959</td>\n",
       "      <td>NaN</td>\n",
       "      <td>NaN</td>\n",
       "      <td>NaN</td>\n",
       "      <td>NaN</td>\n",
       "      <td>1027</td>\n",
       "      <td>NaN</td>\n",
       "      <td>NaN</td>\n",
       "      <td>NaN</td>\n",
       "      <td>NaN</td>\n",
       "      <td>NaN</td>\n",
       "      <td>1000-1059</td>\n",
       "      <td>1</td>\n",
       "      <td>A</td>\n",
       "      <td>62.0</td>\n",
       "      <td>NaN</td>\n",
       "      <td>NaN</td>\n",
       "      <td>288</td>\n",
       "      <td>2</td>\n",
       "      <td>NaN</td>\n",
       "      <td>NaN</td>\n",
       "      <td>NaN</td>\n",
       "      <td>NaN</td>\n",
       "      <td>NaN</td>\n",
       "    </tr>\n",
       "    <tr>\n",
       "      <th>2745803</th>\n",
       "      <td>6</td>\n",
       "      <td>13</td>\n",
       "      <td>6</td>\n",
       "      <td>Sat</td>\n",
       "      <td>2020-06-13</td>\n",
       "      <td>AS</td>\n",
       "      <td>920</td>\n",
       "      <td>N615AS</td>\n",
       "      <td>ANC</td>\n",
       "      <td>Anchorage, AK</td>\n",
       "      <td>AK</td>\n",
       "      <td>Alaska</td>\n",
       "      <td>AKN</td>\n",
       "      <td>King Salmon, AK</td>\n",
       "      <td>AK</td>\n",
       "      <td>Alaska</td>\n",
       "      <td>730</td>\n",
       "      <td>7</td>\n",
       "      <td>-1</td>\n",
       "      <td>-1</td>\n",
       "      <td>&lt;NA&gt;</td>\n",
       "      <td>NaN</td>\n",
       "      <td>NaN</td>\n",
       "      <td>NaN</td>\n",
       "      <td>0700-0759</td>\n",
       "      <td>NaN</td>\n",
       "      <td>NaN</td>\n",
       "      <td>NaN</td>\n",
       "      <td>NaN</td>\n",
       "      <td>832</td>\n",
       "      <td>NaN</td>\n",
       "      <td>NaN</td>\n",
       "      <td>NaN</td>\n",
       "      <td>NaN</td>\n",
       "      <td>NaN</td>\n",
       "      <td>0800-0859</td>\n",
       "      <td>1</td>\n",
       "      <td>A</td>\n",
       "      <td>62.0</td>\n",
       "      <td>NaN</td>\n",
       "      <td>NaN</td>\n",
       "      <td>288</td>\n",
       "      <td>2</td>\n",
       "      <td>NaN</td>\n",
       "      <td>NaN</td>\n",
       "      <td>NaN</td>\n",
       "      <td>NaN</td>\n",
       "      <td>NaN</td>\n",
       "    </tr>\n",
       "    <tr>\n",
       "      <th>2745825</th>\n",
       "      <td>6</td>\n",
       "      <td>13</td>\n",
       "      <td>6</td>\n",
       "      <td>Sat</td>\n",
       "      <td>2020-06-13</td>\n",
       "      <td>AS</td>\n",
       "      <td>1116</td>\n",
       "      <td>N431AS</td>\n",
       "      <td>ANC</td>\n",
       "      <td>Anchorage, AK</td>\n",
       "      <td>AK</td>\n",
       "      <td>Alaska</td>\n",
       "      <td>SEA</td>\n",
       "      <td>Seattle, WA</td>\n",
       "      <td>WA</td>\n",
       "      <td>Washington</td>\n",
       "      <td>1440</td>\n",
       "      <td>14</td>\n",
       "      <td>-1</td>\n",
       "      <td>-1</td>\n",
       "      <td>&lt;NA&gt;</td>\n",
       "      <td>NaN</td>\n",
       "      <td>NaN</td>\n",
       "      <td>NaN</td>\n",
       "      <td>1400-1459</td>\n",
       "      <td>NaN</td>\n",
       "      <td>NaN</td>\n",
       "      <td>NaN</td>\n",
       "      <td>NaN</td>\n",
       "      <td>1857</td>\n",
       "      <td>NaN</td>\n",
       "      <td>NaN</td>\n",
       "      <td>NaN</td>\n",
       "      <td>NaN</td>\n",
       "      <td>NaN</td>\n",
       "      <td>1800-1859</td>\n",
       "      <td>1</td>\n",
       "      <td>A</td>\n",
       "      <td>197.0</td>\n",
       "      <td>NaN</td>\n",
       "      <td>NaN</td>\n",
       "      <td>1448</td>\n",
       "      <td>6</td>\n",
       "      <td>NaN</td>\n",
       "      <td>NaN</td>\n",
       "      <td>NaN</td>\n",
       "      <td>NaN</td>\n",
       "      <td>NaN</td>\n",
       "    </tr>\n",
       "  </tbody>\n",
       "</table>\n",
       "<p>282926 rows × 48 columns</p>\n",
       "</div>"
      ],
      "text/plain": [
       "         MONTH  DAY_OF_MONTH  DAY_OF_WEEK day_of_week_c FLIGHT_DATE  \\\n",
       "35           1             1            3           Wed  2020-01-01   \n",
       "839          1             1            3           Wed  2020-01-01   \n",
       "1266         1            20            1           Mon  2020-01-20   \n",
       "1283         1            20            1           Mon  2020-01-20   \n",
       "1323         1            30            4           Thu  2020-01-30   \n",
       "...        ...           ...          ...           ...         ...   \n",
       "2744984      6             9            2           Tue  2020-06-09   \n",
       "2744985      6             9            2           Tue  2020-06-09   \n",
       "2745802      6            13            6           Sat  2020-06-13   \n",
       "2745803      6            13            6           Sat  2020-06-13   \n",
       "2745825      6            13            6           Sat  2020-06-13   \n",
       "\n",
       "        MARKETING_CARRIER_CODE  MARKETING_FLIGHT_NUMBER AIRCRAFT_TAIL_NUMBER  \\\n",
       "35                          WN                     6173               N7831B   \n",
       "839                         WN                     4433               N488WN   \n",
       "1266                        WN                      423               N209WN   \n",
       "1283                        WN                     1519               N467WN   \n",
       "1323                        WN                     1845               N741SA   \n",
       "...                        ...                      ...                  ...   \n",
       "2744984                     AS                      919               N612AS   \n",
       "2744985                     AS                      920               N612AS   \n",
       "2745802                     AS                      919               N615AS   \n",
       "2745803                     AS                      920               N615AS   \n",
       "2745825                     AS                     1116               N431AS   \n",
       "\n",
       "        ORIGIN_AIRPORT_CODE ORIGIN_CITY_NAME ORIGIN_STATE_CODE  \\\n",
       "35                      PDX     Portland, OR                OR   \n",
       "839                     SNA    Santa Ana, CA                CA   \n",
       "1266                    DAL       Dallas, TX                TX   \n",
       "1283                    DAL       Dallas, TX                TX   \n",
       "1323                    MSY  New Orleans, LA                LA   \n",
       "...                     ...              ...               ...   \n",
       "2744984                 AKN  King Salmon, AK                AK   \n",
       "2744985                 ANC    Anchorage, AK                AK   \n",
       "2745802                 AKN  King Salmon, AK                AK   \n",
       "2745803                 ANC    Anchorage, AK                AK   \n",
       "2745825                 ANC    Anchorage, AK                AK   \n",
       "\n",
       "        ORIGIN_STATE_NAME DEST_AIRPORT_CODE   DEST_CITY_NAME DEST_STATE_CODE  \\\n",
       "35                 Oregon               LAS    Las Vegas, NV              NV   \n",
       "839            California               OAK      Oakland, CA              CA   \n",
       "1266                Texas               PHX      Phoenix, AZ              AZ   \n",
       "1283                Texas               SAT  San Antonio, TX              TX   \n",
       "1323            Louisiana               HOU      Houston, TX              TX   \n",
       "...                   ...               ...              ...             ...   \n",
       "2744984            Alaska               ANC    Anchorage, AK              AK   \n",
       "2744985            Alaska               AKN  King Salmon, AK              AK   \n",
       "2745802            Alaska               ANC    Anchorage, AK              AK   \n",
       "2745803            Alaska               AKN  King Salmon, AK              AK   \n",
       "2745825            Alaska               SEA      Seattle, WA              WA   \n",
       "\n",
       "        DEST_STATE_NAME  SCHEDULED_DEP_TIME  SCHEDULED_DEP_HOUR  \\\n",
       "35               Nevada                 700                   7   \n",
       "839          California                 730                   7   \n",
       "1266            Arizona                 600                   6   \n",
       "1283              Texas                 720                   7   \n",
       "1323              Texas                 605                   6   \n",
       "...                 ...                 ...                 ...   \n",
       "2744984          Alaska                 925                   9   \n",
       "2744985          Alaska                 730                   7   \n",
       "2745802          Alaska                 925                   9   \n",
       "2745803          Alaska                 730                   7   \n",
       "2745825      Washington                1440                  14   \n",
       "\n",
       "         ACTUAL_DEP_TIME  ACTUAL_DEP_HOUR  DEP_DELAY  DEP_DELAY_NEW  \\\n",
       "35                    -1               -1       <NA>            NaN   \n",
       "839                   -1               -1       <NA>            NaN   \n",
       "1266                  -1               -1       <NA>            NaN   \n",
       "1283                  -1               -1       <NA>            NaN   \n",
       "1323                  -1               -1       <NA>            NaN   \n",
       "...                  ...              ...        ...            ...   \n",
       "2744984               -1               -1       <NA>            NaN   \n",
       "2744985              735                7          5            5.0   \n",
       "2745802               -1               -1       <NA>            NaN   \n",
       "2745803               -1               -1       <NA>            NaN   \n",
       "2745825               -1               -1       <NA>            NaN   \n",
       "\n",
       "         DEP_DEL15  DEP_DELAY_GROUP DEP_TIME_BLK  TAXI_OUT  WHEELS_OFF  \\\n",
       "35             NaN              NaN    0700-0759       NaN         NaN   \n",
       "839            NaN              NaN    0700-0759       NaN         NaN   \n",
       "1266           NaN              NaN    0600-0659       NaN         NaN   \n",
       "1283           NaN              NaN    0700-0759       NaN         NaN   \n",
       "1323           NaN              NaN    0600-0659       NaN         NaN   \n",
       "...            ...              ...          ...       ...         ...   \n",
       "2744984        NaN              NaN    0900-0959       NaN         NaN   \n",
       "2744985        0.0              0.0    0700-0759      14.0       749.0   \n",
       "2745802        NaN              NaN    0900-0959       NaN         NaN   \n",
       "2745803        NaN              NaN    0700-0759       NaN         NaN   \n",
       "2745825        NaN              NaN    1400-1459       NaN         NaN   \n",
       "\n",
       "         WHEELS_ON  TAXI_IN  CRS_ARR_TIME  ARR_TIME  ARR_DELAY  ARR_DELAY_NEW  \\\n",
       "35             NaN      NaN           905       NaN        NaN            NaN   \n",
       "839            NaN      NaN           900       NaN        NaN            NaN   \n",
       "1266           NaN      NaN           745       NaN        NaN            NaN   \n",
       "1283           NaN      NaN           830       NaN        NaN            NaN   \n",
       "1323           NaN      NaN           725       NaN        NaN            NaN   \n",
       "...            ...      ...           ...       ...        ...            ...   \n",
       "2744984        NaN      NaN          1027       NaN        NaN            NaN   \n",
       "2744985        NaN      NaN           832       NaN        NaN            NaN   \n",
       "2745802        NaN      NaN          1027       NaN        NaN            NaN   \n",
       "2745803        NaN      NaN           832       NaN        NaN            NaN   \n",
       "2745825        NaN      NaN          1857       NaN        NaN            NaN   \n",
       "\n",
       "         ARR_DEL15  ARR_DELAY_GROUP ARR_TIME_BLK  CANCELLED CANCELLATION_CODE  \\\n",
       "35             NaN              NaN    0900-0959          1                 A   \n",
       "839            NaN              NaN    0900-0959          1                 A   \n",
       "1266           NaN              NaN    0700-0759          1                 A   \n",
       "1283           NaN              NaN    0800-0859          1                 A   \n",
       "1323           NaN              NaN    0700-0759          1                 A   \n",
       "...            ...              ...          ...        ...               ...   \n",
       "2744984        NaN              NaN    1000-1059          1                 B   \n",
       "2744985        NaN              NaN    0800-0859          1                 B   \n",
       "2745802        NaN              NaN    1000-1059          1                 A   \n",
       "2745803        NaN              NaN    0800-0859          1                 A   \n",
       "2745825        NaN              NaN    1800-1859          1                 A   \n",
       "\n",
       "         CRS_ELAPSED_TIME  ACTUAL_ELAPSED_TIME  AIR_TIME  DISTANCE  \\\n",
       "35                  125.0                  NaN       NaN       763   \n",
       "839                  90.0                  NaN       NaN       371   \n",
       "1266                165.0                  NaN       NaN       879   \n",
       "1283                 70.0                  NaN       NaN       247   \n",
       "1323                 80.0                  NaN       NaN       302   \n",
       "...                   ...                  ...       ...       ...   \n",
       "2744984              62.0                  NaN       NaN       288   \n",
       "2744985              62.0                  NaN       NaN       288   \n",
       "2745802              62.0                  NaN       NaN       288   \n",
       "2745803              62.0                  NaN       NaN       288   \n",
       "2745825             197.0                  NaN       NaN      1448   \n",
       "\n",
       "         DISTANCE_GROUP  CARRIER_DELAY  WEATHER_DELAY  NAS_DELAY  \\\n",
       "35                    4            NaN            NaN        NaN   \n",
       "839                   2            NaN            NaN        NaN   \n",
       "1266                  4            NaN            NaN        NaN   \n",
       "1283                  1            NaN            NaN        NaN   \n",
       "1323                  2            NaN            NaN        NaN   \n",
       "...                 ...            ...            ...        ...   \n",
       "2744984               2            NaN            NaN        NaN   \n",
       "2744985               2            NaN            NaN        NaN   \n",
       "2745802               2            NaN            NaN        NaN   \n",
       "2745803               2            NaN            NaN        NaN   \n",
       "2745825               6            NaN            NaN        NaN   \n",
       "\n",
       "         SECURITY_DELAY  LATE_AIRCRAFT_DELAY  \n",
       "35                  NaN                  NaN  \n",
       "839                 NaN                  NaN  \n",
       "1266                NaN                  NaN  \n",
       "1283                NaN                  NaN  \n",
       "1323                NaN                  NaN  \n",
       "...                 ...                  ...  \n",
       "2744984             NaN                  NaN  \n",
       "2744985             NaN                  NaN  \n",
       "2745802             NaN                  NaN  \n",
       "2745803             NaN                  NaN  \n",
       "2745825             NaN                  NaN  \n",
       "\n",
       "[282926 rows x 48 columns]"
      ]
     },
     "execution_count": 1266,
     "metadata": {},
     "output_type": "execute_result"
    }
   ],
   "source": [
    "cancelled_all"
   ]
  },
  {
   "cell_type": "markdown",
   "id": "28d9b00f",
   "metadata": {},
   "source": [
    "so this is giving us information that out of the 280k cancelled flights, roughly 1000 flights did take off before being cancelled - so they do have values for `dep_time` and `dep_delay`. now we dont want to loose that data. so lets fill the remaining null values with 9999 as its a unique placeholder which lets us know this flight never went. it was cancelled. we will do the same for `arr_delay`"
   ]
  },
  {
   "cell_type": "code",
   "execution_count": 1267,
   "id": "54ec2d08",
   "metadata": {},
   "outputs": [],
   "source": [
    "cols_to_fill = ['DEP_DELAY', 'ARR_DELAY']"
   ]
  },
  {
   "cell_type": "code",
   "execution_count": 1268,
   "id": "ab03d8a3",
   "metadata": {},
   "outputs": [],
   "source": [
    "# Loop over each column and fill NaNs with 0 in the original df using cancelled_only's index\n",
    "for col in cols_to_fill:\n",
    "    missing_idx = missing_rows[missing_rows[col].isna()].index\n",
    "    df.loc[missing_idx, col] = 9999"
   ]
  },
  {
   "cell_type": "markdown",
   "id": "6857d3d8",
   "metadata": {},
   "source": [
    "so lets make all these null columns as -1 to show that it is a cancelled flight"
   ]
  },
  {
   "cell_type": "code",
   "execution_count": 1269,
   "id": "908c12ff",
   "metadata": {},
   "outputs": [],
   "source": [
    "cols_to_fill = ['DEP_DELAY_NEW', 'TAXI_OUT', 'TAXI_IN', 'WHEELS_OFF', 'WHEELS_ON', 'ARR_TIME', 'ARR_DELAY_NEW', 'CARRIER_DELAY', 'WEATHER_DELAY', 'NAS_DELAY', 'SECURITY_DELAY', 'LATE_AIRCRAFT_DELAY']"
   ]
  },
  {
   "cell_type": "code",
   "execution_count": 1270,
   "id": "7793fdc0",
   "metadata": {},
   "outputs": [],
   "source": [
    "# Loop over each column and fill NaNs with 0 in the original df using cancelled_only's index\n",
    "for col in cols_to_fill:\n",
    "    missing_idx = missing_rows[missing_rows[col].isna()].index\n",
    "    df.loc[missing_idx, col] = -1"
   ]
  },
  {
   "cell_type": "markdown",
   "id": "49510fc4",
   "metadata": {},
   "source": [
    "and now lets fill elapsed time and etc with 0 to indicate it was of 0 time"
   ]
  },
  {
   "cell_type": "code",
   "execution_count": 1271,
   "id": "3188273c",
   "metadata": {},
   "outputs": [],
   "source": [
    "cols_to_fill = ['ACTUAL_ELAPSED_TIME', 'AIR_TIME']"
   ]
  },
  {
   "cell_type": "code",
   "execution_count": 1272,
   "id": "3c5c9450",
   "metadata": {},
   "outputs": [],
   "source": [
    "# Loop over each column and fill NaNs with 0 in the original df using cancelled_only's index\n",
    "for col in cols_to_fill:\n",
    "    missing_idx = missing_rows[missing_rows[col].isna()].index\n",
    "    df.loc[missing_idx, col] = 0"
   ]
  },
  {
   "cell_type": "markdown",
   "id": "26e8587c",
   "metadata": {},
   "source": [
    "lets just give a quick recheck"
   ]
  },
  {
   "cell_type": "code",
   "execution_count": 1273,
   "id": "c7e888b3",
   "metadata": {},
   "outputs": [
    {
     "name": "stdout",
     "output_type": "stream",
     "text": [
      "DEP_DELAY\n",
      "9999    281992\n",
      "-5      229122\n",
      "-4      201527\n",
      "-6      194063\n",
      "-3      180863\n",
      "         ...  \n",
      "1203         1\n",
      "850          1\n",
      "1136         1\n",
      "953          1\n",
      "849          1\n",
      "Name: count, Length: 1372, dtype: Int64\n",
      "\n",
      "missing values:  0\n",
      "\n",
      "datatype:  Int64\n"
     ]
    }
   ],
   "source": [
    "show_unique_missing_dtype(df, 'DEP_DELAY')"
   ]
  },
  {
   "cell_type": "code",
   "execution_count": 1274,
   "id": "9a17d069",
   "metadata": {},
   "outputs": [
    {
     "name": "stdout",
     "output_type": "stream",
     "text": [
      "DEP_DELAY\n",
      "9999    281992\n",
      "-5          66\n",
      "-6          54\n",
      "-4          54\n",
      "-7          44\n",
      "         ...  \n",
      "140          1\n",
      "157          1\n",
      "86           1\n",
      "114          1\n",
      "169          1\n",
      "Name: count, Length: 199, dtype: Int64\n",
      "\n",
      "missing values:  0\n",
      "\n",
      "datatype:  Int64\n"
     ]
    }
   ],
   "source": [
    "cancelled_all = df[df['CANCELLED'] == 1]\n",
    "show_unique_missing_dtype(cancelled_all, 'DEP_DELAY')"
   ]
  },
  {
   "cell_type": "code",
   "execution_count": 1275,
   "id": "ab42327a",
   "metadata": {},
   "outputs": [
    {
     "name": "stdout",
     "output_type": "stream",
     "text": [
      "DEP_DELAY\n",
      "9999    281992\n",
      "-5      229122\n",
      "-4      201527\n",
      "-6      194063\n",
      "-3      180863\n",
      "         ...  \n",
      "1203         1\n",
      "850          1\n",
      "1136         1\n",
      "953          1\n",
      "849          1\n",
      "Name: count, Length: 1372, dtype: Int64\n",
      "\n",
      "missing values:  0\n",
      "\n",
      "datatype:  Int64\n"
     ]
    }
   ],
   "source": [
    "show_unique_missing_dtype(df, 'DEP_DELAY')"
   ]
  },
  {
   "cell_type": "markdown",
   "id": "90dcca82",
   "metadata": {},
   "source": [
    "## DEP_DELAY_NEW"
   ]
  },
  {
   "cell_type": "code",
   "execution_count": 1276,
   "id": "131f218d",
   "metadata": {},
   "outputs": [
    {
     "name": "stdout",
     "output_type": "stream",
     "text": [
      "DEP_DELAY_NEW\n",
      " 0.0       1925069\n",
      "-1.0        281992\n",
      " 1.0         40350\n",
      " 2.0         31338\n",
      " 3.0         26677\n",
      "            ...   \n",
      " 1368.0          1\n",
      " 1162.0          1\n",
      " 1083.0          1\n",
      " 546.0           1\n",
      " 849.0           1\n",
      "Name: count, Length: 1302, dtype: int64\n",
      "\n",
      "missing values:  0\n",
      "\n",
      "datatype:  float64\n"
     ]
    }
   ],
   "source": [
    "show_unique_missing_dtype(df, 'DEP_DELAY_NEW')"
   ]
  },
  {
   "cell_type": "markdown",
   "id": "8e26fe4f",
   "metadata": {},
   "source": [
    "i feel as if this is just `DEP_DELAY` but all the `<0` values are put as 0. this is just the same data, repition and it can be achieved by putting a filter of greater than 0. so this column does not provide any meaningful information. we can just drop this column. "
   ]
  },
  {
   "cell_type": "code",
   "execution_count": 1277,
   "id": "9faf632d",
   "metadata": {},
   "outputs": [],
   "source": [
    "df = df.drop('DEP_DELAY_NEW', axis=1)"
   ]
  },
  {
   "cell_type": "markdown",
   "id": "b24d9202",
   "metadata": {},
   "source": [
    "## DEP_DEL15"
   ]
  },
  {
   "cell_type": "code",
   "execution_count": 1278,
   "id": "c85bfebf",
   "metadata": {},
   "outputs": [
    {
     "name": "stdout",
     "output_type": "stream",
     "text": [
      "DEP_DEL15\n",
      "0.0    2194072\n",
      "1.0     269783\n",
      "Name: count, dtype: int64\n",
      "\n",
      "missing values:  281992\n",
      "\n",
      "datatype:  float64\n"
     ]
    }
   ],
   "source": [
    "show_unique_missing_dtype(df, 'DEP_DEL15')"
   ]
  },
  {
   "cell_type": "markdown",
   "id": "438999f0",
   "metadata": {},
   "source": [
    "so this is not very meaningful. lets remap it to greater than 15 and lesser than 15. but before that, lets fill the missing values. so if `dep_delay` == 9999, then its cancelled. if its < 15 then its 0, and if its > 15 then its 1. lets first fill all the missing values. "
   ]
  },
  {
   "cell_type": "code",
   "execution_count": 1279,
   "id": "33e05269",
   "metadata": {},
   "outputs": [
    {
     "data": {
      "text/plain": [
       "(281992, 47)"
      ]
     },
     "execution_count": 1279,
     "metadata": {},
     "output_type": "execute_result"
    }
   ],
   "source": [
    "missing_rows = df[df['DEP_DEL15'].isna()]\n",
    "missing_rows.shape"
   ]
  },
  {
   "cell_type": "code",
   "execution_count": 1280,
   "id": "5edcd0d7",
   "metadata": {},
   "outputs": [
    {
     "data": {
      "text/plain": [
       "(281992, 47)"
      ]
     },
     "execution_count": 1280,
     "metadata": {},
     "output_type": "execute_result"
    }
   ],
   "source": [
    "cancelled = missing_rows[missing_rows['DEP_DELAY'] == 9999]\n",
    "cancelled.shape"
   ]
  },
  {
   "cell_type": "markdown",
   "id": "a8c6a6c1",
   "metadata": {},
   "source": [
    "ah so all are cancelled, no need to fill with 0 or 1. just a direct fill of -1. "
   ]
  },
  {
   "cell_type": "code",
   "execution_count": 1281,
   "id": "00774683",
   "metadata": {},
   "outputs": [],
   "source": [
    "missing_idx = cancelled.index\n",
    "df.loc[missing_idx, 'DEP_DEL15'] = -1"
   ]
  },
  {
   "cell_type": "code",
   "execution_count": 1282,
   "id": "ae6eebd0",
   "metadata": {},
   "outputs": [
    {
     "name": "stdout",
     "output_type": "stream",
     "text": [
      "DEP_DEL15\n",
      " 0.0    2194072\n",
      "-1.0     281992\n",
      " 1.0     269783\n",
      "Name: count, dtype: int64\n",
      "\n",
      "missing values:  0\n",
      "\n",
      "datatype:  float64\n"
     ]
    }
   ],
   "source": [
    "show_unique_missing_dtype(df, 'DEP_DEL15')"
   ]
  },
  {
   "cell_type": "markdown",
   "id": "84875346",
   "metadata": {},
   "source": [
    "now lets map them"
   ]
  },
  {
   "cell_type": "code",
   "execution_count": 1283,
   "id": "20130d5a",
   "metadata": {},
   "outputs": [],
   "source": [
    "cancel_map = {\n",
    "    0.0: 'Less than 15',\n",
    "    1.0: 'Greater than 15',\n",
    "    -1.0: 'Cancelled'\n",
    "}\n",
    "\n",
    "df['DEP_DEL15'] = df['DEP_DEL15'].map(cancel_map)"
   ]
  },
  {
   "cell_type": "code",
   "execution_count": 1284,
   "id": "1d91de33",
   "metadata": {},
   "outputs": [
    {
     "name": "stdout",
     "output_type": "stream",
     "text": [
      "DEP_DEL15\n",
      "Less than 15       2194072\n",
      "Cancelled           281992\n",
      "Greater than 15     269783\n",
      "Name: count, dtype: int64\n",
      "\n",
      "missing values:  0\n",
      "\n",
      "datatype:  object\n"
     ]
    }
   ],
   "source": [
    "show_unique_missing_dtype(df, 'DEP_DEL15')"
   ]
  },
  {
   "cell_type": "markdown",
   "id": "0cfcd200",
   "metadata": {},
   "source": [
    "that reminds me, we need to account for all the 1000 flights which took off but were cancelled. their `dep_delay` we will not change, but we can change their map"
   ]
  },
  {
   "cell_type": "code",
   "execution_count": 1285,
   "id": "a924117d",
   "metadata": {},
   "outputs": [
    {
     "data": {
      "text/plain": [
       "DEP_DEL15\n",
       "Cancelled          281992\n",
       "Less than 15          616\n",
       "Greater than 15       318\n",
       "Name: count, dtype: int64"
      ]
     },
     "execution_count": 1285,
     "metadata": {},
     "output_type": "execute_result"
    }
   ],
   "source": [
    "missing_rows = df[df['CANCELLED'] == 1]\n",
    "missing_rows['DEP_DEL15'].value_counts()"
   ]
  },
  {
   "cell_type": "markdown",
   "id": "0683eb45",
   "metadata": {},
   "source": [
    "so lets change them all to cancelled"
   ]
  },
  {
   "cell_type": "code",
   "execution_count": 1286,
   "id": "299dfbee",
   "metadata": {},
   "outputs": [],
   "source": [
    "missing_idx = missing_rows.index\n",
    "df.loc[missing_idx, 'DEP_DEL15'] = 'Cancelled'"
   ]
  },
  {
   "cell_type": "markdown",
   "id": "b5f4bac5",
   "metadata": {},
   "source": [
    "lets recheck"
   ]
  },
  {
   "cell_type": "code",
   "execution_count": 1287,
   "id": "ee8063a5",
   "metadata": {},
   "outputs": [
    {
     "data": {
      "text/plain": [
       "DEP_DEL15\n",
       "Cancelled    282926\n",
       "Name: count, dtype: int64"
      ]
     },
     "execution_count": 1287,
     "metadata": {},
     "output_type": "execute_result"
    }
   ],
   "source": [
    "missing_rows = df[df['CANCELLED'] == 1]\n",
    "missing_rows['DEP_DEL15'].value_counts()"
   ]
  },
  {
   "cell_type": "code",
   "execution_count": 1288,
   "id": "91cd9f5f",
   "metadata": {},
   "outputs": [
    {
     "name": "stdout",
     "output_type": "stream",
     "text": [
      "DEP_DEL15\n",
      "Less than 15       2193456\n",
      "Cancelled           282926\n",
      "Greater than 15     269465\n",
      "Name: count, dtype: int64\n",
      "\n",
      "missing values:  0\n",
      "\n",
      "datatype:  object\n"
     ]
    }
   ],
   "source": [
    "show_unique_missing_dtype(df, 'DEP_DEL15')"
   ]
  },
  {
   "cell_type": "markdown",
   "id": "3932c98a",
   "metadata": {},
   "source": [
    "lets convert datatype to string and rename the column"
   ]
  },
  {
   "cell_type": "code",
   "execution_count": 1289,
   "id": "e92d6200",
   "metadata": {},
   "outputs": [
    {
     "name": "stdout",
     "output_type": "stream",
     "text": [
      "Column Name: 'DEP_DEL15', Type: string\n"
     ]
    }
   ],
   "source": [
    "df = to_string(df, 'DEP_DEL15')"
   ]
  },
  {
   "cell_type": "code",
   "execution_count": 1290,
   "id": "d4b11bba",
   "metadata": {},
   "outputs": [],
   "source": [
    "df.rename(columns={\n",
    "    'DEP_DEL15': 'DEP_DELAY_15_MIN'\n",
    "}, inplace=True)"
   ]
  },
  {
   "cell_type": "markdown",
   "id": "c2b3dc4b",
   "metadata": {},
   "source": [
    "## DEP_DELAY_GROUP"
   ]
  },
  {
   "cell_type": "code",
   "execution_count": 1291,
   "id": "4ac4054e",
   "metadata": {},
   "outputs": [
    {
     "name": "stdout",
     "output_type": "stream",
     "text": [
      "DEP_DELAY_GROUP\n",
      "-1.0     1780566\n",
      " 0.0      370584\n",
      " 1.0       97532\n",
      " 2.0       49829\n",
      "-2.0       42922\n",
      " 3.0       31200\n",
      " 4.0       21076\n",
      " 12.0      16465\n",
      " 5.0       15212\n",
      " 6.0       11098\n",
      " 7.0        8572\n",
      " 8.0        6484\n",
      " 9.0        5082\n",
      " 10.0       4018\n",
      " 11.0       3215\n",
      "Name: count, dtype: int64\n",
      "\n",
      "missing values:  281992\n",
      "\n",
      "datatype:  float64\n"
     ]
    }
   ],
   "source": [
    "show_unique_missing_dtype(df, 'DEP_DELAY_GROUP')"
   ]
  },
  {
   "cell_type": "markdown",
   "id": "093b0ac4",
   "metadata": {},
   "source": [
    "so this is 15 minute intervals. like -1 means -15 to 0, 0 means 0-15, 1 means 15-20 etc. so this isnt very readable or meaningful, better to map to strings. but first, lets fill the missing values - which by guess and proof - is cancelled flights. "
   ]
  },
  {
   "cell_type": "code",
   "execution_count": 1292,
   "id": "c54b0add",
   "metadata": {},
   "outputs": [
    {
     "data": {
      "text/plain": [
       "(281992, 47)"
      ]
     },
     "execution_count": 1292,
     "metadata": {},
     "output_type": "execute_result"
    }
   ],
   "source": [
    "missing_rows = df[df['DEP_DELAY_GROUP'].isna()]\n",
    "missing_rows.shape"
   ]
  },
  {
   "cell_type": "code",
   "execution_count": 1293,
   "id": "a36c1ef0",
   "metadata": {},
   "outputs": [
    {
     "data": {
      "text/plain": [
       "(281992, 47)"
      ]
     },
     "execution_count": 1293,
     "metadata": {},
     "output_type": "execute_result"
    }
   ],
   "source": [
    "cancelled = missing_rows[missing_rows['CANCELLED'] == 1]\n",
    "cancelled.shape"
   ]
  },
  {
   "cell_type": "markdown",
   "id": "42fe1e74",
   "metadata": {},
   "source": [
    "yep so all are cancelled. lets fill with 9999 to show cancelled"
   ]
  },
  {
   "cell_type": "code",
   "execution_count": 1294,
   "id": "ff3a721c",
   "metadata": {},
   "outputs": [],
   "source": [
    "missing_idx = cancelled.index\n",
    "df.loc[missing_idx, 'DEP_DELAY_GROUP'] = 9999"
   ]
  },
  {
   "cell_type": "markdown",
   "id": "6894ae67",
   "metadata": {},
   "source": [
    "lets check it"
   ]
  },
  {
   "cell_type": "code",
   "execution_count": 1295,
   "id": "33af95ec",
   "metadata": {},
   "outputs": [
    {
     "name": "stdout",
     "output_type": "stream",
     "text": [
      "DEP_DELAY_GROUP\n",
      "-1.0       1780566\n",
      " 0.0        370584\n",
      " 9999.0     281992\n",
      " 1.0         97532\n",
      " 2.0         49829\n",
      "-2.0         42922\n",
      " 3.0         31200\n",
      " 4.0         21076\n",
      " 12.0        16465\n",
      " 5.0         15212\n",
      " 6.0         11098\n",
      " 7.0          8572\n",
      " 8.0          6484\n",
      " 9.0          5082\n",
      " 10.0         4018\n",
      " 11.0         3215\n",
      "Name: count, dtype: int64\n",
      "\n",
      "missing values:  0\n",
      "\n",
      "datatype:  float64\n"
     ]
    }
   ],
   "source": [
    "show_unique_missing_dtype(df, 'DEP_DELAY_GROUP')"
   ]
  },
  {
   "cell_type": "markdown",
   "id": "1ff6642b",
   "metadata": {},
   "source": [
    "lets also analyse what all the cancelled flights are filled with"
   ]
  },
  {
   "cell_type": "code",
   "execution_count": 1296,
   "id": "4e03a26f",
   "metadata": {},
   "outputs": [
    {
     "data": {
      "text/plain": [
       "DEP_DELAY_GROUP\n",
       " 9999.0    281992\n",
       "-1.0          470\n",
       " 0.0          125\n",
       " 1.0           64\n",
       " 12.0          46\n",
       " 2.0           41\n",
       " 3.0           38\n",
       " 5.0           32\n",
       " 4.0           23\n",
       "-2.0           21\n",
       " 8.0           20\n",
       " 6.0           18\n",
       " 7.0           16\n",
       " 11.0           8\n",
       " 9.0            7\n",
       " 10.0           5\n",
       "Name: count, dtype: int64"
      ]
     },
     "execution_count": 1296,
     "metadata": {},
     "output_type": "execute_result"
    }
   ],
   "source": [
    "cancelled_all = df[df['CANCELLED'] == 1]\n",
    "cancelled_all['DEP_DELAY_GROUP'].value_counts()"
   ]
  },
  {
   "cell_type": "markdown",
   "id": "2f33a671",
   "metadata": {},
   "source": [
    "ah so thats not good. lets fill all with 9999 to make it consistent"
   ]
  },
  {
   "cell_type": "code",
   "execution_count": 1297,
   "id": "677e700b",
   "metadata": {},
   "outputs": [],
   "source": [
    "missing_idx = cancelled_all.index\n",
    "df.loc[missing_idx, 'DEP_DELAY_GROUP'] = 9999"
   ]
  },
  {
   "cell_type": "code",
   "execution_count": 1298,
   "id": "d2411047",
   "metadata": {},
   "outputs": [
    {
     "data": {
      "text/plain": [
       "DEP_DELAY_GROUP\n",
       "9999.0    282926\n",
       "Name: count, dtype: int64"
      ]
     },
     "execution_count": 1298,
     "metadata": {},
     "output_type": "execute_result"
    }
   ],
   "source": [
    "cancelled_all = df[df['CANCELLED'] == 1]\n",
    "cancelled_all['DEP_DELAY_GROUP'].value_counts()"
   ]
  },
  {
   "cell_type": "markdown",
   "id": "8195885c",
   "metadata": {},
   "source": [
    "ah so we are done. lets make our map. before we do that, lets find the min/max so that we know how far and below to go"
   ]
  },
  {
   "cell_type": "code",
   "execution_count": 1299,
   "id": "03372089",
   "metadata": {},
   "outputs": [
    {
     "name": "stdout",
     "output_type": "stream",
     "text": [
      "min -2.0\n",
      "max 9999.0\n"
     ]
    }
   ],
   "source": [
    "min_delay = df['DEP_DELAY_GROUP'].min()\n",
    "max_delay = df['DEP_DELAY_GROUP'].max()\n",
    "\n",
    "print(\"min\", min_delay)\n",
    "print(\"max\", max_delay)"
   ]
  },
  {
   "cell_type": "code",
   "execution_count": 1300,
   "id": "1e450de7",
   "metadata": {},
   "outputs": [],
   "source": [
    "cancel_map = {\n",
    "    -2.0: '15-30 min early',\n",
    "    -1.0: '0-15 min early',\n",
    "    0.0: '0-15 min late', \n",
    "    1.0: '15-30 min late', \n",
    "    2.0: '30-45 min late', \n",
    "    3.0: '45-60 min late', \n",
    "    4.0: '60-75 min late', \n",
    "    5.0: '75-90 min late', \n",
    "    6.0: '90-105 min late', \n",
    "    7.0: '105-120 min late', \n",
    "    8.0: '120-135 min late', \n",
    "    9.0: '135-150 min late', \n",
    "    10.0: '150-165 min late', \n",
    "    11.0: '165-180 min late', \n",
    "    12.0: '180-195 min late',\n",
    "    9999.0: 'Cancelled'\n",
    "}\n",
    "\n",
    "df['DEP_DELAY_GROUP'] = df['DEP_DELAY_GROUP'].map(cancel_map)"
   ]
  },
  {
   "cell_type": "code",
   "execution_count": 1301,
   "id": "79033040",
   "metadata": {},
   "outputs": [
    {
     "name": "stdout",
     "output_type": "stream",
     "text": [
      "DEP_DELAY_GROUP\n",
      "0-15 min early      1780096\n",
      "0-15 min late        370459\n",
      "Cancelled            282926\n",
      "15-30 min late        97468\n",
      "30-45 min late        49788\n",
      "15-30 min early       42901\n",
      "45-60 min late        31162\n",
      "60-75 min late        21053\n",
      "180-195 min late      16419\n",
      "75-90 min late        15180\n",
      "90-105 min late       11080\n",
      "105-120 min late       8556\n",
      "120-135 min late       6464\n",
      "135-150 min late       5075\n",
      "150-165 min late       4013\n",
      "165-180 min late       3207\n",
      "Name: count, dtype: int64\n",
      "\n",
      "missing values:  0\n",
      "\n",
      "datatype:  object\n"
     ]
    }
   ],
   "source": [
    "show_unique_missing_dtype(df, 'DEP_DELAY_GROUP')"
   ]
  },
  {
   "cell_type": "code",
   "execution_count": 1302,
   "id": "9450e298",
   "metadata": {},
   "outputs": [
    {
     "name": "stdout",
     "output_type": "stream",
     "text": [
      "Column Name: 'DEP_DELAY_GROUP', Type: string\n"
     ]
    }
   ],
   "source": [
    "df = to_string(df, 'DEP_DELAY_GROUP')"
   ]
  },
  {
   "cell_type": "markdown",
   "id": "d18e8611",
   "metadata": {},
   "source": [
    "## DEP_TIME_BLK"
   ]
  },
  {
   "cell_type": "code",
   "execution_count": 1303,
   "id": "83d1d97f",
   "metadata": {},
   "outputs": [
    {
     "name": "stdout",
     "output_type": "stream",
     "text": [
      "DEP_TIME_BLK\n",
      "0700-0759    188892\n",
      "1700-1759    185129\n",
      "0600-0659    184951\n",
      "0800-0859    183788\n",
      "1100-1159    176881\n",
      "0900-0959    173659\n",
      "1200-1259    172998\n",
      "1500-1559    170027\n",
      "1000-1059    167429\n",
      "1300-1359    164308\n",
      "1400-1459    163822\n",
      "1600-1659    163611\n",
      "1800-1859    162903\n",
      "1900-1959    145134\n",
      "2000-2059    128942\n",
      "2100-2159     73945\n",
      "0001-0559     66363\n",
      "2200-2259     57798\n",
      "2300-2359     15267\n",
      "Name: count, dtype: int64\n",
      "\n",
      "missing values:  0\n",
      "\n",
      "datatype:  object\n"
     ]
    }
   ],
   "source": [
    "show_unique_missing_dtype(df, 'DEP_TIME_BLK')"
   ]
  },
  {
   "cell_type": "markdown",
   "id": "3bf3705a",
   "metadata": {},
   "source": [
    "so no missing values. i think it is menaingful, but smth nice to see is that 12am - 6am is a one block, rest are hourly blocks. this is a bit inconsistent with the rest of the values. but something even more noticeable is that its the same as `SCHEDULED_DEP_HOUR`. lets see it,"
   ]
  },
  {
   "cell_type": "code",
   "execution_count": 1304,
   "id": "1a5c9197",
   "metadata": {},
   "outputs": [
    {
     "name": "stdout",
     "output_type": "stream",
     "text": [
      "SCHEDULED_DEP_HOUR\n",
      "7     188892\n",
      "17    185129\n",
      "6     184951\n",
      "8     183788\n",
      "11    176881\n",
      "9     173659\n",
      "12    172998\n",
      "15    170027\n",
      "10    167429\n",
      "13    164308\n",
      "14    163822\n",
      "16    163611\n",
      "18    162903\n",
      "19    145134\n",
      "20    128942\n",
      "21     73945\n",
      "5      58407\n",
      "22     57798\n",
      "23     15267\n",
      "0       4235\n",
      "1       2260\n",
      "2        671\n",
      "3        509\n",
      "4        281\n",
      "Name: count, dtype: int64\n",
      "\n",
      "missing values:  0\n",
      "\n",
      "datatype:  int32\n"
     ]
    }
   ],
   "source": [
    "show_unique_missing_dtype(df, 'SCHEDULED_DEP_HOUR')"
   ]
  },
  {
   "cell_type": "markdown",
   "id": "e572f7e8",
   "metadata": {},
   "source": [
    "so we dont need to convert this column, we can just drop it. but we acknowledge that this column is much more meaningful in terms of readability like 0700-0759 is much better than just 7. but then the 0700-0759 is a string datatype and makes categorical data which isnt very good."
   ]
  },
  {
   "cell_type": "code",
   "execution_count": 1305,
   "id": "1c917a74",
   "metadata": {},
   "outputs": [],
   "source": [
    "df = df.drop('DEP_TIME_BLK', axis=1)"
   ]
  },
  {
   "cell_type": "markdown",
   "id": "7f5f503a",
   "metadata": {},
   "source": [
    "## TAXI_OUT"
   ]
  },
  {
   "cell_type": "code",
   "execution_count": 1306,
   "id": "c32e56a0",
   "metadata": {},
   "outputs": [
    {
     "name": "stdout",
     "output_type": "stream",
     "text": [
      "TAXI_OUT\n",
      "-1.0      281992\n",
      " 11.0     206870\n",
      " 12.0     201378\n",
      " 10.0     194639\n",
      " 13.0     187982\n",
      "           ...  \n",
      " 160.0         1\n",
      " 170.0         1\n",
      " 189.0         1\n",
      " 169.0         1\n",
      " 180.0         1\n",
      "Name: count, Length: 169, dtype: int64\n",
      "\n",
      "missing values:  501\n",
      "\n",
      "datatype:  float64\n"
     ]
    }
   ],
   "source": [
    "show_unique_missing_dtype(df, 'TAXI_OUT')"
   ]
  },
  {
   "cell_type": "markdown",
   "id": "c0189676",
   "metadata": {},
   "source": [
    "so -1 means cancelled flight. this is in minutes. lets handle missing values. are they cancelled flights?"
   ]
  },
  {
   "cell_type": "code",
   "execution_count": 1307,
   "id": "7b84d481",
   "metadata": {},
   "outputs": [
    {
     "name": "stdout",
     "output_type": "stream",
     "text": [
      "CANCELLED\n",
      "1    501\n",
      "Name: count, dtype: int64\n"
     ]
    },
    {
     "data": {
      "text/plain": [
       "MONTH                        0\n",
       "DAY_OF_MONTH                 0\n",
       "DAY_OF_WEEK                  0\n",
       "day_of_week_c                0\n",
       "FLIGHT_DATE                  0\n",
       "MARKETING_CARRIER_CODE       0\n",
       "MARKETING_FLIGHT_NUMBER      0\n",
       "AIRCRAFT_TAIL_NUMBER         0\n",
       "ORIGIN_AIRPORT_CODE          0\n",
       "ORIGIN_CITY_NAME             0\n",
       "ORIGIN_STATE_CODE            0\n",
       "ORIGIN_STATE_NAME            0\n",
       "DEST_AIRPORT_CODE            0\n",
       "DEST_CITY_NAME               0\n",
       "DEST_STATE_CODE              0\n",
       "DEST_STATE_NAME              0\n",
       "SCHEDULED_DEP_TIME           0\n",
       "SCHEDULED_DEP_HOUR           0\n",
       "ACTUAL_DEP_TIME              0\n",
       "ACTUAL_DEP_HOUR              0\n",
       "DEP_DELAY                    0\n",
       "DEP_DELAY_15_MIN             0\n",
       "DEP_DELAY_GROUP              0\n",
       "TAXI_OUT                   501\n",
       "WHEELS_OFF                 501\n",
       "WHEELS_ON                  501\n",
       "TAXI_IN                    501\n",
       "CRS_ARR_TIME                 0\n",
       "ARR_TIME                   501\n",
       "ARR_DELAY                  501\n",
       "ARR_DELAY_NEW              501\n",
       "ARR_DEL15                  501\n",
       "ARR_DELAY_GROUP            501\n",
       "ARR_TIME_BLK                 0\n",
       "CANCELLED                    0\n",
       "CANCELLATION_CODE            0\n",
       "CRS_ELAPSED_TIME             0\n",
       "ACTUAL_ELAPSED_TIME        501\n",
       "AIR_TIME                   501\n",
       "DISTANCE                     0\n",
       "DISTANCE_GROUP               0\n",
       "CARRIER_DELAY              501\n",
       "WEATHER_DELAY              501\n",
       "NAS_DELAY                  501\n",
       "SECURITY_DELAY             501\n",
       "LATE_AIRCRAFT_DELAY        501\n",
       "dtype: int64"
      ]
     },
     "execution_count": 1307,
     "metadata": {},
     "output_type": "execute_result"
    }
   ],
   "source": [
    "cancelled = check_if_cancelled(df, 'TAXI_OUT')\n",
    "cancelled.isna().sum()"
   ]
  },
  {
   "cell_type": "markdown",
   "id": "a3f2eea6",
   "metadata": {},
   "source": [
    "so lets fill with -1, as all times are cancelled and did not occur"
   ]
  },
  {
   "cell_type": "code",
   "execution_count": 1308,
   "id": "660ed565",
   "metadata": {},
   "outputs": [],
   "source": [
    "cols_to_fill = ['TAXI_OUT', 'TAXI_IN', 'WHEELS_OFF', 'WHEELS_ON', 'ARR_TIME', 'ARR_DELAY_NEW', 'CARRIER_DELAY', 'WEATHER_DELAY', 'NAS_DELAY', 'SECURITY_DELAY', 'LATE_AIRCRAFT_DELAY']"
   ]
  },
  {
   "cell_type": "code",
   "execution_count": 1309,
   "id": "aa0663a2",
   "metadata": {},
   "outputs": [],
   "source": [
    "# Loop over each column and fill NaNs with 0 in the original df using cancelled_only's index\n",
    "for col in cols_to_fill:\n",
    "    missing_idx = cancelled[cancelled[col].isna()].index\n",
    "    df.loc[missing_idx, col] = -1"
   ]
  },
  {
   "cell_type": "markdown",
   "id": "4472336f",
   "metadata": {},
   "source": [
    "and lets fill with 0 for elapsed_times"
   ]
  },
  {
   "cell_type": "code",
   "execution_count": 1310,
   "id": "7b68c6f4",
   "metadata": {},
   "outputs": [],
   "source": [
    "cols_to_fill = ['ACTUAL_ELAPSED_TIME', 'AIR_TIME']"
   ]
  },
  {
   "cell_type": "code",
   "execution_count": 1311,
   "id": "eb8b1717",
   "metadata": {},
   "outputs": [],
   "source": [
    "# Loop over each column and fill NaNs with 0 in the original df using cancelled_only's index\n",
    "for col in cols_to_fill:\n",
    "    missing_idx = cancelled[cancelled[col].isna()].index\n",
    "    df.loc[missing_idx, col] = 0"
   ]
  },
  {
   "cell_type": "markdown",
   "id": "4ee677ad",
   "metadata": {},
   "source": [
    "lets recheck"
   ]
  },
  {
   "cell_type": "code",
   "execution_count": 1312,
   "id": "581cfadd",
   "metadata": {},
   "outputs": [
    {
     "name": "stdout",
     "output_type": "stream",
     "text": [
      "TAXI_OUT\n",
      "-1.0      282493\n",
      " 11.0     206870\n",
      " 12.0     201378\n",
      " 10.0     194639\n",
      " 13.0     187982\n",
      "           ...  \n",
      " 160.0         1\n",
      " 170.0         1\n",
      " 189.0         1\n",
      " 169.0         1\n",
      " 180.0         1\n",
      "Name: count, Length: 169, dtype: int64\n",
      "\n",
      "missing values:  0\n",
      "\n",
      "datatype:  float64\n"
     ]
    }
   ],
   "source": [
    "show_unique_missing_dtype(df, 'TAXI_OUT')"
   ]
  },
  {
   "cell_type": "code",
   "execution_count": 1313,
   "id": "e87b0ab0",
   "metadata": {},
   "outputs": [
    {
     "data": {
      "text/plain": [
       "TAXI_OUT\n",
       "-1.0      282493\n",
       " 12.0         33\n",
       " 17.0         31\n",
       " 15.0         29\n",
       " 14.0         26\n",
       " 13.0         26\n",
       " 18.0         22\n",
       " 11.0         21\n",
       " 10.0         21\n",
       " 21.0         21\n",
       " 16.0         19\n",
       " 24.0         17\n",
       " 9.0          17\n",
       " 20.0         11\n",
       " 22.0         11\n",
       " 19.0         10\n",
       " 30.0         10\n",
       " 23.0          9\n",
       " 7.0           9\n",
       " 8.0           7\n",
       " 25.0          7\n",
       " 31.0          7\n",
       " 37.0          6\n",
       " 26.0          6\n",
       " 29.0          5\n",
       " 39.0          5\n",
       " 38.0          4\n",
       " 27.0          4\n",
       " 33.0          4\n",
       " 35.0          3\n",
       " 36.0          3\n",
       " 6.0           3\n",
       " 28.0          3\n",
       " 40.0          2\n",
       " 68.0          2\n",
       " 45.0          2\n",
       " 41.0          2\n",
       " 49.0          2\n",
       " 32.0          2\n",
       " 53.0          1\n",
       " 46.0          1\n",
       " 43.0          1\n",
       " 100.0         1\n",
       " 34.0          1\n",
       " 79.0          1\n",
       " 81.0          1\n",
       " 2.0           1\n",
       " 48.0          1\n",
       " 60.0          1\n",
       " 5.0           1\n",
       "Name: count, dtype: int64"
      ]
     },
     "execution_count": 1313,
     "metadata": {},
     "output_type": "execute_result"
    }
   ],
   "source": [
    "cancelled_all = df[df['CANCELLED'] == 1]\n",
    "cancelled_all['TAXI_OUT'].value_counts()"
   ]
  },
  {
   "cell_type": "code",
   "execution_count": 1314,
   "id": "68559976",
   "metadata": {},
   "outputs": [
    {
     "data": {
      "text/html": [
       "<div>\n",
       "<style scoped>\n",
       "    .dataframe tbody tr th:only-of-type {\n",
       "        vertical-align: middle;\n",
       "    }\n",
       "\n",
       "    .dataframe tbody tr th {\n",
       "        vertical-align: top;\n",
       "    }\n",
       "\n",
       "    .dataframe thead th {\n",
       "        text-align: right;\n",
       "    }\n",
       "</style>\n",
       "<table border=\"1\" class=\"dataframe\">\n",
       "  <thead>\n",
       "    <tr style=\"text-align: right;\">\n",
       "      <th></th>\n",
       "      <th>MONTH</th>\n",
       "      <th>DAY_OF_MONTH</th>\n",
       "      <th>DAY_OF_WEEK</th>\n",
       "      <th>day_of_week_c</th>\n",
       "      <th>FLIGHT_DATE</th>\n",
       "      <th>MARKETING_CARRIER_CODE</th>\n",
       "      <th>MARKETING_FLIGHT_NUMBER</th>\n",
       "      <th>AIRCRAFT_TAIL_NUMBER</th>\n",
       "      <th>ORIGIN_AIRPORT_CODE</th>\n",
       "      <th>ORIGIN_CITY_NAME</th>\n",
       "      <th>ORIGIN_STATE_CODE</th>\n",
       "      <th>ORIGIN_STATE_NAME</th>\n",
       "      <th>DEST_AIRPORT_CODE</th>\n",
       "      <th>DEST_CITY_NAME</th>\n",
       "      <th>DEST_STATE_CODE</th>\n",
       "      <th>DEST_STATE_NAME</th>\n",
       "      <th>SCHEDULED_DEP_TIME</th>\n",
       "      <th>SCHEDULED_DEP_HOUR</th>\n",
       "      <th>ACTUAL_DEP_TIME</th>\n",
       "      <th>ACTUAL_DEP_HOUR</th>\n",
       "      <th>DEP_DELAY</th>\n",
       "      <th>DEP_DELAY_15_MIN</th>\n",
       "      <th>DEP_DELAY_GROUP</th>\n",
       "      <th>TAXI_OUT</th>\n",
       "      <th>WHEELS_OFF</th>\n",
       "      <th>WHEELS_ON</th>\n",
       "      <th>TAXI_IN</th>\n",
       "      <th>CRS_ARR_TIME</th>\n",
       "      <th>ARR_TIME</th>\n",
       "      <th>ARR_DELAY</th>\n",
       "      <th>ARR_DELAY_NEW</th>\n",
       "      <th>ARR_DEL15</th>\n",
       "      <th>ARR_DELAY_GROUP</th>\n",
       "      <th>ARR_TIME_BLK</th>\n",
       "      <th>CANCELLED</th>\n",
       "      <th>CANCELLATION_CODE</th>\n",
       "      <th>CRS_ELAPSED_TIME</th>\n",
       "      <th>ACTUAL_ELAPSED_TIME</th>\n",
       "      <th>AIR_TIME</th>\n",
       "      <th>DISTANCE</th>\n",
       "      <th>DISTANCE_GROUP</th>\n",
       "      <th>CARRIER_DELAY</th>\n",
       "      <th>WEATHER_DELAY</th>\n",
       "      <th>NAS_DELAY</th>\n",
       "      <th>SECURITY_DELAY</th>\n",
       "      <th>LATE_AIRCRAFT_DELAY</th>\n",
       "    </tr>\n",
       "  </thead>\n",
       "  <tbody>\n",
       "    <tr>\n",
       "      <th>35</th>\n",
       "      <td>1</td>\n",
       "      <td>1</td>\n",
       "      <td>3</td>\n",
       "      <td>Wed</td>\n",
       "      <td>2020-01-01</td>\n",
       "      <td>WN</td>\n",
       "      <td>6173</td>\n",
       "      <td>N7831B</td>\n",
       "      <td>PDX</td>\n",
       "      <td>Portland, OR</td>\n",
       "      <td>OR</td>\n",
       "      <td>Oregon</td>\n",
       "      <td>LAS</td>\n",
       "      <td>Las Vegas, NV</td>\n",
       "      <td>NV</td>\n",
       "      <td>Nevada</td>\n",
       "      <td>700</td>\n",
       "      <td>7</td>\n",
       "      <td>-1</td>\n",
       "      <td>-1</td>\n",
       "      <td>9999</td>\n",
       "      <td>Cancelled</td>\n",
       "      <td>Cancelled</td>\n",
       "      <td>-1.0</td>\n",
       "      <td>-1.0</td>\n",
       "      <td>-1.0</td>\n",
       "      <td>-1.0</td>\n",
       "      <td>905</td>\n",
       "      <td>-1.0</td>\n",
       "      <td>9999.0</td>\n",
       "      <td>-1.0</td>\n",
       "      <td>NaN</td>\n",
       "      <td>NaN</td>\n",
       "      <td>0900-0959</td>\n",
       "      <td>1</td>\n",
       "      <td>A</td>\n",
       "      <td>125.0</td>\n",
       "      <td>0.0</td>\n",
       "      <td>0.0</td>\n",
       "      <td>763</td>\n",
       "      <td>4</td>\n",
       "      <td>-1.0</td>\n",
       "      <td>-1.0</td>\n",
       "      <td>-1.0</td>\n",
       "      <td>-1.0</td>\n",
       "      <td>-1.0</td>\n",
       "    </tr>\n",
       "    <tr>\n",
       "      <th>839</th>\n",
       "      <td>1</td>\n",
       "      <td>1</td>\n",
       "      <td>3</td>\n",
       "      <td>Wed</td>\n",
       "      <td>2020-01-01</td>\n",
       "      <td>WN</td>\n",
       "      <td>4433</td>\n",
       "      <td>N488WN</td>\n",
       "      <td>SNA</td>\n",
       "      <td>Santa Ana, CA</td>\n",
       "      <td>CA</td>\n",
       "      <td>California</td>\n",
       "      <td>OAK</td>\n",
       "      <td>Oakland, CA</td>\n",
       "      <td>CA</td>\n",
       "      <td>California</td>\n",
       "      <td>730</td>\n",
       "      <td>7</td>\n",
       "      <td>-1</td>\n",
       "      <td>-1</td>\n",
       "      <td>9999</td>\n",
       "      <td>Cancelled</td>\n",
       "      <td>Cancelled</td>\n",
       "      <td>-1.0</td>\n",
       "      <td>-1.0</td>\n",
       "      <td>-1.0</td>\n",
       "      <td>-1.0</td>\n",
       "      <td>900</td>\n",
       "      <td>-1.0</td>\n",
       "      <td>9999.0</td>\n",
       "      <td>-1.0</td>\n",
       "      <td>NaN</td>\n",
       "      <td>NaN</td>\n",
       "      <td>0900-0959</td>\n",
       "      <td>1</td>\n",
       "      <td>A</td>\n",
       "      <td>90.0</td>\n",
       "      <td>0.0</td>\n",
       "      <td>0.0</td>\n",
       "      <td>371</td>\n",
       "      <td>2</td>\n",
       "      <td>-1.0</td>\n",
       "      <td>-1.0</td>\n",
       "      <td>-1.0</td>\n",
       "      <td>-1.0</td>\n",
       "      <td>-1.0</td>\n",
       "    </tr>\n",
       "    <tr>\n",
       "      <th>1266</th>\n",
       "      <td>1</td>\n",
       "      <td>20</td>\n",
       "      <td>1</td>\n",
       "      <td>Mon</td>\n",
       "      <td>2020-01-20</td>\n",
       "      <td>WN</td>\n",
       "      <td>423</td>\n",
       "      <td>N209WN</td>\n",
       "      <td>DAL</td>\n",
       "      <td>Dallas, TX</td>\n",
       "      <td>TX</td>\n",
       "      <td>Texas</td>\n",
       "      <td>PHX</td>\n",
       "      <td>Phoenix, AZ</td>\n",
       "      <td>AZ</td>\n",
       "      <td>Arizona</td>\n",
       "      <td>600</td>\n",
       "      <td>6</td>\n",
       "      <td>-1</td>\n",
       "      <td>-1</td>\n",
       "      <td>9999</td>\n",
       "      <td>Cancelled</td>\n",
       "      <td>Cancelled</td>\n",
       "      <td>-1.0</td>\n",
       "      <td>-1.0</td>\n",
       "      <td>-1.0</td>\n",
       "      <td>-1.0</td>\n",
       "      <td>745</td>\n",
       "      <td>-1.0</td>\n",
       "      <td>9999.0</td>\n",
       "      <td>-1.0</td>\n",
       "      <td>NaN</td>\n",
       "      <td>NaN</td>\n",
       "      <td>0700-0759</td>\n",
       "      <td>1</td>\n",
       "      <td>A</td>\n",
       "      <td>165.0</td>\n",
       "      <td>0.0</td>\n",
       "      <td>0.0</td>\n",
       "      <td>879</td>\n",
       "      <td>4</td>\n",
       "      <td>-1.0</td>\n",
       "      <td>-1.0</td>\n",
       "      <td>-1.0</td>\n",
       "      <td>-1.0</td>\n",
       "      <td>-1.0</td>\n",
       "    </tr>\n",
       "    <tr>\n",
       "      <th>1283</th>\n",
       "      <td>1</td>\n",
       "      <td>20</td>\n",
       "      <td>1</td>\n",
       "      <td>Mon</td>\n",
       "      <td>2020-01-20</td>\n",
       "      <td>WN</td>\n",
       "      <td>1519</td>\n",
       "      <td>N467WN</td>\n",
       "      <td>DAL</td>\n",
       "      <td>Dallas, TX</td>\n",
       "      <td>TX</td>\n",
       "      <td>Texas</td>\n",
       "      <td>SAT</td>\n",
       "      <td>San Antonio, TX</td>\n",
       "      <td>TX</td>\n",
       "      <td>Texas</td>\n",
       "      <td>720</td>\n",
       "      <td>7</td>\n",
       "      <td>-1</td>\n",
       "      <td>-1</td>\n",
       "      <td>9999</td>\n",
       "      <td>Cancelled</td>\n",
       "      <td>Cancelled</td>\n",
       "      <td>-1.0</td>\n",
       "      <td>-1.0</td>\n",
       "      <td>-1.0</td>\n",
       "      <td>-1.0</td>\n",
       "      <td>830</td>\n",
       "      <td>-1.0</td>\n",
       "      <td>9999.0</td>\n",
       "      <td>-1.0</td>\n",
       "      <td>NaN</td>\n",
       "      <td>NaN</td>\n",
       "      <td>0800-0859</td>\n",
       "      <td>1</td>\n",
       "      <td>A</td>\n",
       "      <td>70.0</td>\n",
       "      <td>0.0</td>\n",
       "      <td>0.0</td>\n",
       "      <td>247</td>\n",
       "      <td>1</td>\n",
       "      <td>-1.0</td>\n",
       "      <td>-1.0</td>\n",
       "      <td>-1.0</td>\n",
       "      <td>-1.0</td>\n",
       "      <td>-1.0</td>\n",
       "    </tr>\n",
       "    <tr>\n",
       "      <th>1323</th>\n",
       "      <td>1</td>\n",
       "      <td>30</td>\n",
       "      <td>4</td>\n",
       "      <td>Thu</td>\n",
       "      <td>2020-01-30</td>\n",
       "      <td>WN</td>\n",
       "      <td>1845</td>\n",
       "      <td>N741SA</td>\n",
       "      <td>MSY</td>\n",
       "      <td>New Orleans, LA</td>\n",
       "      <td>LA</td>\n",
       "      <td>Louisiana</td>\n",
       "      <td>HOU</td>\n",
       "      <td>Houston, TX</td>\n",
       "      <td>TX</td>\n",
       "      <td>Texas</td>\n",
       "      <td>605</td>\n",
       "      <td>6</td>\n",
       "      <td>-1</td>\n",
       "      <td>-1</td>\n",
       "      <td>9999</td>\n",
       "      <td>Cancelled</td>\n",
       "      <td>Cancelled</td>\n",
       "      <td>-1.0</td>\n",
       "      <td>-1.0</td>\n",
       "      <td>-1.0</td>\n",
       "      <td>-1.0</td>\n",
       "      <td>725</td>\n",
       "      <td>-1.0</td>\n",
       "      <td>9999.0</td>\n",
       "      <td>-1.0</td>\n",
       "      <td>NaN</td>\n",
       "      <td>NaN</td>\n",
       "      <td>0700-0759</td>\n",
       "      <td>1</td>\n",
       "      <td>A</td>\n",
       "      <td>80.0</td>\n",
       "      <td>0.0</td>\n",
       "      <td>0.0</td>\n",
       "      <td>302</td>\n",
       "      <td>2</td>\n",
       "      <td>-1.0</td>\n",
       "      <td>-1.0</td>\n",
       "      <td>-1.0</td>\n",
       "      <td>-1.0</td>\n",
       "      <td>-1.0</td>\n",
       "    </tr>\n",
       "    <tr>\n",
       "      <th>...</th>\n",
       "      <td>...</td>\n",
       "      <td>...</td>\n",
       "      <td>...</td>\n",
       "      <td>...</td>\n",
       "      <td>...</td>\n",
       "      <td>...</td>\n",
       "      <td>...</td>\n",
       "      <td>...</td>\n",
       "      <td>...</td>\n",
       "      <td>...</td>\n",
       "      <td>...</td>\n",
       "      <td>...</td>\n",
       "      <td>...</td>\n",
       "      <td>...</td>\n",
       "      <td>...</td>\n",
       "      <td>...</td>\n",
       "      <td>...</td>\n",
       "      <td>...</td>\n",
       "      <td>...</td>\n",
       "      <td>...</td>\n",
       "      <td>...</td>\n",
       "      <td>...</td>\n",
       "      <td>...</td>\n",
       "      <td>...</td>\n",
       "      <td>...</td>\n",
       "      <td>...</td>\n",
       "      <td>...</td>\n",
       "      <td>...</td>\n",
       "      <td>...</td>\n",
       "      <td>...</td>\n",
       "      <td>...</td>\n",
       "      <td>...</td>\n",
       "      <td>...</td>\n",
       "      <td>...</td>\n",
       "      <td>...</td>\n",
       "      <td>...</td>\n",
       "      <td>...</td>\n",
       "      <td>...</td>\n",
       "      <td>...</td>\n",
       "      <td>...</td>\n",
       "      <td>...</td>\n",
       "      <td>...</td>\n",
       "      <td>...</td>\n",
       "      <td>...</td>\n",
       "      <td>...</td>\n",
       "      <td>...</td>\n",
       "    </tr>\n",
       "    <tr>\n",
       "      <th>2744984</th>\n",
       "      <td>6</td>\n",
       "      <td>9</td>\n",
       "      <td>2</td>\n",
       "      <td>Tue</td>\n",
       "      <td>2020-06-09</td>\n",
       "      <td>AS</td>\n",
       "      <td>919</td>\n",
       "      <td>N612AS</td>\n",
       "      <td>AKN</td>\n",
       "      <td>King Salmon, AK</td>\n",
       "      <td>AK</td>\n",
       "      <td>Alaska</td>\n",
       "      <td>ANC</td>\n",
       "      <td>Anchorage, AK</td>\n",
       "      <td>AK</td>\n",
       "      <td>Alaska</td>\n",
       "      <td>925</td>\n",
       "      <td>9</td>\n",
       "      <td>-1</td>\n",
       "      <td>-1</td>\n",
       "      <td>9999</td>\n",
       "      <td>Cancelled</td>\n",
       "      <td>Cancelled</td>\n",
       "      <td>-1.0</td>\n",
       "      <td>-1.0</td>\n",
       "      <td>-1.0</td>\n",
       "      <td>-1.0</td>\n",
       "      <td>1027</td>\n",
       "      <td>-1.0</td>\n",
       "      <td>9999.0</td>\n",
       "      <td>-1.0</td>\n",
       "      <td>NaN</td>\n",
       "      <td>NaN</td>\n",
       "      <td>1000-1059</td>\n",
       "      <td>1</td>\n",
       "      <td>B</td>\n",
       "      <td>62.0</td>\n",
       "      <td>0.0</td>\n",
       "      <td>0.0</td>\n",
       "      <td>288</td>\n",
       "      <td>2</td>\n",
       "      <td>-1.0</td>\n",
       "      <td>-1.0</td>\n",
       "      <td>-1.0</td>\n",
       "      <td>-1.0</td>\n",
       "      <td>-1.0</td>\n",
       "    </tr>\n",
       "    <tr>\n",
       "      <th>2744985</th>\n",
       "      <td>6</td>\n",
       "      <td>9</td>\n",
       "      <td>2</td>\n",
       "      <td>Tue</td>\n",
       "      <td>2020-06-09</td>\n",
       "      <td>AS</td>\n",
       "      <td>920</td>\n",
       "      <td>N612AS</td>\n",
       "      <td>ANC</td>\n",
       "      <td>Anchorage, AK</td>\n",
       "      <td>AK</td>\n",
       "      <td>Alaska</td>\n",
       "      <td>AKN</td>\n",
       "      <td>King Salmon, AK</td>\n",
       "      <td>AK</td>\n",
       "      <td>Alaska</td>\n",
       "      <td>730</td>\n",
       "      <td>7</td>\n",
       "      <td>735</td>\n",
       "      <td>7</td>\n",
       "      <td>5</td>\n",
       "      <td>Cancelled</td>\n",
       "      <td>Cancelled</td>\n",
       "      <td>14.0</td>\n",
       "      <td>749.0</td>\n",
       "      <td>NaN</td>\n",
       "      <td>NaN</td>\n",
       "      <td>832</td>\n",
       "      <td>NaN</td>\n",
       "      <td>NaN</td>\n",
       "      <td>NaN</td>\n",
       "      <td>NaN</td>\n",
       "      <td>NaN</td>\n",
       "      <td>0800-0859</td>\n",
       "      <td>1</td>\n",
       "      <td>B</td>\n",
       "      <td>62.0</td>\n",
       "      <td>NaN</td>\n",
       "      <td>NaN</td>\n",
       "      <td>288</td>\n",
       "      <td>2</td>\n",
       "      <td>NaN</td>\n",
       "      <td>NaN</td>\n",
       "      <td>NaN</td>\n",
       "      <td>NaN</td>\n",
       "      <td>NaN</td>\n",
       "    </tr>\n",
       "    <tr>\n",
       "      <th>2745802</th>\n",
       "      <td>6</td>\n",
       "      <td>13</td>\n",
       "      <td>6</td>\n",
       "      <td>Sat</td>\n",
       "      <td>2020-06-13</td>\n",
       "      <td>AS</td>\n",
       "      <td>919</td>\n",
       "      <td>N615AS</td>\n",
       "      <td>AKN</td>\n",
       "      <td>King Salmon, AK</td>\n",
       "      <td>AK</td>\n",
       "      <td>Alaska</td>\n",
       "      <td>ANC</td>\n",
       "      <td>Anchorage, AK</td>\n",
       "      <td>AK</td>\n",
       "      <td>Alaska</td>\n",
       "      <td>925</td>\n",
       "      <td>9</td>\n",
       "      <td>-1</td>\n",
       "      <td>-1</td>\n",
       "      <td>9999</td>\n",
       "      <td>Cancelled</td>\n",
       "      <td>Cancelled</td>\n",
       "      <td>-1.0</td>\n",
       "      <td>-1.0</td>\n",
       "      <td>-1.0</td>\n",
       "      <td>-1.0</td>\n",
       "      <td>1027</td>\n",
       "      <td>-1.0</td>\n",
       "      <td>9999.0</td>\n",
       "      <td>-1.0</td>\n",
       "      <td>NaN</td>\n",
       "      <td>NaN</td>\n",
       "      <td>1000-1059</td>\n",
       "      <td>1</td>\n",
       "      <td>A</td>\n",
       "      <td>62.0</td>\n",
       "      <td>0.0</td>\n",
       "      <td>0.0</td>\n",
       "      <td>288</td>\n",
       "      <td>2</td>\n",
       "      <td>-1.0</td>\n",
       "      <td>-1.0</td>\n",
       "      <td>-1.0</td>\n",
       "      <td>-1.0</td>\n",
       "      <td>-1.0</td>\n",
       "    </tr>\n",
       "    <tr>\n",
       "      <th>2745803</th>\n",
       "      <td>6</td>\n",
       "      <td>13</td>\n",
       "      <td>6</td>\n",
       "      <td>Sat</td>\n",
       "      <td>2020-06-13</td>\n",
       "      <td>AS</td>\n",
       "      <td>920</td>\n",
       "      <td>N615AS</td>\n",
       "      <td>ANC</td>\n",
       "      <td>Anchorage, AK</td>\n",
       "      <td>AK</td>\n",
       "      <td>Alaska</td>\n",
       "      <td>AKN</td>\n",
       "      <td>King Salmon, AK</td>\n",
       "      <td>AK</td>\n",
       "      <td>Alaska</td>\n",
       "      <td>730</td>\n",
       "      <td>7</td>\n",
       "      <td>-1</td>\n",
       "      <td>-1</td>\n",
       "      <td>9999</td>\n",
       "      <td>Cancelled</td>\n",
       "      <td>Cancelled</td>\n",
       "      <td>-1.0</td>\n",
       "      <td>-1.0</td>\n",
       "      <td>-1.0</td>\n",
       "      <td>-1.0</td>\n",
       "      <td>832</td>\n",
       "      <td>-1.0</td>\n",
       "      <td>9999.0</td>\n",
       "      <td>-1.0</td>\n",
       "      <td>NaN</td>\n",
       "      <td>NaN</td>\n",
       "      <td>0800-0859</td>\n",
       "      <td>1</td>\n",
       "      <td>A</td>\n",
       "      <td>62.0</td>\n",
       "      <td>0.0</td>\n",
       "      <td>0.0</td>\n",
       "      <td>288</td>\n",
       "      <td>2</td>\n",
       "      <td>-1.0</td>\n",
       "      <td>-1.0</td>\n",
       "      <td>-1.0</td>\n",
       "      <td>-1.0</td>\n",
       "      <td>-1.0</td>\n",
       "    </tr>\n",
       "    <tr>\n",
       "      <th>2745825</th>\n",
       "      <td>6</td>\n",
       "      <td>13</td>\n",
       "      <td>6</td>\n",
       "      <td>Sat</td>\n",
       "      <td>2020-06-13</td>\n",
       "      <td>AS</td>\n",
       "      <td>1116</td>\n",
       "      <td>N431AS</td>\n",
       "      <td>ANC</td>\n",
       "      <td>Anchorage, AK</td>\n",
       "      <td>AK</td>\n",
       "      <td>Alaska</td>\n",
       "      <td>SEA</td>\n",
       "      <td>Seattle, WA</td>\n",
       "      <td>WA</td>\n",
       "      <td>Washington</td>\n",
       "      <td>1440</td>\n",
       "      <td>14</td>\n",
       "      <td>-1</td>\n",
       "      <td>-1</td>\n",
       "      <td>9999</td>\n",
       "      <td>Cancelled</td>\n",
       "      <td>Cancelled</td>\n",
       "      <td>-1.0</td>\n",
       "      <td>-1.0</td>\n",
       "      <td>-1.0</td>\n",
       "      <td>-1.0</td>\n",
       "      <td>1857</td>\n",
       "      <td>-1.0</td>\n",
       "      <td>9999.0</td>\n",
       "      <td>-1.0</td>\n",
       "      <td>NaN</td>\n",
       "      <td>NaN</td>\n",
       "      <td>1800-1859</td>\n",
       "      <td>1</td>\n",
       "      <td>A</td>\n",
       "      <td>197.0</td>\n",
       "      <td>0.0</td>\n",
       "      <td>0.0</td>\n",
       "      <td>1448</td>\n",
       "      <td>6</td>\n",
       "      <td>-1.0</td>\n",
       "      <td>-1.0</td>\n",
       "      <td>-1.0</td>\n",
       "      <td>-1.0</td>\n",
       "      <td>-1.0</td>\n",
       "    </tr>\n",
       "  </tbody>\n",
       "</table>\n",
       "<p>282926 rows × 46 columns</p>\n",
       "</div>"
      ],
      "text/plain": [
       "         MONTH  DAY_OF_MONTH  DAY_OF_WEEK day_of_week_c FLIGHT_DATE  \\\n",
       "35           1             1            3           Wed  2020-01-01   \n",
       "839          1             1            3           Wed  2020-01-01   \n",
       "1266         1            20            1           Mon  2020-01-20   \n",
       "1283         1            20            1           Mon  2020-01-20   \n",
       "1323         1            30            4           Thu  2020-01-30   \n",
       "...        ...           ...          ...           ...         ...   \n",
       "2744984      6             9            2           Tue  2020-06-09   \n",
       "2744985      6             9            2           Tue  2020-06-09   \n",
       "2745802      6            13            6           Sat  2020-06-13   \n",
       "2745803      6            13            6           Sat  2020-06-13   \n",
       "2745825      6            13            6           Sat  2020-06-13   \n",
       "\n",
       "        MARKETING_CARRIER_CODE  MARKETING_FLIGHT_NUMBER AIRCRAFT_TAIL_NUMBER  \\\n",
       "35                          WN                     6173               N7831B   \n",
       "839                         WN                     4433               N488WN   \n",
       "1266                        WN                      423               N209WN   \n",
       "1283                        WN                     1519               N467WN   \n",
       "1323                        WN                     1845               N741SA   \n",
       "...                        ...                      ...                  ...   \n",
       "2744984                     AS                      919               N612AS   \n",
       "2744985                     AS                      920               N612AS   \n",
       "2745802                     AS                      919               N615AS   \n",
       "2745803                     AS                      920               N615AS   \n",
       "2745825                     AS                     1116               N431AS   \n",
       "\n",
       "        ORIGIN_AIRPORT_CODE ORIGIN_CITY_NAME ORIGIN_STATE_CODE  \\\n",
       "35                      PDX     Portland, OR                OR   \n",
       "839                     SNA    Santa Ana, CA                CA   \n",
       "1266                    DAL       Dallas, TX                TX   \n",
       "1283                    DAL       Dallas, TX                TX   \n",
       "1323                    MSY  New Orleans, LA                LA   \n",
       "...                     ...              ...               ...   \n",
       "2744984                 AKN  King Salmon, AK                AK   \n",
       "2744985                 ANC    Anchorage, AK                AK   \n",
       "2745802                 AKN  King Salmon, AK                AK   \n",
       "2745803                 ANC    Anchorage, AK                AK   \n",
       "2745825                 ANC    Anchorage, AK                AK   \n",
       "\n",
       "        ORIGIN_STATE_NAME DEST_AIRPORT_CODE   DEST_CITY_NAME DEST_STATE_CODE  \\\n",
       "35                 Oregon               LAS    Las Vegas, NV              NV   \n",
       "839            California               OAK      Oakland, CA              CA   \n",
       "1266                Texas               PHX      Phoenix, AZ              AZ   \n",
       "1283                Texas               SAT  San Antonio, TX              TX   \n",
       "1323            Louisiana               HOU      Houston, TX              TX   \n",
       "...                   ...               ...              ...             ...   \n",
       "2744984            Alaska               ANC    Anchorage, AK              AK   \n",
       "2744985            Alaska               AKN  King Salmon, AK              AK   \n",
       "2745802            Alaska               ANC    Anchorage, AK              AK   \n",
       "2745803            Alaska               AKN  King Salmon, AK              AK   \n",
       "2745825            Alaska               SEA      Seattle, WA              WA   \n",
       "\n",
       "        DEST_STATE_NAME  SCHEDULED_DEP_TIME  SCHEDULED_DEP_HOUR  \\\n",
       "35               Nevada                 700                   7   \n",
       "839          California                 730                   7   \n",
       "1266            Arizona                 600                   6   \n",
       "1283              Texas                 720                   7   \n",
       "1323              Texas                 605                   6   \n",
       "...                 ...                 ...                 ...   \n",
       "2744984          Alaska                 925                   9   \n",
       "2744985          Alaska                 730                   7   \n",
       "2745802          Alaska                 925                   9   \n",
       "2745803          Alaska                 730                   7   \n",
       "2745825      Washington                1440                  14   \n",
       "\n",
       "         ACTUAL_DEP_TIME  ACTUAL_DEP_HOUR  DEP_DELAY DEP_DELAY_15_MIN  \\\n",
       "35                    -1               -1       9999        Cancelled   \n",
       "839                   -1               -1       9999        Cancelled   \n",
       "1266                  -1               -1       9999        Cancelled   \n",
       "1283                  -1               -1       9999        Cancelled   \n",
       "1323                  -1               -1       9999        Cancelled   \n",
       "...                  ...              ...        ...              ...   \n",
       "2744984               -1               -1       9999        Cancelled   \n",
       "2744985              735                7          5        Cancelled   \n",
       "2745802               -1               -1       9999        Cancelled   \n",
       "2745803               -1               -1       9999        Cancelled   \n",
       "2745825               -1               -1       9999        Cancelled   \n",
       "\n",
       "        DEP_DELAY_GROUP  TAXI_OUT  WHEELS_OFF  WHEELS_ON  TAXI_IN  \\\n",
       "35            Cancelled      -1.0        -1.0       -1.0     -1.0   \n",
       "839           Cancelled      -1.0        -1.0       -1.0     -1.0   \n",
       "1266          Cancelled      -1.0        -1.0       -1.0     -1.0   \n",
       "1283          Cancelled      -1.0        -1.0       -1.0     -1.0   \n",
       "1323          Cancelled      -1.0        -1.0       -1.0     -1.0   \n",
       "...                 ...       ...         ...        ...      ...   \n",
       "2744984       Cancelled      -1.0        -1.0       -1.0     -1.0   \n",
       "2744985       Cancelled      14.0       749.0        NaN      NaN   \n",
       "2745802       Cancelled      -1.0        -1.0       -1.0     -1.0   \n",
       "2745803       Cancelled      -1.0        -1.0       -1.0     -1.0   \n",
       "2745825       Cancelled      -1.0        -1.0       -1.0     -1.0   \n",
       "\n",
       "         CRS_ARR_TIME  ARR_TIME  ARR_DELAY  ARR_DELAY_NEW  ARR_DEL15  \\\n",
       "35                905      -1.0     9999.0           -1.0        NaN   \n",
       "839               900      -1.0     9999.0           -1.0        NaN   \n",
       "1266              745      -1.0     9999.0           -1.0        NaN   \n",
       "1283              830      -1.0     9999.0           -1.0        NaN   \n",
       "1323              725      -1.0     9999.0           -1.0        NaN   \n",
       "...               ...       ...        ...            ...        ...   \n",
       "2744984          1027      -1.0     9999.0           -1.0        NaN   \n",
       "2744985           832       NaN        NaN            NaN        NaN   \n",
       "2745802          1027      -1.0     9999.0           -1.0        NaN   \n",
       "2745803           832      -1.0     9999.0           -1.0        NaN   \n",
       "2745825          1857      -1.0     9999.0           -1.0        NaN   \n",
       "\n",
       "         ARR_DELAY_GROUP ARR_TIME_BLK  CANCELLED CANCELLATION_CODE  \\\n",
       "35                   NaN    0900-0959          1                 A   \n",
       "839                  NaN    0900-0959          1                 A   \n",
       "1266                 NaN    0700-0759          1                 A   \n",
       "1283                 NaN    0800-0859          1                 A   \n",
       "1323                 NaN    0700-0759          1                 A   \n",
       "...                  ...          ...        ...               ...   \n",
       "2744984              NaN    1000-1059          1                 B   \n",
       "2744985              NaN    0800-0859          1                 B   \n",
       "2745802              NaN    1000-1059          1                 A   \n",
       "2745803              NaN    0800-0859          1                 A   \n",
       "2745825              NaN    1800-1859          1                 A   \n",
       "\n",
       "         CRS_ELAPSED_TIME  ACTUAL_ELAPSED_TIME  AIR_TIME  DISTANCE  \\\n",
       "35                  125.0                  0.0       0.0       763   \n",
       "839                  90.0                  0.0       0.0       371   \n",
       "1266                165.0                  0.0       0.0       879   \n",
       "1283                 70.0                  0.0       0.0       247   \n",
       "1323                 80.0                  0.0       0.0       302   \n",
       "...                   ...                  ...       ...       ...   \n",
       "2744984              62.0                  0.0       0.0       288   \n",
       "2744985              62.0                  NaN       NaN       288   \n",
       "2745802              62.0                  0.0       0.0       288   \n",
       "2745803              62.0                  0.0       0.0       288   \n",
       "2745825             197.0                  0.0       0.0      1448   \n",
       "\n",
       "         DISTANCE_GROUP  CARRIER_DELAY  WEATHER_DELAY  NAS_DELAY  \\\n",
       "35                    4           -1.0           -1.0       -1.0   \n",
       "839                   2           -1.0           -1.0       -1.0   \n",
       "1266                  4           -1.0           -1.0       -1.0   \n",
       "1283                  1           -1.0           -1.0       -1.0   \n",
       "1323                  2           -1.0           -1.0       -1.0   \n",
       "...                 ...            ...            ...        ...   \n",
       "2744984               2           -1.0           -1.0       -1.0   \n",
       "2744985               2            NaN            NaN        NaN   \n",
       "2745802               2           -1.0           -1.0       -1.0   \n",
       "2745803               2           -1.0           -1.0       -1.0   \n",
       "2745825               6           -1.0           -1.0       -1.0   \n",
       "\n",
       "         SECURITY_DELAY  LATE_AIRCRAFT_DELAY  \n",
       "35                 -1.0                 -1.0  \n",
       "839                -1.0                 -1.0  \n",
       "1266               -1.0                 -1.0  \n",
       "1283               -1.0                 -1.0  \n",
       "1323               -1.0                 -1.0  \n",
       "...                 ...                  ...  \n",
       "2744984            -1.0                 -1.0  \n",
       "2744985             NaN                  NaN  \n",
       "2745802            -1.0                 -1.0  \n",
       "2745803            -1.0                 -1.0  \n",
       "2745825            -1.0                 -1.0  \n",
       "\n",
       "[282926 rows x 46 columns]"
      ]
     },
     "execution_count": 1314,
     "metadata": {},
     "output_type": "execute_result"
    }
   ],
   "source": [
    "cancelled_all"
   ]
  },
  {
   "cell_type": "markdown",
   "id": "c34b5f24",
   "metadata": {},
   "source": [
    "lets check if we can convert to integer"
   ]
  },
  {
   "cell_type": "code",
   "execution_count": 1315,
   "id": "5a37f7ba",
   "metadata": {},
   "outputs": [
    {
     "name": "stdout",
     "output_type": "stream",
     "text": [
      "All non-missing  TAXI_OUT  values are integers? {is_every_int}\n",
      "converted successfully\n"
     ]
    }
   ],
   "source": [
    "df = convert_to_int(df, 'TAXI_OUT')"
   ]
  },
  {
   "cell_type": "code",
   "execution_count": 1316,
   "id": "e514b685",
   "metadata": {},
   "outputs": [
    {
     "name": "stdout",
     "output_type": "stream",
     "text": [
      "TAXI_OUT\n",
      "-1     282493\n",
      "11     206870\n",
      "12     201378\n",
      "10     194639\n",
      "13     187982\n",
      "        ...  \n",
      "160         1\n",
      "170         1\n",
      "189         1\n",
      "169         1\n",
      "180         1\n",
      "Name: count, Length: 169, dtype: Int64\n",
      "\n",
      "missing values:  0\n",
      "\n",
      "datatype:  Int64\n"
     ]
    }
   ],
   "source": [
    "show_unique_missing_dtype(df, 'TAXI_OUT')"
   ]
  },
  {
   "cell_type": "markdown",
   "id": "ecccf0c8",
   "metadata": {},
   "source": [
    "rename to something more menaingful like `ORIGIN_TAXI_TIME`"
   ]
  },
  {
   "cell_type": "code",
   "execution_count": 1317,
   "id": "6bead57b",
   "metadata": {},
   "outputs": [],
   "source": [
    "df.rename(columns={'TAXI_OUT': 'ORIGIN_TAXI_TIME'}, inplace=True)"
   ]
  },
  {
   "cell_type": "markdown",
   "id": "4c554f4a",
   "metadata": {},
   "source": [
    "## WHEELS_OFF"
   ]
  },
  {
   "cell_type": "code",
   "execution_count": 1318,
   "id": "a4fe6d4d",
   "metadata": {},
   "outputs": [
    {
     "name": "stdout",
     "output_type": "stream",
     "text": [
      "WHEELS_OFF\n",
      "-1.0      282493\n",
      " 707.0      4090\n",
      " 708.0      4046\n",
      " 706.0      4010\n",
      " 709.0      3960\n",
      "           ...  \n",
      " 442.0         4\n",
      " 440.0         3\n",
      " 447.0         3\n",
      " 336.0         3\n",
      " 347.0         3\n",
      "Name: count, Length: 1440, dtype: int64\n",
      "\n",
      "missing values:  0\n",
      "\n",
      "datatype:  float64\n"
     ]
    }
   ],
   "source": [
    "show_unique_missing_dtype(df, 'WHEELS_OFF')"
   ]
  },
  {
   "cell_type": "markdown",
   "id": "ed4a5eac",
   "metadata": {},
   "source": [
    "so no missing values, lets convert to int and rename to more menaingful"
   ]
  },
  {
   "cell_type": "code",
   "execution_count": 1319,
   "id": "847abfb3",
   "metadata": {},
   "outputs": [
    {
     "name": "stdout",
     "output_type": "stream",
     "text": [
      "All non-missing  WHEELS_OFF  values are integers? {is_every_int}\n",
      "converted successfully\n"
     ]
    }
   ],
   "source": [
    "df = convert_to_int(df, 'WHEELS_OFF')"
   ]
  },
  {
   "cell_type": "code",
   "execution_count": 1320,
   "id": "3f90b0fa",
   "metadata": {},
   "outputs": [
    {
     "name": "stdout",
     "output_type": "stream",
     "text": [
      "WHEELS_OFF\n",
      "-1     282493\n",
      "707      4090\n",
      "708      4046\n",
      "706      4010\n",
      "709      3960\n",
      "        ...  \n",
      "442         4\n",
      "440         3\n",
      "447         3\n",
      "336         3\n",
      "347         3\n",
      "Name: count, Length: 1440, dtype: Int64\n",
      "\n",
      "missing values:  0\n",
      "\n",
      "datatype:  Int64\n"
     ]
    }
   ],
   "source": [
    "show_unique_missing_dtype(df, 'WHEELS_OFF')"
   ]
  },
  {
   "cell_type": "code",
   "execution_count": 1321,
   "id": "6baa0fff",
   "metadata": {},
   "outputs": [],
   "source": [
    "df.rename(columns={'WHEELS_OFF': 'DEP_TAKEOFF_TIME'}, inplace=True)"
   ]
  },
  {
   "cell_type": "markdown",
   "id": "b74f0dd3",
   "metadata": {},
   "source": [
    "## WHEELS_ON"
   ]
  },
  {
   "cell_type": "code",
   "execution_count": 1322,
   "id": "bdbb67c3",
   "metadata": {},
   "outputs": [
    {
     "name": "stdout",
     "output_type": "stream",
     "text": [
      "WHEELS_ON\n",
      "-1.0       282493\n",
      " 1850.0      2972\n",
      " 1848.0      2953\n",
      " 1854.0      2908\n",
      " 1845.0      2893\n",
      "            ...  \n",
      " 329.0         14\n",
      " 309.0         12\n",
      " 341.0         12\n",
      " 328.0         10\n",
      " 324.0          8\n",
      "Name: count, Length: 1441, dtype: int64\n",
      "\n",
      "missing values:  1061\n",
      "\n",
      "datatype:  float64\n"
     ]
    }
   ],
   "source": [
    "show_unique_missing_dtype(df, 'WHEELS_ON')"
   ]
  },
  {
   "cell_type": "markdown",
   "id": "48a23f9d",
   "metadata": {},
   "source": [
    "ok so lets deal with missing first. lets check if they are cancelled flights"
   ]
  },
  {
   "cell_type": "code",
   "execution_count": 1323,
   "id": "a1fbe400",
   "metadata": {},
   "outputs": [
    {
     "name": "stdout",
     "output_type": "stream",
     "text": [
      "CANCELLED\n",
      "0    628\n",
      "1    433\n",
      "Name: count, dtype: int64\n"
     ]
    }
   ],
   "source": [
    "cancelled = check_if_cancelled(df, 'WHEELS_ON')"
   ]
  },
  {
   "cell_type": "code",
   "execution_count": 1324,
   "id": "e490e877",
   "metadata": {},
   "outputs": [
    {
     "data": {
      "text/plain": [
       "MONTH                        0\n",
       "DAY_OF_MONTH                 0\n",
       "DAY_OF_WEEK                  0\n",
       "day_of_week_c                0\n",
       "FLIGHT_DATE                  0\n",
       "MARKETING_CARRIER_CODE       0\n",
       "MARKETING_FLIGHT_NUMBER      0\n",
       "AIRCRAFT_TAIL_NUMBER         0\n",
       "ORIGIN_AIRPORT_CODE          0\n",
       "ORIGIN_CITY_NAME             0\n",
       "ORIGIN_STATE_CODE            0\n",
       "ORIGIN_STATE_NAME            0\n",
       "DEST_AIRPORT_CODE            0\n",
       "DEST_CITY_NAME               0\n",
       "DEST_STATE_CODE              0\n",
       "DEST_STATE_NAME              0\n",
       "SCHEDULED_DEP_TIME           0\n",
       "SCHEDULED_DEP_HOUR           0\n",
       "ACTUAL_DEP_TIME              0\n",
       "ACTUAL_DEP_HOUR              0\n",
       "DEP_DELAY                    0\n",
       "DEP_DELAY_15_MIN             0\n",
       "DEP_DELAY_GROUP              0\n",
       "ORIGIN_TAXI_TIME             0\n",
       "DEP_TAKEOFF_TIME             0\n",
       "WHEELS_ON                  433\n",
       "TAXI_IN                    433\n",
       "CRS_ARR_TIME                 0\n",
       "ARR_TIME                   433\n",
       "ARR_DELAY                  433\n",
       "ARR_DELAY_NEW              433\n",
       "ARR_DEL15                  433\n",
       "ARR_DELAY_GROUP            433\n",
       "ARR_TIME_BLK                 0\n",
       "CANCELLED                    0\n",
       "CANCELLATION_CODE            0\n",
       "CRS_ELAPSED_TIME             0\n",
       "ACTUAL_ELAPSED_TIME        433\n",
       "AIR_TIME                   433\n",
       "DISTANCE                     0\n",
       "DISTANCE_GROUP               0\n",
       "CARRIER_DELAY              433\n",
       "WEATHER_DELAY              433\n",
       "NAS_DELAY                  433\n",
       "SECURITY_DELAY             433\n",
       "LATE_AIRCRAFT_DELAY        433\n",
       "dtype: int64"
      ]
     },
     "execution_count": 1324,
     "metadata": {},
     "output_type": "execute_result"
    }
   ],
   "source": [
    "cancelled = cancelled[cancelled['CANCELLED'] == 1]\n",
    "cancelled.isna().sum()"
   ]
  },
  {
   "cell_type": "markdown",
   "id": "202ff18f",
   "metadata": {},
   "source": [
    "so this is new. first lets make the cancelled ones -1 to signify their time is not valid."
   ]
  },
  {
   "cell_type": "code",
   "execution_count": 1325,
   "id": "c766f8de",
   "metadata": {},
   "outputs": [],
   "source": [
    "cols_to_fill = ['WHEELS_ON', 'TAXI_IN', 'ARR_TIME', 'CARRIER_DELAY', 'WEATHER_DELAY', 'NAS_DELAY', 'SECURITY_DELAY', 'LATE_AIRCRAFT_DELAY']"
   ]
  },
  {
   "cell_type": "code",
   "execution_count": 1326,
   "id": "eb6cb68b",
   "metadata": {},
   "outputs": [],
   "source": [
    "for col in cols_to_fill:\n",
    "    missing_idx = cancelled.index\n",
    "    df.loc[missing_idx, col] = -1"
   ]
  },
  {
   "cell_type": "code",
   "execution_count": 1327,
   "id": "1295d8cc",
   "metadata": {},
   "outputs": [],
   "source": [
    "cols_to_fill = ['ACTUAL_ELAPSED_TIME', 'AIR_TIME']"
   ]
  },
  {
   "cell_type": "code",
   "execution_count": 1328,
   "id": "887908d9",
   "metadata": {},
   "outputs": [],
   "source": [
    "for col in cols_to_fill:\n",
    "    missing_idx = cancelled.index\n",
    "    df.loc[missing_idx, col] = 0"
   ]
  },
  {
   "cell_type": "code",
   "execution_count": 1329,
   "id": "b3d3e202",
   "metadata": {},
   "outputs": [
    {
     "name": "stdout",
     "output_type": "stream",
     "text": [
      "CANCELLED\n",
      "0    628\n",
      "Name: count, dtype: int64\n"
     ]
    },
    {
     "data": {
      "text/plain": [
       "MONTH                      0\n",
       "DAY_OF_MONTH               0\n",
       "DAY_OF_WEEK                0\n",
       "day_of_week_c              0\n",
       "FLIGHT_DATE                0\n",
       "MARKETING_CARRIER_CODE     0\n",
       "MARKETING_FLIGHT_NUMBER    0\n",
       "AIRCRAFT_TAIL_NUMBER       0\n",
       "ORIGIN_AIRPORT_CODE        0\n",
       "ORIGIN_CITY_NAME           0\n",
       "ORIGIN_STATE_CODE          0\n",
       "ORIGIN_STATE_NAME          0\n",
       "DEST_AIRPORT_CODE          0\n",
       "DEST_CITY_NAME             0\n",
       "DEST_STATE_CODE            0\n",
       "DEST_STATE_NAME            0\n",
       "SCHEDULED_DEP_TIME         0\n",
       "SCHEDULED_DEP_HOUR         0\n",
       "ACTUAL_DEP_TIME            0\n",
       "ACTUAL_DEP_HOUR            0\n",
       "DEP_DELAY                  0\n",
       "DEP_DELAY_15_MIN           0\n",
       "DEP_DELAY_GROUP            0\n",
       "ORIGIN_TAXI_TIME           0\n",
       "DEP_TAKEOFF_TIME           0\n",
       "WHEELS_ON                  0\n",
       "TAXI_IN                    0\n",
       "CRS_ARR_TIME               0\n",
       "ARR_TIME                   0\n",
       "ARR_DELAY                  0\n",
       "ARR_DELAY_NEW              0\n",
       "ARR_DEL15                  0\n",
       "ARR_DELAY_GROUP            0\n",
       "ARR_TIME_BLK               0\n",
       "CANCELLED                  0\n",
       "CANCELLATION_CODE          0\n",
       "CRS_ELAPSED_TIME           0\n",
       "ACTUAL_ELAPSED_TIME        0\n",
       "AIR_TIME                   0\n",
       "DISTANCE                   0\n",
       "DISTANCE_GROUP             0\n",
       "CARRIER_DELAY              0\n",
       "WEATHER_DELAY              0\n",
       "NAS_DELAY                  0\n",
       "SECURITY_DELAY             0\n",
       "LATE_AIRCRAFT_DELAY        0\n",
       "dtype: int64"
      ]
     },
     "execution_count": 1329,
     "metadata": {},
     "output_type": "execute_result"
    }
   ],
   "source": [
    "cancelled = check_if_cancelled(df, 'WHEELS_ON')\n",
    "cancelled = cancelled[cancelled['CANCELLED'] == 1]\n",
    "cancelled.isna().sum()"
   ]
  },
  {
   "cell_type": "markdown",
   "id": "bb8aaea1",
   "metadata": {},
   "source": [
    "now lets extract the remaining columns and just look at them first"
   ]
  },
  {
   "cell_type": "code",
   "execution_count": 1330,
   "id": "b32a6e46",
   "metadata": {},
   "outputs": [
    {
     "data": {
      "text/plain": [
       "MONTH                        0\n",
       "DAY_OF_MONTH                 0\n",
       "DAY_OF_WEEK                  0\n",
       "day_of_week_c                0\n",
       "FLIGHT_DATE                  0\n",
       "MARKETING_CARRIER_CODE       0\n",
       "MARKETING_FLIGHT_NUMBER      0\n",
       "AIRCRAFT_TAIL_NUMBER         0\n",
       "ORIGIN_AIRPORT_CODE          0\n",
       "ORIGIN_CITY_NAME             0\n",
       "ORIGIN_STATE_CODE            0\n",
       "ORIGIN_STATE_NAME            0\n",
       "DEST_AIRPORT_CODE            0\n",
       "DEST_CITY_NAME               0\n",
       "DEST_STATE_CODE              0\n",
       "DEST_STATE_NAME              0\n",
       "SCHEDULED_DEP_TIME           0\n",
       "SCHEDULED_DEP_HOUR           0\n",
       "ACTUAL_DEP_TIME              0\n",
       "ACTUAL_DEP_HOUR              0\n",
       "DEP_DELAY                    0\n",
       "DEP_DELAY_15_MIN             0\n",
       "DEP_DELAY_GROUP              0\n",
       "ORIGIN_TAXI_TIME             0\n",
       "DEP_TAKEOFF_TIME             0\n",
       "WHEELS_ON                  628\n",
       "TAXI_IN                    628\n",
       "CRS_ARR_TIME                 0\n",
       "ARR_TIME                   628\n",
       "ARR_DELAY                  628\n",
       "ARR_DELAY_NEW              628\n",
       "ARR_DEL15                  628\n",
       "ARR_DELAY_GROUP            628\n",
       "ARR_TIME_BLK                 0\n",
       "CANCELLED                    0\n",
       "CANCELLATION_CODE          628\n",
       "CRS_ELAPSED_TIME             0\n",
       "ACTUAL_ELAPSED_TIME        628\n",
       "AIR_TIME                   628\n",
       "DISTANCE                     0\n",
       "DISTANCE_GROUP               0\n",
       "CARRIER_DELAY              628\n",
       "WEATHER_DELAY              628\n",
       "NAS_DELAY                  628\n",
       "SECURITY_DELAY             628\n",
       "LATE_AIRCRAFT_DELAY        628\n",
       "dtype: int64"
      ]
     },
     "execution_count": 1330,
     "metadata": {},
     "output_type": "execute_result"
    }
   ],
   "source": [
    "missing_rows = df[df['WHEELS_ON'].isna()]\n",
    "missing_rows.isna().sum()"
   ]
  },
  {
   "cell_type": "code",
   "execution_count": 1331,
   "id": "824eb883",
   "metadata": {},
   "outputs": [
    {
     "data": {
      "text/html": [
       "<div>\n",
       "<style scoped>\n",
       "    .dataframe tbody tr th:only-of-type {\n",
       "        vertical-align: middle;\n",
       "    }\n",
       "\n",
       "    .dataframe tbody tr th {\n",
       "        vertical-align: top;\n",
       "    }\n",
       "\n",
       "    .dataframe thead th {\n",
       "        text-align: right;\n",
       "    }\n",
       "</style>\n",
       "<table border=\"1\" class=\"dataframe\">\n",
       "  <thead>\n",
       "    <tr style=\"text-align: right;\">\n",
       "      <th></th>\n",
       "      <th>MONTH</th>\n",
       "      <th>DAY_OF_MONTH</th>\n",
       "      <th>DAY_OF_WEEK</th>\n",
       "      <th>day_of_week_c</th>\n",
       "      <th>FLIGHT_DATE</th>\n",
       "      <th>MARKETING_CARRIER_CODE</th>\n",
       "      <th>MARKETING_FLIGHT_NUMBER</th>\n",
       "      <th>AIRCRAFT_TAIL_NUMBER</th>\n",
       "      <th>ORIGIN_AIRPORT_CODE</th>\n",
       "      <th>ORIGIN_CITY_NAME</th>\n",
       "      <th>ORIGIN_STATE_CODE</th>\n",
       "      <th>ORIGIN_STATE_NAME</th>\n",
       "      <th>DEST_AIRPORT_CODE</th>\n",
       "      <th>DEST_CITY_NAME</th>\n",
       "      <th>DEST_STATE_CODE</th>\n",
       "      <th>DEST_STATE_NAME</th>\n",
       "      <th>SCHEDULED_DEP_TIME</th>\n",
       "      <th>SCHEDULED_DEP_HOUR</th>\n",
       "      <th>ACTUAL_DEP_TIME</th>\n",
       "      <th>ACTUAL_DEP_HOUR</th>\n",
       "      <th>DEP_DELAY</th>\n",
       "      <th>DEP_DELAY_15_MIN</th>\n",
       "      <th>DEP_DELAY_GROUP</th>\n",
       "      <th>ORIGIN_TAXI_TIME</th>\n",
       "      <th>DEP_TAKEOFF_TIME</th>\n",
       "      <th>WHEELS_ON</th>\n",
       "      <th>TAXI_IN</th>\n",
       "      <th>CRS_ARR_TIME</th>\n",
       "      <th>ARR_TIME</th>\n",
       "      <th>ARR_DELAY</th>\n",
       "      <th>ARR_DELAY_NEW</th>\n",
       "      <th>ARR_DEL15</th>\n",
       "      <th>ARR_DELAY_GROUP</th>\n",
       "      <th>ARR_TIME_BLK</th>\n",
       "      <th>CANCELLED</th>\n",
       "      <th>CANCELLATION_CODE</th>\n",
       "      <th>CRS_ELAPSED_TIME</th>\n",
       "      <th>ACTUAL_ELAPSED_TIME</th>\n",
       "      <th>AIR_TIME</th>\n",
       "      <th>DISTANCE</th>\n",
       "      <th>DISTANCE_GROUP</th>\n",
       "      <th>CARRIER_DELAY</th>\n",
       "      <th>WEATHER_DELAY</th>\n",
       "      <th>NAS_DELAY</th>\n",
       "      <th>SECURITY_DELAY</th>\n",
       "      <th>LATE_AIRCRAFT_DELAY</th>\n",
       "    </tr>\n",
       "  </thead>\n",
       "  <tbody>\n",
       "    <tr>\n",
       "      <th>14640</th>\n",
       "      <td>1</td>\n",
       "      <td>22</td>\n",
       "      <td>3</td>\n",
       "      <td>Wed</td>\n",
       "      <td>2020-01-22</td>\n",
       "      <td>AA</td>\n",
       "      <td>4017</td>\n",
       "      <td>N843AE</td>\n",
       "      <td>DFW</td>\n",
       "      <td>Dallas/Fort Worth, TX</td>\n",
       "      <td>TX</td>\n",
       "      <td>Texas</td>\n",
       "      <td>LAW</td>\n",
       "      <td>Lawton/Fort Sill, OK</td>\n",
       "      <td>OK</td>\n",
       "      <td>Oklahoma</td>\n",
       "      <td>1035</td>\n",
       "      <td>10</td>\n",
       "      <td>1101</td>\n",
       "      <td>11</td>\n",
       "      <td>26</td>\n",
       "      <td>Greater than 15</td>\n",
       "      <td>15-30 min late</td>\n",
       "      <td>30</td>\n",
       "      <td>1131</td>\n",
       "      <td>NaN</td>\n",
       "      <td>NaN</td>\n",
       "      <td>1132</td>\n",
       "      <td>NaN</td>\n",
       "      <td>NaN</td>\n",
       "      <td>NaN</td>\n",
       "      <td>NaN</td>\n",
       "      <td>NaN</td>\n",
       "      <td>1100-1159</td>\n",
       "      <td>0</td>\n",
       "      <td>NaN</td>\n",
       "      <td>57.0</td>\n",
       "      <td>NaN</td>\n",
       "      <td>NaN</td>\n",
       "      <td>140</td>\n",
       "      <td>1</td>\n",
       "      <td>NaN</td>\n",
       "      <td>NaN</td>\n",
       "      <td>NaN</td>\n",
       "      <td>NaN</td>\n",
       "      <td>NaN</td>\n",
       "    </tr>\n",
       "    <tr>\n",
       "      <th>18541</th>\n",
       "      <td>1</td>\n",
       "      <td>13</td>\n",
       "      <td>1</td>\n",
       "      <td>Mon</td>\n",
       "      <td>2020-01-13</td>\n",
       "      <td>AA</td>\n",
       "      <td>4150</td>\n",
       "      <td>N804AE</td>\n",
       "      <td>DFW</td>\n",
       "      <td>Dallas/Fort Worth, TX</td>\n",
       "      <td>TX</td>\n",
       "      <td>Texas</td>\n",
       "      <td>LFT</td>\n",
       "      <td>Lafayette, LA</td>\n",
       "      <td>LA</td>\n",
       "      <td>Louisiana</td>\n",
       "      <td>1229</td>\n",
       "      <td>12</td>\n",
       "      <td>1234</td>\n",
       "      <td>12</td>\n",
       "      <td>5</td>\n",
       "      <td>Less than 15</td>\n",
       "      <td>0-15 min late</td>\n",
       "      <td>33</td>\n",
       "      <td>1307</td>\n",
       "      <td>NaN</td>\n",
       "      <td>NaN</td>\n",
       "      <td>1352</td>\n",
       "      <td>NaN</td>\n",
       "      <td>NaN</td>\n",
       "      <td>NaN</td>\n",
       "      <td>NaN</td>\n",
       "      <td>NaN</td>\n",
       "      <td>1300-1359</td>\n",
       "      <td>0</td>\n",
       "      <td>NaN</td>\n",
       "      <td>83.0</td>\n",
       "      <td>NaN</td>\n",
       "      <td>NaN</td>\n",
       "      <td>351</td>\n",
       "      <td>2</td>\n",
       "      <td>NaN</td>\n",
       "      <td>NaN</td>\n",
       "      <td>NaN</td>\n",
       "      <td>NaN</td>\n",
       "      <td>NaN</td>\n",
       "    </tr>\n",
       "    <tr>\n",
       "      <th>32487</th>\n",
       "      <td>1</td>\n",
       "      <td>13</td>\n",
       "      <td>1</td>\n",
       "      <td>Mon</td>\n",
       "      <td>2020-01-13</td>\n",
       "      <td>HA</td>\n",
       "      <td>628</td>\n",
       "      <td>N805HC</td>\n",
       "      <td>HNL</td>\n",
       "      <td>Honolulu, HI</td>\n",
       "      <td>HI</td>\n",
       "      <td>Hawaii</td>\n",
       "      <td>JHM</td>\n",
       "      <td>Kapalua, HI</td>\n",
       "      <td>HI</td>\n",
       "      <td>Hawaii</td>\n",
       "      <td>806</td>\n",
       "      <td>8</td>\n",
       "      <td>800</td>\n",
       "      <td>8</td>\n",
       "      <td>-6</td>\n",
       "      <td>Less than 15</td>\n",
       "      <td>0-15 min early</td>\n",
       "      <td>7</td>\n",
       "      <td>807</td>\n",
       "      <td>NaN</td>\n",
       "      <td>NaN</td>\n",
       "      <td>844</td>\n",
       "      <td>NaN</td>\n",
       "      <td>NaN</td>\n",
       "      <td>NaN</td>\n",
       "      <td>NaN</td>\n",
       "      <td>NaN</td>\n",
       "      <td>0800-0859</td>\n",
       "      <td>0</td>\n",
       "      <td>NaN</td>\n",
       "      <td>38.0</td>\n",
       "      <td>NaN</td>\n",
       "      <td>NaN</td>\n",
       "      <td>84</td>\n",
       "      <td>1</td>\n",
       "      <td>NaN</td>\n",
       "      <td>NaN</td>\n",
       "      <td>NaN</td>\n",
       "      <td>NaN</td>\n",
       "      <td>NaN</td>\n",
       "    </tr>\n",
       "    <tr>\n",
       "      <th>32544</th>\n",
       "      <td>1</td>\n",
       "      <td>8</td>\n",
       "      <td>3</td>\n",
       "      <td>Wed</td>\n",
       "      <td>2020-01-08</td>\n",
       "      <td>HA</td>\n",
       "      <td>638</td>\n",
       "      <td>N804HC</td>\n",
       "      <td>HNL</td>\n",
       "      <td>Honolulu, HI</td>\n",
       "      <td>HI</td>\n",
       "      <td>Hawaii</td>\n",
       "      <td>JHM</td>\n",
       "      <td>Kapalua, HI</td>\n",
       "      <td>HI</td>\n",
       "      <td>Hawaii</td>\n",
       "      <td>1013</td>\n",
       "      <td>10</td>\n",
       "      <td>1024</td>\n",
       "      <td>10</td>\n",
       "      <td>11</td>\n",
       "      <td>Less than 15</td>\n",
       "      <td>0-15 min late</td>\n",
       "      <td>8</td>\n",
       "      <td>1032</td>\n",
       "      <td>NaN</td>\n",
       "      <td>NaN</td>\n",
       "      <td>1051</td>\n",
       "      <td>NaN</td>\n",
       "      <td>NaN</td>\n",
       "      <td>NaN</td>\n",
       "      <td>NaN</td>\n",
       "      <td>NaN</td>\n",
       "      <td>1000-1059</td>\n",
       "      <td>0</td>\n",
       "      <td>NaN</td>\n",
       "      <td>38.0</td>\n",
       "      <td>NaN</td>\n",
       "      <td>NaN</td>\n",
       "      <td>84</td>\n",
       "      <td>1</td>\n",
       "      <td>NaN</td>\n",
       "      <td>NaN</td>\n",
       "      <td>NaN</td>\n",
       "      <td>NaN</td>\n",
       "      <td>NaN</td>\n",
       "    </tr>\n",
       "    <tr>\n",
       "      <th>32550</th>\n",
       "      <td>1</td>\n",
       "      <td>14</td>\n",
       "      <td>2</td>\n",
       "      <td>Tue</td>\n",
       "      <td>2020-01-14</td>\n",
       "      <td>HA</td>\n",
       "      <td>638</td>\n",
       "      <td>N801HC</td>\n",
       "      <td>HNL</td>\n",
       "      <td>Honolulu, HI</td>\n",
       "      <td>HI</td>\n",
       "      <td>Hawaii</td>\n",
       "      <td>JHM</td>\n",
       "      <td>Kapalua, HI</td>\n",
       "      <td>HI</td>\n",
       "      <td>Hawaii</td>\n",
       "      <td>1013</td>\n",
       "      <td>10</td>\n",
       "      <td>1000</td>\n",
       "      <td>10</td>\n",
       "      <td>-13</td>\n",
       "      <td>Less than 15</td>\n",
       "      <td>0-15 min early</td>\n",
       "      <td>20</td>\n",
       "      <td>1020</td>\n",
       "      <td>NaN</td>\n",
       "      <td>NaN</td>\n",
       "      <td>1051</td>\n",
       "      <td>NaN</td>\n",
       "      <td>NaN</td>\n",
       "      <td>NaN</td>\n",
       "      <td>NaN</td>\n",
       "      <td>NaN</td>\n",
       "      <td>1000-1059</td>\n",
       "      <td>0</td>\n",
       "      <td>NaN</td>\n",
       "      <td>38.0</td>\n",
       "      <td>NaN</td>\n",
       "      <td>NaN</td>\n",
       "      <td>84</td>\n",
       "      <td>1</td>\n",
       "      <td>NaN</td>\n",
       "      <td>NaN</td>\n",
       "      <td>NaN</td>\n",
       "      <td>NaN</td>\n",
       "      <td>NaN</td>\n",
       "    </tr>\n",
       "    <tr>\n",
       "      <th>...</th>\n",
       "      <td>...</td>\n",
       "      <td>...</td>\n",
       "      <td>...</td>\n",
       "      <td>...</td>\n",
       "      <td>...</td>\n",
       "      <td>...</td>\n",
       "      <td>...</td>\n",
       "      <td>...</td>\n",
       "      <td>...</td>\n",
       "      <td>...</td>\n",
       "      <td>...</td>\n",
       "      <td>...</td>\n",
       "      <td>...</td>\n",
       "      <td>...</td>\n",
       "      <td>...</td>\n",
       "      <td>...</td>\n",
       "      <td>...</td>\n",
       "      <td>...</td>\n",
       "      <td>...</td>\n",
       "      <td>...</td>\n",
       "      <td>...</td>\n",
       "      <td>...</td>\n",
       "      <td>...</td>\n",
       "      <td>...</td>\n",
       "      <td>...</td>\n",
       "      <td>...</td>\n",
       "      <td>...</td>\n",
       "      <td>...</td>\n",
       "      <td>...</td>\n",
       "      <td>...</td>\n",
       "      <td>...</td>\n",
       "      <td>...</td>\n",
       "      <td>...</td>\n",
       "      <td>...</td>\n",
       "      <td>...</td>\n",
       "      <td>...</td>\n",
       "      <td>...</td>\n",
       "      <td>...</td>\n",
       "      <td>...</td>\n",
       "      <td>...</td>\n",
       "      <td>...</td>\n",
       "      <td>...</td>\n",
       "      <td>...</td>\n",
       "      <td>...</td>\n",
       "      <td>...</td>\n",
       "      <td>...</td>\n",
       "    </tr>\n",
       "    <tr>\n",
       "      <th>2667708</th>\n",
       "      <td>6</td>\n",
       "      <td>19</td>\n",
       "      <td>5</td>\n",
       "      <td>Fri</td>\n",
       "      <td>2020-06-19</td>\n",
       "      <td>WN</td>\n",
       "      <td>969</td>\n",
       "      <td>N473WN</td>\n",
       "      <td>SAN</td>\n",
       "      <td>San Diego, CA</td>\n",
       "      <td>CA</td>\n",
       "      <td>California</td>\n",
       "      <td>DAL</td>\n",
       "      <td>Dallas, TX</td>\n",
       "      <td>TX</td>\n",
       "      <td>Texas</td>\n",
       "      <td>1645</td>\n",
       "      <td>16</td>\n",
       "      <td>1645</td>\n",
       "      <td>16</td>\n",
       "      <td>0</td>\n",
       "      <td>Less than 15</td>\n",
       "      <td>0-15 min late</td>\n",
       "      <td>12</td>\n",
       "      <td>1657</td>\n",
       "      <td>NaN</td>\n",
       "      <td>NaN</td>\n",
       "      <td>2130</td>\n",
       "      <td>NaN</td>\n",
       "      <td>NaN</td>\n",
       "      <td>NaN</td>\n",
       "      <td>NaN</td>\n",
       "      <td>NaN</td>\n",
       "      <td>2100-2159</td>\n",
       "      <td>0</td>\n",
       "      <td>NaN</td>\n",
       "      <td>165.0</td>\n",
       "      <td>NaN</td>\n",
       "      <td>NaN</td>\n",
       "      <td>1182</td>\n",
       "      <td>5</td>\n",
       "      <td>NaN</td>\n",
       "      <td>NaN</td>\n",
       "      <td>NaN</td>\n",
       "      <td>NaN</td>\n",
       "      <td>NaN</td>\n",
       "    </tr>\n",
       "    <tr>\n",
       "      <th>2667981</th>\n",
       "      <td>6</td>\n",
       "      <td>19</td>\n",
       "      <td>5</td>\n",
       "      <td>Fri</td>\n",
       "      <td>2020-06-19</td>\n",
       "      <td>WN</td>\n",
       "      <td>6865</td>\n",
       "      <td>N8673F</td>\n",
       "      <td>STL</td>\n",
       "      <td>St. Louis, MO</td>\n",
       "      <td>MO</td>\n",
       "      <td>Missouri</td>\n",
       "      <td>DAL</td>\n",
       "      <td>Dallas, TX</td>\n",
       "      <td>TX</td>\n",
       "      <td>Texas</td>\n",
       "      <td>2020</td>\n",
       "      <td>20</td>\n",
       "      <td>2021</td>\n",
       "      <td>20</td>\n",
       "      <td>1</td>\n",
       "      <td>Less than 15</td>\n",
       "      <td>0-15 min late</td>\n",
       "      <td>8</td>\n",
       "      <td>2029</td>\n",
       "      <td>NaN</td>\n",
       "      <td>NaN</td>\n",
       "      <td>2205</td>\n",
       "      <td>NaN</td>\n",
       "      <td>NaN</td>\n",
       "      <td>NaN</td>\n",
       "      <td>NaN</td>\n",
       "      <td>NaN</td>\n",
       "      <td>2200-2259</td>\n",
       "      <td>0</td>\n",
       "      <td>NaN</td>\n",
       "      <td>105.0</td>\n",
       "      <td>NaN</td>\n",
       "      <td>NaN</td>\n",
       "      <td>546</td>\n",
       "      <td>3</td>\n",
       "      <td>NaN</td>\n",
       "      <td>NaN</td>\n",
       "      <td>NaN</td>\n",
       "      <td>NaN</td>\n",
       "      <td>NaN</td>\n",
       "    </tr>\n",
       "    <tr>\n",
       "      <th>2673901</th>\n",
       "      <td>6</td>\n",
       "      <td>10</td>\n",
       "      <td>3</td>\n",
       "      <td>Wed</td>\n",
       "      <td>2020-06-10</td>\n",
       "      <td>WN</td>\n",
       "      <td>490</td>\n",
       "      <td>N8655D</td>\n",
       "      <td>MCO</td>\n",
       "      <td>Orlando, FL</td>\n",
       "      <td>FL</td>\n",
       "      <td>Florida</td>\n",
       "      <td>SAT</td>\n",
       "      <td>San Antonio, TX</td>\n",
       "      <td>TX</td>\n",
       "      <td>Texas</td>\n",
       "      <td>2005</td>\n",
       "      <td>20</td>\n",
       "      <td>1956</td>\n",
       "      <td>19</td>\n",
       "      <td>-9</td>\n",
       "      <td>Less than 15</td>\n",
       "      <td>0-15 min early</td>\n",
       "      <td>6</td>\n",
       "      <td>2002</td>\n",
       "      <td>NaN</td>\n",
       "      <td>NaN</td>\n",
       "      <td>2155</td>\n",
       "      <td>NaN</td>\n",
       "      <td>NaN</td>\n",
       "      <td>NaN</td>\n",
       "      <td>NaN</td>\n",
       "      <td>NaN</td>\n",
       "      <td>2100-2159</td>\n",
       "      <td>0</td>\n",
       "      <td>NaN</td>\n",
       "      <td>170.0</td>\n",
       "      <td>NaN</td>\n",
       "      <td>NaN</td>\n",
       "      <td>1041</td>\n",
       "      <td>5</td>\n",
       "      <td>NaN</td>\n",
       "      <td>NaN</td>\n",
       "      <td>NaN</td>\n",
       "      <td>NaN</td>\n",
       "      <td>NaN</td>\n",
       "    </tr>\n",
       "    <tr>\n",
       "      <th>2704991</th>\n",
       "      <td>6</td>\n",
       "      <td>7</td>\n",
       "      <td>7</td>\n",
       "      <td>Sun</td>\n",
       "      <td>2020-06-07</td>\n",
       "      <td>AA</td>\n",
       "      <td>4830</td>\n",
       "      <td>N629AE</td>\n",
       "      <td>CLT</td>\n",
       "      <td>Charlotte, NC</td>\n",
       "      <td>NC</td>\n",
       "      <td>North Carolina</td>\n",
       "      <td>MOB</td>\n",
       "      <td>Mobile, AL</td>\n",
       "      <td>AL</td>\n",
       "      <td>Alabama</td>\n",
       "      <td>2015</td>\n",
       "      <td>20</td>\n",
       "      <td>2011</td>\n",
       "      <td>20</td>\n",
       "      <td>-4</td>\n",
       "      <td>Less than 15</td>\n",
       "      <td>0-15 min early</td>\n",
       "      <td>20</td>\n",
       "      <td>2031</td>\n",
       "      <td>NaN</td>\n",
       "      <td>NaN</td>\n",
       "      <td>2113</td>\n",
       "      <td>NaN</td>\n",
       "      <td>NaN</td>\n",
       "      <td>NaN</td>\n",
       "      <td>NaN</td>\n",
       "      <td>NaN</td>\n",
       "      <td>2100-2159</td>\n",
       "      <td>0</td>\n",
       "      <td>NaN</td>\n",
       "      <td>118.0</td>\n",
       "      <td>NaN</td>\n",
       "      <td>NaN</td>\n",
       "      <td>526</td>\n",
       "      <td>3</td>\n",
       "      <td>NaN</td>\n",
       "      <td>NaN</td>\n",
       "      <td>NaN</td>\n",
       "      <td>NaN</td>\n",
       "      <td>NaN</td>\n",
       "    </tr>\n",
       "    <tr>\n",
       "      <th>2743929</th>\n",
       "      <td>6</td>\n",
       "      <td>22</td>\n",
       "      <td>1</td>\n",
       "      <td>Mon</td>\n",
       "      <td>2020-06-22</td>\n",
       "      <td>WN</td>\n",
       "      <td>1198</td>\n",
       "      <td>N7864B</td>\n",
       "      <td>BNA</td>\n",
       "      <td>Nashville, TN</td>\n",
       "      <td>TN</td>\n",
       "      <td>Tennessee</td>\n",
       "      <td>MCO</td>\n",
       "      <td>Orlando, FL</td>\n",
       "      <td>FL</td>\n",
       "      <td>Florida</td>\n",
       "      <td>1855</td>\n",
       "      <td>18</td>\n",
       "      <td>2020</td>\n",
       "      <td>20</td>\n",
       "      <td>85</td>\n",
       "      <td>Greater than 15</td>\n",
       "      <td>75-90 min late</td>\n",
       "      <td>7</td>\n",
       "      <td>2027</td>\n",
       "      <td>NaN</td>\n",
       "      <td>NaN</td>\n",
       "      <td>2145</td>\n",
       "      <td>NaN</td>\n",
       "      <td>NaN</td>\n",
       "      <td>NaN</td>\n",
       "      <td>NaN</td>\n",
       "      <td>NaN</td>\n",
       "      <td>2100-2159</td>\n",
       "      <td>0</td>\n",
       "      <td>NaN</td>\n",
       "      <td>110.0</td>\n",
       "      <td>NaN</td>\n",
       "      <td>NaN</td>\n",
       "      <td>616</td>\n",
       "      <td>3</td>\n",
       "      <td>NaN</td>\n",
       "      <td>NaN</td>\n",
       "      <td>NaN</td>\n",
       "      <td>NaN</td>\n",
       "      <td>NaN</td>\n",
       "    </tr>\n",
       "  </tbody>\n",
       "</table>\n",
       "<p>628 rows × 46 columns</p>\n",
       "</div>"
      ],
      "text/plain": [
       "         MONTH  DAY_OF_MONTH  DAY_OF_WEEK day_of_week_c FLIGHT_DATE  \\\n",
       "14640        1            22            3           Wed  2020-01-22   \n",
       "18541        1            13            1           Mon  2020-01-13   \n",
       "32487        1            13            1           Mon  2020-01-13   \n",
       "32544        1             8            3           Wed  2020-01-08   \n",
       "32550        1            14            2           Tue  2020-01-14   \n",
       "...        ...           ...          ...           ...         ...   \n",
       "2667708      6            19            5           Fri  2020-06-19   \n",
       "2667981      6            19            5           Fri  2020-06-19   \n",
       "2673901      6            10            3           Wed  2020-06-10   \n",
       "2704991      6             7            7           Sun  2020-06-07   \n",
       "2743929      6            22            1           Mon  2020-06-22   \n",
       "\n",
       "        MARKETING_CARRIER_CODE  MARKETING_FLIGHT_NUMBER AIRCRAFT_TAIL_NUMBER  \\\n",
       "14640                       AA                     4017               N843AE   \n",
       "18541                       AA                     4150               N804AE   \n",
       "32487                       HA                      628               N805HC   \n",
       "32544                       HA                      638               N804HC   \n",
       "32550                       HA                      638               N801HC   \n",
       "...                        ...                      ...                  ...   \n",
       "2667708                     WN                      969               N473WN   \n",
       "2667981                     WN                     6865               N8673F   \n",
       "2673901                     WN                      490               N8655D   \n",
       "2704991                     AA                     4830               N629AE   \n",
       "2743929                     WN                     1198               N7864B   \n",
       "\n",
       "        ORIGIN_AIRPORT_CODE       ORIGIN_CITY_NAME ORIGIN_STATE_CODE  \\\n",
       "14640                   DFW  Dallas/Fort Worth, TX                TX   \n",
       "18541                   DFW  Dallas/Fort Worth, TX                TX   \n",
       "32487                   HNL           Honolulu, HI                HI   \n",
       "32544                   HNL           Honolulu, HI                HI   \n",
       "32550                   HNL           Honolulu, HI                HI   \n",
       "...                     ...                    ...               ...   \n",
       "2667708                 SAN          San Diego, CA                CA   \n",
       "2667981                 STL          St. Louis, MO                MO   \n",
       "2673901                 MCO            Orlando, FL                FL   \n",
       "2704991                 CLT          Charlotte, NC                NC   \n",
       "2743929                 BNA          Nashville, TN                TN   \n",
       "\n",
       "        ORIGIN_STATE_NAME DEST_AIRPORT_CODE        DEST_CITY_NAME  \\\n",
       "14640               Texas               LAW  Lawton/Fort Sill, OK   \n",
       "18541               Texas               LFT         Lafayette, LA   \n",
       "32487              Hawaii               JHM           Kapalua, HI   \n",
       "32544              Hawaii               JHM           Kapalua, HI   \n",
       "32550              Hawaii               JHM           Kapalua, HI   \n",
       "...                   ...               ...                   ...   \n",
       "2667708        California               DAL            Dallas, TX   \n",
       "2667981          Missouri               DAL            Dallas, TX   \n",
       "2673901           Florida               SAT       San Antonio, TX   \n",
       "2704991    North Carolina               MOB            Mobile, AL   \n",
       "2743929         Tennessee               MCO           Orlando, FL   \n",
       "\n",
       "        DEST_STATE_CODE DEST_STATE_NAME  SCHEDULED_DEP_TIME  \\\n",
       "14640                OK        Oklahoma                1035   \n",
       "18541                LA       Louisiana                1229   \n",
       "32487                HI          Hawaii                 806   \n",
       "32544                HI          Hawaii                1013   \n",
       "32550                HI          Hawaii                1013   \n",
       "...                 ...             ...                 ...   \n",
       "2667708              TX           Texas                1645   \n",
       "2667981              TX           Texas                2020   \n",
       "2673901              TX           Texas                2005   \n",
       "2704991              AL         Alabama                2015   \n",
       "2743929              FL         Florida                1855   \n",
       "\n",
       "         SCHEDULED_DEP_HOUR  ACTUAL_DEP_TIME  ACTUAL_DEP_HOUR  DEP_DELAY  \\\n",
       "14640                    10             1101               11         26   \n",
       "18541                    12             1234               12          5   \n",
       "32487                     8              800                8         -6   \n",
       "32544                    10             1024               10         11   \n",
       "32550                    10             1000               10        -13   \n",
       "...                     ...              ...              ...        ...   \n",
       "2667708                  16             1645               16          0   \n",
       "2667981                  20             2021               20          1   \n",
       "2673901                  20             1956               19         -9   \n",
       "2704991                  20             2011               20         -4   \n",
       "2743929                  18             2020               20         85   \n",
       "\n",
       "        DEP_DELAY_15_MIN DEP_DELAY_GROUP  ORIGIN_TAXI_TIME  DEP_TAKEOFF_TIME  \\\n",
       "14640    Greater than 15  15-30 min late                30              1131   \n",
       "18541       Less than 15   0-15 min late                33              1307   \n",
       "32487       Less than 15  0-15 min early                 7               807   \n",
       "32544       Less than 15   0-15 min late                 8              1032   \n",
       "32550       Less than 15  0-15 min early                20              1020   \n",
       "...                  ...             ...               ...               ...   \n",
       "2667708     Less than 15   0-15 min late                12              1657   \n",
       "2667981     Less than 15   0-15 min late                 8              2029   \n",
       "2673901     Less than 15  0-15 min early                 6              2002   \n",
       "2704991     Less than 15  0-15 min early                20              2031   \n",
       "2743929  Greater than 15  75-90 min late                 7              2027   \n",
       "\n",
       "         WHEELS_ON  TAXI_IN  CRS_ARR_TIME  ARR_TIME  ARR_DELAY  ARR_DELAY_NEW  \\\n",
       "14640          NaN      NaN          1132       NaN        NaN            NaN   \n",
       "18541          NaN      NaN          1352       NaN        NaN            NaN   \n",
       "32487          NaN      NaN           844       NaN        NaN            NaN   \n",
       "32544          NaN      NaN          1051       NaN        NaN            NaN   \n",
       "32550          NaN      NaN          1051       NaN        NaN            NaN   \n",
       "...            ...      ...           ...       ...        ...            ...   \n",
       "2667708        NaN      NaN          2130       NaN        NaN            NaN   \n",
       "2667981        NaN      NaN          2205       NaN        NaN            NaN   \n",
       "2673901        NaN      NaN          2155       NaN        NaN            NaN   \n",
       "2704991        NaN      NaN          2113       NaN        NaN            NaN   \n",
       "2743929        NaN      NaN          2145       NaN        NaN            NaN   \n",
       "\n",
       "         ARR_DEL15  ARR_DELAY_GROUP ARR_TIME_BLK  CANCELLED CANCELLATION_CODE  \\\n",
       "14640          NaN              NaN    1100-1159          0               NaN   \n",
       "18541          NaN              NaN    1300-1359          0               NaN   \n",
       "32487          NaN              NaN    0800-0859          0               NaN   \n",
       "32544          NaN              NaN    1000-1059          0               NaN   \n",
       "32550          NaN              NaN    1000-1059          0               NaN   \n",
       "...            ...              ...          ...        ...               ...   \n",
       "2667708        NaN              NaN    2100-2159          0               NaN   \n",
       "2667981        NaN              NaN    2200-2259          0               NaN   \n",
       "2673901        NaN              NaN    2100-2159          0               NaN   \n",
       "2704991        NaN              NaN    2100-2159          0               NaN   \n",
       "2743929        NaN              NaN    2100-2159          0               NaN   \n",
       "\n",
       "         CRS_ELAPSED_TIME  ACTUAL_ELAPSED_TIME  AIR_TIME  DISTANCE  \\\n",
       "14640                57.0                  NaN       NaN       140   \n",
       "18541                83.0                  NaN       NaN       351   \n",
       "32487                38.0                  NaN       NaN        84   \n",
       "32544                38.0                  NaN       NaN        84   \n",
       "32550                38.0                  NaN       NaN        84   \n",
       "...                   ...                  ...       ...       ...   \n",
       "2667708             165.0                  NaN       NaN      1182   \n",
       "2667981             105.0                  NaN       NaN       546   \n",
       "2673901             170.0                  NaN       NaN      1041   \n",
       "2704991             118.0                  NaN       NaN       526   \n",
       "2743929             110.0                  NaN       NaN       616   \n",
       "\n",
       "         DISTANCE_GROUP  CARRIER_DELAY  WEATHER_DELAY  NAS_DELAY  \\\n",
       "14640                 1            NaN            NaN        NaN   \n",
       "18541                 2            NaN            NaN        NaN   \n",
       "32487                 1            NaN            NaN        NaN   \n",
       "32544                 1            NaN            NaN        NaN   \n",
       "32550                 1            NaN            NaN        NaN   \n",
       "...                 ...            ...            ...        ...   \n",
       "2667708               5            NaN            NaN        NaN   \n",
       "2667981               3            NaN            NaN        NaN   \n",
       "2673901               5            NaN            NaN        NaN   \n",
       "2704991               3            NaN            NaN        NaN   \n",
       "2743929               3            NaN            NaN        NaN   \n",
       "\n",
       "         SECURITY_DELAY  LATE_AIRCRAFT_DELAY  \n",
       "14640               NaN                  NaN  \n",
       "18541               NaN                  NaN  \n",
       "32487               NaN                  NaN  \n",
       "32544               NaN                  NaN  \n",
       "32550               NaN                  NaN  \n",
       "...                 ...                  ...  \n",
       "2667708             NaN                  NaN  \n",
       "2667981             NaN                  NaN  \n",
       "2673901             NaN                  NaN  \n",
       "2704991             NaN                  NaN  \n",
       "2743929             NaN                  NaN  \n",
       "\n",
       "[628 rows x 46 columns]"
      ]
     },
     "execution_count": 1331,
     "metadata": {},
     "output_type": "execute_result"
    }
   ],
   "source": [
    "missing_rows"
   ]
  },
  {
   "cell_type": "markdown",
   "id": "421de123",
   "metadata": {},
   "source": [
    "so it seems like these flights left the origin but did not reach the destination, nor were they cancelled. looks like they were possibly diverted. thus we fill them with -1 because they do not exist. "
   ]
  },
  {
   "cell_type": "code",
   "execution_count": 1332,
   "id": "c87ed6e8",
   "metadata": {},
   "outputs": [],
   "source": [
    "cols_to_fill = ['WHEELS_ON', 'TAXI_IN', 'ARR_TIME']"
   ]
  },
  {
   "cell_type": "code",
   "execution_count": 1333,
   "id": "0c648771",
   "metadata": {},
   "outputs": [],
   "source": [
    "for col in cols_to_fill:\n",
    "    missing_idx = missing_rows.index\n",
    "    df.loc[missing_idx, col] = -1"
   ]
  },
  {
   "cell_type": "code",
   "execution_count": 1334,
   "id": "c6a7e2ef",
   "metadata": {},
   "outputs": [],
   "source": [
    "cols_to_fill = ['ACTUAL_ELAPSED_TIME', 'AIR_TIME']"
   ]
  },
  {
   "cell_type": "code",
   "execution_count": 1335,
   "id": "a60dc2bc",
   "metadata": {},
   "outputs": [],
   "source": [
    "for col in cols_to_fill:\n",
    "    missing_idx = missing_rows.index\n",
    "    df.loc[missing_idx, col] = 0"
   ]
  },
  {
   "cell_type": "markdown",
   "id": "eded5ce6",
   "metadata": {},
   "source": [
    "recheck"
   ]
  },
  {
   "cell_type": "code",
   "execution_count": 1336,
   "id": "5c893052",
   "metadata": {},
   "outputs": [
    {
     "data": {
      "text/plain": [
       "(0, 46)"
      ]
     },
     "execution_count": 1336,
     "metadata": {},
     "output_type": "execute_result"
    }
   ],
   "source": [
    "missing_rows = df[df['WHEELS_ON'].isna()]\n",
    "missing_rows.shape"
   ]
  },
  {
   "cell_type": "markdown",
   "id": "75da7341",
   "metadata": {},
   "source": [
    "convert to int"
   ]
  },
  {
   "cell_type": "code",
   "execution_count": 1337,
   "id": "d127e67a",
   "metadata": {},
   "outputs": [
    {
     "name": "stdout",
     "output_type": "stream",
     "text": [
      "All non-missing  WHEELS_ON  values are integers? {is_every_int}\n",
      "converted successfully\n"
     ]
    }
   ],
   "source": [
    "df = convert_to_int(df, 'WHEELS_ON')"
   ]
  },
  {
   "cell_type": "code",
   "execution_count": 1338,
   "id": "ed4e04f4",
   "metadata": {},
   "outputs": [
    {
     "name": "stdout",
     "output_type": "stream",
     "text": [
      "WHEELS_ON\n",
      "-1      283554\n",
      "1850      2972\n",
      "1848      2953\n",
      "1854      2908\n",
      "1845      2893\n",
      "         ...  \n",
      "329         14\n",
      "309         12\n",
      "341         12\n",
      "328         10\n",
      "324          8\n",
      "Name: count, Length: 1441, dtype: Int64\n",
      "\n",
      "missing values:  0\n",
      "\n",
      "datatype:  Int64\n"
     ]
    }
   ],
   "source": [
    "show_unique_missing_dtype(df, 'WHEELS_ON')"
   ]
  },
  {
   "cell_type": "markdown",
   "id": "ceb8335f",
   "metadata": {},
   "source": [
    "rename it to something meaningful like `ARR_LANDING_TIME`"
   ]
  },
  {
   "cell_type": "code",
   "execution_count": 1339,
   "id": "b6bd3cc3",
   "metadata": {},
   "outputs": [],
   "source": [
    "df.rename(columns={'WHEELS_ON': 'ARR_LANDING_TIME'}, inplace=True)"
   ]
  },
  {
   "cell_type": "markdown",
   "id": "910f3a37",
   "metadata": {},
   "source": [
    "## TAXI_IN"
   ]
  },
  {
   "cell_type": "code",
   "execution_count": 1340,
   "id": "4009f3eb",
   "metadata": {},
   "outputs": [
    {
     "name": "stdout",
     "output_type": "stream",
     "text": [
      "TAXI_IN\n",
      " 4.0      415156\n",
      " 5.0      362841\n",
      " 3.0      324351\n",
      "-1.0      283554\n",
      " 6.0      282386\n",
      "           ...  \n",
      " 136.0         1\n",
      " 112.0         1\n",
      " 108.0         1\n",
      " 111.0         1\n",
      " 138.0         1\n",
      "Name: count, Length: 136, dtype: int64\n",
      "\n",
      "missing values:  0\n",
      "\n",
      "datatype:  float64\n"
     ]
    }
   ],
   "source": [
    "show_unique_missing_dtype(df, 'TAXI_IN')"
   ]
  },
  {
   "cell_type": "markdown",
   "id": "55994b69",
   "metadata": {},
   "source": [
    "rename to something similar as `TAXI_IN` to `DEST_TAXI_TIME` and convert to int"
   ]
  },
  {
   "cell_type": "code",
   "execution_count": 1341,
   "id": "c8451a4a",
   "metadata": {},
   "outputs": [
    {
     "name": "stdout",
     "output_type": "stream",
     "text": [
      "All non-missing  TAXI_IN  values are integers? {is_every_int}\n",
      "converted successfully\n"
     ]
    }
   ],
   "source": [
    "df = convert_to_int(df, 'TAXI_IN')"
   ]
  },
  {
   "cell_type": "code",
   "execution_count": 1342,
   "id": "1536e261",
   "metadata": {},
   "outputs": [],
   "source": [
    "df.rename(columns={'TAXI_IN': 'DEST_TAXI_TIME'}, inplace=True)"
   ]
  },
  {
   "cell_type": "markdown",
   "id": "bfb2c496",
   "metadata": {},
   "source": [
    "## CRS_ARR_TIME"
   ]
  },
  {
   "cell_type": "code",
   "execution_count": 1343,
   "id": "eeff9745",
   "metadata": {},
   "outputs": [
    {
     "name": "stdout",
     "output_type": "stream",
     "text": [
      "CRS_ARR_TIME\n",
      "1900    9526\n",
      "1710    8655\n",
      "1915    7491\n",
      "1940    7277\n",
      "1000    7273\n",
      "        ... \n",
      "137        1\n",
      "138        1\n",
      "223        1\n",
      "201        1\n",
      "315        1\n",
      "Name: count, Length: 1393, dtype: int64\n",
      "\n",
      "missing values:  0\n",
      "\n",
      "datatype:  int64\n"
     ]
    }
   ],
   "source": [
    "show_unique_missing_dtype(df, 'CRS_ARR_TIME')"
   ]
  },
  {
   "cell_type": "markdown",
   "id": "96a12210",
   "metadata": {},
   "source": [
    "so same logic as `CRS_dEP_TIME`, lets extract its hour"
   ]
  },
  {
   "cell_type": "code",
   "execution_count": 1344,
   "id": "0367942f",
   "metadata": {},
   "outputs": [],
   "source": [
    "df = extract_hour(df, 'CRS_ARR_TIME', 'CRS_ARR_HOUR')"
   ]
  },
  {
   "cell_type": "code",
   "execution_count": 1345,
   "id": "b803cca0",
   "metadata": {},
   "outputs": [
    {
     "name": "stdout",
     "output_type": "stream",
     "text": [
      "CRS_ARR_HOUR\n",
      "16    180483\n",
      "19    179760\n",
      "17    175672\n",
      "10    172069\n",
      "14    171397\n",
      "11    170745\n",
      "21    168110\n",
      "12    167483\n",
      "18    165390\n",
      "13    164421\n",
      "15    163198\n",
      "9     153718\n",
      "20    150308\n",
      "8     142650\n",
      "22    119987\n",
      "23    113722\n",
      "7      91247\n",
      "0      35973\n",
      "6      34085\n",
      "5      14353\n",
      "1       6455\n",
      "4       2823\n",
      "2       1233\n",
      "3        552\n",
      "24        13\n",
      "Name: count, dtype: int64\n",
      "\n",
      "missing values:  0\n",
      "\n",
      "datatype:  int32\n"
     ]
    }
   ],
   "source": [
    "show_unique_missing_dtype(df, 'CRS_ARR_HOUR')"
   ]
  },
  {
   "cell_type": "markdown",
   "id": "bc5b6ab4",
   "metadata": {},
   "source": [
    "so again we see some 24 values. lets extract those and convert to 0"
   ]
  },
  {
   "cell_type": "code",
   "execution_count": 1346,
   "id": "67e5b153",
   "metadata": {},
   "outputs": [
    {
     "data": {
      "text/plain": [
       "(13, 48)"
      ]
     },
     "execution_count": 1346,
     "metadata": {},
     "output_type": "execute_result"
    }
   ],
   "source": [
    "# ensure the column is numeric\n",
    "df['ARR_TIME_CLEAN'] = pd.to_numeric(df['CRS_ARR_TIME'], errors='coerce')\n",
    "\n",
    "# filter rows with values = 2400\n",
    "bad_times = df[df['ARR_TIME_CLEAN'] == 2400]\n",
    "bad_times.shape"
   ]
  },
  {
   "cell_type": "code",
   "execution_count": 1347,
   "id": "400cdd37",
   "metadata": {},
   "outputs": [],
   "source": [
    "# ensure numeric dtype\n",
    "df['CRS_ARR_TIME'] = pd.to_numeric(df['CRS_ARR_TIME'], errors='coerce').astype('Int64')\n",
    "\n",
    "# replace exactly 2400 → 0\n",
    "df.loc[df['CRS_ARR_TIME'] == 2400, 'CRS_ARR_TIME'] = 0"
   ]
  },
  {
   "cell_type": "code",
   "execution_count": 1348,
   "id": "28878a72",
   "metadata": {},
   "outputs": [
    {
     "data": {
      "text/plain": [
       "(0, 48)"
      ]
     },
     "execution_count": 1348,
     "metadata": {},
     "output_type": "execute_result"
    }
   ],
   "source": [
    "# RECHECK\n",
    "\n",
    "# ensure the column is numeric\n",
    "df['ARR_TIME_CLEAN'] = pd.to_numeric(df['CRS_ARR_TIME'], errors='coerce')\n",
    "\n",
    "# filter rows with values = 2400\n",
    "bad_times = df[df['ARR_TIME_CLEAN'] == 2400]\n",
    "bad_times.shape"
   ]
  },
  {
   "cell_type": "code",
   "execution_count": 1349,
   "id": "bfc6ee48",
   "metadata": {},
   "outputs": [],
   "source": [
    "# remove arr_time_clean\n",
    "\n",
    "df = df.drop('ARR_TIME_CLEAN', axis=1)"
   ]
  },
  {
   "cell_type": "code",
   "execution_count": 1350,
   "id": "e2f3a03e",
   "metadata": {},
   "outputs": [],
   "source": [
    "df = extract_hour(df, 'CRS_ARR_TIME', 'CRS_ARR_HOUR')"
   ]
  },
  {
   "cell_type": "code",
   "execution_count": 1351,
   "id": "d1cb85c9",
   "metadata": {},
   "outputs": [
    {
     "name": "stdout",
     "output_type": "stream",
     "text": [
      "CRS_ARR_HOUR\n",
      "16    180483\n",
      "19    179760\n",
      "17    175672\n",
      "10    172069\n",
      "14    171397\n",
      "11    170745\n",
      "21    168110\n",
      "12    167483\n",
      "18    165390\n",
      "13    164421\n",
      "15    163198\n",
      "9     153718\n",
      "20    150308\n",
      "8     142650\n",
      "22    119987\n",
      "23    113722\n",
      "7      91247\n",
      "0      35986\n",
      "6      34085\n",
      "5      14353\n",
      "1       6455\n",
      "4       2823\n",
      "2       1233\n",
      "3        552\n",
      "Name: count, dtype: int64\n",
      "\n",
      "missing values:  0\n",
      "\n",
      "datatype:  int32\n"
     ]
    }
   ],
   "source": [
    "show_unique_missing_dtype(df, 'CRS_ARR_HOUR')"
   ]
  },
  {
   "cell_type": "markdown",
   "id": "a0b1a6fa",
   "metadata": {},
   "source": [
    "finally, lets rename the columns"
   ]
  },
  {
   "cell_type": "code",
   "execution_count": 1352,
   "id": "4e4b89e3",
   "metadata": {},
   "outputs": [],
   "source": [
    "df.rename(columns={\n",
    "    'CRS_ARR_TIME': 'SCHEDULED_ARR_TIME',\n",
    "    'CRS_ARR_HOUR': 'SCHEDULED_ARR_HOUR'\n",
    "}, inplace=True)"
   ]
  },
  {
   "cell_type": "markdown",
   "id": "8788eba7",
   "metadata": {},
   "source": [
    "## ARR_TIME"
   ]
  },
  {
   "cell_type": "code",
   "execution_count": 1353,
   "id": "67cf9628",
   "metadata": {},
   "outputs": [
    {
     "name": "stdout",
     "output_type": "stream",
     "text": [
      "ARR_TIME\n",
      "-1.0       283554\n",
      " 1857.0      2920\n",
      " 1620.0      2915\n",
      " 1855.0      2893\n",
      " 1615.0      2888\n",
      "            ...  \n",
      " 342.0         12\n",
      " 345.0         11\n",
      " 339.0         11\n",
      " 320.0         11\n",
      " 324.0          7\n",
      "Name: count, Length: 1441, dtype: int64\n",
      "\n",
      "missing values:  0\n",
      "\n",
      "datatype:  float64\n"
     ]
    }
   ],
   "source": [
    "show_unique_missing_dtype(df, 'ARR_TIME')"
   ]
  },
  {
   "cell_type": "markdown",
   "id": "26955662",
   "metadata": {},
   "source": [
    "seems fine. lets convert to int and also extract hours"
   ]
  },
  {
   "cell_type": "code",
   "execution_count": 1354,
   "id": "c823e996",
   "metadata": {},
   "outputs": [
    {
     "name": "stdout",
     "output_type": "stream",
     "text": [
      "All non-missing  ARR_TIME  values are integers? {is_every_int}\n",
      "converted successfully\n"
     ]
    }
   ],
   "source": [
    "df = convert_to_int(df, 'ARR_TIME')"
   ]
  },
  {
   "cell_type": "code",
   "execution_count": 1355,
   "id": "bf17899e",
   "metadata": {},
   "outputs": [],
   "source": [
    "df = extract_hour(df, 'ARR_TIME', 'ARR_HOUR')"
   ]
  },
  {
   "cell_type": "code",
   "execution_count": 1356,
   "id": "f69bef85",
   "metadata": {},
   "outputs": [
    {
     "name": "stdout",
     "output_type": "stream",
     "text": [
      "ARR_HOUR\n",
      "-1     283554\n",
      " 16    163278\n",
      " 18    156070\n",
      " 11    152259\n",
      " 14    150952\n",
      " 10    150441\n",
      " 19    150311\n",
      " 17    149298\n",
      " 15    148989\n",
      " 12    148602\n",
      " 13    147642\n",
      " 20    142879\n",
      " 21    142295\n",
      " 9     140213\n",
      " 8     127773\n",
      " 22    108165\n",
      " 23     91546\n",
      " 7      88436\n",
      " 6      36360\n",
      " 0      33743\n",
      " 5      14052\n",
      " 1       8474\n",
      " 4       5973\n",
      " 2       2466\n",
      " 3       1090\n",
      " 24       986\n",
      "Name: count, dtype: int64\n",
      "\n",
      "missing values:  0\n",
      "\n",
      "datatype:  int32\n"
     ]
    }
   ],
   "source": [
    "show_unique_missing_dtype(df, 'ARR_HOUR')"
   ]
  },
  {
   "cell_type": "markdown",
   "id": "c320f00f",
   "metadata": {},
   "source": [
    "again we have 2400 values. lets repeat what we did in `CRS_ARR_TIME`"
   ]
  },
  {
   "cell_type": "code",
   "execution_count": 1357,
   "id": "3fbb6042",
   "metadata": {},
   "outputs": [
    {
     "data": {
      "text/plain": [
       "(986, 49)"
      ]
     },
     "execution_count": 1357,
     "metadata": {},
     "output_type": "execute_result"
    }
   ],
   "source": [
    "# ensure the column is numeric\n",
    "df['ARR_TIME_CLEAN'] = pd.to_numeric(df['ARR_TIME'], errors='coerce')\n",
    "\n",
    "# filter rows with values = 2400\n",
    "bad_times = df[df['ARR_TIME_CLEAN'] == 2400]\n",
    "bad_times.shape"
   ]
  },
  {
   "cell_type": "code",
   "execution_count": 1358,
   "id": "41e95ac5",
   "metadata": {},
   "outputs": [],
   "source": [
    "# ensure numeric dtype\n",
    "df['ARR_TIME'] = pd.to_numeric(df['ARR_TIME'], errors='coerce').astype('Int64')\n",
    "\n",
    "# replace exactly 2400 → 0\n",
    "df.loc[df['ARR_TIME'] == 2400, 'ARR_TIME'] = 0"
   ]
  },
  {
   "cell_type": "code",
   "execution_count": 1359,
   "id": "e76d3a46",
   "metadata": {},
   "outputs": [
    {
     "data": {
      "text/plain": [
       "(0, 49)"
      ]
     },
     "execution_count": 1359,
     "metadata": {},
     "output_type": "execute_result"
    }
   ],
   "source": [
    "# RECHECK\n",
    "\n",
    "# ensure the column is numeric\n",
    "df['ARR_TIME_CLEAN'] = pd.to_numeric(df['ARR_TIME'], errors='coerce')\n",
    "\n",
    "# filter rows with values = 2400\n",
    "bad_times = df[df['ARR_TIME_CLEAN'] == 2400]\n",
    "bad_times.shape"
   ]
  },
  {
   "cell_type": "code",
   "execution_count": 1360,
   "id": "58ae95b3",
   "metadata": {},
   "outputs": [],
   "source": [
    "# remove arr_time_clean\n",
    "\n",
    "df = df.drop('ARR_TIME_CLEAN', axis=1)"
   ]
  },
  {
   "cell_type": "code",
   "execution_count": 1361,
   "id": "3a1ab127",
   "metadata": {},
   "outputs": [],
   "source": [
    "df = extract_hour(df, 'ARR_TIME', 'ARR_HOUR')"
   ]
  },
  {
   "cell_type": "code",
   "execution_count": 1362,
   "id": "24803f11",
   "metadata": {},
   "outputs": [
    {
     "name": "stdout",
     "output_type": "stream",
     "text": [
      "ARR_HOUR\n",
      "-1     283554\n",
      " 16    163278\n",
      " 18    156070\n",
      " 11    152259\n",
      " 14    150952\n",
      " 10    150441\n",
      " 19    150311\n",
      " 17    149298\n",
      " 15    148989\n",
      " 12    148602\n",
      " 13    147642\n",
      " 20    142879\n",
      " 21    142295\n",
      " 9     140213\n",
      " 8     127773\n",
      " 22    108165\n",
      " 23     91546\n",
      " 7      88436\n",
      " 6      36360\n",
      " 0      34729\n",
      " 5      14052\n",
      " 1       8474\n",
      " 4       5973\n",
      " 2       2466\n",
      " 3       1090\n",
      "Name: count, dtype: int64\n",
      "\n",
      "missing values:  0\n",
      "\n",
      "datatype:  int32\n"
     ]
    }
   ],
   "source": [
    "show_unique_missing_dtype(df, 'ARR_HOUR')"
   ]
  },
  {
   "cell_type": "code",
   "execution_count": 1363,
   "id": "40700de5",
   "metadata": {},
   "outputs": [],
   "source": [
    "df.rename(columns={\n",
    "    'ARR_TIME': 'ACTUAL_ARR_TIME',\n",
    "    'ARR_HOUR': 'ACTUAL_ARR_HOUR'\n",
    "}, inplace=True)"
   ]
  },
  {
   "cell_type": "markdown",
   "id": "da90cf79",
   "metadata": {},
   "source": [
    "## ARR_DELAY"
   ]
  },
  {
   "cell_type": "code",
   "execution_count": null,
   "id": "17d4173d",
   "metadata": {},
   "outputs": [],
   "source": []
  },
  {
   "cell_type": "markdown",
   "id": "441f16cf",
   "metadata": {},
   "source": [
    "## ARR_DELAY_NEW"
   ]
  },
  {
   "cell_type": "code",
   "execution_count": null,
   "id": "37112f12",
   "metadata": {},
   "outputs": [],
   "source": [
    "show_unique_missing_dtype(df, 'ARR_DELAY_NEW')"
   ]
  },
  {
   "cell_type": "markdown",
   "id": "5a085fa8",
   "metadata": {},
   "source": [
    "again same reasoning as `dep_delay_new`, this column does not provide us new menaingful information as it is just repitition and can be achieved using a negative filter. better to drop. "
   ]
  },
  {
   "cell_type": "code",
   "execution_count": null,
   "id": "dd2a9caa",
   "metadata": {},
   "outputs": [],
   "source": [
    "df = df.drop('ARR_DELAY_NEW', axis=1)"
   ]
  },
  {
   "cell_type": "markdown",
   "id": "1ba6ef61",
   "metadata": {},
   "source": [
    "## ARR_DEL15"
   ]
  },
  {
   "cell_type": "code",
   "execution_count": null,
   "id": "b3ae0b8d",
   "metadata": {},
   "outputs": [],
   "source": [
    "show_unique_missing_dtype(df, 'ARR_DEL15')"
   ]
  },
  {
   "cell_type": "markdown",
   "id": "325aff75",
   "metadata": {},
   "source": [
    "## ARR_DELAY_GROUP"
   ]
  },
  {
   "cell_type": "code",
   "execution_count": null,
   "id": "9e6182bf",
   "metadata": {},
   "outputs": [],
   "source": []
  },
  {
   "cell_type": "markdown",
   "id": "1ac20ede",
   "metadata": {},
   "source": [
    "## ARR_TIME_BLK"
   ]
  },
  {
   "cell_type": "code",
   "execution_count": null,
   "id": "d6906418",
   "metadata": {},
   "outputs": [],
   "source": []
  },
  {
   "cell_type": "markdown",
   "id": "4108ae8b",
   "metadata": {},
   "source": [
    "## CANCELLED"
   ]
  },
  {
   "cell_type": "code",
   "execution_count": null,
   "id": "3b12d333",
   "metadata": {},
   "outputs": [],
   "source": []
  },
  {
   "cell_type": "markdown",
   "id": "f70ba738",
   "metadata": {},
   "source": [
    "## CANCELLATION_CODE"
   ]
  },
  {
   "cell_type": "code",
   "execution_count": null,
   "id": "58611bb5",
   "metadata": {},
   "outputs": [],
   "source": [
    "show_unique_missing_dtype(df, 'CANCELLATION_CODE')"
   ]
  },
  {
   "cell_type": "markdown",
   "id": "2377611f",
   "metadata": {},
   "source": [
    "so in our BI dashboard, a b c d e isnt very meaningful and readable. so here we see that this is not interpretable. we searched up and dug up the internet to get to know that from the U.S. Department of Transportation (DOT) flight data standards, here is what each cancellation code means:\n",
    "- A = Carrier — airline-related (crew, aircraft, etc.)\n",
    "- B = Weather — adverse weather at origin/destination or en route\n",
    "- C = NAS — National Airspace System (ATC, delays, airport congestion)\n",
    "- D = Security — e.g., TSA delays, threats, evacuations     \n",
    "\n",
    "so instead of leaving it just like this, lets make it more visualizeable.\n",
    "\n",
    "along with mapping each one, lets replace all null values with \"Not Cancelled\""
   ]
  },
  {
   "cell_type": "code",
   "execution_count": null,
   "id": "5ea21326",
   "metadata": {},
   "outputs": [],
   "source": [
    "cancel_map = {\n",
    "    'A': 'Carrier',\n",
    "    'B': 'Weather',\n",
    "    'C': 'Airspace System (NAS)',\n",
    "    'D': 'Security',\n",
    "    'Not Cancelled': 'Not Cancelled'\n",
    "}\n",
    "\n",
    "df['CANCELLATION_CODE'] = df['CANCELLATION_CODE'].fillna('Not Cancelled').map(cancel_map)\n",
    "df = to_string(df, 'CANCELLATION_CODE')"
   ]
  },
  {
   "cell_type": "markdown",
   "id": "666b3eb7",
   "metadata": {},
   "source": [
    "## CRS_ELAPSED_TIME"
   ]
  },
  {
   "cell_type": "code",
   "execution_count": null,
   "id": "2e07f637",
   "metadata": {},
   "outputs": [],
   "source": []
  },
  {
   "cell_type": "markdown",
   "id": "e896f7ed",
   "metadata": {},
   "source": [
    "## ACTUAL_ELAPSED_TIME"
   ]
  },
  {
   "cell_type": "code",
   "execution_count": null,
   "id": "3f214557",
   "metadata": {},
   "outputs": [],
   "source": []
  },
  {
   "cell_type": "markdown",
   "id": "cc789ff8",
   "metadata": {},
   "source": [
    "## AIR_TIME"
   ]
  },
  {
   "cell_type": "code",
   "execution_count": null,
   "id": "38fc8cf5",
   "metadata": {},
   "outputs": [],
   "source": []
  },
  {
   "cell_type": "markdown",
   "id": "5ffdcaff",
   "metadata": {},
   "source": [
    "## DISTANCE"
   ]
  },
  {
   "cell_type": "code",
   "execution_count": null,
   "id": "ebf07aaa",
   "metadata": {},
   "outputs": [],
   "source": []
  },
  {
   "cell_type": "markdown",
   "id": "cb33bf55",
   "metadata": {},
   "source": [
    "## DISTANCE_GROUP"
   ]
  },
  {
   "cell_type": "code",
   "execution_count": null,
   "id": "8604180b",
   "metadata": {},
   "outputs": [],
   "source": []
  },
  {
   "cell_type": "markdown",
   "id": "e4ff0d64",
   "metadata": {},
   "source": [
    "## CARRIER_DELAY"
   ]
  },
  {
   "cell_type": "code",
   "execution_count": null,
   "id": "354cca54",
   "metadata": {},
   "outputs": [],
   "source": [
    "show_unique_missing_dtype(df, 'CARRIER_DELAY')"
   ]
  },
  {
   "cell_type": "markdown",
   "id": "4d125c09",
   "metadata": {},
   "source": [
    "so this column is Carrier Delay (in Minutes). if it is null, then that probably means there was no `CARRIER_DELAY`. so we can just fill with 0. so first lets fill all cancelled with -1 and filled with 0. "
   ]
  },
  {
   "cell_type": "code",
   "execution_count": null,
   "id": "e9764476",
   "metadata": {},
   "outputs": [],
   "source": [
    "def fill_delays(df, col):\n",
    "    # fill all cancelled with -1\n",
    "    cancelled = df[df['CANCELLED'] == 1] \n",
    "    print(cancelled[col].value_counts())\n",
    "    print(\"\\nmissing\", cancelled[col].isna().sum(), \"\\n\")\n",
    "    missing_idx = cancelled.index\n",
    "    df.loc[missing_idx, col] = -1\n",
    "    \n",
    "    # fill rest missing with 0\n",
    "    missing_rows = df[df[col].isna()]\n",
    "    missing_idx = missing_rows.index\n",
    "    df.loc[missing_idx, col] = 0\n",
    "    \n",
    "    return df"
   ]
  },
  {
   "cell_type": "code",
   "execution_count": null,
   "id": "ca2f42ba",
   "metadata": {},
   "outputs": [],
   "source": [
    "df = fill_delays(df, 'CARRIER_DELAY')\n",
    "show_unique_missing_dtype(df, 'CARRIER_DELAY')"
   ]
  },
  {
   "cell_type": "markdown",
   "id": "faf1e9e8",
   "metadata": {},
   "source": [
    "convert to int"
   ]
  },
  {
   "cell_type": "code",
   "execution_count": null,
   "id": "e19ec6f4",
   "metadata": {},
   "outputs": [],
   "source": [
    "df = convert_to_int(df, 'CARRIER_DELAY')"
   ]
  },
  {
   "cell_type": "code",
   "execution_count": null,
   "id": "7cecf608",
   "metadata": {},
   "outputs": [],
   "source": [
    "show_unique_missing_dtype(df, 'CARRIER_DELAY')"
   ]
  },
  {
   "cell_type": "markdown",
   "id": "17dd8a55",
   "metadata": {},
   "source": [
    "## WEATHER_DELAY"
   ]
  },
  {
   "cell_type": "code",
   "execution_count": null,
   "id": "9f673b93",
   "metadata": {},
   "outputs": [],
   "source": [
    "show_unique_missing_dtype(df, 'WEATHER_DELAY')"
   ]
  },
  {
   "cell_type": "markdown",
   "id": "4c4dbc5a",
   "metadata": {},
   "source": [
    "so same as `CARRIER_DELAY`"
   ]
  },
  {
   "cell_type": "code",
   "execution_count": null,
   "id": "64b887b5",
   "metadata": {},
   "outputs": [],
   "source": [
    "df = fill_delays(df, 'WEATHER_DELAY')\n",
    "show_unique_missing_dtype(df, 'WEATHER_DELAY')"
   ]
  },
  {
   "cell_type": "code",
   "execution_count": null,
   "id": "58a71280",
   "metadata": {},
   "outputs": [],
   "source": [
    "df = convert_to_int(df, 'WEATHER_DELAY')\n",
    "show_unique_missing_dtype(df, 'WEATHER_DELAY')"
   ]
  },
  {
   "cell_type": "markdown",
   "id": "ab6f8e24",
   "metadata": {},
   "source": [
    "## NAS_DELAY"
   ]
  },
  {
   "cell_type": "code",
   "execution_count": null,
   "id": "4d0cbd55",
   "metadata": {},
   "outputs": [],
   "source": [
    "show_unique_missing_dtype(df, 'NAS_DELAY')"
   ]
  },
  {
   "cell_type": "code",
   "execution_count": null,
   "id": "5f8f2f3f",
   "metadata": {},
   "outputs": [],
   "source": [
    "df = fill_delays(df, 'NAS_DELAY')\n",
    "show_unique_missing_dtype(df, 'NAS_DELAY')"
   ]
  },
  {
   "cell_type": "code",
   "execution_count": null,
   "id": "ba94fe0d",
   "metadata": {},
   "outputs": [],
   "source": [
    "df = convert_to_int(df, 'NAS_DELAY')\n",
    "show_unique_missing_dtype(df, 'NAS_DELAY')"
   ]
  },
  {
   "cell_type": "markdown",
   "id": "55225cf2",
   "metadata": {},
   "source": [
    "## SECURITY_DELAY"
   ]
  },
  {
   "cell_type": "code",
   "execution_count": null,
   "id": "856c269d",
   "metadata": {},
   "outputs": [],
   "source": [
    "show_unique_missing_dtype(df, 'SECURITY_DELAY')"
   ]
  },
  {
   "cell_type": "code",
   "execution_count": null,
   "id": "f8fcd822",
   "metadata": {},
   "outputs": [],
   "source": [
    "df = fill_delays(df, 'SECURITY_DELAY')\n",
    "show_unique_missing_dtype(df, 'SECURITY_DELAY')"
   ]
  },
  {
   "cell_type": "code",
   "execution_count": null,
   "id": "d13cce17",
   "metadata": {},
   "outputs": [],
   "source": [
    "df = convert_to_int(df, 'SECURITY_DELAY')\n",
    "show_unique_missing_dtype(df, 'SECURITY_DELAY')"
   ]
  },
  {
   "cell_type": "markdown",
   "id": "9b4722b2",
   "metadata": {},
   "source": [
    "## LATE_AIRCRAFT_DELAY"
   ]
  },
  {
   "cell_type": "code",
   "execution_count": null,
   "id": "eb5f3156",
   "metadata": {},
   "outputs": [],
   "source": [
    "show_unique_missing_dtype(df, 'LATE_AIRCRAFT_DELAY')"
   ]
  },
  {
   "cell_type": "code",
   "execution_count": null,
   "id": "4934503c",
   "metadata": {},
   "outputs": [],
   "source": [
    "df = fill_delays(df, 'LATE_AIRCRAFT_DELAY')\n",
    "show_unique_missing_dtype(df, 'LATE_AIRCRAFT_DELAY')"
   ]
  },
  {
   "cell_type": "code",
   "execution_count": null,
   "id": "6f844121",
   "metadata": {},
   "outputs": [],
   "source": [
    "df = convert_to_int(df, 'LATE_AIRCRAFT_DELAY')\n",
    "show_unique_missing_dtype(df, 'LATE_AIRCRAFT_DELAY')"
   ]
  },
  {
   "cell_type": "markdown",
   "id": "97d780bf",
   "metadata": {},
   "source": [
    "# Recheck\n",
    "a simple recheck of all data statistics to see if the data is fine before donwloading"
   ]
  },
  {
   "cell_type": "code",
   "execution_count": null,
   "id": "0176ba01",
   "metadata": {},
   "outputs": [],
   "source": [
    "df.shape"
   ]
  },
  {
   "cell_type": "code",
   "execution_count": null,
   "id": "861e917d",
   "metadata": {},
   "outputs": [],
   "source": [
    "# Check for missing values\n",
    "df.isnull().sum()"
   ]
  },
  {
   "cell_type": "code",
   "execution_count": null,
   "id": "2f3ad2dd",
   "metadata": {},
   "outputs": [],
   "source": [
    "# Display data types\n",
    "df.dtypes"
   ]
  },
  {
   "cell_type": "code",
   "execution_count": null,
   "id": "96ce9025",
   "metadata": {},
   "outputs": [],
   "source": [
    "df"
   ]
  },
  {
   "cell_type": "markdown",
   "id": "ad0daabf",
   "metadata": {},
   "source": [
    "# Download cleaned dataset"
   ]
  },
  {
   "cell_type": "code",
   "execution_count": null,
   "id": "5d95b474",
   "metadata": {},
   "outputs": [],
   "source": [
    "# Save the cleaned DataFrame to a CSV file\n",
    "# df.to_csv('../data/flights_jantojun2020_3M_cleaned.csv', index=False)"
   ]
  },
  {
   "cell_type": "code",
   "execution_count": null,
   "id": "765cfd28",
   "metadata": {},
   "outputs": [],
   "source": [
    "# Extract first 1000 rows\n",
    "df_1000 = df.head(1000)\n",
    "\n",
    "# Save to CSV with column headers\n",
    "df_1000.to_csv('../data/flights_jantojun2020_1K_cleaned.csv', index=False)"
   ]
  },
  {
   "cell_type": "code",
   "execution_count": null,
   "id": "a0992633",
   "metadata": {},
   "outputs": [],
   "source": [
    "# revert pandas settings back to normal\n",
    "# pd.reset_option('display.max_columns')"
   ]
  },
  {
   "cell_type": "markdown",
   "id": "ddfd01e5",
   "metadata": {},
   "source": [
    "# Last run"
   ]
  },
  {
   "cell_type": "code",
   "execution_count": null,
   "id": "e81b6e8b",
   "metadata": {},
   "outputs": [],
   "source": [
    "get_current_datetime()"
   ]
  },
  {
   "cell_type": "code",
   "execution_count": null,
   "id": "dd6588f9",
   "metadata": {},
   "outputs": [],
   "source": [
    "# Capture end time\n",
    "end_time = datetime.now()\n",
    "\n",
    "# Compute time difference\n",
    "diff = end_time - start_time\n",
    "\n",
    "# Total seconds (float)\n",
    "total_seconds = diff.total_seconds()\n",
    "\n",
    "# Decompose\n",
    "hours, rem = divmod(total_seconds, 3600)\n",
    "minutes, rem = divmod(rem, 60)\n",
    "seconds = int(rem)\n",
    "milliseconds = diff.microseconds // 1000\n",
    "\n",
    "# Display\n",
    "print(f\"Start time : {start_time.strftime('%Y-%m-%d %H:%M:%S.%f')}\")\n",
    "print(f\"End time   : {end_time.strftime('%Y-%m-%d %H:%M:%S.%f')}\")\n",
    "print(f\"Duration   : {int(hours)}h {int(minutes)}m {seconds}s {milliseconds}ms\")"
   ]
  }
 ],
 "metadata": {
  "kernelspec": {
   "display_name": "Python 3",
   "language": "python",
   "name": "python3"
  },
  "language_info": {
   "codemirror_mode": {
    "name": "ipython",
    "version": 3
   },
   "file_extension": ".py",
   "mimetype": "text/x-python",
   "name": "python",
   "nbconvert_exporter": "python",
   "pygments_lexer": "ipython3",
   "version": "3.12.10"
  }
 },
 "nbformat": 4,
 "nbformat_minor": 5
}
