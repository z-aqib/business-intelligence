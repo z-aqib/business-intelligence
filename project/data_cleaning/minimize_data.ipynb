{
 "cells": [
  {
   "cell_type": "markdown",
   "id": "75e4d0f3",
   "metadata": {},
   "source": [
    "so we have a huge dataset - over 600MB. so this file just loads the dataset, extracts the first 1000 rows, and saves it in a file so that we have a small subset of the data to use easily. this file will only be run once, just before we start the EDA process. "
   ]
  },
  {
   "cell_type": "code",
   "execution_count": 3,
   "id": "1106c5eb",
   "metadata": {},
   "outputs": [
    {
     "data": {
      "text/plain": [
       "'2025-05-29 22:49:31'"
      ]
     },
     "execution_count": 3,
     "metadata": {},
     "output_type": "execute_result"
    }
   ],
   "source": [
    "# print when the last code was run\n",
    "from datetime import datetime\n",
    "datetime.now().strftime(\"%Y-%m-%d %H:%M:%S\")"
   ]
  },
  {
   "cell_type": "code",
   "execution_count": 4,
   "id": "05740bd0",
   "metadata": {},
   "outputs": [],
   "source": [
    "import pandas as pd\n",
    "import numpy as np\n",
    "import matplotlib.pyplot as plt\n",
    "import seaborn as sns\n",
    "\n",
    "from datetime import datetime, timedelta"
   ]
  },
  {
   "cell_type": "code",
   "execution_count": 5,
   "id": "ef58e0ed",
   "metadata": {},
   "outputs": [
    {
     "name": "stderr",
     "output_type": "stream",
     "text": [
      "C:\\Users\\DELL\\AppData\\Local\\Temp\\ipykernel_8332\\1756247936.py:2: DtypeWarning: Columns (36) have mixed types. Specify dtype option on import or set low_memory=False.\n",
      "  df = pd.read_csv('../data/flights_jantojun2020_3M.csv')\n"
     ]
    }
   ],
   "source": [
    "# Load the dataset\n",
    "df = pd.read_csv('../data/flights_jantojun2020_3M.csv')"
   ]
  },
  {
   "cell_type": "code",
   "execution_count": 6,
   "id": "e0d69587",
   "metadata": {},
   "outputs": [
    {
     "data": {
      "text/plain": [
       "(2745847, 47)"
      ]
     },
     "execution_count": 6,
     "metadata": {},
     "output_type": "execute_result"
    }
   ],
   "source": [
    "df.shape"
   ]
  },
  {
   "cell_type": "code",
   "execution_count": 7,
   "id": "7a05ac21",
   "metadata": {},
   "outputs": [],
   "source": [
    "# Extract first 1000 rows\n",
    "df_1000 = df.head(1000)\n",
    "\n",
    "# Save to CSV with column headers\n",
    "df_1000.to_csv('../data/flights_jantojun2020_1K.csv', index=False)"
   ]
  },
  {
   "cell_type": "code",
   "execution_count": 8,
   "id": "e9e0dade",
   "metadata": {},
   "outputs": [],
   "source": [
    "# revert pandas settings back to normal\n",
    "pd.reset_option('display.max_columns')"
   ]
  }
 ],
 "metadata": {
  "kernelspec": {
   "display_name": "Python 3",
   "language": "python",
   "name": "python3"
  },
  "language_info": {
   "codemirror_mode": {
    "name": "ipython",
    "version": 3
   },
   "file_extension": ".py",
   "mimetype": "text/x-python",
   "name": "python",
   "nbconvert_exporter": "python",
   "pygments_lexer": "ipython3",
   "version": "3.12.10"
  }
 },
 "nbformat": 4,
 "nbformat_minor": 5
}
