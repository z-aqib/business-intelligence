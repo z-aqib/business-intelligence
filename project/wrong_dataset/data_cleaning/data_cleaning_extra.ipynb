{
 "cells": [
  {
   "cell_type": "markdown",
   "id": "5c0fd200",
   "metadata": {},
   "source": [
    "### Time columns\n",
    "all the time columns are just integer, floats like 1210, 2123, 1020 etc which basically means 12:10, 21:23, 10:20 etc. so we add new columns which writes in date format for easier understanding"
   ]
  },
  {
   "cell_type": "code",
   "execution_count": null,
   "id": "5cd25689",
   "metadata": {},
   "outputs": [],
   "source": [
    "def convert_hhmm(val):\n",
    "    try:\n",
    "        val = int(val)\n",
    "        hour = val // 100\n",
    "        minute = val % 100\n",
    "        if 0 <= hour < 24 and 0 <= minute < 60:\n",
    "            return f\"{hour:02d}:{minute:02d}\"\n",
    "    except:\n",
    "        pass\n",
    "    return None"
   ]
  },
  {
   "cell_type": "code",
   "execution_count": null,
   "id": "d98e650d",
   "metadata": {},
   "outputs": [
    {
     "name": "stderr",
     "output_type": "stream",
     "text": [
      "C:\\Users\\DELL\\AppData\\Local\\Temp\\ipykernel_21088\\2966946087.py:4: SettingWithCopyWarning: \n",
      "A value is trying to be set on a copy of a slice from a DataFrame.\n",
      "Try using .loc[row_indexer,col_indexer] = value instead\n",
      "\n",
      "See the caveats in the documentation: https://pandas.pydata.org/pandas-docs/stable/user_guide/indexing.html#returning-a-view-versus-a-copy\n",
      "  df[col.lower() + '_converted'] = df[col].apply(convert_hhmm)\n",
      "C:\\Users\\DELL\\AppData\\Local\\Temp\\ipykernel_21088\\70885104.py:5: SettingWithCopyWarning: \n",
      "A value is trying to be set on a copy of a slice from a DataFrame.\n",
      "Try using .loc[row_indexer,col_indexer] = value instead\n",
      "\n",
      "See the caveats in the documentation: https://pandas.pydata.org/pandas-docs/stable/user_guide/indexing.html#returning-a-view-versus-a-copy\n",
      "  df[column_name] = df[column_name].astype('string')\n"
     ]
    },
    {
     "name": "stdout",
     "output_type": "stream",
     "text": [
      "Column Name: 'crs_dep_time_converted', Type: string\n",
      "Column Name: 'dep_time_converted', Type: string\n",
      "Column Name: 'wheels_off_converted', Type: string\n",
      "Column Name: 'wheels_on_converted', Type: string\n",
      "Column Name: 'crs_arr_time_converted', Type: string\n",
      "Column Name: 'arr_time_converted', Type: string\n"
     ]
    }
   ],
   "source": [
    "time_columns = ['CRS_DEP_TIME', 'DEP_TIME', 'WHEELS_OFF', 'WHEELS_ON', 'CRS_ARR_TIME', 'ARR_TIME']\n",
    "\n",
    "for col in time_columns:\n",
    "    df[col.lower() + '_converted'] = df[col].apply(convert_hhmm)\n",
    "    df = to_string(df, col.lower() + '_converted')\n",
    "    cols = list(df.columns)\n",
    "    index = cols.index(col)\n",
    "    cols.remove(col.lower() + '_converted')\n",
    "    cols.insert(index + 1, col.lower() + '_converted')\n",
    "    df = df[cols]"
   ]
  }
 ],
 "metadata": {
  "language_info": {
   "name": "python"
  }
 },
 "nbformat": 4,
 "nbformat_minor": 5
}
